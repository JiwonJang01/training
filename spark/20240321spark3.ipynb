{
 "cells": [
  {
   "cell_type": "code",
   "execution_count": 1,
   "id": "f5ad54f3-d288-42fe-b5a1-0eeede817d4d",
   "metadata": {},
   "outputs": [
    {
     "name": "stderr",
     "output_type": "stream",
     "text": [
      "                                                                                \r"
     ]
    }
   ],
   "source": [
    "# 집계 연산\n",
    "filepath = 'bydata/by-day/'\n",
    "df = spark.read.format('csv').option('header', 'true')\\\n",
    "    .option('interSchema','true').load(filepath)"
   ]
  },
  {
   "cell_type": "code",
   "execution_count": 2,
   "id": "c6b5f9da-9cf7-4cb8-96e3-6e0fd023232a",
   "metadata": {},
   "outputs": [],
   "source": [
    "df.cache()  # 데이터를 캐쉬해서 반복작업에서 성능 향상\n",
    "df.createOrReplaceTempView('dfTable')"
   ]
  },
  {
   "cell_type": "code",
   "execution_count": 3,
   "id": "55942583-10ac-41fc-8de7-56fdc22ae2b8",
   "metadata": {},
   "outputs": [
    {
     "name": "stderr",
     "output_type": "stream",
     "text": [
      "                                                                                \r"
     ]
    },
    {
     "name": "stdout",
     "output_type": "stream",
     "text": [
      "+---------+---------+------------------+--------+-------------------+---------+----------+--------------+\n",
      "|InvoiceNo|StockCode|       Description|Quantity|        InvoiceDate|UnitPrice|CustomerID|       Country|\n",
      "+---------+---------+------------------+--------+-------------------+---------+----------+--------------+\n",
      "|   580538|    23084|RABBIT NIGHT LIGHT|      48|2011-12-05 08:38:00|     1.79|   14075.0|United Kingdom|\n",
      "+---------+---------+------------------+--------+-------------------+---------+----------+--------------+\n",
      "only showing top 1 row\n",
      "\n"
     ]
    }
   ],
   "source": [
    "df.show(1)"
   ]
  },
  {
   "cell_type": "code",
   "execution_count": 4,
   "id": "3b0f0180-99fc-4f99-9452-b06438068b30",
   "metadata": {},
   "outputs": [
    {
     "data": {
      "text/plain": [
       "StructType([StructField('InvoiceNo', StringType(), True), StructField('StockCode', StringType(), True), StructField('Description', StringType(), True), StructField('Quantity', StringType(), True), StructField('InvoiceDate', StringType(), True), StructField('UnitPrice', StringType(), True), StructField('CustomerID', StringType(), True), StructField('Country', StringType(), True)])"
      ]
     },
     "execution_count": 4,
     "metadata": {},
     "output_type": "execute_result"
    }
   ],
   "source": [
    "df.schema"
   ]
  },
  {
   "cell_type": "code",
   "execution_count": 5,
   "id": "2675b131-cc70-412e-a3a4-864982722773",
   "metadata": {},
   "outputs": [],
   "source": [
    "from pyspark.sql.functions import *"
   ]
  },
  {
   "cell_type": "code",
   "execution_count": 6,
   "id": "e42523b7-f692-454e-b862-3ec09cd80473",
   "metadata": {},
   "outputs": [],
   "source": [
    "# StockCode - count"
   ]
  },
  {
   "cell_type": "code",
   "execution_count": 7,
   "id": "2a7313aa-aa1f-4e10-8fc9-f88d2e3c88aa",
   "metadata": {},
   "outputs": [
    {
     "name": "stderr",
     "output_type": "stream",
     "text": [
      "[Stage 4:==============================================>           (8 + 1) / 10]\r"
     ]
    },
    {
     "name": "stdout",
     "output_type": "stream",
     "text": [
      "+------+\n",
      "|   cnt|\n",
      "+------+\n",
      "|541909|\n",
      "+------+\n",
      "\n"
     ]
    },
    {
     "name": "stderr",
     "output_type": "stream",
     "text": [
      "                                                                                \r"
     ]
    }
   ],
   "source": [
    "df.select(count(\"StockCode\").alias('cnt')).show()"
   ]
  },
  {
   "cell_type": "code",
   "execution_count": 8,
   "id": "69b04214-3ca6-4ded-8b99-bb0872c6fcb6",
   "metadata": {},
   "outputs": [
    {
     "name": "stderr",
     "output_type": "stream",
     "text": [
      "[Stage 7:====================================================>     (9 + 1) / 10]\r"
     ]
    },
    {
     "name": "stdout",
     "output_type": "stream",
     "text": [
      "+--------------------------------+\n",
      "|approx_count_distinct(StockCode)|\n",
      "+--------------------------------+\n",
      "|                            2944|\n",
      "+--------------------------------+\n",
      "\n"
     ]
    },
    {
     "name": "stderr",
     "output_type": "stream",
     "text": [
      "                                                                                \r"
     ]
    }
   ],
   "source": [
    "df.select(approx_count_distinct('StockCode',0.2)).show()"
   ]
  },
  {
   "cell_type": "code",
   "execution_count": 9,
   "id": "9206354f-bf3c-44ac-a1ba-4cf954ecfe9e",
   "metadata": {},
   "outputs": [
    {
     "name": "stderr",
     "output_type": "stream",
     "text": [
      "[Stage 10:===================================================>     (9 + 1) / 10]\r"
     ]
    },
    {
     "name": "stdout",
     "output_type": "stream",
     "text": [
      "+----------------+---------------+\n",
      "|first(StockCode)|last(StockCode)|\n",
      "+----------------+---------------+\n",
      "|           23084|          22168|\n",
      "+----------------+---------------+\n",
      "\n"
     ]
    },
    {
     "name": "stderr",
     "output_type": "stream",
     "text": [
      "                                                                                \r"
     ]
    }
   ],
   "source": [
    "# 첫번째랑 마지막만 출력\n",
    "df.select(first(\"StockCode\"), last(\"StockCode\")).show()"
   ]
  },
  {
   "cell_type": "code",
   "execution_count": 10,
   "id": "b2b07066-dab3-4ab8-923c-3eda59a70bb6",
   "metadata": {},
   "outputs": [
    {
     "name": "stderr",
     "output_type": "stream",
     "text": [
      "[Stage 13:===================================================>     (9 + 1) / 10]\r"
     ]
    },
    {
     "name": "stdout",
     "output_type": "stream",
     "text": [
      "+-------------+-------------+\n",
      "|min(Quantity)|max(Quantity)|\n",
      "+-------------+-------------+\n",
      "|           -1|          992|\n",
      "+-------------+-------------+\n",
      "\n"
     ]
    },
    {
     "name": "stderr",
     "output_type": "stream",
     "text": [
      "                                                                                \r"
     ]
    }
   ],
   "source": [
    "# min, max\n",
    "df.select(min(\"Quantity\"), max(\"Quantity\")).show()"
   ]
  },
  {
   "cell_type": "code",
   "execution_count": 11,
   "id": "9c32f803-d884-4b0a-88e8-7be0a10df7cb",
   "metadata": {},
   "outputs": [
    {
     "name": "stderr",
     "output_type": "stream",
     "text": [
      "[Stage 16:===================================================>     (9 + 1) / 10]\r"
     ]
    },
    {
     "name": "stdout",
     "output_type": "stream",
     "text": [
      "+-------------+\n",
      "|sum(Quantity)|\n",
      "+-------------+\n",
      "|    5176450.0|\n",
      "+-------------+\n",
      "\n"
     ]
    },
    {
     "name": "stderr",
     "output_type": "stream",
     "text": [
      "                                                                                \r"
     ]
    }
   ],
   "source": [
    "df.select(sum('Quantity')).show()"
   ]
  },
  {
   "cell_type": "code",
   "execution_count": 12,
   "id": "26f57d95-89cb-441c-953b-5bee8936947c",
   "metadata": {},
   "outputs": [
    {
     "name": "stderr",
     "output_type": "stream",
     "text": [
      "/root/spark/python/pyspark/sql/functions.py:988: FutureWarning: Deprecated in 3.2, use sum_distinct instead.\n",
      "  warnings.warn(\"Deprecated in 3.2, use sum_distinct instead.\", FutureWarning)\n",
      "[Stage 21:>                                                         (0 + 1) / 1]\r"
     ]
    },
    {
     "name": "stdout",
     "output_type": "stream",
     "text": [
      "+----------------------+\n",
      "|sum(DISTINCT Quantity)|\n",
      "+----------------------+\n",
      "|               29310.0|\n",
      "+----------------------+\n",
      "\n"
     ]
    },
    {
     "name": "stderr",
     "output_type": "stream",
     "text": [
      "                                                                                \r"
     ]
    }
   ],
   "source": [
    "df.select(sumDistinct('Quantity')).show()"
   ]
  },
  {
   "cell_type": "code",
   "execution_count": 13,
   "id": "707a9838-25f1-40c8-ac16-93cbcc5ad0db",
   "metadata": {},
   "outputs": [],
   "source": [
    "# /root/spark/python/pyspark/sql/functions.py:988: FutureWarning: Deprecated in 3.2, use sum_distinct instead.\n",
    "#   warnings.warn(\"Deprecated in 3.2, use sum_distinct instead.\", FutureWarning)\n",
    "\n",
    "# 다음 버전에서는 지원하 않을 수 있다는 말과 함께 방안을 알려줌"
   ]
  },
  {
   "cell_type": "code",
   "execution_count": 14,
   "id": "10d39d4e-8aed-43af-ac77-2e68a7d08d78",
   "metadata": {},
   "outputs": [
    {
     "name": "stderr",
     "output_type": "stream",
     "text": [
      "[Stage 25:=============================================>           (8 + 1) / 10]\r"
     ]
    },
    {
     "name": "stdout",
     "output_type": "stream",
     "text": [
      "+----------------------+\n",
      "|sum(DISTINCT Quantity)|\n",
      "+----------------------+\n",
      "|               29310.0|\n",
      "+----------------------+\n",
      "\n"
     ]
    },
    {
     "name": "stderr",
     "output_type": "stream",
     "text": [
      "                                                                                \r"
     ]
    }
   ],
   "source": [
    "# 방안\n",
    "df.select(sum_distinct('Quantity')).show()"
   ]
  },
  {
   "cell_type": "code",
   "execution_count": 15,
   "id": "1722df3e-02c6-42c8-bd01-022d6a95ecd6",
   "metadata": {},
   "outputs": [],
   "source": [
    "# 결과는 같음을 확인가능"
   ]
  },
  {
   "cell_type": "code",
   "execution_count": 16,
   "id": "40238258-904f-47aa-8b4b-ba3de14985bc",
   "metadata": {},
   "outputs": [
    {
     "name": "stderr",
     "output_type": "stream",
     "text": [
      "[Stage 31:===================================================>     (9 + 1) / 10]\r"
     ]
    },
    {
     "name": "stdout",
     "output_type": "stream",
     "text": [
      "+--------------+------------+----------------+----------------+---------------+\n",
      "|quantity_total|quantity_sum|    quantity_avg|   quantity_mean|quantity_median|\n",
      "+--------------+------------+----------------+----------------+---------------+\n",
      "|        541909|   5176450.0|9.55224954743324|9.55224954743324|            3.0|\n",
      "+--------------+------------+----------------+----------------+---------------+\n",
      "\n"
     ]
    },
    {
     "name": "stderr",
     "output_type": "stream",
     "text": [
      "                                                                                \r"
     ]
    }
   ],
   "source": [
    "# Quantity sum, count, avg, mean\n",
    "df.select(\n",
    "    count('Quantity').alias('quantity_total'),\n",
    "    sum('Quantity').alias('quantity_sum'),\n",
    "    avg('Quantity').alias('quantity_avg'),\n",
    "    mean('Quantity').alias('quantity_mean'), # 평균\n",
    "    median('Quantity').alias('quantity_median') # 중위수\n",
    ").show()"
   ]
  },
  {
   "cell_type": "code",
   "execution_count": 17,
   "id": "c1e20a15-80e5-45bf-9646-20b7eb678f8a",
   "metadata": {},
   "outputs": [
    {
     "name": "stderr",
     "output_type": "stream",
     "text": [
      "[Stage 34:=============================================>           (8 + 1) / 10]\r"
     ]
    },
    {
     "name": "stdout",
     "output_type": "stream",
     "text": [
      "+-------------------------+\n",
      "|corr(InvoiceNo, Quantity)|\n",
      "+-------------------------+\n",
      "|     4.912186085616477E-4|\n",
      "+-------------------------+\n",
      "\n"
     ]
    },
    {
     "name": "stderr",
     "output_type": "stream",
     "text": [
      "                                                                                \r"
     ]
    }
   ],
   "source": [
    "# corr 변수들간의 상관관계 -1~1 사이의 범위를 가며..\n",
    "# -1 또는 1에 가까울수록 높은 상관관계\n",
    "# 주의할점... 이것이 인과관계를 나타내지 않는다.\n",
    "df.select(corr(\"InvoiceNo\",\"Quantity\")).show()"
   ]
  },
  {
   "cell_type": "code",
   "execution_count": 18,
   "id": "5f84793b-28f4-496f-acb0-098a96e9c07c",
   "metadata": {},
   "outputs": [],
   "source": [
    "# covar_pop, covar_samp\n",
    "# 공분산 : 수가 함께 어떻게 변화하는지\n",
    "# 양수 : 변수가 함꼐 증가/감소\n",
    "# 음수 : 한개가 증가할때 나머지 감소"
   ]
  },
  {
   "cell_type": "code",
   "execution_count": 22,
   "id": "296a1d4e-93d7-49cc-9c4d-2e6f3c195d57",
   "metadata": {},
   "outputs": [
    {
     "name": "stderr",
     "output_type": "stream",
     "text": [
      "IOPub data rate exceeded.                                                       \n",
      "The Jupyter server will temporarily stop sending output\n",
      "to the client in order to avoid crashing it.\n",
      "To change this limit, set the config variable\n",
      "`--ServerApp.iopub_data_rate_limit`.\n",
      "\n",
      "Current values:\n",
      "ServerApp.iopub_data_rate_limit=1000000.0 (bytes/sec)\n",
      "ServerApp.rate_limit_window=3.0 (secs)\n",
      "\n"
     ]
    }
   ],
   "source": [
    "# collection_set, collection_list\n",
    "df.agg(collect_set('Country'),collect_list('Country')).show(2,truncate=False)"
   ]
  },
  {
   "cell_type": "code",
   "execution_count": 21,
   "id": "c0c25406-2061-44ef-bd80-ddcd8ab463b8",
   "metadata": {},
   "outputs": [
    {
     "data": {
      "text/plain": [
       "['InvoiceNo',\n",
       " 'StockCode',\n",
       " 'Description',\n",
       " 'Quantity',\n",
       " 'InvoiceDate',\n",
       " 'UnitPrice',\n",
       " 'CustomerID',\n",
       " 'Country']"
      ]
     },
     "execution_count": 21,
     "metadata": {},
     "output_type": "execute_result"
    }
   ],
   "source": [
    "df.columns"
   ]
  },
  {
   "cell_type": "code",
   "execution_count": 25,
   "id": "ad03d8f7-7000-458e-8f37-f02096d122d5",
   "metadata": {},
   "outputs": [
    {
     "name": "stderr",
     "output_type": "stream",
     "text": [
      "[Stage 52:===================================================>     (9 + 1) / 10]\r"
     ]
    },
    {
     "name": "stdout",
     "output_type": "stream",
     "text": [
      "+---------+---------------+\n",
      "|InvoiceNo|count(Quantity)|\n",
      "+---------+---------------+\n",
      "|   574966|              8|\n",
      "|   575091|             38|\n",
      "|   578057|             28|\n",
      "|   537252|              1|\n",
      "|   578459|              8|\n",
      "|  C578132|              1|\n",
      "|   578292|             72|\n",
      "|   576112|             20|\n",
      "|   577022|             38|\n",
      "|   574592|              8|\n",
      "|  C576393|              2|\n",
      "|   577511|             46|\n",
      "|   577541|             21|\n",
      "|   580739|              2|\n",
      "|   580906|              4|\n",
      "|   573726|              1|\n",
      "|   575671|             20|\n",
      "|   570264|              1|\n",
      "|   570281|              3|\n",
      "|   569823|             69|\n",
      "+---------+---------------+\n",
      "only showing top 20 rows\n",
      "\n"
     ]
    },
    {
     "name": "stderr",
     "output_type": "stream",
     "text": [
      "                                                                                \r"
     ]
    }
   ],
   "source": [
    "# group by    InvoiceNo\n",
    "# Quantity    count\n",
    "df.groupBy('InvoiceNo').agg( count('Quantity')).show()"
   ]
  },
  {
   "cell_type": "code",
   "execution_count": 27,
   "id": "5f6cc340-a980-41f7-a7f0-70a128f9a0af",
   "metadata": {},
   "outputs": [
    {
     "name": "stderr",
     "output_type": "stream",
     "text": [
      "[Stage 58:=============================================>           (8 + 1) / 10]\r"
     ]
    },
    {
     "name": "stdout",
     "output_type": "stream",
     "text": [
      "+---------+---------------+\n",
      "|InvoiceNo|count(Quantity)|\n",
      "+---------+---------------+\n",
      "|   574966|              8|\n",
      "|   575091|             38|\n",
      "|   578057|             28|\n",
      "+---------+---------------+\n",
      "only showing top 3 rows\n",
      "\n"
     ]
    },
    {
     "name": "stderr",
     "output_type": "stream",
     "text": [
      "                                                                                \r"
     ]
    }
   ],
   "source": [
    "# 같은 결과, 같은 방법\n",
    "df.groupBy('InvoiceNo').agg( expr('count(Quantity)')).show(3)"
   ]
  },
  {
   "cell_type": "code",
   "execution_count": 31,
   "id": "c1e2b2f4-b234-4234-8a42-c0edb570c6b0",
   "metadata": {},
   "outputs": [
    {
     "name": "stdout",
     "output_type": "stream",
     "text": [
      "+-------------------+\n",
      "|        InvoiceDate|\n",
      "+-------------------+\n",
      "|2011-12-05 08:38:00|\n",
      "|2011-12-05 08:38:00|\n",
      "+-------------------+\n",
      "only showing top 2 rows\n",
      "\n",
      "+-------------------------------------+\n",
      "|to_date(InvoiceDate, yyyy-MM-dd H:mm)|\n",
      "+-------------------------------------+\n",
      "|                           2011-12-05|\n",
      "|                           2011-12-05|\n",
      "+-------------------------------------+\n",
      "only showing top 2 rows\n",
      "\n"
     ]
    }
   ],
   "source": [
    "df.select('InvoiceDate').show(2)\n",
    "# 년 월 일\n",
    "# to_date(value, formatstring)\n",
    "df.select(to_date('InvoiceDate', 'yyyy-MM-dd H:mm')).show(2)"
   ]
  },
  {
   "cell_type": "code",
   "execution_count": 32,
   "id": "980035a3-eae1-4771-8b52-106ee7f30359",
   "metadata": {},
   "outputs": [],
   "source": [
    "# 윗행을 실행하였는 데 \n",
    "# ERROR Executor: Exception in task 0.0 in stage 64.0 (TID 509)\n",
    "# org.apache.spark.SparkUpgradeException: [INCONSISTENT_BEHAVIOR_CROSS_VERSION.PARSE_DATETIME_BY_NEW_PARSER] You may get a different result due to the upgrading to Spark >= 3.0:\n",
    "# Fail to parse '2011-12-05 08:38:00' in the new parser. You can set \"spark.sql.legacy.timeParserPolicy\" to \"LEGACY\" to restore the behavior before Spark 3.0, or set to \"CORRECTED\" and treat it as an invalid datetime string.\n",
    "# 이런 에러가 나온다면 실행하고 윗행 다시 실행\n",
    "# spark업그레이드로 발생\n",
    "\n",
    "spark.conf.set(\"spark.sql.legacy.timeParserPolicy\", \"LEGACY\")"
   ]
  },
  {
   "cell_type": "code",
   "execution_count": 45,
   "id": "18163c48-bcee-441f-9e3a-a9c6682daca5",
   "metadata": {},
   "outputs": [
    {
     "name": "stdout",
     "output_type": "stream",
     "text": [
      "+---------+---------+-------------------+--------+-------------------+---------+----------+--------------+----------+\n",
      "|InvoiceNo|StockCode|        Description|Quantity|   닝 및 정렬 방법 정의\n",
    "from pyspark.sql import Window\n",
    "windowSpec = (\n",
    "    Window\n",
    "    .partitionBy('CustomerId', 'date')\n",
    "    .orderBy(desc('Quantity'))\n",
    "    .rowsBetween(Window.unboundedPreceding, Window.currentRow)\n",
    ")"
   ]
  },
  {
   "cell_type": "code",
   "execution_count": 48,
   "id": "ff3b8828-4c34-4cd3-b6d3-165b88b94d95",
   "metadata": {},
   "outputs": [],
   "source": [
    "# dense_rank는 1위가 5명일 경우 6번째가 2등\n",
    "# rank는 1위가 5명일 경우 6번째가 6등\n",
    "dense_rank_data = dense_rank().over(windowSpec)\n",
    "rank_data = rank().over(windowSpec)"
   ]
  },
  {
   "cell_type": "code",
   "execution_count": 49,
   "id": "7ce315af-bfd2-42da-aea5-84c2f923e64f",
   "metadata": {},
   "outputs": [
    {
     "name": "stderr",
     "output_type": "stream",
     "text": [
      "[Stage 71:>                                                         (0 + 1) / 1]\r"
     ]
    },
    {
     "name": "stdout",
     "output_type": "stream",
     "text": [
      "+----------+----------+--------+---------+---------------+\n",
      "|CustomerID|      date|Quantity|rank_data|dense_rank_data|\n",
      "+----------+----------+--------+---------+---------------+\n",
      "|   12346.0|2011-01-18|   74215|        1|              1|\n",
      "|   12346.0|2011-01-18|  -74215|        2|              2|\n",
      "|   12347.0|2010-12-07|       6|        1|              1|\n",
      "|   12347.0|2010-12-07|       6|        1|              1|\n",
      "|   12347.0|2010-12-07|       6|        1|              1|\n",
      "|   12347.0|2010-12-07|       6|        1|              1|\n",
      "|   12347.0|2010-12-07|       6|        1|              1|\n",
      "|   12347.0|2010-12-07|       6|        1|              1|\n",
      "|   12347.0|2010-12-07|       6|        1|              1|\n",
      "|   12347.0|2010-12-07|       4|        8|              2|\n",
      "|   12347.0|2010-12-07|       4|        8|              2|\n",
      "|   12347.0|2010-12-07|       4|        8|              2|\n",
      "|   12347.0|2010-12-07|       4|        8|              2|\n",
      "|   12347.0|2010-12-07|       4|        8|              2|\n",
      "|   12347.0|2010-12-07|       4|        8|              2|\n",
      "|   12347.0|2010-12-07|       4|        8|              2|\n",
      "|   12347.0|2010-12-07|      36|       15|              3|\n",
      "|   12347.0|2010-12-07|      30|       16|              4|\n",
      "|   12347.0|2010-12-07|       3|       17|              5|\n",
      "|   12347.0|2010-12-07|      24|       18|              6|\n",
      "+----------+----------+--------+---------+---------------+\n",
      "only showing top 20 rows\n",
      "\n"
     ]
    },
    {
     "name": "stderr",
     "output_type": "stream",
     "text": [
      "                                                                                \r"
     ]
    }
   ],
   "source": [
    "dfWithDate.where('CustomerID IS NOT NULL').orderBy('CustomerID')\\\n",
    ".select(\n",
    "    'CustomerID','date','Quantity',\n",
    "    rank_data.alias('rank_data'),dense_rank_data.alias('dense_rank_data')\n",
    ").show()"
   ]
  },
  {
   "cell_type": "code",
   "execution_count": null,
   "id": "26518887-f864-4300-ba66-de7dc8fb994f",
   "metadata": {},
   "outputs": [],
   "source": []
  }
 ],
 "metadata": {
  "kernelspec": {
   "display_name": "Python 3 (ipykernel)",
   "language": "python",
   "name": "python3"
  },
  "language_info": {
   "codemirror_mode": {
    "name": "ipython",
    "version": 3
   },
   "file_extension": ".py",
   "mimetype": "text/x-python",
   "name": "python",
   "nbconvert_exporter": "python",
   "pygments_lexer": "ipython3",
   "version": "3.9.10"
  }
 },
 "nbformat": 4,
 "nbformat_minor": 5
}
