{
 "cells": [
  {
   "cell_type": "code",
   "execution_count": 1,
   "id": "219e9733-a03b-4733-b299-ca0513f85133",
   "metadata": {},
   "outputs": [
    {
     "data": {
      "text/plain": [
       "'/root/spark'"
      ]
     },
     "execution_count": 1,
     "metadata": {},
     "output_type": "execute_result"
    }
   ],
   "source": [
    "pwd"
   ]
  },
  {
   "cell_type": "code",
   "execution_count": 2,
   "id": "ca0581e2-2b45-42d0-9b32-4396d9ad6b8b",
   "metadata": {},
   "outputs": [],
   "source": [
    "#filepath = \"bydata/by-day/2010-12-01.csv\"\n",
    "filepath = \"./bydata/by-day/2010-12-01.csv\""
   ]
  },
  {
   "cell_type": "code",
   "execution_count": 3,
   "id": "c8a57094-f389-4a08-8dba-d37710da7083",
   "metadata": {},
   "outputs": [
    {
     "name": "stderr",
     "output_type": "stream",
     "text": [
      "                                                                                \r"
     ]
    },
    {
     "name": "stdout",
     "output_type": "stream",
     "text": [
      "+---------+---------+--------------------+--------+-------------------+---------+----------+--------------+\n",
      "|InvoiceNo|StockCode|         Description|Quantity|        InvoiceDate|UnitPrice|CustomerID|       Country|\n",
      "+---------+---------+--------------------+--------+-------------------+---------+----------+--------------+\n",
      "|   536365|   85123A|WHITE HANGING HEA...|       6|2010-12-01 08:26:00|     2.55|   17850.0|United Kingdom|\n",
      "|   536365|    71053| WHITE METAL LANTERN|       6|2010-12-01 08:26:00|     3.39|   17850.0|United Kingdom|\n",
      "+---------+---------+--------------------+--------+-------------------+---------+----------+--------------+\n",
      "only showing top 2 rows\n",
      "\n"
     ]
    }
   ],
   "source": [
    "# read DataFrame\n",
    "df = spark.read.format(\"csv\").option(\"header\",\"true\").option(\"inferSchema\",\"true\").load(filepath)\n",
    "df.show(2)"
   ]
  },
  {
   "cell_type": "code",
   "execution_count": 4,
   "id": "4e3b305a-c1b4-47ff-8665-99c15eafbed8",
   "metadata": {},
   "outputs": [],
   "source": [
    "df.createOrReplaceTempView(\"dfTable\")"
   ]
  },
  {
   "cell_type": "code",
   "execution_count": 5,
   "id": "de35e70d-0512-4897-9f42-0519bc00a6b6",
   "metadata": {},
   "outputs": [
    {
     "name": "stdout",
     "output_type": "stream",
     "text": [
      "+---+----+---+\n",
      "|  5|five|2.0|\n",
      "+---+----+---+\n",
      "|  5|five|2.0|\n",
      "|  5|five|2.0|\n",
      "+---+----+---+\n",
      "only showing top 2 rows\n",
      "\n"
     ]
    }
   ],
   "source": [
    "from pyspark.sql.functions import lit\n",
    "df.select(lit(5), lit('five'), lit(2.0)).show(2)"
   ]
  },
  {
   "cell_type": "code",
   "execution_count": 6,
   "id": "3121a7fa-c72c-431b-9842-3a7856fa3ad5",
   "metadata": {},
   "outputs": [
    {
     "name": "stdout",
     "output_type": "stream",
     "text": [
      "+---------+-----------------------------+\n",
      "|InvoiceNo|Description                  |\n",
      "+---------+-----------------------------+\n",
      "|536366   |HAND WARMER UNION JACK       |\n",
      "|536366   |HAND WARMER RED POLKA DOT    |\n",
      "|536367   |ASSORTED COLOUR BIRD ORNAMENT|\n",
      "|536367   |POPPY'S PLAYHOUSE BEDROOM    |\n",
      "|536367   |POPPY'S PLAYHOUSE KITCHEN    |\n",
      "+---------+-----------------------------+\n",
      "\n",
      "+---------+----------------------------------+\n",
      "|InvoiceNo|Description                       |\n",
      "+---------+----------------------------------+\n",
      "|536366   |HAND WARMER UNION JACK            |\n",
      "|536366   |HAND WARMER RED POLKA DOT         |\n",
      "|536367   |ASSORTED COLOUR BIRD ORNAMENT     |\n",
      "|536367   |POPPY'S PLAYHOUSE BEDROOM         |\n",
      "|536367   |POPPY'S PLAYHOUSE KITCHEN         |\n",
      "|536367   |FELTCRAFT PRINCESS CHARLOTTE DOLL |\n",
      "|536367   |IVORY KNITTED MUG COSY            |\n",
      "|536367   |BOX OF 6 ASSORTED COLOUR TEASPOONS|\n",
      "|536367   |BOX OF VINTAGE JIGSAW BLOCKS      |\n",
      "|536367   |BOX OF VINTAGE ALPHABET BLOCKS    |\n",
      "+---------+----------------------------------+\n",
      "only showing top 10 rows\n",
      "\n"
     ]
    }
   ],
   "source": [
    "from pyspark.sql.functions import col\n",
    "\n",
    "# InvoiceNo != 536365 InvoiceNo, Description만 출력하는데, 5개만\n",
    "spark.sql(\"\"\"\n",
    "    select InvoiceNo,Description from dfTable where InvoiceNo != 536365 limit 5\n",
    "\"\"\").show(truncate = False)\n",
    "\n",
    "# truncate = False : 자동 생략 없이 전체가 출력됨\n",
    "\n",
    "df.where(col(\"InvoiceNo\") != 536365).select(\"InvoiceNo\",\"Description\").show(10,False)"
   ]
  },
  {
   "cell_type": "code",
   "execution_count": 7,
   "id": "c25a7715-c783-4cff-bc60-90a9e7be5fa3",
   "metadata": {},
   "outputs": [
    {
     "name": "stdout",
     "output_type": "stream",
     "text": [
      "+---------+---------+--------------+--------+-------------------+---------+----------+--------------+\n",
      "|InvoiceNo|StockCode|   Description|Quantity|        InvoiceDate|UnitPrice|CustomerID|       Country|\n",
      "+---------+---------+--------------+--------+-------------------+---------+----------+--------------+\n",
      "|   536544|      DOT|DOTCOM POSTAGE|       1|2010-12-01 14:32:00|   569.77|      NULL|United Kingdom|\n",
      "|   536592|      DOT|DOTCOM POSTAGE|       1|2010-12-01 17:06:00|   607.49|      NULL|United Kingdom|\n",
      "+---------+---------+--------------+--------+-------------------+---------+----------+--------------+\n",
      "\n",
      "+---------+---------+--------------+--------+-------------------+---------+----------+--------------+\n",
      "|InvoiceNo|StockCode|   Description|Quantity|        InvoiceDate|UnitPrice|CustomerID|       Country|\n",
      "+---------+---------+--------------+--------+-------------------+---------+----------+--------------+\n",
      "|   536592|      DOT|DOTCOM POSTAGE|       1|2010-12-01 17:06:00|   607.49|      NULL|United Kingdom|\n",
      "+---------+---------+--------------+--------+-------------------+---------+----------+--------------+\n",
      "\n"
     ]
    }
   ],
   "source": [
    "# 1. UnitPrice 가격이 600 이상이고 \n",
    "# 2. description POSTAGE 문자열 모함\n",
    "# StockCode의 값중에 DOT인 행을 선택하는데 1번과 2번 조건 중 하나라도 만족\n",
    "# sql 방식\n",
    "spark.sql('''\n",
    "   SELECT * FROM dfTable \n",
    "   WHERE StockCode = 'DOT' AND (UnitPrice >= 600 OR INSTR(Description, 'POSTAGE') >= 1)\n",
    "''').show(5)\n",
    "\n",
    "# 함수 사용 방식\n",
    "from pyspark.sql.functions import instr\n",
    "dotcondition = col('StockCode') == 'DOT'\n",
    "pricecondition = col('UnitPrice') > 600\n",
    "# descondition = instr(col(\"Decriotion\"),'POSTAGE') >= 1\n",
    "descondition = col('Description').isin('POSTAGE')\n",
    "df.where(dotcondition).where(pricecondition | descondition).show()"
   ]
  },
  {
   "cell_type": "code",
   "execution_count": 8,
   "id": "cca878ca-b06e-4cf4-a293-970cdafc6349",
   "metadata": {},
   "outputs": [
    {
     "name": "stdout",
     "output_type": "stream",
     "text": [
      "+---------+---------+--------------------+--------+-------------------+---------+----------+--------------+-----------+\n",
      "|InvoiceNo|StockCode|         Description|Quantity|        InvoiceDate|UnitPrice|CustomerID|       Country|isExpensive|\n",
      "+---------+---------+--------------------+--------+-------------------+---------+----------+--------------+-----------+\n",
      "|   536365|   85123A|WHITE HANGING HEA...|       6|2010-12-01 08:26:00|     2.55|   17850.0|United Kingdom|      false|\n",
      "|   536365|    71053| WHITE METAL LANTERN|       6|2010-12-01 08:26:00|     3.39|   17850.0|United Kingdom|      false|\n",
      "+---------+---------+--------------------+--------+-------------------+---------+----------+--------------+-----------+\n",
      "only showing top 2 rows\n",
      "\n"
     ]
    }
   ],
   "source": [
    "# 조건을 만들고 조건에 맞는 새로운 데이터를 새로운 컬럼에 넣어서 추가\n",
    "df.withColumn('isExpensive', dotcondition & (pricecondition | descondition)).show(2)"
   ]
  },
  {
   "cell_type": "code",
   "execution_count": 9,
   "id": "15db362c-7bb7-49b7-a97f-9a4a2df1fea0",
   "metadata": {},
   "outputs": [
    {
     "name": "stdout",
     "output_type": "stream",
     "text": [
      "+---------+-----------+\n",
      "|UnitPrice|isExpensive|\n",
      "+---------+-----------+\n",
      "|   607.49|       true|\n",
      "+---------+-----------+\n",
      "\n",
      "+---------+-----------+\n",
      "|UnitPrice|isExpensive|\n",
      "+---------+-----------+\n",
      "|   607.49|       true|\n",
      "+---------+-----------+\n",
      "\n"
     ]
    }
   ],
   "source": [
    "# isExpensive True인 항목중에 UnitPrice, isExpensive 출력\n",
    "df.withColumn('isExpensive', dotcondition & (pricecondition | descondition))\\\n",
    ".where(col('isExpensive') == 'true')\\\n",
    ".select('UnitPrice','isExpensive').show(2)\n",
    "\n",
    "df.withColumn('isExpensive', dotcondition & (pricecondition | descondition))\\\n",
    ".where('isExpensive == true')\\\n",
    ".select('UnitPrice','isExpensive').show(2)"
   ]
  },
  {
   "cell_type": "code",
   "execution_count": 10,
   "id": "b28c94f6-a76e-4538-a490-e0d30f29e7c9",
   "metadata": {},
   "outputs": [
    {
     "name": "stdout",
     "output_type": "stream",
     "text": [
      "+----------+------------------+\n",
      "|CustomerId|      realQuantity|\n",
      "+----------+------------------+\n",
      "|   17850.0|239.08999999999997|\n",
      "|   17850.0|          418.7156|\n",
      "+----------+------------------+\n",
      "only showing top 2 rows\n",
      "\n"
     ]
    }
   ],
   "source": [
    "from pyspark.sql.functions import expr, pow\n",
    "\n",
    "# (수량 가격)**2+5 --> 새로운 컬럼에 대입\n",
    "new_col = pow(col('Quantity')*col('UnitPrice'),2)+5\n",
    "df.select(expr('CustomerId'), new_col.alias('realQuantity')).show(2)"
   ]
  },
  {
   "cell_type": "code",
   "execution_count": 11,
   "id": "bf66d133-0b8f-4c57-a198-9fea46a8fa41",
   "metadata": {},
   "outputs": [
    {
     "name": "stdout",
     "output_type": "stream",
     "text": [
      "+-------------+--------------+\n",
      "|round(2.5, 0)|bround(2.5, 0)|\n",
      "+-------------+--------------+\n",
      "|          3.0|           2.0|\n",
      "|          3.0|           2.0|\n",
      "|          3.0|           2.0|\n",
      "|          3.0|           2.0|\n",
      "|          3.0|           2.0|\n",
      "|          3.0|           2.0|\n",
      "|          3.0|           2.0|\n",
      "|          3.0|           2.0|\n",
      "|          3.0|           2.0|\n",
      "|          3.0|           2.0|\n",
      "|          3.0|           2.0|\n",
      "|          3.0|           2.0|\n",
      "|          3.0|           2.0|\n",
      "|          3.0|           2.0|\n",
      "|          3.0|           2.0|\n",
      "|          3.0|           2.0|\n",
      "|          3.0|           2.0|\n",
      "|          3.0|           2.0|\n",
      "|          3.0|           2.0|\n",
      "|          3.0|           2.0|\n",
      "+-------------+--------------+\n",
      "only showing top 20 rows\n",
      "\n"
     ]
    }
   ],
   "source": [
    "from pyspark.sql.functions import round, bround, lit\n",
    "\n",
    "df.select(round(lit('2.5')), bround(lit('2.5'))).show()"
   ]
  },
  {
   "cell_type": "code",
   "execution_count": 12,
   "id": "46cfaaed-bf60-4fa0-b4ee-9c83b95a5196",
   "metadata": {},
   "outputs": [
    {
     "name": "stderr",
     "output_type": "stream",
     "text": [
      "[Stage 15:>                                                         (0 + 1) / 1]\r"
     ]
    },
    {
     "name": "stdout",
     "output_type": "stream",
     "text": [
      "+-------+------------------+\n",
      "|summary|         UnitPrice|\n",
      "+-------+------------------+\n",
      "|  count|              3108|\n",
      "|   mean| 4.151946589446603|\n",
      "| stddev|15.638659854603892|\n",
      "|    min|               0.0|\n",
      "|    max|            607.49|\n",
      "+-------+------------------+\n",
      "\n"
     ]
    },
    {
     "name": "stderr",
     "output_type": "stream",
     "text": [
      "                                                                                \r"
     ]
    }
   ],
   "source": [
    "df.select('UnitPrice').describe().show()"
   ]
  },
  {
   "cell_type": "code",
   "execution_count": 13,
   "id": "8f3404bd-0790-4c34-911b-dfc99b620b11",
   "metadata": {},
   "outputs": [],
   "source": [
    "from pyspark.sql.functions import count, mean, min, max, stddev_pop\n",
    "# stddev_pop : 표준 편차, 모집단위의 표준 편차 - 모든 개체에 대한 표준 편차, 즉 실제 표준 편차를 제공\n",
    "# stddev : 표본의 표준편차"
   ]
  },
  {
   "cell_type": "code",
   "execution_count": 14,
   "id": "7ca63748-b5c9-4158-bb32-46858acabe9c",
   "metadata": {},
   "outputs": [
    {
     "data": {
      "text/plain": [
       "[2.51]"
      ]
     },
     "execution_count": 14,
     "metadata": {},
     "output_type": "execute_result"
    }
   ],
   "source": [
    "colname = 'UnitPrice'\n",
    "quantileProbs = [0.5] # 사분위수 0.5 중위수를 나타냄\n",
    "realError = 0.05\n",
    "df.stat.approxQuantile(colname,quantileProbs,realError)"
   ]
  },
  {
   "cell_type": "code",
   "execution_count": 15,
   "id": "fdd16113-c830-40bd-8c80-da053b9278e5",
   "metadata": {},
   "outputs": [
    {
     "name": "stderr",
     "output_type": "stream",
     "text": [
      "24/03/21 14:05:45 WARN SparkStringUtils: Truncated the string representation of a plan since it was too large. This behavior can be adjusted by setting 'spark.sql.debug.maxToStringFields'.\n",
      "                                                                                \r"
     ]
    },
    {
     "name": "stdout",
     "output_type": "stream",
     "text": [
      "+------------------+---+---+---+---+---+---+---+---+---+---+---+---+---+---+---+---+---+---+---+---+---+---+---+---+---+---+---+---+---+---+---+---+---+---+---+---+---+---+---+---+---+---+---+---+---+---+---+---+---+---+---+---+---+---+---+---+---+---+---+---+---+---+---+---+---+---+\n",
      "|StockCode_Quantity| -1|-10|-12| -2|-24| -3| -4| -5| -6| -7|  1| 10|100| 11| 12|120|128| 13| 14|144| 15| 16| 17| 18| 19|192|  2| 20|200| 21|216| 22| 23| 24| 25|252| 27| 28|288|  3| 30| 32| 33| 34| 36|384|  4| 40|432| 47| 48|480|  5| 50| 56|  6| 60|600| 64|  7| 70| 72|  8| 80|  9| 96|\n",
      "+------------------+---+---+---+---+---+---+---+---+---+---+---+---+---+---+---+---+---+---+---+---+---+---+---+---+---+---+---+---+---+---+---+---+---+---+---+---+---+---+---+---+---+---+---+---+---+---+---+---+---+---+---+---+---+---+---+---+---+---+---+---+---+---+---+---+---+---+\n",
      "|             21259|  0|  0|  0|  0|  0|  0|  0|  0|  0|  0|  0|  0|  0|  0|  0|  0|  0|  0|  0|  0|  0|  0|  0|  0|  0|  0|  2|  0|  0|  0|  0|  0|  0|  0|  0|  0|  0|  0|  0|  0|  0|  0|  0|  0|  0|  0|  1|  0|  0|  0|  0|  0|  0|  0|  0|  0|  0|  0|  0|  0|  0|  0|  0|  0|  0|  0|\n",
      "|             21894|  0|  0|  0|  0|  0|  0|  0|  0|  0|  0|  1|  0|  0|  0|  0|  0|  0|  0|  0|  0|  0|  0|  0|  0|  0|  0|  0|  0|  0|  0|  0|  0|  0|  0|  0|  0|  0|  0|  0|  1|  0|  0|  0|  0|  0|  0|  0|  0|  0|  0|  0|  0|  0|  0|  0|  0|  0|  0|  0|  0|  0|  0|  0|  0|  0|  0|\n",
      "+------------------+---+---+---+---+---+---+---+---+---+---+---+---+---+---+---+---+---+---+---+---+---+---+---+---+---+---+---+---+---+---+---+---+---+---+---+---+---+---+---+---+---+---+---+---+---+---+---+---+---+---+---+---+---+---+---+---+---+---+---+---+---+---+---+---+---+---+\n",
      "only showing top 2 rows\n",
      "\n",
      "+---------+--------+\n",
      "|StockCode|Quantity|\n",
      "+---------+--------+\n",
      "|   85123A|       6|\n",
      "|    71053|       6|\n",
      "|   84406B|       8|\n",
      "|   84029G|       6|\n",
      "|   84029E|       6|\n",
      "|    22752|       2|\n",
      "|    21730|       6|\n",
      "|    22633|       6|\n",
      "|    22632|       6|\n",
      "|    84879|      32|\n",
      "+---------+--------+\n",
      "only showing top 10 rows\n",
      "\n",
      "+------------------+---+---+---+---+---+---+---+---+---+---+---+---+---+---+---+---+---+---+---+---+---+---+---+---+---+---+---+---+---+---+---+---+---+---+---+---+---+---+---+---+---+---+---+---+---+---+---+---+---+---+---+---+---+---+---+---+---+---+---+---+---+---+---+---+---+---+\n",
      "|StockCode_Quantity| -1|-10|-12| -2|-24| -3| -4| -5| -6| -7|  1| 10|100| 11| 12|120|128| 13| 14|144| 15| 16| 17| 18| 19|192|  2| 20|200| 21|216| 22| 23| 24| 25|252| 27| 28|288|  3| 30| 32| 33| 34| 36|384|  4| 40|432| 47| 48|480|  5| 50| 56|  6| 60|600| 64|  7| 70| 72|  8| 80|  9| 96|\n",
      "+------------------+---+---+---+---+---+---+---+---+---+---+---+---+---+---+---+---+---+---+---+---+---+---+---+---+---+---+---+---+---+---+---+---+---+---+---+---+---+---+---+---+---+---+---+---+---+---+---+---+---+---+---+---+---+---+---+---+---+---+---+---+---+---+---+---+---+---+\n",
      "|             21259|  0|  0|  0|  0|  0|  0|  0|  0|  0|  0|  0|  0|  0|  0|  0|  0|  0|  0|  0|  0|  0|  0|  0|  0|  0|  0|  2|  0|  0|  0|  0|  0|  0|  0|  0|  0|  0|  0|  0|  0|  0|  0|  0|  0|  0|  0|  1|  0|  0|  0|  0|  0|  0|  0|  0|  0|  0|  0|  0|  0|  0|  0|  0|  0|  0|  0|\n",
      "|             21894|  0|  0|  0|  0|  0|  0|  0|  0|  0|  0|  1|  0|  0|  0|  0|  0|  0|  0|  0|  0|  0|  0|  0|  0|  0|  0|  0|  0|  0|  0|  0|  0|  0|  0|  0|  0|  0|  0|  0|  1|  0|  0|  0|  0|  0|  0|  0|  0|  0|  0|  0|  0|  0|  0|  0|  0|  0|  0|  0|  0|  0|  0|  0|  0|  0|  0|\n",
      "+------------------+---+---+---+---+---+---+---+---+---+---+---+---+---+---+---+---+---+---+---+---+---+---+---+---+---+---+---+---+---+---+---+---+---+---+---+---+---+---+---+---+---+---+---+---+---+---+---+---+---+---+---+---+---+---+---+---+---+---+---+---+---+---+---+---+---+---+\n",
      "only showing top 2 rows\n",
      "\n"
     ]
    }
   ],
   "source": [
    "df.stat.crosstab('StockCode','Quantity').show(2)\n",
    "# crosstab : 행렬\n",
    "# df.select('StockCode','Quantity').show(10).stat.crosstab('StockCode','Quantity').show(2)\n",
    "\n",
    "# 데이터프레임에 필요한 필드를 선택하고 출력합니다.\n",
    "df.select('StockCode','Quantity').show(10)\n",
    "\n",
    "# 출력된 데이터를 기반으로 크로스탭을 생성합니다.\n",
    "df.stat.crosstab('StockCode','Quantity').show(2)"
   ]
  },
  {
   "cell_type": "code",
   "execution_count": 16,
   "id": "2593fb77-d1f6-48d7-8a48-abf0a3f2e984",
   "metadata": {},
   "outputs": [
    {
     "name": "stdout",
     "output_type": "stream",
     "text": [
      "+------------------+---+---+---+---+\n",
      "|StockCode_Quantity|  2| 32|  6|  8|\n",
      "+------------------+---+---+---+---+\n",
      "|            85123A|  0|  0|  1|  0|\n",
      "|             71053|  0|  0|  1|  0|\n",
      "|            84406B|  0|  0|  0|  1|\n",
      "|            84029G|  0|  0|  1|  0|\n",
      "|            84029E|  0|  0|  1|  0|\n",
      "|             22752|  1|  0|  0|  0|\n",
      "|             21730|  0|  0|  1|  0|\n",
      "|             22633|  0|  0|  1|  0|\n",
      "|             22632|  0|  0|  1|  0|\n",
      "|             84879|  0|  1|  0|  0|\n",
      "+------------------+---+---+---+---+\n",
      "\n"
     ]
    }
   ],
   "source": [
    "# 'StockCode','Quantity'10개의 데이터 중에서 df_stockcode_quantity_top10 10개만 추출한 data frame\n",
    "df_stockcode_quantity_top10 = df.limit(10)\n",
    "df_stockcode_quantity_top10.stat.crosstab(\"StockCode\", \"Quantity\").show()"
   ]
  },
  {
   "cell_type": "code",
   "execution_count": 17,
   "id": "965dcc9c-a96f-4fd9-9525-686a4ac67b16",
   "metadata": {},
   "outputs": [
    {
     "name": "stdout",
     "output_type": "stream",
     "text": [
      "+--------------------+------------------+\n",
      "| StockCode_freqItems|Quantity_freqItems|\n",
      "+--------------------+------------------+\n",
      "|[22752, 22632, 22...|     [32, 8, 2, 6]|\n",
      "+--------------------+------------------+\n",
      "\n"
     ]
    }
   ],
   "source": [
    "df_stockcode_quantity_top10.stat.freqItems([\"StockCode\",\"Quantity\"]).show()"
   ]
  },
  {
   "cell_type": "code",
   "execution_count": 18,
   "id": "4a78b64e-4580-4b6a-8265-cc6d16b9ef5c",
   "metadata": {},
   "outputs": [
    {
     "name": "stdout",
     "output_type": "stream",
     "text": [
      "+--------------------------------------------------------------------------+\n",
      "|StockCode_freqItems                                                       |\n",
      "+--------------------------------------------------------------------------+\n",
      "|[22752, 22632, 22633, 84879, 71053, 84406B, 85123A, 21730, 84029E, 84029G]|\n",
      "+--------------------------------------------------------------------------+\n",
      "\n"
     ]
    }
   ],
   "source": [
    "df_stockcode_quantity_top10.stat.freqItems([\"StockCode\"]).show(truncate=False)"
   ]
  },
  {
   "cell_type": "code",
   "execution_count": 19,
   "id": "6622c49a-6c83-45c0-a061-3f6ef38683b0",
   "metadata": {},
   "outputs": [
    {
     "name": "stdout",
     "output_type": "stream",
     "text": [
      "+---------+--------+\n",
      "|StockCode|Quantity|\n",
      "+---------+--------+\n",
      "|   85123A|       6|\n",
      "|    71053|       6|\n",
      "|   84406B|       8|\n",
      "|   84029G|       6|\n",
      "|   84029E|       6|\n",
      "|    22752|       2|\n",
      "|    21730|       6|\n",
      "|    22633|       6|\n",
      "|    22632|       6|\n",
      "|    84879|      32|\n",
      "+---------+--------+\n",
      "\n"
     ]
    }
   ],
   "source": [
    "df_stockcode_quantity_top10.select(\"StockCode\",\"Quantity\").show()"
   ]
  },
  {
   "cell_type": "code",
   "execution_count": 20,
   "id": "8dd1ac06-558d-4982-addc-5672306a53dd",
   "metadata": {},
   "outputs": [
    {
     "name": "stdout",
     "output_type": "stream",
     "text": [
      "+-----------------------------+\n",
      "|monotonically_increasing_id()|\n",
      "+-----------------------------+\n",
      "|                            0|\n",
      "|                            1|\n",
      "|                            2|\n",
      "|                            3|\n",
      "|                            4|\n",
      "|                            5|\n",
      "|                            6|\n",
      "|                            7|\n",
      "|                            8|\n",
      "|                            9|\n",
      "|                           10|\n",
      "|                           11|\n",
      "|                           12|\n",
      "|                           13|\n",
      "|                           14|\n",
      "|                           15|\n",
      "|                           16|\n",
      "|                           17|\n",
      "|                           18|\n",
      "|                           19|\n",
      "+-----------------------------+\n",
      "only showing top 20 rows\n",
      "\n"
     ]
    }
   ],
   "source": [
    "from pyspark.sql.functions import monotonically_increasing_id\n",
    "df.select(monotonically_increasing_id()).show()"
   ]
  },
  {
   "cell_type": "code",
   "execution_count": 21,
   "id": "11417ad6-5a16-429e-90bc-b28366d62be9",
   "metadata": {},
   "outputs": [
    {
     "name": "stdout",
     "output_type": "stream",
     "text": [
      "+--------------------+\n",
      "|initcap(Description)|\n",
      "+--------------------+\n",
      "|White Hanging Hea...|\n",
      "| White Metal Lantern|\n",
      "|Cream Cupid Heart...|\n",
      "|Knitted Union Fla...|\n",
      "|Red Woolly Hottie...|\n",
      "|Set 7 Babushka Ne...|\n",
      "|Glass Star Froste...|\n",
      "|Hand Warmer Union...|\n",
      "|Hand Warmer Red P...|\n",
      "|Assorted Colour B...|\n",
      "|Poppy's Playhouse...|\n",
      "|Poppy's Playhouse...|\n",
      "|Feltcraft Princes...|\n",
      "|Ivory Knitted Mug...|\n",
      "|Box Of 6 Assorted...|\n",
      "|Box Of Vintage Ji...|\n",
      "|Box Of Vintage Al...|\n",
      "|Home Building Blo...|\n",
      "|Love Building Blo...|\n",
      "|Recipe Box With M...|\n",
      "+--------------------+\n",
      "only showing top 20 rows\n",
      "\n"
     ]
    }
   ],
   "source": [
    "# 첫 글자 대문자\n",
    "from pyspark.sql.functions import initcap\n",
    "df.select(initcap(\"Description\")).show()"
   ]
  },
  {
   "cell_type": "code",
   "execution_count": 22,
   "id": "e6f5f14f-c6db-40a7-9a95-45c94eff6478",
   "metadata": {},
   "outputs": [
    {
     "name": "stdout",
     "output_type": "stream",
     "text": [
      "+--------------------+--------------------+--------------------+--------------------+\n",
      "|         Description|  lower(Description)|  lower(Description)|  upper(Description)|\n",
      "+--------------------+--------------------+--------------------+--------------------+\n",
      "|WHITE HANGING HEA...|white hanging hea...|white hanging hea...|WHITE HANGING HEA...|\n",
      "| WHITE METAL LANTERN| white metal lantern| white metal lantern| WHITE METAL LANTERN|\n",
      "+--------------------+--------------------+--------------------+--------------------+\n",
      "only showing top 2 rows\n",
      "\n"
     ]
    }
   ],
   "source": [
    "from pyspark.sql.functions import lower, upper\n",
    "df.select(col('Description'), lower('Description'),lower('Description'),upper('Description')).show(2)"
   ]
  },
  {
   "cell_type": "code",
   "execution_count": 23,
   "id": "4d8bfd35-26e6-41ec-9974-093c7231f5a0",
   "metadata": {},
   "outputs": [
    {
     "name": "stdout",
     "output_type": "stream",
     "text": [
      "+----------------------------------+----------------------------------+\n",
      "|Description                       |translate(Description, LEFT, 1234)|\n",
      "+----------------------------------+----------------------------------+\n",
      "|WHITE HANGING HEART T-LIGHT HOLDER|WHI42 HANGING H2AR4 4-1IGH4 HO1D2R|\n",
      "|WHITE METAL LANTERN               |WHI42 M24A1 1AN42RN               |\n",
      "+----------------------------------+----------------------------------+\n",
      "only showing top 2 rows\n",
      "\n"
     ]
    }
   ],
   "source": [
    "from pyspark.sql.functions import translate\n",
    "df.select('Description',translate('Description','LEFT','1234')).show(2, truncate=False)"
   ]
  },
  {
   "cell_type": "code",
   "execution_count": 24,
   "id": "5622d0a0-9be5-4f58-bee8-b028bc826589",
   "metadata": {},
   "outputs": [
    {
     "name": "stdout",
     "output_type": "stream",
     "text": [
      "+-----+--------------------+\n",
      "|color|         Description|\n",
      "+-----+--------------------+\n",
      "|WHITE|WHITE HANGING HEA...|\n",
      "|WHITE| WHITE METAL LANTERN|\n",
      "|     |CREAM CUPID HEART...|\n",
      "|     |KNITTED UNION FLA...|\n",
      "|  RED|RED WOOLLY HOTTIE...|\n",
      "+-----+--------------------+\n",
      "only showing top 5 rows\n",
      "\n"
     ]
    }
   ],
   "source": [
    "from pyspark.sql.functions import regexp_extract\n",
    "\n",
    "# 정규 표현식을 사용하여 Description에서 색상과 관련된 단어를 추출합니다.\n",
    "# extract_str는 BLACK, RED, WHITE, GREEN, BLUE와 같은 단어를 추출하는 정규 표현식입니다.\n",
    "extract_str = \"(BLACK|RED|WHITE|GREEN|BLUE)\"\n",
    "df.select(\n",
    "    regexp_extract('Description', extract_str, 1).alias('color'),\n",
    "    'Description'\n",
    ").show(5)\n"
   ]
  },
  {
   "cell_type": "code",
   "execution_count": 25,
   "id": "f923f409-f4a8-4cde-b51f-6fef9c674101",
   "metadata": {},
   "outputs": [
    {
     "name": "stdout",
     "output_type": "stream",
     "text": [
      "+---------+---------+--------------------+--------+-------------------+---------+----------+--------------+----------+\n",
      "|InvoiceNo|StockCode|         Description|Quantity|        InvoiceDate|UnitPrice|CustomerID|       Country|hasColorBW|\n",
      "+---------+---------+--------------------+--------+-------------------+---------+----------+--------------+----------+\n",
      "|   536365|   85123A|WHITE HANGING HEA...|       6|2010-12-01 08:26:00|     2.55|   17850.0|United Kingdom|      true|\n",
      "|   536365|    71053| WHITE METAL LANTERN|       6|2010-12-01 08:26:00|     3.39|   17850.0|United Kingdom|      true|\n",
      "+---------+---------+--------------------+--------+-------------------+---------+----------+--------------+----------+\n",
      "only showing top 2 rows\n",
      "\n"
     ]
    }
   ],
   "source": [
    "# instr을 사용하여  Decriotion중에서 특정 문자열이 포함되어 있는지 여부를 확인하고 새로운 열을 추가\n",
    "# 'BLACK','WHITE' ------>hasColorBW\n",
    "containBlack = instr('Description','BLACK') >= 1\n",
    "containWhite = instr('Description','WHITE') >= 1\n",
    "df.withColumn('hasColorBW',containBlack|containWhite).show(2)"
   ]
  },
  {
   "cell_type": "code",
   "execution_count": 49,
   "id": "b862756e-2e7b-4917-8691-1503840bd67b",
   "metadata": {},
   "outputs": [
    {
     "name": "stdout",
     "output_type": "stream",
     "text": [
      "+----------------------------------+\n",
      "|Description                       |\n",
      "+----------------------------------+\n",
      "|WHITE HANGING HEART T-LIGHT HOLDER|\n",
      "|WHITE METAL LANTERN               |\n",
      "|RED WOOLLY HOTTIE WHITE HEART.    |\n",
      "+----------------------------------+\n",
      "only showing top 3 rows\n",
      "\n"
     ]
    }
   ],
   "source": [
    "from pyspark.sql.functions import expr, locate\n",
    "simpleColors = [\"black\", \"white\", \"red\", \"green\", \"blue\"]\n",
    "def color_locator(column, color_string):\n",
    "  return locate(color_string.upper(), column)\\\n",
    "          .cast(\"boolean\")\\\n",
    "          .alias(\"is_\" + color_string)\n",
    "selectedColumns = [color_locator(df.Description, c) for c in simpleColors]\n",
    "selectedColumns.append(expr(\"*\")) # Column 타입이어야 합니다.\n",
    "\n",
    "# unpacking\n",
    "df.select(*selectedColumns).where(expr(\"is_white OR is_red\"))\\\n",
    "  .select(\"Description\").show(3, False)"
   ]
  },
  {
   "cell_type": "code",
   "execution_count": 27,
   "id": "ed30c29f-63bf-4e32-9672-9d30a5752e49",
   "metadata": {},
   "outputs": [
    {
     "name": "stdout",
     "output_type": "stream",
     "text": [
      "+---+----------+-----------------------+\n",
      "|id |today     |now                    |\n",
      "+---+----------+-----------------------+\n",
      "|0  |2024-03-21|2024-03-21 14:08:41.449|\n",
      "|1  |2024-03-21|2024-03-21 14:08:41.449|\n",
      "|2  |2024-03-21|2024-03-21 14:08:41.449|\n",
      "|3  |2024-03-21|2024-03-21 14:08:41.449|\n",
      "|4  |2024-03-21|2024-03-21 14:08:41.449|\n",
      "|5  |2024-03-21|2024-03-21 14:08:41.449|\n",
      "|6  |2024-03-21|2024-03-21 14:08:41.449|\n",
      "|7  |2024-03-21|2024-03-21 14:08:41.449|\n",
      "|8  |2024-03-21|2024-03-21 14:08:41.449|\n",
      "|9  |2024-03-21|2024-03-21 14:08:41.449|\n",
      "+---+----------+-----------------------+\n",
      "\n"
     ]
    }
   ],
   "source": [
    "# 날짜\n",
    "from pyspark.sql.functions import current_date, current_timestamp\n",
    "datedf = spark.range(10).withColumn('today', current_date())\\\n",
    "\t\t\t\t.withColumn(\"now\", current_timestamp())\n",
    "datedf.show(truncate=False)\n",
    "datedf.createOrReplaceTempView('datedf')"
   ]
  },
  {
   "cell_type": "code",
   "execution_count": 28,
   "id": "3bfe6380-c643-4ea8-b01b-1e719aaf12a4",
   "metadata": {},
   "outputs": [],
   "source": [
    "from pyspark.sql.functions import date_add, date_sub"
   ]
  },
  {
   "cell_type": "code",
   "execution_count": 32,
   "id": "5e07558b-d52f-4102-9ab3-e2f0e25f5ec7",
   "metadata": {},
   "outputs": [
    {
     "name": "stdout",
     "output_type": "stream",
     "text": [
      "+------------------+------------------+\n",
      "|date_sub(today, 5)|date_add(today, 5)|\n",
      "+------------------+------------------+\n",
      "|        2024-03-16|        2024-03-26|\n",
      "+------------------+------------------+\n",
      "only showing top 1 row\n",
      "\n"
     ]
    }
   ],
   "source": [
    "datedf.select(date_sub('today', 5), date_add('today',5)).show(1)"
   ]
  },
  {
   "cell_type": "code",
   "execution_count": 50,
   "id": "b5d31e46-86b3-45e2-9e04-9c18487efc5c",
   "metadata": {},
   "outputs": [
    {
     "name": "stdout",
     "output_type": "stream",
     "text": [
      "+-------------------------+\n",
      "|datediff(week_ago, today)|\n",
      "+-------------------------+\n",
      "|                       -7|\n",
      "|                       -7|\n",
      "|                       -7|\n",
      "+-------------------------+\n",
      "only showing top 3 rows\n",
      "\n"
     ]
    }
   ],
   "source": [
    "from pyspark.sql.functions import datediff,months_between,to_date\n",
    "datedf.withColumn('week_ago',date_sub('today',7))\\\n",
    "        .select(datediff('week_ago','today')).show(3)"
   ]
  },
  {
   "cell_type": "code",
   "execution_count": 38,
   "id": "a436c785-b79e-4d74-a640-9a7365edd6f7",
   "metadata": {},
   "outputs": [
    {
     "name": "stdout",
     "output_type": "stream",
     "text": [
      "+--------------------------------+\n",
      "|months_between(start, end, true)|\n",
      "+--------------------------------+\n",
      "|                     -1.58064516|\n",
      "+--------------------------------+\n",
      "only showing top 1 row\n",
      "\n"
     ]
    }
   ],
   "source": [
    "datedf.select(\n",
    "    to_date(lit('2024-03-21')).alias('start'),\n",
    "    to_date(lit('2024-05-08')).alias('end'))\\\n",
    "    .select(months_between('start','end')).show(1)"
   ]
  },
  {
   "cell_type": "code",
   "execution_count": 51,
   "id": "c79747d8-3470-44f9-a67c-02ae46259af1",
   "metadata": {},
   "outputs": [
    {
     "name": "stdout",
     "output_type": "stream",
     "text": [
      "+----------+-------------+\n",
      "|      date|to_date(date)|\n",
      "+----------+-------------+\n",
      "|2024-05-02|   2024-05-02|\n",
      "+----------+-------------+\n",
      "\n"
     ]
    }
   ],
   "source": [
    "from pyspark.sql.functions import to_date, lit\n",
    "spark.range(1).withColumn('date',lit('2024-05-02')).select('date',to_date('date')).show()"
   ]
  },
  {
   "cell_type": "code",
   "execution_count": 52,
   "id": "91205d97-87ef-4c87-8aeb-f0e073a0a27b",
   "metadata": {},
   "outputs": [
    {
     "name": "stdout",
     "output_type": "stream",
     "text": [
      "+-------------------------------+\n",
      "|to_date(2024-05-02, yyyy-dd-MM)|\n",
      "+-------------------------------+\n",
      "|                     2024-02-05|\n",
      "+-------------------------------+\n",
      "\n"
     ]
    }
   ],
   "source": [
    "dateformat = 'yyyy-dd-MM'\n",
    "spark.range(1).select(to_date(lit('2024-05-02'), dateformat) ).show()"
   ]
  },
  {
   "cell_type": "code",
   "execution_count": 53,
   "id": "a538f747-d91c-4519-82a3-c7750035d32b",
   "metadata": {},
   "outputs": [
    {
     "name": "stdout",
     "output_type": "stream",
     "text": [
      "+-----------------------------------+\n",
      "|coalesce(Description, CustomerId)  |\n",
      "+-----------------------------------+\n",
      "|WHITE HANGING HEART T-LIGHT HOLDER |\n",
      "|WHITE METAL LANTERN                |\n",
      "|CREAM CUPID HEARTS COAT HANGER     |\n",
      "|KNITTED UNION FLAG HOT WATER BOTTLE|\n",
      "|RED WOOLLY HOTTIE WHITE HEART.     |\n",
      "|SET 7 BABUSHKA NESTING BOXES       |\n",
      "|GLASS STAR FROSTED T-LIGHT HOLDER  |\n",
      "|HAND WARMER UNION JACK             |\n",
      "|HAND WARMER RED POLKA DOT          |\n",
      "|ASSORTED COLOUR BIRD ORNAMENT      |\n",
      "|POPPY'S PLAYHOUSE BEDROOM          |\n",
      "|POPPY'S PLAYHOUSE KITCHEN          |\n",
      "|FELTCRAFT PRINCESS CHARLOTTE DOLL  |\n",
      "|IVORY KNITTED MUG COSY             |\n",
      "|BOX OF 6 ASSORTED COLOUR TEASPOONS |\n",
      "|BOX OF VINTAGE JIGSAW BLOCKS       |\n",
      "|BOX OF VINTAGE ALPHABET BLOCKS     |\n",
      "|HOME BUILDING BLOCK WORD           |\n",
      "|LOVE BUILDING BLOCK WORD           |\n",
      "|RECIPE BOX WITH METAL HEART        |\n",
      "+-----------------------------------+\n",
      "only showing top 20 rows\n",
      "\n"
     ]
    }
   ],
   "source": [
    "from pyspark.sql.functions import coalesce\n",
    "df.select(coalesce('Description','CustomerId')).show(truncate=False)"
   ]
  },
  {
   "cell_type": "code",
   "execution_count": 54,
   "id": "fc3b56e2-350f-400b-872c-dbfa93df9c5c",
   "metadata": {},
   "outputs": [
    {
     "name": "stderr",
     "output_type": "stream",
     "text": [
      "                                                                                \r"
     ]
    },
    {
     "name": "stdout",
     "output_type": "stream",
     "text": [
      "+----+----+\n",
      "|   a|   b|\n",
      "+----+----+\n",
      "|NULL|   2|\n",
      "|   1|NULL|\n",
      "|   1|   2|\n",
      "|NULL|NULL|\n",
      "+----+----+\n",
      "\n",
      "+--------------+\n",
      "|coalesce(a, b)|\n",
      "+--------------+\n",
      "|2             |\n",
      "|1             |\n",
      "|1             |\n",
      "|NULL          |\n",
      "+--------------+\n",
      "\n"
     ]
    }
   ],
   "source": [
    "data = [\n",
    "    (None,2),\n",
    "    (1,None),\n",
    "    (1,2),\n",
    "    (None,None),\n",
    "]\n",
    "example_df = spark.createDataFrame(data,['a','b'])\n",
    "example_df.show()\n",
    "example_df.select(coalesce('a','b')).show(truncate=False)"
   ]
  },
  {
   "cell_type": "code",
   "execution_count": 55,
   "id": "b80af9f0-6ec0-4054-bd8f-33a3b11c1b0a",
   "metadata": {},
   "outputs": [
    {
     "name": "stdout",
     "output_type": "stream",
     "text": [
      "+---------+---------+-----------+--------+-----------+---------+----------+-------+\n",
      "|InvoiceNo|StockCode|Description|Quantity|InvoiceDate|UnitPrice|CustomerID|Country|\n",
      "+---------+---------+-----------+--------+-----------+---------+----------+-------+\n",
      "+---------+---------+-----------+--------+-----------+---------+----------+-------+\n",
      "\n"
     ]
    }
   ],
   "source": [
    "# StockCode, InvoiceNo가  NA 인 항목만 추출\n",
    "# df.filter( \"StockCode == 'None' or InvoiceNo == 'None'\").show()\n",
    "df.filter( col(\"StockCode\").isNull() | col(\"InvoiceNo\").isNull() ).show()"
   ]
  },
  {
   "cell_type": "code",
   "execution_count": 61,
   "id": "f0aa85c4-d446-46df-bee3-1ba429462dbc",
   "metadata": {},
   "outputs": [
    {
     "name": "stdout",
     "output_type": "stream",
     "text": [
      "+----+----+\n",
      "|   a|   b|\n",
      "+----+----+\n",
      "|NULL|   2|\n",
      "|   1|NULL|\n",
      "|NULL|NULL|\n",
      "+----+----+\n",
      "\n"
     ]
    }
   ],
   "source": [
    "example_df.filter(col('a').isNull() | col('b').isNull()).show()"
   ]
  },
  {
   "cell_type": "code",
   "execution_count": null,
   "id": "70088554",
   "metadata": {},
   "outputs": [],
   "source": [
    "# na.drop : na항목만 drop\n",
    "# na.fill : 채우다"
   ]
  },
  {
   "cell_type": "code",
   "execution_count": 62,
   "id": "18feb314-858c-40bc-9f12-dbf166b0ff5a",
   "metadata": {},
   "outputs": [
    {
     "name": "stdout",
     "output_type": "stream",
     "text": [
      "+---+----+\n",
      "|  a|   b|\n",
      "+---+----+\n",
      "|  1|NULL|\n",
      "|  1|   2|\n",
      "+---+----+\n",
      "\n"
     ]
    }
   ],
   "source": [
    "example_df.na.drop('all', subset=['a']).show()"
   ]
  },
  {
   "cell_type": "code",
   "execution_count": 63,
   "id": "6d798b81-3316-4df6-9697-6c7999e874ac",
   "metadata": {},
   "outputs": [
    {
     "name": "stdout",
     "output_type": "stream",
     "text": [
      "+----+----+\n",
      "|   a|   b|\n",
      "+----+----+\n",
      "|NULL|   2|\n",
      "|   1|NULL|\n",
      "|   1|   2|\n",
      "+----+----+\n",
      "\n"
     ]
    }
   ],
   "source": [
    "example_df.na.drop('all', subset=['a','b']).show()"
   ]
  },
  {
   "cell_type": "code",
   "execution_count": 64,
   "id": "ffa2ce5c-00e8-4352-85aa-851c4f24a1d3",
   "metadata": {},
   "outputs": [
    {
     "name": "stdout",
     "output_type": "stream",
     "text": [
      "+----+----+\n",
      "|   a|   b|\n",
      "+----+----+\n",
      "|NULL|   2|\n",
      "|   1|NULL|\n",
      "|   1|   2|\n",
      "|NULL|NULL|\n",
      "+----+----+\n",
      "\n"
     ]
    }
   ],
   "source": [
    "example_df.na.fill('all', subset=['a','b']).show()"
   ]
  },
  {
   "cell_type": "code",
   "execution_count": 65,
   "id": "2cbd1d31-d406-48e6-8329-a632577e57ff",
   "metadata": {},
   "outputs": [
    {
     "name": "stdout",
     "output_type": "stream",
     "text": [
      "+---+---+\n",
      "|  a|  b|\n",
      "+---+---+\n",
      "|100|  2|\n",
      "|  1|  5|\n",
      "|  1|  2|\n",
      "|100|  5|\n",
      "+---+---+\n",
      "\n"
     ]
    }
   ],
   "source": [
    "fill_cols_vals = {'a':100,'b':5}\n",
    "example_df.na.fill(fill_cols_vals).show()"
   ]
  },
  {
   "cell_type": "code",
   "execution_count": 56,
   "id": "48619cc9-b651-407c-bf72-403372942701",
   "metadata": {},
   "outputs": [
    {
     "name": "stdout",
     "output_type": "stream",
     "text": [
      "+---------------------------------------------+\n",
      "|complete                                     |\n",
      "+---------------------------------------------+\n",
      "|{WHITE HANGING HEART T-LIGHT HOLDER, 536365} |\n",
      "|{WHITE METAL LANTERN, 536365}                |\n",
      "|{CREAM CUPID HEARTS COAT HANGER, 536365}     |\n",
      "|{KNITTED UNION FLAG HOT WATER BOTTLE, 536365}|\n",
      "|{RED WOOLLY HOTTIE WHITE HEART., 536365}     |\n",
      "|{SET 7 BABUSHKA NESTING BOXES, 536365}       |\n",
      "|{GLASS STAR FROSTED T-LIGHT HOLDER, 536365}  |\n",
      "|{HAND WARMER UNION JACK, 536366}             |\n",
      "|{HAND WARMER RED POLKA DOT, 536366}          |\n",
      "|{ASSORTED COLOUR BIRD ORNAMENT, 536367}      |\n",
      "|{POPPY'S PLAYHOUSE BEDROOM , 536367}         |\n",
      "|{POPPY'S PLAYHOUSE KITCHEN, 536367}          |\n",
      "|{FELTCRAFT PRINCESS CHARLOTTE DOLL, 536367}  |\n",
      "|{IVORY KNITTED MUG COSY , 536367}            |\n",
      "|{BOX OF 6 ASSORTED COLOUR TEASPOONS, 536367} |\n",
      "|{BOX OF VINTAGE JIGSAW BLOCKS , 536367}      |\n",
      "|{BOX OF VINTAGE ALPHABET BLOCKS, 536367}     |\n",
      "|{HOME BUILDING BLOCK WORD, 536367}           |\n",
      "|{LOVE BUILDING BLOCK WORD, 536367}           |\n",
      "|{RECIPE BOX WITH METAL HEART, 536367}        |\n",
      "+---------------------------------------------+\n",
      "only showing top 20 rows\n",
      "\n"
     ]
    }
   ],
   "source": [
    "# 컬럼끼리 묶기 : 복합 컬럼 만들기\n",
    "from pyspark.sql.functions import struct\n",
    "df.select( struct('Description','InvoiceNo').alias('complete')).show(truncate=False)"
   ]
  },
  {
   "cell_type": "code",
   "execution_count": 58,
   "id": "71edf371-0b3b-407a-9a74-3abf9b75a5ed",
   "metadata": {},
   "outputs": [
    {
     "name": "stdout",
     "output_type": "stream",
     "text": [
      "+----------------------------------------+\n",
      "|split(Description,  , -1)               |\n",
      "+----------------------------------------+\n",
      "|[WHITE, HANGING, HEART, T-LIGHT, HOLDER]|\n",
      "|[WHITE, METAL, LANTERN]                 |\n",
      "+----------------------------------------+\n",
      "only showing top 2 rows\n",
      "\n"
     ]
    }
   ],
   "source": [
    "from pyspark.sql.functions import split\n",
    "df.select(split(\"Description\",\" \")).show(2,False)"
   ]
  },
  {
   "cell_type": "code",
   "execution_count": 59,
   "id": "49e948ee-66f5-4576-9db0-683d54da9470",
   "metadata": {},
   "outputs": [
    {
     "name": "stdout",
     "output_type": "stream",
     "text": [
      "+------------+\n",
      "|array_col[0]|\n",
      "+------------+\n",
      "|       WHITE|\n",
      "|       WHITE|\n",
      "+------------+\n",
      "only showing top 2 rows\n",
      "\n"
     ]
    }
   ],
   "source": [
    "df.select(split(\"Description\",\" \").alias('array_col'))\\\n",
    "    .selectExpr('array_col[0]').show(2)"
   ]
  },
  {
   "cell_type": "code",
   "execution_count": 60,
   "id": "8cbffd48-7f4e-49ce-b9bc-b3e5a31f1332",
   "metadata": {},
   "outputs": [
    {
     "name": "stdout",
     "output_type": "stream",
     "text": [
      "+----------+\n",
      "|array_size|\n",
      "+----------+\n",
      "|         5|\n",
      "|         3|\n",
      "+----------+\n",
      "only showing top 2 rows\n",
      "\n"
     ]
    }
   ],
   "source": [
    "from pyspark.sql.functions import size\n",
    "df.select( size(split(\"Description\",\" \")).alias('array_size')).show(2)"
   ]
  },
  {
   "cell_type": "code",
   "execution_count": 68,
   "id": "1dbb2a04-91b9-447c-802e-cfdc7c652c39",
   "metadata": {},
   "outputs": [
    {
     "name": "stdout",
     "output_type": "stream",
     "text": [
      "+----------------------------------+----------------------------------------+--------+\n",
      "|Description                       |splitted                                |exploded|\n",
      "+----------------------------------+----------------------------------------+--------+\n",
      "|WHITE HANGING HEART T-LIGHT HOLDER|[WHITE, HANGING, HEART, T-LIGHT, HOLDER]|WHITE   |\n",
      "|WHITE HANGING HEART T-LIGHT HOLDER|[WHITE, HANGING, HEART, T-LIGHT, HOLDER]|HANGING |\n",
      "|WHITE HANGING HEART T-LIGHT HOLDER|[WHITE, HANGING, HEART, T-LIGHT, HOLDER]|HEART   |\n",
      "|WHITE HANGING HEART T-LIGHT HOLDER|[WHITE, HANGING, HEART, T-LIGHT, HOLDER]|T-LIGHT |\n",
      "|WHITE HANGING HEART T-LIGHT HOLDER|[WHITE, HANGING, HEART, T-LIGHT, HOLDER]|HOLDER  |\n",
      "|WHITE METAL LANTERN               |[WHITE, METAL, LANTERN]                 |WHITE   |\n",
      "|WHITE METAL LANTERN               |[WHITE, METAL, LANTERN]                 |METAL   |\n",
      "|WHITE METAL LANTERN               |[WHITE, METAL, LANTERN]                 |LANTERN |\n",
      "|CREAM CUPID HEARTS COAT HANGER    |[CREAM, CUPID, HEARTS, COAT, HANGER]    |CREAM   |\n",
      "|CREAM CUPID HEARTS COAT HANGER    |[CREAM, CUPID, HEARTS, COAT, HANGER]    |CUPID   |\n",
      "+----------------------------------+----------------------------------------+--------+\n",
      "only showing top 10 rows\n",
      "\n"
     ]
    }
   ],
   "source": [
    "# 새로운 행으로 확장 explode\n",
    "from pyspark.sql.functions import explode\n",
    "df.withColumn('splitted',split(\"Description\",\" \"))\\\n",
    "    .withColumn('exploded',explode('splitted'))\\\n",
    "    .select('Description','splitted','exploded').show(10,False)"
   ]
  },
  {
   "cell_type": "code",
   "execution_count": 70,
   "id": "fda1dda7-b01d-4ede-ac5e-df1bd8f846f9",
   "metadata": {},
   "outputs": [
    {
     "name": "stdout",
     "output_type": "stream",
     "text": [
      "+----------------------------------------------+\n",
      "|complex_ma                                    |\n",
      "+----------------------------------------------+\n",
      "|{WHITE HANGING HEART T-LIGHT HOLDER -> 536365}|\n",
      "|{WHITE METAL LANTERN -> 536365}               |\n",
      "+----------------------------------------------+\n",
      "only showing top 2 rows\n",
      "\n"
     ]
    }
   ],
   "source": [
    "from pyspark.sql.functions import create_map\n",
    "df.select(create_map('Description','InvoiceNo').alias('complex_ma')).show(2,False)"
   ]
  },
  {
   "cell_type": "code",
   "execution_count": 77,
   "id": "1c6ec46c-babf-41fb-9b6a-6f12fe9eb83a",
   "metadata": {},
   "outputs": [
    {
     "name": "stdout",
     "output_type": "stream",
     "text": [
      "+-------------------------------+\n",
      "|complex_ma[WHITE METAL LANTERN]|\n",
      "+-------------------------------+\n",
      "|                           NULL|\n",
      "|                         536365|\n",
      "|                           NULL|\n",
      "|                           NULL|\n",
      "|                           NULL|\n",
      "|                           NULL|\n",
      "|                           NULL|\n",
      "|                           NULL|\n",
      "|                           NULL|\n",
      "|                           NULL|\n",
      "|                           NULL|\n",
      "|                           NULL|\n",
      "|                           NULL|\n",
      "|                           NULL|\n",
      "|                           NULL|\n",
      "|                           NULL|\n",
      "|                           NULL|\n",
      "|                           NULL|\n",
      "|                           NULL|\n",
      "|                           NULL|\n",
      "+-------------------------------+\n",
      "only showing top 20 rows\n",
      "\n"
     ]
    }
   ],
   "source": [
    "df.select(create_map('Description', 'InvoiceNo').alias('complex_ma'))\\\n",
    "    .selectExpr('complex_ma[\"WHITE METAL LANTERN\"]').show()\n"
   ]
  },
  {
   "cell_type": "code",
   "execution_count": 75,
   "id": "c647abde-7ffc-4e28-a7c2-56bf3d62e767",
   "metadata": {},
   "outputs": [],
   "source": [
    "# join type DataFrame\n",
    "json_df = spark.range(1).selectExpr(\"\"\"\n",
    "    '{\"myJSONKey\" : {\"myJSONValue\" : [1,2,3]}}' as jsonString\n",
    "\"\"\")"
   ]
  },
  {
   "cell_type": "code",
   "execution_count": 76,
   "id": "ffa07375-b0be-4557-9c99-1281c99d4dee",
   "metadata": {},
   "outputs": [
    {
     "name": "stdout",
     "output_type": "stream",
     "text": [
      "+-----------------------------------------+\n",
      "|jsonString                               |\n",
      "+-----------------------------------------+\n",
      "|{\"myJSONKey\" : {\"myJSONValue\" : [1,2,3]}}|\n",
      "+-----------------------------------------+\n",
      "\n"
     ]
    }
   ],
   "source": [
    "json_df.show(truncate = False)"
   ]
  },
  {
   "cell_type": "code",
   "execution_count": 79,
   "id": "86ddcf9d-6849-450b-8cd5-a9bfc40bcbcc",
   "metadata": {},
   "outputs": [
    {
     "name": "stdout",
     "output_type": "stream",
     "text": [
      "+-------+-----------------------+\n",
      "|columns|c0                     |\n",
      "+-------+-----------------------+\n",
      "|2      |{\"myJSONValue\":[1,2,3]}|\n",
      "+-------+-----------------------+\n",
      "\n"
     ]
    }
   ],
   "source": [
    "# json : 키값만 가지고 분석간으\n",
    "from pyspark.sql.functions import get_json_object, json_tuple\n",
    "json_df.select(\n",
    "    # $로 가져오거나 키:값으로 가져옴\n",
    "    get_json_object('jsonString',\"$.myJSONKey.myJSONValue[1]\").alias('columns'),\n",
    "    json_tuple('jsonString','myJSONKey')\n",
    ").show(truncate=False)"
   ]
  },
  {
   "cell_type": "code",
   "execution_count": 83,
   "id": "f03d21ed-ae17-4c7c-89c9-fd2156ed8e92",
   "metadata": {},
   "outputs": [
    {
     "name": "stdout",
     "output_type": "stream",
     "text": [
      "+--------------------------------------------+\n",
      "|myStruct                                    |\n",
      "+--------------------------------------------+\n",
      "|{536365, WHITE HANGING HEART T-LIGHT HOLDER}|\n",
      "|{536365, WHITE METAL LANTERN}               |\n",
      "+--------------------------------------------+\n",
      "only showing top 2 rows\n",
      "\n"
     ]
    }
   ],
   "source": [
    "# JSON 형태로 바꿀 수도 있다.\n",
    "from pyspark.sql.functions import to_json\n",
    "df.selectExpr(\"(InvoiceNo,Description) as myStruct\").show(2,truncate=False)"
   ]
  },
  {
   "cell_type": "code",
   "execution_count": 84,
   "id": "4d3b2dd2-5791-4905-bc90-7176c7da5779",
   "metadata": {},
   "outputs": [
    {
     "name": "stdout",
     "output_type": "stream",
     "text": [
      "+-------------------------------------------------------------------------+\n",
      "|to_json(mystruct)                                                        |\n",
      "+-------------------------------------------------------------------------+\n",
      "|{\"InvoiceNo\":\"536365\",\"Description\":\"WHITE HANGING HEART T-LIGHT HOLDER\"}|\n",
      "|{\"InvoiceNo\":\"536365\",\"Description\":\"WHITE METAL LANTERN\"}               |\n",
      "+-------------------------------------------------------------------------+\n",
      "only showing top 2 rows\n",
      "\n"
     ]
    }
   ],
   "source": [
    "df.selectExpr(\"(InvoiceNo,Description) as myStruct\")\\\n",
    "    .select(to_json(\"mystruct\"))\\\n",
    "    .show(2,truncate=False)"
   ]
  },
  {
   "cell_type": "code",
   "execution_count": null,
   "id": "34157daa-d215-4c17-ae88-0c1a2a8627eb",
   "metadata": {},
   "outputs": [],
   "source": []
  }
 ],
 "metadata": {
  "kernelspec": {
   "display_name": "Python 3 (ipykernel)",
   "language": "python",
   "name": "python3"
  },
  "language_info": {
   "codemirror_mode": {
    "name": "ipython",
    "version": 3
   },
   "file_extension": ".py",
   "mimetype": "text/x-python",
   "name": "python",
   "nbconvert_exporter": "python",
   "pygments_lexer": "ipython3",
   "version": "3.9.10"
  }
 },
 "nbformat": 4,
 "nbformat_minor": 5
}
