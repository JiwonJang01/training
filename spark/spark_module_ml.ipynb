{
 "cells": [
  {
   "cell_type": "code",
   "execution_count": 1,
   "id": "ebfdb7ec-09b4-4992-95e4-de1e4634677f",
   "metadata": {
    "scrolled": true
   },
   "outputs": [],
   "source": [
    "from pyspark.ml.feature import OneHotEncoder,StringIndexer,VectorAssembler, StandardScaler\n",
    "from pyspark.ml import Pipeline\n",
    "from pyspark.ml.classification import LogisticRegression\n",
    "from pyspark.sql.functions import col, stddev_samp"
   ]
  },
  {
   "cell_type": "code",
   "execution_count": 2,
   "id": "edeee723-619c-497e-8e54-6c84d18c5aa2",
   "metadata": {},
   "outputs": [],
   "source": [
    "# read data - 수집\n",
    "# data processing - EDA\n",
    "# model create or choice\n",
    "# training\n",
    "# predict(classification / regression)\n",
    "# score\n",
    "# 배포 - 엔지니어링"
   ]
  },
  {
   "cell_type": "code",
   "execution_count": 3,
   "id": "9a4c4b6d-356a-432f-b6fc-b53f86ab5019",
   "metadata": {},
   "outputs": [
    {
     "name": "stderr",
     "output_type": "stream",
     "text": [
      "                                                                                \r"
     ]
    }
   ],
   "source": [
    "df = spark.read.format('csv')\\\n",
    "    .options(header = 'true', inferSchema = 'true')\\\n",
    "    .load('Default.csv').drop('_c0').cache()"
   ]
  },
  {
   "cell_type": "code",
   "execution_count": 4,
   "id": "09e77dba-1133-48c2-a4b0-e96e55e1a7f9",
   "metadata": {},
   "outputs": [
    {
     "name": "stderr",
     "output_type": "stream",
     "text": [
      "                                                                                \r"
     ]
    },
    {
     "name": "stdout",
     "output_type": "stream",
     "text": [
      "+-------+-------+-----------+-----------+\n",
      "|default|student|    balance|     income|\n",
      "+-------+-------+-----------+-----------+\n",
      "|     No|     No|729.5264952|44361.62507|\n",
      "|     No|    Yes|817.1804066| 12106.1347|\n",
      "+-------+-------+-----------+-----------+\n",
      "only showing top 2 rows\n",
      "\n"
     ]
    }
   ],
   "source": [
    "df.show(2)"
   ]
  },
  {
   "cell_type": "code",
   "execution_count": 5,
   "id": "2492d463-5cb9-42e4-b6a9-a6de0fc21f28",
   "metadata": {},
   "outputs": [
    {
     "name": "stderr",
     "output_type": "stream",
     "text": [
      "[Stage 6:>                                                          (0 + 1) / 1]\r"
     ]
    },
    {
     "name": "stdout",
     "output_type": "stream",
     "text": [
      "+-------+\n",
      "|default|\n",
      "+-------+\n",
      "|     No|\n",
      "|    Yes|\n",
      "+-------+\n",
      "\n"
     ]
    },
    {
     "name": "stderr",
     "output_type": "stream",
     "text": [
      "                                                                                \r"
     ]
    }
   ],
   "source": [
    "df.select(\"default\").distinct().show()"
   ]
  },
  {
   "cell_type": "code",
   "execution_count": 6,
   "id": "fd0fb99a-4904-434d-9a0a-e06ece916677",
   "metadata": {},
   "outputs": [],
   "source": [
    "# **params # unpacking\n",
    "# StringIndexer(outputCol=\n",
    "\n",
    "params = {\n",
    "    'inputCol':'student',\n",
    "    'outputCol':'studentIdx'\n",
    "}\n",
    "strIdx = StringIndexer(**params)"
   ]
  },
  {
   "cell_type": "code",
   "execution_count": 7,
   "id": "2c80a459-8a15-4448-8446-062fc133a5df",
   "metadata": {},
   "outputs": [],
   "source": [
    "params = {\n",
    "    'inputCol':'default',\n",
    "    'outputCol':'label'\n",
    "}\n",
    "label_strIdx = StringIndexer(**params)"
   ]
  },
  {
   "cell_type": "code",
   "execution_count": 8,
   "id": "03050f3d-763e-480b-99a6-48ebe4040b94",
   "metadata": {},
   "outputs": [],
   "source": [
    "# 수치ㅇ 데이터에 대해서\n",
    "# 의류사이즈 2XL XL L M S --> labeling(4,3,2,1,0) -> onehot(10000, 01000, 00100, 00001) : 이 경우 onehot으로 하ㄴ 안됨\n",
    "params = {\n",
    "    'inputCol':'studentIdx',\n",
    "    'outputCol':'studentClassVec'\n",
    "}\n",
    "encode = OneHotEncoder(**params)"
   ]
  },
  {
   "cell_type": "code",
   "execution_count": 9,
   "id": "35e08715-fd3f-456c-b6e2-9b3cade90977",
   "metadata": {},
   "outputs": [],
   "source": [
    "stage = [strIdx, encode, label_strIdx]"
   ]
  },
  {
   "cell_type": "code",
   "execution_count": 10,
   "id": "d6f375fe-a016-4bb9-99ee-6509fabed65c",
   "metadata": {},
   "outputs": [],
   "source": [
    "## 범주형 데이터에 대한 전처리 준비 끝.."
   ]
  },
  {
   "cell_type": "code",
   "execution_count": 11,
   "id": "633f1d11-265a-4ec8-bf92-dd1fda3951a9",
   "metadata": {},
   "outputs": [],
   "source": [
    "## 연속형 데이터 / 수치형 데이터"
   ]
  },
  {
   "cell_type": "code",
   "execution_count": 12,
   "id": "1e4cf329-7dc9-468b-a3cf-eba29011bc19",
   "metadata": {},
   "outputs": [
    {
     "name": "stderr",
     "output_type": "stream",
     "text": [
      "                                                                                \r"
     ]
    }
   ],
   "source": [
    "numCols = ['income','balance']\n",
    "# scaling\n",
    "for c in numCols:\n",
    "    df = df.withColumn(c+'Scaled', col(c) / df.agg(stddev_samp(c)).first()[0])"
   ]
  },
  {
   "cell_type": "code",
   "execution_count": 13,
   "id": "bc953424-9c56-420d-9572-a91eb2d2b45a",
   "metadata": {},
   "outputs": [
    {
     "name": "stdout",
     "output_type": "stream",
     "text": [
      "+-------+-------+-----------+-----------+------------------+------------------+\n",
      "|default|student|    balance|     income|      incomeScaled|     balanceScaled|\n",
      "+-------+-------+-----------+-----------+------------------+------------------+\n",
      "|     No|     No|729.5264952|44361.62507|3.3262970676634867|1.5081742710178534|\n",
      "|     No|    Yes|817.1804066| 12106.1347|0.9077350139857981|1.6893841034192338|\n",
      "+-------+-------+-----------+-----------+------------------+------------------+\n",
      "only showing top 2 rows\n",
      "\n"
     ]
    }
   ],
   "source": [
    "df.show(2)"
   ]
  },
  {
   "cell_type": "code",
   "execution_count": 14,
   "id": "4f5fa2e6-5b92-4e53-a790-cbfb955fb428",
   "metadata": {},
   "outputs": [],
   "source": [
    "inputs = ['studentClassVec', 'incomeScaled','balanceScaled']"
   ]
  },
  {
   "cell_type": "code",
   "execution_count": 15,
   "id": "0af96404-e0f9-46c8-b41a-1e6d9fb9a3ac",
   "metadata": {},
   "outputs": [],
   "source": [
    "assembler = VectorAssembler(inputCols=inputs,outputCol='features')"
   ]
  },
  {
   "cell_type": "code",
   "execution_count": 16,
   "id": "7058cf9b-71d7-4d44-8c9d-436ac0d0d0a4",
   "metadata": {},
   "outputs": [
    {
     "data": {
      "text/plain": [
       "[StringIndexer_8bee5c44a694,\n",
       " OneHotEncoder_3f82fffcea98,\n",
       " StringIndexer_75fa230fe0fe,\n",
       " VectorAssembler_a57a86837349]"
      ]
     },
     "execution_count": 16,
     "metadata": {},
     "output_type": "execute_result"
    }
   ],
   "source": [
    "stage +=[assembler]\n",
    "stage"
   ]
  },
  {
   "cell_type": "code",
   "execution_count": 17,
   "id": "49357a5b-c51d-463c-8a0d-e9eaeadbbfa6",
   "metadata": {},
   "outputs": [
    {
     "name": "stderr",
     "output_type": "stream",
     "text": [
      "                                                                                \r"
     ]
    }
   ],
   "source": [
    "# pipe line \n",
    "pipeline = Pipeline(stages=stage)\n",
    "pipelineModel =  pipeline.fit(df)\n",
    "dataset =  pipelineModel.transform(df)\n"
   ]
  },
  {
   "cell_type": "code",
   "execution_count": 18,
   "id": "20a42ba2-3715-46d9-ba90-5fca8c0d45f8",
   "metadata": {},
   "outputs": [
    {
     "name": "stderr",
     "output_type": "stream",
     "text": [
      "                                                                                \r"
     ]
    },
    {
     "name": "stdout",
     "output_type": "stream",
     "text": [
      "+-------+-------+-----------+-----------+------------------+------------------+----------+---------------+-----+--------------------+\n",
      "|default|student|    balance|     income|      incomeScaled|     balanceScaled|studentIdx|studentClassVec|label|            features|\n",
      "+-------+-------+-----------+-----------+------------------+------------------+----------+---------------+-----+--------------------+\n",
      "|     No|     No|729.5264952|44361.62507|3.3262970676634867|1.5081742710178534|       0.0|  (1,[0],[1.0])|  0.0|[1.0,3.3262970676...|\n",
      "|     No|    Yes|817.1804066| 12106.1347|0.9077350139857981|1.6893841034192338|       1.0|      (1,[],[])|  0.0|[0.0,0.9077350139...|\n",
      "|     No|     No|1073.549164|31767.13895|2.3819447770614217|2.2193837214557224|       0.0|  (1,[0],[1.0])|  0.0|[1.0,2.3819447770...|\n",
      "|     No|     No|529.2506047|35704.49394|2.6771731943459827|1.0941372934102322|       0.0|  (1,[0],[1.0])|  0.0|[1.0,2.6771731943...|\n",
      "|     No|     No|785.6558829|38463.49588|2.8840470419162356|1.6242124121054071|       0.0|  (1,[0],[1.0])|  0.0|[1.0,2.8840470419...|\n",
      "|     No|    Yes|919.5885305|7491.558572|0.5617276028764033|1.9010958076896132|       1.0|      (1,[],[])|  0.0|[0.0,0.5617276028...|\n",
      "|     No|     No|825.5133305|24905.22658| 1.867428932367304|1.7066110328193573|       0.0|  (1,[0],[1.0])|  0.0|[1.0,1.8674289323...|\n",
      "|     No|    Yes|808.6675043|17600.45134|1.3197066065414966|1.6717850987154652|       1.0|      (1,[],[])|  0.0|[0.0,1.3197066065...|\n",
      "|     No|     No|1161.057854|37468.52929|2.8094430470103258|2.4002933328500213|       0.0|  (1,[0],[1.0])|  0.0|[1.0,2.8094430470...|\n",
      "|     No|     No|        0.0|29275.26829|2.1951008087379984|               0.0|       0.0|  (1,[0],[1.0])|  0.0|[1.0,2.1951008087...|\n",
      "+-------+-------+-----------+-----------+------------------+------------------+----------+---------------+-----+--------------------+\n",
      "only showing top 10 rows\n",
      "\n"
     ]
    }
   ],
   "source": [
    "dataset.show(10)"
   ]
  },
  {
   "cell_type": "code",
   "execution_count": 19,
   "id": "bcc1c522-c03d-441f-ae87-f5131f776957",
   "metadata": {},
   "outputs": [],
   "source": [
    "# train, test, split -- why?\n",
    "# 7 : 3\n",
    "# 7.5 : 2.5\n",
    "(train,test) = dataset.randomSplit([0.7,0.3],seed=14)"
   ]
  },
  {
   "cell_type": "code",
   "execution_count": 20,
   "id": "288203a1-969b-43b9-89aa-e69ea90306ac",
   "metadata": {},
   "outputs": [
    {
     "name": "stderr",
     "output_type": "stream",
     "text": [
      "                                                                                \r"
     ]
    },
    {
     "data": {
      "text/plain": [
       "(6907, 3093, 10000)"
      ]
     },
     "execution_count": 20,
     "metadata": {},
     "output_type": "execute_result"
    }
   ],
   "source": [
    "train.count(), test.count(), dataset.count()"
   ]
  },
  {
   "cell_type": "code",
   "execution_count": 21,
   "id": "1c93cc4d-c37c-4cc6-9ffd-7466dccacc01",
   "metadata": {},
   "outputs": [],
   "source": [
    "# 학습용과 평가용 데이터 준비 끝~~ 결측치와 이상치, 그리고 피처엔지니어링과 같은 고급 기법은 적용안함)\n",
    "# 단지 스케일만 맞줘줌"
   ]
  },
  {
   "cell_type": "code",
   "execution_count": 24,
   "id": "086db542-842b-4b2e-b89b-9328dd6800ee",
   "metadata": {},
   "outputs": [],
   "source": [
    "# 적절한 모델 준비\n",
    "lr = LogisticRegression(labelCol='label',featuresCol=\"features\", maxIter=10)"
   ]
  },
  {
   "cell_type": "code",
   "execution_count": 25,
   "id": "739c99ef-4fb6-492f-b3a2-06e3d8aecf7a",
   "metadata": {},
   "outputs": [
    {
     "name": "stderr",
     "output_type": "stream",
     "text": [
      "24/03/26 16:52:00 WARN InstanceBuilder: Failed to load implementation from:dev.ludovic.netlib.blas.JNIBLAS\n",
      "[Stage 42:>                                                         (0 + 1) / 1]\r"
     ]
    },
    {
     "name": "stdout",
     "output_type": "stream",
     "text": [
      "+-------+----------+\n",
      "|default|prediction|\n",
      "+-------+----------+\n",
      "|     No|       0.0|\n",
      "|     No|       0.0|\n",
      "|     No|       0.0|\n",
      "|     No|       0.0|\n",
      "|     No|       0.0|\n",
      "+-------+----------+\n",
      "only showing top 5 rows\n",
      "\n"
     ]
    },
    {
     "name": "stderr",
     "output_type": "stream",
     "text": [
      "                                                                                \r"
     ]
    }
   ],
   "source": [
    "lrModel = lr.fit(train) #훈련\n",
    "predictions = lrModel.transform(test) # 예측\n",
    "predictions.select('default','prediction').show(5)"
   ]
  },
  {
   "cell_type": "code",
   "execution_count": 26,
   "id": "3f016f08-3a44-4d34-83ee-1e400e08df16",
   "metadata": {},
   "outputs": [],
   "source": [
    "# 평가"
   ]
  },
  {
   "cell_type": "code",
   "execution_count": 27,
   "id": "48c0cd81-4a4d-4986-ac25-bd3b5f117be5",
   "metadata": {},
   "outputs": [],
   "source": [
    "from pyspark.ml.evaluation import BinaryClassificationEvaluator"
   ]
  },
  {
   "cell_type": "code",
   "execution_count": 30,
   "id": "822326dd-bf08-4507-ab26-510d414fdeb4",
   "metadata": {},
   "outputs": [
    {
     "name": "stderr",
     "output_type": "stream",
     "text": [
      "                                                                                \r"
     ]
    },
    {
     "data": {
      "text/plain": [
       "0.9549682684102574"
      ]
     },
     "execution_count": 30,
     "metadata": {},
     "output_type": "execute_result"
    }
   ],
   "source": [
    "evaluator =  BinaryClassificationEvaluator(rawPredictionCol='rawPrediction')\n",
    "evaluator.evaluate(predictions)  # AUC (Binary Classification Evaluator)"
   ]
  },
  {
   "cell_type": "code",
   "execution_count": null,
   "id": "56d28ecf-eece-4067-8def-b4efb3611e17",
   "metadata": {},
   "outputs": [],
   "source": [
    "# 위와 같은 방식의 평가는 일반화 시킬 수 있을까\n",
    "# 교차 검증을 통해 신뢰성 확보\n",
    "# 각종 파라메터의 값이 변경됨에 따라 모델의 성능이 달라진다\n",
    "# 하이퍼 파라미터 튜닝 기법"
   ]
  },
  {
   "cell_type": "code",
   "execution_count": null,
   "id": "e340f7c1-c946-4a08-840d-4c2f4667bf37",
   "metadata": {},
   "outputs": [],
   "source": []
  }
 ],
 "metadata": {
  "kernelspec": {
   "display_name": "Python 3 (ipykernel)",
   "language": "python",
   "name": "python3"
  },
  "language_info": {
   "codemirror_mode": {
    "name": "ipython",
    "version": 3
   },
   "file_extension": ".py",
   "mimetype": "text/x-python",
   "name": "python",
   "nbconvert_exporter": "python",
   "pygments_lexer": "ipython3",
   "version": "3.9.10"
  }
 },
 "nbformat": 4,
 "nbformat_minor": 5
}
