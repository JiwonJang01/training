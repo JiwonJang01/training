{
 "cells": [
  {
   "cell_type": "code",
   "execution_count": 30,
   "id": "e78da3f1-c942-449a-8a70-c63e85179c36",
   "metadata": {},
   "outputs": [],
   "source": [
    "df = spark.read.format(\"json\").load(\"2015-summary.json\")"
   ]
  },
  {
   "cell_type": "code",
   "execution_count": 31,
   "id": "ee3dd7e4-ca82-46d6-8bb1-2cdddae77f94",
   "metadata": {},
   "outputs": [
    {
     "name": "stdout",
     "output_type": "stream",
     "text": [
      "+-----------------+-------------------+-----+---+\n",
      "|DEST_COUNTRY_NAME|ORIGIN_COUNTRY_NAME|count|One|\n",
      "+-----------------+-------------------+-----+---+\n",
      "|    United States|            Romania|   15|  1|\n",
      "|    United States|            Croatia|    1|  1|\n",
      "+-----------------+-------------------+-----+---+\n",
      "only showing top 2 rows\n",
      "\n"
     ]
    }
   ],
   "source": [
    "from pyspark.sql.functions import lit,expr\n",
    "df.select(expr(\"*\"),lit(1).alias(\"One\")).show(2)"
   ]
  },
  {
   "cell_type": "code",
   "execution_count": 32,
   "id": "827a6658-35f5-41fa-ad08-95a4d7f27a3c",
   "metadata": {},
   "outputs": [
    {
     "name": "stdout",
     "output_type": "stream",
     "text": [
      "+-----------------+-------------------+-----+---------+\n",
      "|DEST_COUNTRY_NAME|ORIGIN_COUNTRY_NAME|count|numberOne|\n",
      "+-----------------+-------------------+-----+---------+\n",
      "|    United States|            Romania|   15|        1|\n",
      "|    United States|            Croatia|    1|        1|\n",
      "+-----------------+-------------------+-----+---------+\n",
      "only showing top 2 rows\n",
      "\n"
     ]
    }
   ],
   "source": [
    "df.withColumn(\"numberOne\", lit(1)).show(2)"
   ]
  },
  {
   "cell_type": "code",
   "execution_count": 33,
   "id": "c7cc7c17-a142-4cb3-821e-b09dd73172a9",
   "metadata": {},
   "outputs": [
    {
     "name": "stdout",
     "output_type": "stream",
     "text": [
      "+-----------------+-------------------+-----+-----------+\n",
      "|DEST_COUNTRY_NAME|ORIGIN_COUNTRY_NAME|count|withCountry|\n",
      "+-----------------+-------------------+-----+-----------+\n",
      "|    United States|            Romania|   15|      false|\n",
      "|    United States|            Croatia|    1|      false|\n",
      "+-----------------+-------------------+-----+-----------+\n",
      "only showing top 2 rows\n",
      "\n"
     ]
    }
   ],
   "source": [
    "df.withColumn(\"withCountry\", expr(\"DEST_COUNTRY_NAME == ORIGIN_COUNTRY_NAME\") ).show(2)"
   ]
  },
  {
   "cell_type": "code",
   "execution_count": 34,
   "id": "1b9d6a38-54d3-4f41-a396-ea5e3094ea58",
   "metadata": {},
   "outputs": [],
   "source": [
    "# 컬럼명 변경\n",
    "# Correcting column name\n",
    "# df = df.withColumnRenamed(\"DEST_COUNTRY_NAME\", \"dest\").columns\n",
    "# 컬럼명 변경\n",
    "# Correcting column name\n",
    "df = df.withColumnRenamed(\"DEST_COUNTRY_NAME\", \"dest\")"
   ]
  },
  {
   "cell_type": "code",
   "execution_count": 36,
   "id": "7bafa9bd-be1b-403f-9943-9d1ad081d2fa",
   "metadata": {},
   "outputs": [
    {
     "name": "stdout",
     "output_type": "stream",
     "text": [
      "+-------------+-------------------+-----+---------------------+\n",
      "|         dest|ORIGIN_COUNTRY_NAME|count|This Long Column-Name|\n",
      "+-------------+-------------------+-----+---------------------+\n",
      "|United States|            Romania|   15|              Romania|\n",
      "|United States|            Croatia|    1|              Croatia|\n",
      "+-------------+-------------------+-----+---------------------+\n",
      "only showing top 2 rows\n",
      "\n"
     ]
    }
   ],
   "source": [
    "# 데이터 프레임의 열 이름이 특수문자를 포함할때\n",
    "# dfWidthLongColName = df.withColumn(\"This Long Column-Name\",expr(\"ORIGIN_COUNTRY_NAME\") )\n",
    "# dfWidthLongColName.show(2)\n",
    "from pyspark.sql.functions import expr\n",
    "\n",
    "# # 데이터프레임의 컬럼명 변경\n",
    "dfWidthLongColName = df.withColumn(\"This Long Column-Name\", expr(\"ORIGIN_COUNTRY_NAME\"))\n",
    "\n",
    "# # 변경된 데이터프레임 확인\n",
    "dfWidthLongColName.show(2)\n"
   ]
  },
  {
   "cell_type": "code",
   "execution_count": 37,
   "id": "a31300ba-76e3-4ea9-bab5-1290d91146f9",
   "metadata": {},
   "outputs": [
    {
     "name": "stdout",
     "output_type": "stream",
     "text": [
      "+---------------------+-------+\n",
      "|This Long Column-Name|new col|\n",
      "+---------------------+-------+\n",
      "|              Romania|Romania|\n",
      "|              Croatia|Croatia|\n",
      "+---------------------+-------+\n",
      "only showing top 2 rows\n",
      "\n"
     ]
    }
   ],
   "source": [
    "dfWidthLongColName.selectExpr(\"`This Long Column-Name`\",\"`This Long Column-Name` as `new col`\").show(2)"
   ]
  },
  {
   "cell_type": "code",
   "execution_count": 38,
   "id": "7d6291bd-a6e1-4714-96fa-df099ed7db68",
   "metadata": {},
   "outputs": [
    {
     "name": "stdout",
     "output_type": "stream",
     "text": [
      "+-------------+-------------------+-----+\n",
      "|         dest|ORIGIN_COUNTRY_NAME|count|\n",
      "+-------------+-------------------+-----+\n",
      "|United States|            Romania|   15|\n",
      "|United States|            Croatia|    1|\n",
      "+-------------+-------------------+-----+\n",
      "only showing top 2 rows\n",
      "\n",
      "+-------------+-------------------+-----+\n",
      "|         dest|ORIGIN_COUNTRY_NAME|count|\n",
      "+-------------+-------------------+-----+\n",
      "|United States|          Singapore|    1|\n",
      "|      Moldova|      United States|    1|\n",
      "+-------------+-------------------+-----+\n",
      "only showing top 2 rows\n",
      "\n"
     ]
    }
   ],
   "source": [
    "# count < 2 and ORIGIN_COUNTRY_NAMW !=Croatia  데이터 추출\n",
    "from pyspark.sql.functions import col\n",
    "df.show(2)\n",
    "df.where(col('count')<2).where(col('ORIGIN_COUNTRY_NAME') != 'Croatia').show(2)"
   ]
  },
  {
   "cell_type": "code",
   "execution_count": 46,
   "id": "edbd7be4-7d4c-4ff2-a3cb-547287ae5a7b",
   "metadata": {},
   "outputs": [
    {
     "name": "stdout",
     "output_type": "stream",
     "text": [
      "+-------------+-------------------+-----+\n",
      "|         dest|ORIGIN_COUNTRY_NAME|count|\n",
      "+-------------+-------------------+-----+\n",
      "|United States|            Romania|   15|\n",
      "|United States|            Croatia|    1|\n",
      "+-------------+-------------------+-----+\n",
      "only showing top 2 rows\n",
      "\n"
     ]
    }
   ],
   "source": [
    "# or 조건으로 반경하면\n",
    "df.where((col('count') < 2) | (col('ORIGIN_COUNTRY_NAME') != 'Croatia')).show(2)"
   ]
  },
  {
   "cell_type": "code",
   "execution_count": 49,
   "id": "26729a45-8814-4cd9-94ee-722fe9645245",
   "metadata": {},
   "outputs": [
    {
     "data": {
      "text/plain": [
       "256"
      ]
     },
     "execution_count": 49,
     "metadata": {},
     "output_type": "execute_result"
    }
   ],
   "source": [
    "# DEST_COUNTRY_NAME,ORIGIN_COUNTRY_NAME 중복을 제거한 후 count\n",
    "# df.select('DEST_COUNTRY_NAME','ORIGIN_COUNTRY_NAME').distinct().count()\n",
    "\n",
    "df.select('dest','ORIGIN_COUNTRY_NAME').distinct().count()"
   ]
  },
  {
   "cell_type": "code",
   "execution_count": 41,
   "id": "ac923ec5-1b44-4bad-9134-5827841d9463",
   "metadata": {},
   "outputs": [
    {
     "name": "stdout",
     "output_type": "stream",
     "text": [
      "+-------------+-------------------+-----+\n",
      "|         dest|ORIGIN_COUNTRY_NAME|count|\n",
      "+-------------+-------------------+-----+\n",
      "|      Bolivia|      United States|   30|\n",
      "|United States|         Cape Verde|   14|\n",
      "|United States|            Vietnam|    2|\n",
      "|United States|            Austria|   63|\n",
      "+-------------+-------------------+-----+\n",
      "\n"
     ]
    }
   ],
   "source": [
    "# sampling\n",
    "# random --- seed\n",
    "seed = 5\n",
    "withReplacement = False\n",
    "fraction = 0.01  # 추출할 샘플의 비율\n",
    "df.sample(withReplacement,fraction,seed).show()"
   ]
  },
  {
   "cell_type": "code",
   "execution_count": 42,
   "id": "37f50c89-e99a-4d71-82e5-469c9c03dd4c",
   "metadata": {},
   "outputs": [
    {
     "name": "stderr",
     "output_type": "stream",
     "text": [
      "                                                                                \r"
     ]
    },
    {
     "data": {
      "text/plain": [
       "False"
      ]
     },
     "execution_count": 42,
     "metadata": {},
     "output_type": "execute_result"
    }
   ],
   "source": [
    "dataFrame = df.randomSplit([0.25,0.75],seed)\n",
    "dataFrame[0].count()>dataFrame[1].count()"
   ]
  },
  {
   "cell_type": "code",
   "execution_count": 44,
   "id": "61720ecb-e361-40af-9bdd-29f9b666c7e8",
   "metadata": {},
   "outputs": [
    {
     "name": "stderr",
     "output_type": "stream",
     "text": [
      "[Stage 24:>                                                         (0 + 1) / 1]\r"
     ]
    },
    {
     "name": "stdout",
     "output_type": "stream",
     "text": [
      "+------------+-------------------+-----+\n",
      "|        dest|ORIGIN_COUNTRY_NAME|count|\n",
      "+------------+-------------------+-----+\n",
      "| New Country|      Other Country|    5|\n",
      "|New Country2|     Other Country3|   11|\n",
      "+------------+-------------------+-----+\n",
      "\n"
     ]
    },
    {
     "name": "stderr",
     "output_type": "stream",
     "text": [
      "                                                                                \r"
     ]
    }
   ],
   "source": [
    "# insert DataFrame\n",
    "from pyspark.sql import Row\n",
    "schema = df.schema\n",
    "newRows=[\n",
    "    Row(\"New Country\", \"Other Country\" ,5),\n",
    "    Row(\"New Country2\", \"Other Country3\" ,11),\n",
    "]\n",
    "# RDD parllelize\n",
    "parall = spark.sparkContext.parallelize(newRows)\n",
    "newDF = spark.createDataFrame(parall,schema)\n",
    "newDF.show()"
   ]
  },
  {
   "cell_type": "code",
   "execution_count": null,
   "id": "a0f1907d-2420-40ff-a6ce-5ff61066b879",
   "metadata": {},
   "outputs": [],
   "source": []
  }
 ],
 "metadata": {
  "kernelspec": {
   "display_name": "Python 3 (ipykernel)",
   "language": "python",
   "name": "python3"
  },
  "language_info": {
   "codemirror_mode": {
    "name": "ipython",
    "version": 3
   },
   "file_extension": ".py",
   "mimetype": "text/x-python",
   "name": "python",
   "nbconvert_exporter": "python",
   "pygments_lexer": "ipython3",
   "version": "3.9.10"
  }
 },
 "nbformat": 4,
 "nbformat_minor": 5
}
