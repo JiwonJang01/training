{
  "nbformat": 4,
  "nbformat_minor": 0,
  "metadata": {
    "colab": {
      "provenance": []
    },
    "kernelspec": {
      "name": "python3",
      "display_name": "Python 3"
    },
    "language_info": {
      "name": "python"
    }
  },
  "cells": [
    {
      "cell_type": "markdown",
      "source": [
        "# 반복문\n",
        "- 로또번호 생성기\n",
        "- 구구단"
      ],
      "metadata": {
        "id": "vF7PuzM6UQ-2"
      }
    },
    {
      "cell_type": "markdown",
      "source": [
        "for문"
      ],
      "metadata": {
        "id": "tnUTt7KqUip-"
      }
    },
    {
      "cell_type": "code",
      "execution_count": null,
      "metadata": {
        "colab": {
          "base_uri": "https://localhost:8080/"
        },
        "id": "4EkBkueZSf2y",
        "outputId": "f3d0fe26-9417-413e-abf3-210fdba68f36"
      },
      "outputs": [
        {
          "output_type": "stream",
          "name": "stdout",
          "text": [
            "[39, 9, 4, 22, 21, 10]\n"
          ]
        }
      ],
      "source": [
        "import random\n",
        "# 로또번호 생성기 1 ~ 45  6개 생성\n",
        "random.randrange(1,46) # 6번수행 해서 적당한 리스트에 저장한다\n",
        "lotto = []\n",
        "for i in range(6):\n",
        "  lotto.append( random.randrange(1,46) )\n",
        "print(lotto)"
      ]
    },
    {
      "cell_type": "code",
      "source": [
        "# 구구단 전체 출력하기\n",
        "# dan 변수가 2 ~9 값을 가지면 됨\n",
        "# print()  한줄 띄어쓰기 효과 가 있음\n",
        "for i in range(1,10):  # 1 ~ 9\n",
        "  for t in range(2,10):  # 2 ~ 9\n",
        "    print(f\"{t}x{i}={t*i}\",end=\"\\t\")\n",
        "  print()"
      ],
      "metadata": {
        "colab": {
          "base_uri": "https://localhost:8080/"
        },
        "id": "ZwUWpX_MS_h4",
        "outputId": "1e61052f-0b0c-477b-8792-ec17afb33410"
      },
      "execution_count": null,
      "outputs": [
        {
          "output_type": "stream",
          "name": "stdout",
          "text": [
            "2x1=2\t3x1=3\t4x1=4\t5x1=5\t6x1=6\t7x1=7\t8x1=8\t9x1=9\t\n",
            "2x2=4\t3x2=6\t4x2=8\t5x2=10\t6x2=12\t7x2=14\t8x2=16\t9x2=18\t\n",
            "2x3=6\t3x3=9\t4x3=12\t5x3=15\t6x3=18\t7x3=21\t8x3=24\t9x3=27\t\n",
            "2x4=8\t3x4=12\t4x4=16\t5x4=20\t6x4=24\t7x4=28\t8x4=32\t9x4=36\t\n",
            "2x5=10\t3x5=15\t4x5=20\t5x5=25\t6x5=30\t7x5=35\t8x5=40\t9x5=45\t\n",
            "2x6=12\t3x6=18\t4x6=24\t5x6=30\t6x6=36\t7x6=42\t8x6=48\t9x6=54\t\n",
            "2x7=14\t3x7=21\t4x7=28\t5x7=35\t6x7=42\t7x7=49\t8x7=56\t9x7=63\t\n",
            "2x8=16\t3x8=24\t4x8=32\t5x8=40\t6x8=48\t7x8=56\t8x8=64\t9x8=72\t\n",
            "2x9=18\t3x9=27\t4x9=36\t5x9=45\t6x9=54\t7x9=63\t8x9=72\t9x9=81\t\n"
          ]
        }
      ]
    },
    {
      "cell_type": "code",
      "source": [
        "import random\n",
        "# 로또번호 생성기 1 ~ 45  6개 생성\n",
        "random.randrange(1,46) # 6번수행 해서 적당한 리스트에 저장한다\n",
        "lotto = []\n",
        "# 중복없이 6개의 랜덤한 변수를 생성하려면\n",
        "# 순환을 개선--> lotto라는 변수의 갯수가 6개가 될때까지 순환\n",
        "# lotto리스트는 중복된 데이터가 있으면 추가하지 않는다 -> set으로 바뀌었다가 돌아와야함\n",
        "for i in range(6):\n",
        "  lotto.append( random.randrange(1,46) )\n",
        "print(lotto)"
      ],
      "metadata": {
        "colab": {
          "base_uri": "https://localhost:8080/"
        },
        "id": "wUH64lAXTPPr",
        "outputId": "53b2fde6-62cd-46e5-a377-cb86b42d4d41"
      },
      "execution_count": null,
      "outputs": [
        {
          "output_type": "stream",
          "name": "stdout",
          "text": [
            "[39, 19, 23, 45, 32, 3]\n"
          ]
        }
      ]
    },
    {
      "cell_type": "code",
      "source": [
        "import random\n",
        "data = random.sample(range(100), 10)\n",
        "# 짝수 개수 카운트하세요\n",
        "print(data)\n",
        "double = []\n",
        "for n in data:\n",
        "  if n%2==0:\n",
        "    double.append(n)\n",
        "print(len(double))"
      ],
      "metadata": {
        "colab": {
          "base_uri": "https://localhost:8080/"
        },
        "id": "XKDU0xWbVDVN",
        "outputId": "bf1d3e73-a62d-4bf4-ebce-da9268d9f0a0"
      },
      "execution_count": null,
      "outputs": [
        {
          "output_type": "stream",
          "name": "stdout",
          "text": [
            "[85, 5, 96, 94, 77, 95, 60, 67, 56, 25]\n",
            "4\n"
          ]
        }
      ]
    },
    {
      "cell_type": "code",
      "source": [],
      "metadata": {
        "id": "urfnoLSqVGvN"
      },
      "execution_count": null,
      "outputs": []
    },
    {
      "cell_type": "markdown",
      "source": [
        "while문"
      ],
      "metadata": {
        "id": "q6DENAeIUrZm"
      }
    },
    {
      "cell_type": "code",
      "source": [
        "import random\n",
        "lotto = []\n",
        "while len(set(lotto)) < 6:\n",
        "  lotto.append(random.randrange(1,46))\n",
        "\n",
        "print(f\"로또번호는 : {set(lotto)}\")"
      ],
      "metadata": {
        "colab": {
          "base_uri": "https://localhost:8080/"
        },
        "id": "24B5sDuxTa--",
        "outputId": "12ea7fb7-1e38-4108-8dd6-9ec9b8e74130"
      },
      "execution_count": null,
      "outputs": [
        {
          "output_type": "stream",
          "name": "stdout",
          "text": [
            "로또번호는 : {1, 4, 42, 15, 17, 19}\n"
          ]
        }
      ]
    },
    {
      "cell_type": "code",
      "source": [
        "import random\n",
        "lottos = list(range(1,46))\n",
        "print(f\"섞기전 : {lottos}\")\n",
        "random.shuffle(lottos)\n",
        "print(f\"섞은후 : {lottos}\")\n",
        "print(f\"6개번호 선택 : {lottos[:6]}\")"
      ],
      "metadata": {
        "colab": {
          "base_uri": "https://localhost:8080/"
        },
        "id": "23ilPiKzT822",
        "outputId": "f8dd2889-ce7d-4411-9012-9e9f038347d0"
      },
      "execution_count": null,
      "outputs": [
        {
          "output_type": "stream",
          "name": "stdout",
          "text": [
            "섞기전 : [1, 2, 3, 4, 5, 6, 7, 8, 9, 10, 11, 12, 13, 14, 15, 16, 17, 18, 19, 20, 21, 22, 23, 24, 25, 26, 27, 28, 29, 30, 31, 32, 33, 34, 35, 36, 37, 38, 39, 40, 41, 42, 43, 44, 45]\n",
            "섞은후 : [7, 30, 8, 18, 4, 24, 42, 16, 20, 15, 22, 12, 31, 6, 35, 28, 14, 40, 39, 27, 25, 19, 45, 9, 17, 21, 23, 44, 13, 11, 36, 43, 37, 10, 34, 33, 32, 1, 38, 5, 3, 26, 29, 41, 2]\n",
            "6개번호 선택 : [7, 30, 8, 18, 4, 24]\n"
          ]
        }
      ]
    },
    {
      "cell_type": "markdown",
      "source": [
        "# 함수"
      ],
      "metadata": {
        "id": "lK3aJYDDU0Pl"
      }
    },
    {
      "cell_type": "code",
      "source": [
        "import random\n",
        "def makeLotto():\n",
        "  return random.sample(range(1,46),6)\n",
        "lottoGame = makeLotto()\n",
        "print(f\"로또 1개임 : {lottoGame}\")"
      ],
      "metadata": {
        "colab": {
          "base_uri": "https://localhost:8080/"
        },
        "id": "9J6wVOp4UDn2",
        "outputId": "dad6c338-9b1f-454e-918a-1f6a25c3dc18"
      },
      "execution_count": null,
      "outputs": [
        {
          "output_type": "stream",
          "name": "stdout",
          "text": [
            "로또 1개임 : [19, 42, 39, 14, 24, 4]\n"
          ]
        }
      ]
    },
    {
      "cell_type": "code",
      "source": [
        "# 짝수 개수 카운트 기능을 수행하는 함수로 제작하고 사용\n",
        "import random\n",
        "def count(nums):\n",
        "  double = []\n",
        "  for n in nums:\n",
        "    if n%2==0:\n",
        "      double.append(n)\n",
        "  print(len(double))\n",
        "  print(double)\n",
        "\n",
        "data = random.sample(range(100), 10)\n",
        "count(data)"
      ],
      "metadata": {
        "id": "Pk4I3X85VLvV"
      },
      "execution_count": null,
      "outputs": []
    },
    {
      "cell_type": "code",
      "source": [
        "import random\n",
        "## 람다함수로 변경시\n",
        "count = lambda nums: (lambda double: (len(double), double))([n for n in nums if n % 2 == 0])\n",
        "\n",
        "data = random.sample(range(100), 10)\n",
        "result = count(data)\n",
        "\n",
        "print(\"짝수의 개수:\", result[0])\n",
        "print(\"짝수들:\", result[1])"
      ],
      "metadata": {
        "colab": {
          "base_uri": "https://localhost:8080/"
        },
        "id": "MtUjD83SVMlF",
        "outputId": "288aa669-c709-46b3-fa5b-c7fd6b148a9c"
      },
      "execution_count": null,
      "outputs": [
        {
          "output_type": "stream",
          "name": "stdout",
          "text": [
            "짝수의 개수: 4\n",
            "짝수들: [28, 64, 16, 12]\n"
          ]
        }
      ]
    },
    {
      "cell_type": "code",
      "source": [
        "import random\n",
        "# 리스트를 전달하먄 짝수의 개수들을 리턴하는 함수\n",
        "numbers = random.sample(range(100),10)\n",
        "def count_even_numbers():\n",
        "  print(data)\n",
        "  # 짝수개수를 카운트하시오\n",
        "  count = 0\n",
        "  for i in data:\n",
        "    if i%2==0:\n",
        "      count = count+1\n",
        "  print(count)\n",
        "count_even_numbers()"
      ],
      "metadata": {
        "colab": {
          "base_uri": "https://localhost:8080/"
        },
        "id": "sljJYJ6BVuPj",
        "outputId": "1cec963f-6a8b-4425-ca6b-aa3c34a625b2"
      },
      "execution_count": null,
      "outputs": [
        {
          "output_type": "stream",
          "name": "stdout",
          "text": [
            "[28, 15, 97, 37, 65, 43, 55, 64, 16, 12]\n",
            "4\n"
          ]
        }
      ]
    },
    {
      "cell_type": "code",
      "source": [
        "## 위와 같은 문제지만 강사님께서 알려주신 코드가 내가 작성한 코드와 달랐다\n",
        "## 이쪽이 강사님 코드\n",
        "import random\n",
        "# 리스트를 전달하먄 짝수의 개수들을 리턴하는 함수\n",
        "\n",
        "def count_even_numbers(data):\n",
        "  print(data)\n",
        "  # 짝수개수를 카운트하시오\n",
        "  count = 0\n",
        "  for i in data:\n",
        "    if i%2==0:\n",
        "      count = count+1\n",
        "  return count\n",
        "numbers = random.sample(range(100),10)\n",
        "even_count = count_even_numbers(numbers)\n",
        "print(even_count)"
      ],
      "metadata": {
        "colab": {
          "base_uri": "https://localhost:8080/"
        },
        "id": "05ZWL9CCVwna",
        "outputId": "7a1852f4-0c04-4c7b-8e4f-03cb0c648160"
      },
      "execution_count": null,
      "outputs": [
        {
          "output_type": "stream",
          "name": "stdout",
          "text": [
            "[99, 15, 17, 49, 1, 96, 9, 69, 36, 84]\n",
            "3\n"
          ]
        }
      ]
    },
    {
      "cell_type": "code",
      "source": [
        "# 람다 + 리스트 컴프리핸션 + 내장함수 len\n",
        "len([i for i in numbers if i%2==0])"
      ],
      "metadata": {
        "colab": {
          "base_uri": "https://localhost:8080/"
        },
        "id": "ez-A2UodV0i4",
        "outputId": "3c2c9640-2816-41c9-e2fc-c15a8ed3a42a"
      },
      "execution_count": null,
      "outputs": [
        {
          "output_type": "execute_result",
          "data": {
            "text/plain": [
              "3"
            ]
          },
          "metadata": {},
          "execution_count": 19
        }
      ]
    },
    {
      "cell_type": "code",
      "source": [
        "sum([1 for i in numbers if i%2==0])"
      ],
      "metadata": {
        "colab": {
          "base_uri": "https://localhost:8080/"
        },
        "id": "CewVAYDMWEtc",
        "outputId": "ba5ed988-894d-4835-9c93-8b5dee5ff8e3"
      },
      "execution_count": null,
      "outputs": [
        {
          "output_type": "execute_result",
          "data": {
            "text/plain": [
              "3"
            ]
          },
          "metadata": {},
          "execution_count": 20
        }
      ]
    },
    {
      "cell_type": "code",
      "source": [
        "# while문 조건에 관련된\n",
        "while True:\n",
        "  x = int(input(\"첫번째 숫자를 입력하세요 : \"))\n",
        "  y = int(input(\"두번째 숫자를 입력하세요 : \")) # 작성 후 실행해보니 순서가 좀 이상하다는 생각을 했다.\n",
        "\n",
        "  print(\"원하는 연산자를 선택하시오\")\n",
        "  print(\"1. 덧셈  2. 뺄셈\")\n",
        "  print(\"3. 곱셈  4. 나눗셈\")\n",
        "  print(\"5. 종료\")\n",
        "  number = int(input(\"번호를 선택하세요(1~4) : \"))\n",
        "\n",
        "  result = 0\n",
        "  if number ==1:\n",
        "    result = x+y\n",
        "  elif number ==2:\n",
        "    result = x-y\n",
        "  elif number ==3:\n",
        "    result = x*y\n",
        "  elif number ==4:\n",
        "    result = x/y\n",
        "  elif number ==5:\n",
        "    print(\"종료\")\n",
        "    break\n",
        "  else:\n",
        "    result = \"wrong\"\n",
        "  print(f\"결과는? {result}\")"
      ],
      "metadata": {
        "colab": {
          "base_uri": "https://localhost:8080/"
        },
        "id": "p5XQg9tXWmUF",
        "outputId": "47df8025-6a9d-4271-d380-f74e0831d056"
      },
      "execution_count": null,
      "outputs": [
        {
          "output_type": "stream",
          "name": "stdout",
          "text": [
            "첫번째 숫자를 입력하세요 : 7\n",
            "두번째 숫자를 입력하세요 : 8\n",
            "원하는 연산자를 선택하시오\n",
            "1. 덧셈  2. 뺄셈\n",
            "3. 곱셈  4. 나눗셈\n",
            "5. 종료\n",
            "번호를 선택하세요(1~4) : 5\n",
            "종료\n"
          ]
        }
      ]
    },
    {
      "cell_type": "code",
      "source": [
        "## 위와 같은 문제지만 강사님께서는 함수를 사용하여 풀이하셨다.\n",
        "## 이쪽이 강사님 코드\n",
        "# 함수를 사용하는 이유 - 가독성과 재사용\n",
        "def getMenu():\n",
        "  print(\"1. 덧셈   2. 뺄셈\")\n",
        "  print(\"3. 곱셈   4. 나눗셈\")\n",
        "  print(\"5. 종료\")\n",
        "  return int(input(\"번호를 선택하세요(1~4) : \"))\n",
        "def getData():\n",
        "  x = int(input(\"첫번째 숫자를 입력하세요 : \"))\n",
        "  y = int(input(\"두번째 숫자를 입력하세요 : \"))\n",
        "  return x,y\n",
        "def calcData(number):\n",
        "  result = 0\n",
        "  if number == 1:\n",
        "    result = x+y\n",
        "  elif number == 2:\n",
        "    result = x-y\n",
        "  elif number == 3:\n",
        "    result = x*y\n",
        "  elif number == 4:\n",
        "    result = x/y\n",
        "  else:\n",
        "    print(\"잘못 입력했습니다.\")\n",
        "  return result\n",
        "\n",
        "# while  조건에 관련된\n",
        "while True:\n",
        "  number = getMenu()  # 메뉴출력 및 선택\n",
        "  if number == 5:  # 종료 조건\n",
        "    print(\"종료합니다.\")\n",
        "    break\n",
        "  x,y = getData()  # 입력데이터\n",
        "  result = calcData(number) # 계산\n",
        "  print(f\"결과는 : {result}\")"
      ],
      "metadata": {
        "colab": {
          "base_uri": "https://localhost:8080/"
        },
        "id": "75AKZqplWGGZ",
        "outputId": "2676e894-ae9f-4f95-c013-32b17997c819"
      },
      "execution_count": null,
      "outputs": [
        {
          "output_type": "stream",
          "name": "stdout",
          "text": [
            "1. 덧셈   2. 뺄셈\n",
            "3. 곱셈   4. 나눗셈\n",
            "5. 종료\n",
            "번호를 선택하세요(1~4) : 5\n",
            "종료합니다.\n"
          ]
        }
      ]
    },
    {
      "cell_type": "code",
      "source": [
        "# 0~100을 포함한 범위의 숫자 중에서 컴퓨터가 임의의 숫자를 선택하면\n",
        "# 사용자가 그걸 맞추는 게임\n",
        "\n",
        "import random\n",
        "computer = random.randrange(101)\n",
        "\n",
        "# 사람을 기준으로 컴퓨터보다 크면 크다, 작으면 작다, 맞추면 게임 끝\n",
        "# 이때 몇번만에 맞추는지, 시도횟수도 출력\n",
        "count = 0\n",
        "while True:\n",
        "  human = int(input('숫자를 예측하세요 : '))\n",
        "  if computer == human:\n",
        "    print(\"정답입니다.\")\n",
        "    break\n",
        "  elif computer > human:\n",
        "    print(\"숫자가 작습니다\")\n",
        "  else:\n",
        "    print(\"숫자가 큽니다\")\n",
        "  count = count+1\n",
        "\n",
        "print(f'총 시도 횟수 : {count}, 정답은 {computer}')"
      ],
      "metadata": {
        "colab": {
          "base_uri": "https://localhost:8080/"
        },
        "id": "rEoiwDR2WWcx",
        "outputId": "0755170b-90e7-474f-d1ee-8d78a5585075"
      },
      "execution_count": null,
      "outputs": [
        {
          "output_type": "stream",
          "name": "stdout",
          "text": [
            "숫자를 예측하세요 : 50\n",
            "숫자가 작습니다\n",
            "숫자를 예측하세요 : 75\n",
            "숫자가 큽니다\n",
            "숫자를 예측하세요 : 60\n",
            "숫자가 큽니다\n",
            "숫자를 예측하세요 : 55\n",
            "정답입니다.\n",
            "총 시도 횟수 : 3, 정답은 55\n"
          ]
        }
      ]
    }
  ]
}