{
  "nbformat": 4,
  "nbformat_minor": 0,
  "metadata": {
    "colab": {
      "provenance": []
    },
    "kernelspec": {
      "name": "python3",
      "display_name": "Python 3"
    },
    "language_info": {
      "name": "python"
    }
  },
  "cells": [
    {
      "cell_type": "markdown",
      "source": [
        "다층 신경망(다층 퍼셉트론)\n",
        "- 신경망을 여러개 연결한 것\n",
        "- 출력, 은닉층(한개 이상), 출력층\n",
        "- 활성화 함수 각 층 사이는 sigmoid\n",
        "- 출력에서 다층 분류면 softmax, 이진 분류면 sigmoid\n"
      ],
      "metadata": {
        "id": "I5cYS2VSXlhW"
      }
    },
    {
      "cell_type": "code",
      "source": [
        "pip install tensorflow"
      ],
      "metadata": {
        "colab": {
          "base_uri": "https://localhost:8080/"
        },
        "id": "XeOH1TSLZ0kS",
        "outputId": "9a5fa495-32fc-4f3f-d18e-383f10e97020"
      },
      "execution_count": null,
      "outputs": [
        {
          "output_type": "stream",
          "name": "stdout",
          "text": [
            "Requirement already satisfied: tensorflow in /usr/local/lib/python3.10/dist-packages (2.15.0)\n",
            "Requirement already satisfied: absl-py>=1.0.0 in /usr/local/lib/python3.10/dist-packages (from tensorflow) (1.4.0)\n",
            "Requirement already satisfied: astunparse>=1.6.0 in /usr/local/lib/python3.10/dist-packages (from tensorflow) (1.6.3)\n",
            "Requirement already satisfied: flatbuffers>=23.5.26 in /usr/local/lib/python3.10/dist-packages (from tensorflow) (24.3.25)\n",
            "Requirement already satisfied: gast!=0.5.0,!=0.5.1,!=0.5.2,>=0.2.1 in /usr/local/lib/python3.10/dist-packages (from tensorflow) (0.5.4)\n",
            "Requirement already satisfied: google-pasta>=0.1.1 in /usr/local/lib/python3.10/dist-packages (from tensorflow) (0.2.0)\n",
            "Requirement already satisfied: h5py>=2.9.0 in /usr/local/lib/python3.10/dist-packages (from tensorflow) (3.9.0)\n",
            "Requirement already satisfied: libclang>=13.0.0 in /usr/local/lib/python3.10/dist-packages (from tensorflow) (18.1.1)\n",
            "Requirement already satisfied: ml-dtypes~=0.2.0 in /usr/local/lib/python3.10/dist-packages (from tensorflow) (0.2.0)\n",
            "Requirement already satisfied: numpy<2.0.0,>=1.23.5 in /usr/local/lib/python3.10/dist-packages (from tensorflow) (1.25.2)\n",
            "Requirement already satisfied: opt-einsum>=2.3.2 in /usr/local/lib/python3.10/dist-packages (from tensorflow) (3.3.0)\n",
            "Requirement already satisfied: packaging in /usr/local/lib/python3.10/dist-packages (from tensorflow) (24.0)\n",
            "Requirement already satisfied: protobuf!=4.21.0,!=4.21.1,!=4.21.2,!=4.21.3,!=4.21.4,!=4.21.5,<5.0.0dev,>=3.20.3 in /usr/local/lib/python3.10/dist-packages (from tensorflow) (3.20.3)\n",
            "Requirement already satisfied: setuptools in /usr/local/lib/python3.10/dist-packages (from tensorflow) (67.7.2)\n",
            "Requirement already satisfied: six>=1.12.0 in /usr/local/lib/python3.10/dist-packages (from tensorflow) (1.16.0)\n",
            "Requirement already satisfied: termcolor>=1.1.0 in /usr/local/lib/python3.10/dist-packages (from tensorflow) (2.4.0)\n",
            "Requirement already satisfied: typing-extensions>=3.6.6 in /usr/local/lib/python3.10/dist-packages (from tensorflow) (4.11.0)\n",
            "Requirement already satisfied: wrapt<1.15,>=1.11.0 in /usr/local/lib/python3.10/dist-packages (from tensorflow) (1.14.1)\n",
            "Requirement already satisfied: tensorflow-io-gcs-filesystem>=0.23.1 in /usr/local/lib/python3.10/dist-packages (from tensorflow) (0.36.0)\n",
            "Requirement already satisfied: grpcio<2.0,>=1.24.3 in /usr/local/lib/python3.10/dist-packages (from tensorflow) (1.62.1)\n",
            "Requirement already satisfied: tensorboard<2.16,>=2.15 in /usr/local/lib/python3.10/dist-packages (from tensorflow) (2.15.2)\n",
            "Requirement already satisfied: tensorflow-estimator<2.16,>=2.15.0 in /usr/local/lib/python3.10/dist-packages (from tensorflow) (2.15.0)\n",
            "Requirement already satisfied: keras<2.16,>=2.15.0 in /usr/local/lib/python3.10/dist-packages (from tensorflow) (2.15.0)\n",
            "Requirement already satisfied: wheel<1.0,>=0.23.0 in /usr/local/lib/python3.10/dist-packages (from astunparse>=1.6.0->tensorflow) (0.43.0)\n",
            "Requirement already satisfied: google-auth<3,>=1.6.3 in /usr/local/lib/python3.10/dist-packages (from tensorboard<2.16,>=2.15->tensorflow) (2.27.0)\n",
            "Requirement already satisfied: google-auth-oauthlib<2,>=0.5 in /usr/local/lib/python3.10/dist-packages (from tensorboard<2.16,>=2.15->tensorflow) (1.2.0)\n",
            "Requirement already satisfied: markdown>=2.6.8 in /usr/local/lib/python3.10/dist-packages (from tensorboard<2.16,>=2.15->tensorflow) (3.6)\n",
            "Requirement already satisfied: requests<3,>=2.21.0 in /usr/local/lib/python3.10/dist-packages (from tensorboard<2.16,>=2.15->tensorflow) (2.31.0)\n",
            "Requirement already satisfied: tensorboard-data-server<0.8.0,>=0.7.0 in /usr/local/lib/python3.10/dist-packages (from tensorboard<2.16,>=2.15->tensorflow) (0.7.2)\n",
            "Requirement already satisfied: werkzeug>=1.0.1 in /usr/local/lib/python3.10/dist-packages (from tensorboard<2.16,>=2.15->tensorflow) (3.0.2)\n",
            "Requirement already satisfied: cachetools<6.0,>=2.0.0 in /usr/local/lib/python3.10/dist-packages (from google-auth<3,>=1.6.3->tensorboard<2.16,>=2.15->tensorflow) (5.3.3)\n",
            "Requirement already satisfied: pyasn1-modules>=0.2.1 in /usr/local/lib/python3.10/dist-packages (from google-auth<3,>=1.6.3->tensorboard<2.16,>=2.15->tensorflow) (0.4.0)\n",
            "Requirement already satisfied: rsa<5,>=3.1.4 in /usr/local/lib/python3.10/dist-packages (from google-auth<3,>=1.6.3->tensorboard<2.16,>=2.15->tensorflow) (4.9)\n",
            "Requirement already satisfied: requests-oauthlib>=0.7.0 in /usr/local/lib/python3.10/dist-packages (from google-auth-oauthlib<2,>=0.5->tensorboard<2.16,>=2.15->tensorflow) (1.3.1)\n",
            "Requirement already satisfied: charset-normalizer<4,>=2 in /usr/local/lib/python3.10/dist-packages (from requests<3,>=2.21.0->tensorboard<2.16,>=2.15->tensorflow) (3.3.2)\n",
            "Requirement already satisfied: idna<4,>=2.5 in /usr/local/lib/python3.10/dist-packages (from requests<3,>=2.21.0->tensorboard<2.16,>=2.15->tensorflow) (3.6)\n",
            "Requirement already satisfied: urllib3<3,>=1.21.1 in /usr/local/lib/python3.10/dist-packages (from requests<3,>=2.21.0->tensorboard<2.16,>=2.15->tensorflow) (2.0.7)\n",
            "Requirement already satisfied: certifi>=2017.4.17 in /usr/local/lib/python3.10/dist-packages (from requests<3,>=2.21.0->tensorboard<2.16,>=2.15->tensorflow) (2024.2.2)\n",
            "Requirement already satisfied: MarkupSafe>=2.1.1 in /usr/local/lib/python3.10/dist-packages (from werkzeug>=1.0.1->tensorboard<2.16,>=2.15->tensorflow) (2.1.5)\n",
            "Requirement already satisfied: pyasn1<0.7.0,>=0.4.6 in /usr/local/lib/python3.10/dist-packages (from pyasn1-modules>=0.2.1->google-auth<3,>=1.6.3->tensorboard<2.16,>=2.15->tensorflow) (0.6.0)\n",
            "Requirement already satisfied: oauthlib>=3.0.0 in /usr/local/lib/python3.10/dist-packages (from requests-oauthlib>=0.7.0->google-auth-oauthlib<2,>=0.5->tensorboard<2.16,>=2.15->tensorflow) (3.2.2)\n"
          ]
        }
      ]
    },
    {
      "cell_type": "code",
      "execution_count": null,
      "metadata": {
        "id": "aiE0Hyy1TfjB"
      },
      "outputs": [],
      "source": [
        "# 층을 여러개 하는 것이 특성을 더 잘 잡아서 더 좋음\n",
        "import tensorflow as tf\n",
        "\n",
        "from tensorflow.keras.layers import Dense   # 층\n",
        "from tensorflow.keras import Sequential     # 모델생성\n",
        "from tensorflow.keras.datasets import fashion_mnist   # 데이터\n"
      ]
    },
    {
      "cell_type": "code",
      "source": [
        "dense1 = Dense(200, activation = 'softmax', input_shape=(784,))\n",
        "dense2 = Dense(10, activation = 'softmax')\n",
        "model = Sequential([dense1,dense2])\n",
        "model.summary()"
      ],
      "metadata": {
        "colab": {
          "base_uri": "https://localhost:8080/"
        },
        "id": "nS2AA7L0ZAaJ",
        "outputId": "6c72b6cb-f52d-4144-959b-35781297b1fe"
      },
      "execution_count": null,
      "outputs": [
        {
          "output_type": "stream",
          "name": "stdout",
          "text": [
            "Model: \"sequential\"\n",
            "_________________________________________________________________\n",
            " Layer (type)                Output Shape              Param #   \n",
            "=================================================================\n",
            " dense (Dense)               (None, 200)               157000    \n",
            "                                                                 \n",
            " dense_1 (Dense)             (None, 10)                2010      \n",
            "                                                                 \n",
            "=================================================================\n",
            "Total params: 159010 (621.13 KB)\n",
            "Trainable params: 159010 (621.13 KB)\n",
            "Non-trainable params: 0 (0.00 Byte)\n",
            "_________________________________________________________________\n"
          ]
        }
      ]
    },
    {
      "cell_type": "code",
      "source": [
        "# 데이터 로드\n",
        "(X_train, y_train), (X_test, y_test) = fashion_mnist.load_data()"
      ],
      "metadata": {
        "colab": {
          "base_uri": "https://localhost:8080/"
        },
        "id": "UuLz80EMaeyK",
        "outputId": "2ab152d0-b57b-40f5-bc4c-a2056b482f09"
      },
      "execution_count": null,
      "outputs": [
        {
          "output_type": "stream",
          "name": "stdout",
          "text": [
            "Downloading data from https://storage.googleapis.com/tensorflow/tf-keras-datasets/train-labels-idx1-ubyte.gz\n",
            "29515/29515 [==============================] - 0s 0us/step\n",
            "Downloading data from https://storage.googleapis.com/tensorflow/tf-keras-datasets/train-images-idx3-ubyte.gz\n",
            "26421880/26421880 [==============================] - 0s 0us/step\n",
            "Downloading data from https://storage.googleapis.com/tensorflow/tf-keras-datasets/t10k-labels-idx1-ubyte.gz\n",
            "5148/5148 [==============================] - 0s 0us/step\n",
            "Downloading data from https://storage.googleapis.com/tensorflow/tf-keras-datasets/t10k-images-idx3-ubyte.gz\n",
            "4422102/4422102 [==============================] - 0s 0us/step\n"
          ]
        }
      ]
    },
    {
      "cell_type": "code",
      "source": [
        "# 전처리\n",
        "X_train_scaled = (X_train / 255.0).reshape(-1,28,28)\n",
        "X_test_scaled = (X_test / 255.0).reshape(-1,28,28)"
      ],
      "metadata": {
        "id": "2oxKOwNFaGkL"
      },
      "execution_count": null,
      "outputs": []
    },
    {
      "cell_type": "code",
      "source": [
        "model.compile(loss = 'sparse_categorical_crossentropy', metrics='accuracy')\n",
        "model.fit(X_train_scaled,y_train,validation_split=0.2,epochs=10)"
      ],
      "metadata": {
        "colab": {
          "base_uri": "https://localhost:8080/"
        },
        "id": "6j1oNbd4aZZb",
        "outputId": "b8d09366-b492-4b7d-d4a6-d41bca7fc144"
      },
      "execution_count": null,
      "outputs": [
        {
          "output_type": "stream",
          "name": "stdout",
          "text": [
            "Epoch 1/10\n",
            "1500/1500 [==============================] - 6s 4ms/step - loss: 0.5212 - accuracy: 0.8161 - val_loss: 0.3959 - val_accuracy: 0.8617\n",
            "Epoch 2/10\n",
            "1500/1500 [==============================] - 6s 4ms/step - loss: 0.3840 - accuracy: 0.8603 - val_loss: 0.4103 - val_accuracy: 0.8525\n",
            "Epoch 3/10\n",
            "1500/1500 [==============================] - 8s 5ms/step - loss: 0.3473 - accuracy: 0.8737 - val_loss: 0.3666 - val_accuracy: 0.8736\n",
            "Epoch 4/10\n",
            "1500/1500 [==============================] - 6s 4ms/step - loss: 0.3265 - accuracy: 0.8838 - val_loss: 0.3481 - val_accuracy: 0.8788\n",
            "Epoch 5/10\n",
            "1500/1500 [==============================] - 5s 3ms/step - loss: 0.3111 - accuracy: 0.8891 - val_loss: 0.3605 - val_accuracy: 0.8817\n",
            "Epoch 6/10\n",
            "1500/1500 [==============================] - 6s 4ms/step - loss: 0.3013 - accuracy: 0.8921 - val_loss: 0.3554 - val_accuracy: 0.8795\n",
            "Epoch 7/10\n",
            "1500/1500 [==============================] - 6s 4ms/step - loss: 0.2896 - accuracy: 0.8975 - val_loss: 0.3572 - val_accuracy: 0.8743\n",
            "Epoch 8/10\n",
            "1500/1500 [==============================] - 7s 4ms/step - loss: 0.2802 - accuracy: 0.9015 - val_loss: 0.4440 - val_accuracy: 0.8660\n",
            "Epoch 9/10\n",
            "1500/1500 [==============================] - 5s 3ms/step - loss: 0.2720 - accuracy: 0.9030 - val_loss: 0.3719 - val_accuracy: 0.8836\n",
            "Epoch 10/10\n",
            "1500/1500 [==============================] - 6s 4ms/step - loss: 0.2666 - accuracy: 0.9057 - val_loss: 0.4138 - val_accuracy: 0.8787\n"
          ]
        },
        {
          "output_type": "execute_result",
          "data": {
            "text/plain": [
              "<keras.src.callbacks.History at 0x79ca20150fd0>"
            ]
          },
          "metadata": {},
          "execution_count": 17
        }
      ]
    },
    {
      "cell_type": "code",
      "source": [
        "model.evaluate(X_test_scaled,y_test)"
      ],
      "metadata": {
        "id": "TCFDpW3VgZ2v"
      },
      "execution_count": null,
      "outputs": []
    },
    {
      "cell_type": "markdown",
      "source": [
        "Flatten 층을 사용\n",
        " - reshape를 사용하지 않고 2차원 데이터를 1차원으로 변경해준다.  그래서 학습에 관여하지 않는다. --> 파라미터는 0"
      ],
      "metadata": {
        "id": "5fk9a3hMcZz9"
      }
    },
    {
      "cell_type": "code",
      "source": [
        "X_train_scaled = X_train / 255.0\n",
        "X_test_scaled = X_train / 255.0\n",
        "from tensorflow.keras.layers import Flatten"
      ],
      "metadata": {
        "id": "WP79d3mPbadM"
      },
      "execution_count": null,
      "outputs": []
    },
    {
      "cell_type": "code",
      "source": [
        "flatten = Flatten(input_shape=(28,28))\n",
        "dense1 = Dense(200, activation='relu')\n",
        "dense2 = Dense(10, activation='softmax')\n",
        "model = Sequential([\n",
        "    flatten, dense1, dense2\n",
        "])\n",
        "model.summary()"
      ],
      "metadata": {
        "colab": {
          "base_uri": "https://localhost:8080/"
        },
        "id": "PjQ19UBYc_rC",
        "outputId": "782c6802-c354-4337-c856-2c499a96d8a1"
      },
      "execution_count": null,
      "outputs": [
        {
          "output_type": "stream",
          "name": "stdout",
          "text": [
            "Model: \"sequential_2\"\n",
            "_________________________________________________________________\n",
            " Layer (type)                Output Shape              Param #   \n",
            "=================================================================\n",
            " flatten_1 (Flatten)         (None, 784)               0         \n",
            "                                                                 \n",
            " dense_4 (Dense)             (None, 200)               157000    \n",
            "                                                                 \n",
            " dense_5 (Dense)             (None, 10)                2010      \n",
            "                                                                 \n",
            "=================================================================\n",
            "Total params: 159010 (621.13 KB)\n",
            "Trainable params: 159010 (621.13 KB)\n",
            "Non-trainable params: 0 (0.00 Byte)\n",
            "_________________________________________________________________\n"
          ]
        }
      ]
    },
    {
      "cell_type": "code",
      "source": [
        "model.compile(loss='sparse_categorical_crossentropy',metrics='acc')\n",
        "model.fit(X_train_scaled, y_train, )"
      ],
      "metadata": {
        "colab": {
          "base_uri": "https://localhost:8080/"
        },
        "id": "guPc3_WId3_E",
        "outputId": "b0faae75-678a-4209-898e-ce8d60e85dee"
      },
      "execution_count": null,
      "outputs": [
        {
          "output_type": "stream",
          "name": "stdout",
          "text": [
            "1875/1875 [==============================] - 7s 3ms/step - loss: 0.4978 - acc: 0.8214\n"
          ]
        },
        {
          "output_type": "execute_result",
          "data": {
            "text/plain": [
              "<keras.src.callbacks.History at 0x79c9f9c26410>"
            ]
          },
          "metadata": {},
          "execution_count": 20
        }
      ]
    },
    {
      "cell_type": "code",
      "source": [
        "###### 여기서부터 뭔가 이상함"
      ],
      "metadata": {
        "id": "tA4dUDmEg5sy"
      },
      "execution_count": null,
      "outputs": []
    },
    {
      "cell_type": "code",
      "source": [
        "print(f\"X_test_scaled size: {X_test_scaled.shape}\")\n",
        "print(f\"y_test size: {y_test.shape}\")"
      ],
      "metadata": {
        "colab": {
          "base_uri": "https://localhost:8080/"
        },
        "id": "4d9pkl90gvzZ",
        "outputId": "c419eb21-d364-4106-fccc-c9d2a6ba0b5a"
      },
      "execution_count": null,
      "outputs": [
        {
          "output_type": "stream",
          "name": "stdout",
          "text": [
            "X_test_scaled size: (60000, 28, 28)\n",
            "y_test size: (10000,)\n"
          ]
        }
      ]
    },
    {
      "cell_type": "code",
      "source": [
        "# 데이터 크기를 맞추기 위해 X_test_scaled를 조정\n",
        "X_test_scaled = X_test_scaled[:y_test.shape[0]]\n",
        "\n",
        "# 이제 모델 평가를 수행할 수 있습니다.\n",
        "model.evaluate(X_test_scaled, y_test)"
      ],
      "metadata": {
        "colab": {
          "base_uri": "https://localhost:8080/"
        },
        "id": "1Efqq5eigz_j",
        "outputId": "ced379c4-1eda-4e73-934b-422214a26369"
      },
      "execution_count": null,
      "outputs": [
        {
          "output_type": "stream",
          "name": "stdout",
          "text": [
            "313/313 [==============================] - 1s 2ms/step - loss: 10.6857 - acc: 0.0996\n"
          ]
        },
        {
          "output_type": "execute_result",
          "data": {
            "text/plain": [
              "[10.685662269592285, 0.09960000216960907]"
            ]
          },
          "metadata": {},
          "execution_count": 23
        }
      ]
    },
    {
      "cell_type": "markdown",
      "source": [
        "IRIS데이터에 적용해보기"
      ],
      "metadata": {
        "id": "SUrO-GaEg9XG"
      }
    },
    {
      "cell_type": "code",
      "source": [
        "# 붓꽃\n",
        "from sklearn.datasets import load_iris\n",
        "\n",
        "data = load_iris()\n",
        "X = data.data; y = data.target"
      ],
      "metadata": {
        "id": "vGR7bPdSg065"
      },
      "execution_count": null,
      "outputs": []
    },
    {
      "cell_type": "code",
      "source": [
        "from sklearn.preprocessing import StandardScaler\n",
        "from sklearn.model_selection import train_test_split\n",
        "ss =  StandardScaler()\n",
        "X_scaled = ss.fit_transform(X)\n",
        "X_train_scaled, X_test_scaled, y_train, y_test = train_test_split(X_scaled, y, stratify=y, random_state=42)"
      ],
      "metadata": {
        "id": "SWtgRzBfk4zx"
      },
      "execution_count": null,
      "outputs": []
    },
    {
      "cell_type": "code",
      "source": [
        "# X_train_scaled를 y_test의 크기에 맞게 조정\n",
        "# X_train_scaled = X_train_scaled[:y_test.shape[0]]"
      ],
      "metadata": {
        "id": "UMM38XCvnPMX"
      },
      "execution_count": null,
      "outputs": []
    },
    {
      "cell_type": "code",
      "source": [
        "dense1 = Dense(10,activation='relu',input_shape = (4,))\n",
        "dense2 = Dense(3,activation='softmax')\n",
        "model = Sequential([dense1, dense2])\n",
        "model.compile(loss = 'sparse_categorical_crossentropy',metrics='accuracy')\n",
        "model.fit(X_train_scaled,y_train, validation_split=0.2, epochs=100)"
      ],
      "metadata": {
        "id": "gXKk0qtBl8Dj"
      },
      "execution_count": null,
      "outputs": []
    },
    {
      "cell_type": "code",
      "source": [
        "model.evaluate(X_test_scaled,y_test)"
      ],
      "metadata": {
        "colab": {
          "base_uri": "https://localhost:8080/"
        },
        "id": "LsnVCymDm2rO",
        "outputId": "c2d692f4-b67a-4321-ef8f-550915259782"
      },
      "execution_count": null,
      "outputs": [
        {
          "output_type": "stream",
          "name": "stdout",
          "text": [
            "2/2 [==============================] - 0s 6ms/step - loss: 1.3768 - accuracy: 0.2895\n"
          ]
        },
        {
          "output_type": "execute_result",
          "data": {
            "text/plain": [
              "[1.3767520189285278, 0.28947368264198303]"
            ]
          },
          "metadata": {},
          "execution_count": 35
        }
      ]
    },
    {
      "cell_type": "code",
      "source": [
        "dense1 = Dense(10,activation='relu',input_shape = (4,))\n",
        "dense2 = Dense(3,activation='softmax')\n",
        "model = Sequential([dense1, dense2])\n",
        "model.compile(optimizer='adam', loss = 'sparse_categorical_crossentropy',metrics='accuracy')\n",
        "model.fit(X_train_scaled,y_train, validation_split=0.2, epochs=100, verbose=0)\n",
        "model.evaluate(X_test_scaled,y_test)"
      ],
      "metadata": {
        "colab": {
          "base_uri": "https://localhost:8080/"
        },
        "id": "qPYxRg_xnahj",
        "outputId": "81babb48-3bb8-4387-aa3c-759abb6f2741"
      },
      "execution_count": null,
      "outputs": [
        {
          "output_type": "stream",
          "name": "stdout",
          "text": [
            "2/2 [==============================] - 0s 7ms/step - loss: 0.9998 - accuracy: 0.4474\n"
          ]
        },
        {
          "output_type": "execute_result",
          "data": {
            "text/plain": [
              "[0.9997684955596924, 0.44736841320991516]"
            ]
          },
          "metadata": {},
          "execution_count": 37
        }
      ]
    },
    {
      "cell_type": "markdown",
      "source": [
        "신경망 구성\n",
        "- 1. Dense층 구성(갯수 무제한)\n",
        "  - 첫번째 층은 입력층(입력 데이터의 모양을 받아야)\n",
        "  - 두번째 층부터는 출력개수만 정의\n",
        "  - activation = 'relu'\n",
        "- 2. 시퀀스로 각 층을 연결\n",
        "- 3. 컴파일 : 옵티마이져, 손실함수, 평가방법\n",
        "- 4. 학습 : x,y,validation_split/validation_data, 에포크 수\n",
        "- 5. 평가 : evaluation"
      ],
      "metadata": {
        "id": "wqW63djfp1x-"
      }
    },
    {
      "cell_type": "code",
      "source": [
        "!pip install ucimlrepo"
      ],
      "metadata": {
        "colab": {
          "base_uri": "https://localhost:8080/"
        },
        "id": "t-pQcs6HpvKB",
        "outputId": "376d0570-da2a-418a-8947-d8280b1580d7"
      },
      "execution_count": null,
      "outputs": [
        {
          "output_type": "stream",
          "name": "stdout",
          "text": [
            "Collecting ucimlrepo\n",
            "  Downloading ucimlrepo-0.0.6-py3-none-any.whl (8.0 kB)\n",
            "Installing collected packages: ucimlrepo\n",
            "Successfully installed ucimlrepo-0.0.6\n"
          ]
        }
      ]
    },
    {
      "cell_type": "code",
      "source": [
        "from ucimlrepo import fetch_ucirepo\n",
        "\n",
        "# fetch dataset\n",
        "dry_bean = fetch_ucirepo(id=602)\n",
        "\n",
        "# data (as pandas dataframes)\n",
        "X = dry_bean.data.features\n",
        "y = dry_bean.data.targets\n",
        "\n",
        "# metadata\n",
        "print(dry_bean.metadata)\n",
        "\n",
        "# variable information\n",
        "print(dry_bean.variables)\n"
      ],
      "metadata": {
        "id": "2QDLm5i-r-zb"
      },
      "execution_count": null,
      "outputs": []
    },
    {
      "cell_type": "code",
      "source": [
        "X.head()"
      ],
      "metadata": {
        "colab": {
          "base_uri": "https://localhost:8080/",
          "height": 226
        },
        "id": "MZHCN-PAtLPO",
        "outputId": "ae9e5bb5-0f69-421e-c47d-235820892a42"
      },
      "execution_count": null,
      "outputs": [
        {
          "output_type": "execute_result",
          "data": {
            "text/plain": [
              "    Area  Perimeter  MajorAxisLength  MinorAxisLength  AspectRatio  \\\n",
              "0  28395    610.291       208.178117       173.888747     1.197191   \n",
              "1  28734    638.018       200.524796       182.734419     1.097356   \n",
              "2  29380    624.110       212.826130       175.931143     1.209713   \n",
              "3  30008    645.884       210.557999       182.516516     1.153638   \n",
              "4  30140    620.134       201.847882       190.279279     1.060798   \n",
              "\n",
              "   Eccentricity  ConvexArea  EquivDiameter    Extent  Solidity  Roundness  \\\n",
              "0      0.549812       28715     190.141097  0.763923  0.988856   0.958027   \n",
              "1      0.411785       29172     191.272751  0.783968  0.984986   0.887034   \n",
              "2      0.562727       29690     193.410904  0.778113  0.989559   0.947849   \n",
              "3      0.498616       30724     195.467062  0.782681  0.976696   0.903936   \n",
              "4      0.333680       30417     195.896503  0.773098  0.990893   0.984877   \n",
              "\n",
              "   Compactness  ShapeFactor1  ShapeFactor2  ShapeFactor3  ShapeFactor4  \n",
              "0     0.913358      0.007332      0.003147      0.834222      0.998724  \n",
              "1     0.953861      0.006979      0.003564      0.909851      0.998430  \n",
              "2     0.908774      0.007244      0.003048      0.825871      0.999066  \n",
              "3     0.928329      0.007017      0.003215      0.861794      0.994199  \n",
              "4     0.970516      0.006697      0.003665      0.941900      0.999166  "
            ],
            "text/html": [
              "\n",
              "  <div id=\"df-0dfba669-022d-45f5-ab4f-b1c7b5094b04\" class=\"colab-df-container\">\n",
              "    <div>\n",
              "<style scoped>\n",
              "    .dataframe tbody tr th:only-of-type {\n",
              "        vertical-align: middle;\n",
              "    }\n",
              "\n",
              "    .dataframe tbody tr th {\n",
              "        vertical-align: top;\n",
              "    }\n",
              "\n",
              "    .dataframe thead th {\n",
              "        text-align: right;\n",
              "    }\n",
              "</style>\n",
              "<table border=\"1\" class=\"dataframe\">\n",
              "  <thead>\n",
              "    <tr style=\"text-align: right;\">\n",
              "      <th></th>\n",
              "      <th>Area</th>\n",
              "      <th>Perimeter</th>\n",
              "      <th>MajorAxisLength</th>\n",
              "      <th>MinorAxisLength</th>\n",
              "      <th>AspectRatio</th>\n",
              "      <th>Eccentricity</th>\n",
              "      <th>ConvexArea</th>\n",
              "      <th>EquivDiameter</th>\n",
              "      <th>Extent</th>\n",
              "      <th>Solidity</th>\n",
              "      <th>Roundness</th>\n",
              "      <th>Compactness</th>\n",
              "      <th>ShapeFactor1</th>\n",
              "      <th>ShapeFactor2</th>\n",
              "      <th>ShapeFactor3</th>\n",
              "      <th>ShapeFactor4</th>\n",
              "    </tr>\n",
              "  </thead>\n",
              "  <tbody>\n",
              "    <tr>\n",
              "      <th>0</th>\n",
              "      <td>28395</td>\n",
              "      <td>610.291</td>\n",
              "      <td>208.178117</td>\n",
              "      <td>173.888747</td>\n",
              "      <td>1.197191</td>\n",
              "      <td>0.549812</td>\n",
              "      <td>28715</td>\n",
              "      <td>190.141097</td>\n",
              "      <td>0.763923</td>\n",
              "      <td>0.988856</td>\n",
              "      <td>0.958027</td>\n",
              "      <td>0.913358</td>\n",
              "      <td>0.007332</td>\n",
              "      <td>0.003147</td>\n",
              "      <td>0.834222</td>\n",
              "      <td>0.998724</td>\n",
              "    </tr>\n",
              "    <tr>\n",
              "      <th>1</th>\n",
              "      <td>28734</td>\n",
              "      <td>638.018</td>\n",
              "      <td>200.524796</td>\n",
              "      <td>182.734419</td>\n",
              "      <td>1.097356</td>\n",
              "      <td>0.411785</td>\n",
              "      <td>29172</td>\n",
              "      <td>191.272751</td>\n",
              "      <td>0.783968</td>\n",
              "      <td>0.984986</td>\n",
              "      <td>0.887034</td>\n",
              "      <td>0.953861</td>\n",
              "      <td>0.006979</td>\n",
              "      <td>0.003564</td>\n",
              "      <td>0.909851</td>\n",
              "      <td>0.998430</td>\n",
              "    </tr>\n",
              "    <tr>\n",
              "      <th>2</th>\n",
              "      <td>29380</td>\n",
              "      <td>624.110</td>\n",
              "      <td>212.826130</td>\n",
              "      <td>175.931143</td>\n",
              "      <td>1.209713</td>\n",
              "      <td>0.562727</td>\n",
              "      <td>29690</td>\n",
              "      <td>193.410904</td>\n",
              "      <td>0.778113</td>\n",
              "      <td>0.989559</td>\n",
              "      <td>0.947849</td>\n",
              "      <td>0.908774</td>\n",
              "      <td>0.007244</td>\n",
              "      <td>0.003048</td>\n",
              "      <td>0.825871</td>\n",
              "      <td>0.999066</td>\n",
              "    </tr>\n",
              "    <tr>\n",
              "      <th>3</th>\n",
              "      <td>30008</td>\n",
              "      <td>645.884</td>\n",
              "      <td>210.557999</td>\n",
              "      <td>182.516516</td>\n",
              "      <td>1.153638</td>\n",
              "      <td>0.498616</td>\n",
              "      <td>30724</td>\n",
              "      <td>195.467062</td>\n",
              "      <td>0.782681</td>\n",
              "      <td>0.976696</td>\n",
              "      <td>0.903936</td>\n",
              "      <td>0.928329</td>\n",
              "      <td>0.007017</td>\n",
              "      <td>0.003215</td>\n",
              "      <td>0.861794</td>\n",
              "      <td>0.994199</td>\n",
              "    </tr>\n",
              "    <tr>\n",
              "      <th>4</th>\n",
              "      <td>30140</td>\n",
              "      <td>620.134</td>\n",
              "      <td>201.847882</td>\n",
              "      <td>190.279279</td>\n",
              "      <td>1.060798</td>\n",
              "      <td>0.333680</td>\n",
              "      <td>30417</td>\n",
              "      <td>195.896503</td>\n",
              "      <td>0.773098</td>\n",
              "      <td>0.990893</td>\n",
              "      <td>0.984877</td>\n",
              "      <td>0.970516</td>\n",
              "      <td>0.006697</td>\n",
              "      <td>0.003665</td>\n",
              "      <td>0.941900</td>\n",
              "      <td>0.999166</td>\n",
              "    </tr>\n",
              "  </tbody>\n",
              "</table>\n",
              "</div>\n",
              "    <div class=\"colab-df-buttons\">\n",
              "\n",
              "  <div class=\"colab-df-container\">\n",
              "    <button class=\"colab-df-convert\" onclick=\"convertToInteractive('df-0dfba669-022d-45f5-ab4f-b1c7b5094b04')\"\n",
              "            title=\"Convert this dataframe to an interactive table.\"\n",
              "            style=\"display:none;\">\n",
              "\n",
              "  <svg xmlns=\"http://www.w3.org/2000/svg\" height=\"24px\" viewBox=\"0 -960 960 960\">\n",
              "    <path d=\"M120-120v-720h720v720H120Zm60-500h600v-160H180v160Zm220 220h160v-160H400v160Zm0 220h160v-160H400v160ZM180-400h160v-160H180v160Zm440 0h160v-160H620v160ZM180-180h160v-160H180v160Zm440 0h160v-160H620v160Z\"/>\n",
              "  </svg>\n",
              "    </button>\n",
              "\n",
              "  <style>\n",
              "    .colab-df-container {\n",
              "      display:flex;\n",
              "      gap: 12px;\n",
              "    }\n",
              "\n",
              "    .colab-df-convert {\n",
              "      background-color: #E8F0FE;\n",
              "      border: none;\n",
              "      border-radius: 50%;\n",
              "      cursor: pointer;\n",
              "      display: none;\n",
              "      fill: #1967D2;\n",
              "      height: 32px;\n",
              "      padding: 0 0 0 0;\n",
              "      width: 32px;\n",
              "    }\n",
              "\n",
              "    .colab-df-convert:hover {\n",
              "      background-color: #E2EBFA;\n",
              "      box-shadow: 0px 1px 2px rgba(60, 64, 67, 0.3), 0px 1px 3px 1px rgba(60, 64, 67, 0.15);\n",
              "      fill: #174EA6;\n",
              "    }\n",
              "\n",
              "    .colab-df-buttons div {\n",
              "      margin-bottom: 4px;\n",
              "    }\n",
              "\n",
              "    [theme=dark] .colab-df-convert {\n",
              "      background-color: #3B4455;\n",
              "      fill: #D2E3FC;\n",
              "    }\n",
              "\n",
              "    [theme=dark] .colab-df-convert:hover {\n",
              "      background-color: #434B5C;\n",
              "      box-shadow: 0px 1px 3px 1px rgba(0, 0, 0, 0.15);\n",
              "      filter: drop-shadow(0px 1px 2px rgba(0, 0, 0, 0.3));\n",
              "      fill: #FFFFFF;\n",
              "    }\n",
              "  </style>\n",
              "\n",
              "    <script>\n",
              "      const buttonEl =\n",
              "        document.querySelector('#df-0dfba669-022d-45f5-ab4f-b1c7b5094b04 button.colab-df-convert');\n",
              "      buttonEl.style.display =\n",
              "        google.colab.kernel.accessAllowed ? 'block' : 'none';\n",
              "\n",
              "      async function convertToInteractive(key) {\n",
              "        const element = document.querySelector('#df-0dfba669-022d-45f5-ab4f-b1c7b5094b04');\n",
              "        const dataTable =\n",
              "          await google.colab.kernel.invokeFunction('convertToInteractive',\n",
              "                                                    [key], {});\n",
              "        if (!dataTable) return;\n",
              "\n",
              "        const docLinkHtml = 'Like what you see? Visit the ' +\n",
              "          '<a target=\"_blank\" href=https://colab.research.google.com/notebooks/data_table.ipynb>data table notebook</a>'\n",
              "          + ' to learn more about interactive tables.';\n",
              "        element.innerHTML = '';\n",
              "        dataTable['output_type'] = 'display_data';\n",
              "        await google.colab.output.renderOutput(dataTable, element);\n",
              "        const docLink = document.createElement('div');\n",
              "        docLink.innerHTML = docLinkHtml;\n",
              "        element.appendChild(docLink);\n",
              "      }\n",
              "    </script>\n",
              "  </div>\n",
              "\n",
              "\n",
              "<div id=\"df-1e8651cb-a9df-4f70-a53b-36dd4bae319a\">\n",
              "  <button class=\"colab-df-quickchart\" onclick=\"quickchart('df-1e8651cb-a9df-4f70-a53b-36dd4bae319a')\"\n",
              "            title=\"Suggest charts\"\n",
              "            style=\"display:none;\">\n",
              "\n",
              "<svg xmlns=\"http://www.w3.org/2000/svg\" height=\"24px\"viewBox=\"0 0 24 24\"\n",
              "     width=\"24px\">\n",
              "    <g>\n",
              "        <path d=\"M19 3H5c-1.1 0-2 .9-2 2v14c0 1.1.9 2 2 2h14c1.1 0 2-.9 2-2V5c0-1.1-.9-2-2-2zM9 17H7v-7h2v7zm4 0h-2V7h2v10zm4 0h-2v-4h2v4z\"/>\n",
              "    </g>\n",
              "</svg>\n",
              "  </button>\n",
              "\n",
              "<style>\n",
              "  .colab-df-quickchart {\n",
              "      --bg-color: #E8F0FE;\n",
              "      --fill-color: #1967D2;\n",
              "      --hover-bg-color: #E2EBFA;\n",
              "      --hover-fill-color: #174EA6;\n",
              "      --disabled-fill-color: #AAA;\n",
              "      --disabled-bg-color: #DDD;\n",
              "  }\n",
              "\n",
              "  [theme=dark] .colab-df-quickchart {\n",
              "      --bg-color: #3B4455;\n",
              "      --fill-color: #D2E3FC;\n",
              "      --hover-bg-color: #434B5C;\n",
              "      --hover-fill-color: #FFFFFF;\n",
              "      --disabled-bg-color: #3B4455;\n",
              "      --disabled-fill-color: #666;\n",
              "  }\n",
              "\n",
              "  .colab-df-quickchart {\n",
              "    background-color: var(--bg-color);\n",
              "    border: none;\n",
              "    border-radius: 50%;\n",
              "    cursor: pointer;\n",
              "    display: none;\n",
              "    fill: var(--fill-color);\n",
              "    height: 32px;\n",
              "    padding: 0;\n",
              "    width: 32px;\n",
              "  }\n",
              "\n",
              "  .colab-df-quickchart:hover {\n",
              "    background-color: var(--hover-bg-color);\n",
              "    box-shadow: 0 1px 2px rgba(60, 64, 67, 0.3), 0 1px 3px 1px rgba(60, 64, 67, 0.15);\n",
              "    fill: var(--button-hover-fill-color);\n",
              "  }\n",
              "\n",
              "  .colab-df-quickchart-complete:disabled,\n",
              "  .colab-df-quickchart-complete:disabled:hover {\n",
              "    background-color: var(--disabled-bg-color);\n",
              "    fill: var(--disabled-fill-color);\n",
              "    box-shadow: none;\n",
              "  }\n",
              "\n",
              "  .colab-df-spinner {\n",
              "    border: 2px solid var(--fill-color);\n",
              "    border-color: transparent;\n",
              "    border-bottom-color: var(--fill-color);\n",
              "    animation:\n",
              "      spin 1s steps(1) infinite;\n",
              "  }\n",
              "\n",
              "  @keyframes spin {\n",
              "    0% {\n",
              "      border-color: transparent;\n",
              "      border-bottom-color: var(--fill-color);\n",
              "      border-left-color: var(--fill-color);\n",
              "    }\n",
              "    20% {\n",
              "      border-color: transparent;\n",
              "      border-left-color: var(--fill-color);\n",
              "      border-top-color: var(--fill-color);\n",
              "    }\n",
              "    30% {\n",
              "      border-color: transparent;\n",
              "      border-left-color: var(--fill-color);\n",
              "      border-top-color: var(--fill-color);\n",
              "      border-right-color: var(--fill-color);\n",
              "    }\n",
              "    40% {\n",
              "      border-color: transparent;\n",
              "      border-right-color: var(--fill-color);\n",
              "      border-top-color: var(--fill-color);\n",
              "    }\n",
              "    60% {\n",
              "      border-color: transparent;\n",
              "      border-right-color: var(--fill-color);\n",
              "    }\n",
              "    80% {\n",
              "      border-color: transparent;\n",
              "      border-right-color: var(--fill-color);\n",
              "      border-bottom-color: var(--fill-color);\n",
              "    }\n",
              "    90% {\n",
              "      border-color: transparent;\n",
              "      border-bottom-color: var(--fill-color);\n",
              "    }\n",
              "  }\n",
              "</style>\n",
              "\n",
              "  <script>\n",
              "    async function quickchart(key) {\n",
              "      const quickchartButtonEl =\n",
              "        document.querySelector('#' + key + ' button');\n",
              "      quickchartButtonEl.disabled = true;  // To prevent multiple clicks.\n",
              "      quickchartButtonEl.classList.add('colab-df-spinner');\n",
              "      try {\n",
              "        const charts = await google.colab.kernel.invokeFunction(\n",
              "            'suggestCharts', [key], {});\n",
              "      } catch (error) {\n",
              "        console.error('Error during call to suggestCharts:', error);\n",
              "      }\n",
              "      quickchartButtonEl.classList.remove('colab-df-spinner');\n",
              "      quickchartButtonEl.classList.add('colab-df-quickchart-complete');\n",
              "    }\n",
              "    (() => {\n",
              "      let quickchartButtonEl =\n",
              "        document.querySelector('#df-1e8651cb-a9df-4f70-a53b-36dd4bae319a button');\n",
              "      quickchartButtonEl.style.display =\n",
              "        google.colab.kernel.accessAllowed ? 'block' : 'none';\n",
              "    })();\n",
              "  </script>\n",
              "</div>\n",
              "\n",
              "    </div>\n",
              "  </div>\n"
            ],
            "application/vnd.google.colaboratory.intrinsic+json": {
              "type": "dataframe",
              "variable_name": "X",
              "summary": "{\n  \"name\": \"X\",\n  \"rows\": 13611,\n  \"fields\": [\n    {\n      \"column\": \"Area\",\n      \"properties\": {\n        \"dtype\": \"number\",\n        \"std\": 29324,\n        \"min\": 20420,\n        \"max\": 254616,\n        \"num_unique_values\": 12011,\n        \"samples\": [\n          48012,\n          45550,\n          180089\n        ],\n        \"semantic_type\": \"\",\n        \"description\": \"\"\n      }\n    },\n    {\n      \"column\": \"Perimeter\",\n      \"properties\": {\n        \"dtype\": \"number\",\n        \"std\": 214.28969589196143,\n        \"min\": 524.736,\n        \"max\": 1985.37,\n        \"num_unique_values\": 13351,\n        \"samples\": [\n          777.051,\n          744.67,\n          626.673\n        ],\n        \"semantic_type\": \"\",\n        \"description\": \"\"\n      }\n    },\n    {\n      \"column\": \"MajorAxisLength\",\n      \"properties\": {\n        \"dtype\": \"number\",\n        \"std\": 85.69418595933297,\n        \"min\": 183.601165,\n        \"max\": 738.8601535,\n        \"num_unique_values\": 13543,\n        \"samples\": [\n          255.3327747,\n          344.0611383,\n          257.159639\n        ],\n        \"semantic_type\": \"\",\n        \"description\": \"\"\n      }\n    },\n    {\n      \"column\": \"MinorAxisLength\",\n      \"properties\": {\n        \"dtype\": \"number\",\n        \"std\": 44.97009129411452,\n        \"min\": 122.5126535,\n        \"max\": 460.1984968,\n        \"num_unique_values\": 13543,\n        \"samples\": [\n          190.5454144,\n          229.2631251,\n          172.8389871\n        ],\n        \"semantic_type\": \"\",\n        \"description\": \"\"\n      }\n    },\n    {\n      \"column\": \"AspectRatio\",\n      \"properties\": {\n        \"dtype\": \"number\",\n        \"std\": 0.24667845568580302,\n        \"min\": 1.024867596,\n        \"max\": 2.430306447,\n        \"num_unique_values\": 13543,\n        \"samples\": [\n          1.340010073,\n          1.500726025,\n          1.487856666\n        ],\n        \"semantic_type\": \"\",\n        \"description\": \"\"\n      }\n    },\n    {\n      \"column\": \"Eccentricity\",\n      \"properties\": {\n        \"dtype\": \"number\",\n        \"std\": 0.09200176320620876,\n        \"min\": 0.218951263,\n        \"max\": 0.911422968,\n        \"num_unique_values\": 13543,\n        \"samples\": [\n          0.665651159,\n          0.745644339,\n          0.740453353\n        ],\n        \"semantic_type\": \"\",\n        \"description\": \"\"\n      }\n    },\n    {\n      \"column\": \"ConvexArea\",\n      \"properties\": {\n        \"dtype\": \"number\",\n        \"std\": 29774,\n        \"min\": 20684,\n        \"max\": 263261,\n        \"num_unique_values\": 12066,\n        \"samples\": [\n          43064,\n          28214,\n          80312\n        ],\n        \"semantic_type\": \"\",\n        \"description\": \"\"\n      }\n    },\n    {\n      \"column\": \"EquivDiameter\",\n      \"properties\": {\n        \"dtype\": \"number\",\n        \"std\": 59.17712014871188,\n        \"min\": 161.2437642,\n        \"max\": 569.3743583,\n        \"num_unique_values\": 12011,\n        \"samples\": [\n          247.2463893,\n          240.8237141,\n          478.8490747\n        ],\n        \"semantic_type\": \"\",\n        \"description\": \"\"\n      }\n    },\n    {\n      \"column\": \"Extent\",\n      \"properties\": {\n        \"dtype\": \"number\",\n        \"std\": 0.04908636684396477,\n        \"min\": 0.555314717,\n        \"max\": 0.866194641,\n        \"num_unique_values\": 13535,\n        \"samples\": [\n          0.753012629,\n          0.813903525,\n          0.710475845\n        ],\n        \"semantic_type\": \"\",\n        \"description\": \"\"\n      }\n    },\n    {\n      \"column\": \"Solidity\",\n      \"properties\": {\n        \"dtype\": \"number\",\n        \"std\": 0.004660379169838444,\n        \"min\": 0.919246157,\n        \"max\": 0.9946775,\n        \"num_unique_values\": 13522,\n        \"samples\": [\n          0.989451562,\n          0.988288395,\n          0.990392287\n        ],\n        \"semantic_type\": \"\",\n        \"description\": \"\"\n      }\n    },\n    {\n      \"column\": \"Roundness\",\n      \"properties\": {\n        \"dtype\": \"number\",\n        \"std\": 0.05951988794941905,\n        \"min\": 0.489618256,\n        \"max\": 0.9906854,\n        \"num_unique_values\": 13540,\n        \"samples\": [\n          0.938825243,\n          0.905049768,\n          0.921551042\n        ],\n        \"semantic_type\": \"\",\n        \"description\": \"\"\n      }\n    },\n    {\n      \"column\": \"Compactness\",\n      \"properties\": {\n        \"dtype\": \"number\",\n        \"std\": 0.06171346311682394,\n        \"min\": 0.640576759,\n        \"max\": 0.987302969,\n        \"num_unique_values\": 13543,\n        \"samples\": [\n          0.86341771,\n          0.810085068,\n          0.819260795\n        ],\n        \"semantic_type\": \"\",\n        \"description\": \"\"\n      }\n    },\n    {\n      \"column\": \"ShapeFactor1\",\n      \"properties\": {\n        \"dtype\": \"number\",\n        \"std\": 0.0011279982248070585,\n        \"min\": 0.002778013,\n        \"max\": 0.010451169,\n        \"num_unique_values\": 13521,\n        \"samples\": [\n          0.008601217,\n          0.006711799,\n          0.008063532\n        ],\n        \"semantic_type\": \"\",\n        \"description\": \"\"\n      }\n    },\n    {\n      \"column\": \"ShapeFactor2\",\n      \"properties\": {\n        \"dtype\": \"number\",\n        \"std\": 0.0005958748528937666,\n        \"min\": 0.000564169,\n        \"max\": 0.003664972,\n        \"num_unique_values\": 13506,\n        \"samples\": [\n          0.001092201,\n          0.001521882,\n          0.000939109\n        ],\n        \"semantic_type\": \"\",\n        \"description\": \"\"\n      }\n    },\n    {\n      \"column\": \"ShapeFactor3\",\n      \"properties\": {\n        \"dtype\": \"number\",\n        \"std\": 0.098996150476599,\n        \"min\": 0.410338584,\n        \"max\": 0.974767153,\n        \"num_unique_values\": 13543,\n        \"samples\": [\n          0.745490141,\n          0.656237818,\n          0.67118825\n        ],\n        \"semantic_type\": \"\",\n        \"description\": \"\"\n      }\n    },\n    {\n      \"column\": \"ShapeFactor4\",\n      \"properties\": {\n        \"dtype\": \"number\",\n        \"std\": 0.004366457746634138,\n        \"min\": 0.947687403,\n        \"max\": 0.99973253,\n        \"num_unique_values\": 13532,\n        \"samples\": [\n          0.993185175,\n          0.997895985,\n          0.990881262\n        ],\n        \"semantic_type\": \"\",\n        \"description\": \"\"\n      }\n    }\n  ]\n}"
            }
          },
          "metadata": {},
          "execution_count": 41
        }
      ]
    },
    {
      "cell_type": "code",
      "source": [
        "y['Class'].value_counts()"
      ],
      "metadata": {
        "colab": {
          "base_uri": "https://localhost:8080/"
        },
        "id": "EBAvMkZOsBwV",
        "outputId": "866c7984-f764-4867-9d1e-47a6454710d0"
      },
      "execution_count": null,
      "outputs": [
        {
          "output_type": "execute_result",
          "data": {
            "text/plain": [
              "Class\n",
              "DERMASON    3546\n",
              "SIRA        2636\n",
              "SEKER       2027\n",
              "HOROZ       1928\n",
              "CALI        1630\n",
              "BARBUNYA    1322\n",
              "BOMBAY       522\n",
              "Name: count, dtype: int64"
            ]
          },
          "metadata": {},
          "execution_count": 42
        }
      ]
    },
    {
      "cell_type": "code",
      "source": [
        "from sklearn.preprocessing import StandardScaler\n",
        "from sklearn.model_selection import train_test_split\n",
        "ss =  StandardScaler()\n",
        "X_scaled = ss.fit_transform(X)\n",
        "X_train_scaled, X_test_scaled, y_train, y_test = train_test_split(X_scaled, y, stratify=y, random_state=42)"
      ],
      "metadata": {
        "id": "YT-IQDrjszrW"
      },
      "execution_count": null,
      "outputs": []
    },
    {
      "cell_type": "code",
      "source": [
        "# dense1 = Dense(10,activation='relu',input_shape = (16,))\n",
        "# dense2 = Dense(3,activation='softmax')\n",
        "# model = Sequential([dense1, dense2])\n",
        "# model.compile(loss = 'sparse_categorical_crossentropy',metrics='accuracy')\n",
        "# model.fit(X_train_scaled,y_train, validation_split=0.2, epochs=100)"
      ],
      "metadata": {
        "id": "gixEOJtSuwPM"
      },
      "execution_count": null,
      "outputs": []
    },
    {
      "cell_type": "code",
      "source": [
        "# model.evaluate(X_test_scaled,y_test)"
      ],
      "metadata": {
        "id": "BcpPQuIGvGXy"
      },
      "execution_count": null,
      "outputs": []
    },
    {
      "cell_type": "code",
      "source": [
        "X.info()"
      ],
      "metadata": {
        "colab": {
          "base_uri": "https://localhost:8080/"
        },
        "id": "YoQ--tEWu08N",
        "outputId": "e6512fea-92af-48af-caed-b44388980e17"
      },
      "execution_count": null,
      "outputs": [
        {
          "output_type": "stream",
          "name": "stdout",
          "text": [
            "<class 'pandas.core.frame.DataFrame'>\n",
            "RangeIndex: 13611 entries, 0 to 13610\n",
            "Data columns (total 16 columns):\n",
            " #   Column           Non-Null Count  Dtype  \n",
            "---  ------           --------------  -----  \n",
            " 0   Area             13611 non-null  int64  \n",
            " 1   Perimeter        13611 non-null  float64\n",
            " 2   MajorAxisLength  13611 non-null  float64\n",
            " 3   MinorAxisLength  13611 non-null  float64\n",
            " 4   AspectRatio      13611 non-null  float64\n",
            " 5   Eccentricity     13611 non-null  float64\n",
            " 6   ConvexArea       13611 non-null  int64  \n",
            " 7   EquivDiameter    13611 non-null  float64\n",
            " 8   Extent           13611 non-null  float64\n",
            " 9   Solidity         13611 non-null  float64\n",
            " 10  Roundness        13611 non-null  float64\n",
            " 11  Compactness      13611 non-null  float64\n",
            " 12  ShapeFactor1     13611 non-null  float64\n",
            " 13  ShapeFactor2     13611 non-null  float64\n",
            " 14  ShapeFactor3     13611 non-null  float64\n",
            " 15  ShapeFactor4     13611 non-null  float64\n",
            "dtypes: float64(14), int64(2)\n",
            "memory usage: 1.7 MB\n"
          ]
        }
      ]
    },
    {
      "cell_type": "code",
      "source": [
        "# y_test가 문자열이라 바꿔주어야함\n",
        "from sklearn.preprocessing import LabelEncoder\n",
        "y = LabelEncoder().fit_transform(y)\n",
        "y"
      ],
      "metadata": {
        "colab": {
          "base_uri": "https://localhost:8080/"
        },
        "id": "zhw6ubux3Z9l",
        "outputId": "71e5f121-c6b5-4b15-ee68-375cd68b3f9f"
      },
      "execution_count": null,
      "outputs": [
        {
          "output_type": "stream",
          "name": "stderr",
          "text": [
            "/usr/local/lib/python3.10/dist-packages/sklearn/preprocessing/_label.py:116: DataConversionWarning: A column-vector y was passed when a 1d array was expected. Please change the shape of y to (n_samples, ), for example using ravel().\n",
            "  y = column_or_1d(y, warn=True)\n"
          ]
        },
        {
          "output_type": "execute_result",
          "data": {
            "text/plain": [
              "array([5, 5, 5, ..., 3, 3, 3])"
            ]
          },
          "metadata": {},
          "execution_count": 55
        }
      ]
    },
    {
      "cell_type": "code",
      "source": [
        "# 1. 데이터 분할\n",
        "from sklearn.preprocessing import StandardScaler\n",
        "from sklearn.model_selection import train_test_split\n",
        "\n",
        "X_train, X_test, y_train, y_test = train_test_split(X, y, stratify=y, random_state=42)"
      ],
      "metadata": {
        "id": "V5OvgtfGyPXl"
      },
      "execution_count": null,
      "outputs": []
    },
    {
      "cell_type": "code",
      "source": [
        "# 2. 데이터 표준화\n",
        "ss =  StandardScaler()\n",
        "X_train_scaled = ss.fit_transform(X_train)\n",
        "X_test_scaled = ss.fit_transform(X_test)"
      ],
      "metadata": {
        "id": "G4xxr1zWzAib"
      },
      "execution_count": null,
      "outputs": []
    },
    {
      "cell_type": "code",
      "source": [
        "X_train_scaled.shape, y_train.shape"
      ],
      "metadata": {
        "colab": {
          "base_uri": "https://localhost:8080/"
        },
        "id": "7RbqWsbr2cZG",
        "outputId": "75f0d8d2-5ddf-4d02-9f21-6d81c8b59c2e"
      },
      "execution_count": null,
      "outputs": [
        {
          "output_type": "execute_result",
          "data": {
            "text/plain": [
              "((10208, 16), (10208,))"
            ]
          },
          "metadata": {},
          "execution_count": 62
        }
      ]
    },
    {
      "cell_type": "code",
      "source": [
        "# Dense 층을 2개\n",
        "dense1 = Dense( 50  , activation='relu', input_shape = (16, ) )\n",
        "dense2 = Dense( 7  , activation='softmax' )\n",
        "model = Sequential([\n",
        "    dense1,dense2\n",
        "])\n",
        "model.compile(optimizer='adam', loss = 'sparse_categorical_crossentropy', metrics = 'accuracy')\n",
        "model.fit(X_train_scaled,y_train,validation_split=0.2, epochs = 100 )"
      ],
      "metadata": {
        "colab": {
          "base_uri": "https://localhost:8080/"
        },
        "id": "tza_QSqIzsIW",
        "outputId": "5fc396bd-40d9-478e-961a-bb23c676def5"
      },
      "execution_count": null,
      "outputs": [
        {
          "output_type": "stream",
          "name": "stdout",
          "text": [
            "Epoch 1/100\n",
            "256/256 [==============================] - 1s 3ms/step - loss: 0.8329 - accuracy: 0.7499 - val_loss: 0.4224 - val_accuracy: 0.8957\n",
            "Epoch 2/100\n",
            "256/256 [==============================] - 1s 2ms/step - loss: 0.3379 - accuracy: 0.9046 - val_loss: 0.2629 - val_accuracy: 0.9221\n",
            "Epoch 3/100\n",
            "256/256 [==============================] - 0s 2ms/step - loss: 0.2554 - accuracy: 0.9160 - val_loss: 0.2278 - val_accuracy: 0.9246\n",
            "Epoch 4/100\n",
            "256/256 [==============================] - 1s 2ms/step - loss: 0.2309 - accuracy: 0.9193 - val_loss: 0.2157 - val_accuracy: 0.9236\n",
            "Epoch 5/100\n",
            "256/256 [==============================] - 0s 2ms/step - loss: 0.2206 - accuracy: 0.9219 - val_loss: 0.2067 - val_accuracy: 0.9290\n",
            "Epoch 6/100\n",
            "256/256 [==============================] - 1s 2ms/step - loss: 0.2141 - accuracy: 0.9225 - val_loss: 0.2026 - val_accuracy: 0.9251\n",
            "Epoch 7/100\n",
            "256/256 [==============================] - 1s 2ms/step - loss: 0.2102 - accuracy: 0.9214 - val_loss: 0.1988 - val_accuracy: 0.9295\n",
            "Epoch 8/100\n",
            "256/256 [==============================] - 1s 2ms/step - loss: 0.2055 - accuracy: 0.9253 - val_loss: 0.1985 - val_accuracy: 0.9290\n",
            "Epoch 9/100\n",
            "256/256 [==============================] - 1s 2ms/step - loss: 0.2030 - accuracy: 0.9254 - val_loss: 0.1962 - val_accuracy: 0.9310\n",
            "Epoch 10/100\n",
            "256/256 [==============================] - 1s 2ms/step - loss: 0.2003 - accuracy: 0.9259 - val_loss: 0.1951 - val_accuracy: 0.9314\n",
            "Epoch 11/100\n",
            "256/256 [==============================] - 1s 3ms/step - loss: 0.1978 - accuracy: 0.9270 - val_loss: 0.1966 - val_accuracy: 0.9314\n",
            "Epoch 12/100\n",
            "256/256 [==============================] - 1s 3ms/step - loss: 0.1950 - accuracy: 0.9291 - val_loss: 0.1947 - val_accuracy: 0.9339\n",
            "Epoch 13/100\n",
            "256/256 [==============================] - 1s 3ms/step - loss: 0.1930 - accuracy: 0.9296 - val_loss: 0.1953 - val_accuracy: 0.9319\n",
            "Epoch 14/100\n",
            "256/256 [==============================] - 1s 2ms/step - loss: 0.1916 - accuracy: 0.9291 - val_loss: 0.1962 - val_accuracy: 0.9314\n",
            "Epoch 15/100\n",
            "256/256 [==============================] - 0s 2ms/step - loss: 0.1895 - accuracy: 0.9291 - val_loss: 0.1974 - val_accuracy: 0.9305\n",
            "Epoch 16/100\n",
            "256/256 [==============================] - 1s 2ms/step - loss: 0.1883 - accuracy: 0.9314 - val_loss: 0.1991 - val_accuracy: 0.9310\n",
            "Epoch 17/100\n",
            "256/256 [==============================] - 0s 2ms/step - loss: 0.1873 - accuracy: 0.9295 - val_loss: 0.1958 - val_accuracy: 0.9314\n",
            "Epoch 18/100\n",
            "256/256 [==============================] - 0s 2ms/step - loss: 0.1856 - accuracy: 0.9307 - val_loss: 0.1957 - val_accuracy: 0.9314\n",
            "Epoch 19/100\n",
            "256/256 [==============================] - 1s 2ms/step - loss: 0.1847 - accuracy: 0.9322 - val_loss: 0.1967 - val_accuracy: 0.9344\n",
            "Epoch 20/100\n",
            "256/256 [==============================] - 1s 2ms/step - loss: 0.1842 - accuracy: 0.9320 - val_loss: 0.1999 - val_accuracy: 0.9261\n",
            "Epoch 21/100\n",
            "256/256 [==============================] - 0s 2ms/step - loss: 0.1831 - accuracy: 0.9319 - val_loss: 0.1977 - val_accuracy: 0.9310\n",
            "Epoch 22/100\n",
            "256/256 [==============================] - 0s 2ms/step - loss: 0.1820 - accuracy: 0.9313 - val_loss: 0.1944 - val_accuracy: 0.9314\n",
            "Epoch 23/100\n",
            "256/256 [==============================] - 1s 2ms/step - loss: 0.1811 - accuracy: 0.9329 - val_loss: 0.1950 - val_accuracy: 0.9314\n",
            "Epoch 24/100\n",
            "256/256 [==============================] - 1s 2ms/step - loss: 0.1807 - accuracy: 0.9337 - val_loss: 0.1992 - val_accuracy: 0.9310\n",
            "Epoch 25/100\n",
            "256/256 [==============================] - 0s 2ms/step - loss: 0.1800 - accuracy: 0.9325 - val_loss: 0.1959 - val_accuracy: 0.9295\n",
            "Epoch 26/100\n",
            "256/256 [==============================] - 1s 2ms/step - loss: 0.1797 - accuracy: 0.9326 - val_loss: 0.1958 - val_accuracy: 0.9300\n",
            "Epoch 27/100\n",
            "256/256 [==============================] - 1s 2ms/step - loss: 0.1786 - accuracy: 0.9355 - val_loss: 0.1943 - val_accuracy: 0.9314\n",
            "Epoch 28/100\n",
            "256/256 [==============================] - 1s 2ms/step - loss: 0.1781 - accuracy: 0.9336 - val_loss: 0.1974 - val_accuracy: 0.9310\n",
            "Epoch 29/100\n",
            "256/256 [==============================] - 0s 2ms/step - loss: 0.1774 - accuracy: 0.9340 - val_loss: 0.1955 - val_accuracy: 0.9305\n",
            "Epoch 30/100\n",
            "256/256 [==============================] - 1s 2ms/step - loss: 0.1783 - accuracy: 0.9340 - val_loss: 0.1966 - val_accuracy: 0.9314\n",
            "Epoch 31/100\n",
            "256/256 [==============================] - 0s 2ms/step - loss: 0.1757 - accuracy: 0.9361 - val_loss: 0.1944 - val_accuracy: 0.9310\n",
            "Epoch 32/100\n",
            "256/256 [==============================] - 1s 2ms/step - loss: 0.1761 - accuracy: 0.9347 - val_loss: 0.1968 - val_accuracy: 0.9305\n",
            "Epoch 33/100\n",
            "256/256 [==============================] - 1s 3ms/step - loss: 0.1749 - accuracy: 0.9350 - val_loss: 0.1957 - val_accuracy: 0.9300\n",
            "Epoch 34/100\n",
            "256/256 [==============================] - 1s 3ms/step - loss: 0.1750 - accuracy: 0.9366 - val_loss: 0.1959 - val_accuracy: 0.9300\n",
            "Epoch 35/100\n",
            "256/256 [==============================] - 1s 3ms/step - loss: 0.1741 - accuracy: 0.9355 - val_loss: 0.1974 - val_accuracy: 0.9300\n",
            "Epoch 36/100\n",
            "256/256 [==============================] - 1s 3ms/step - loss: 0.1736 - accuracy: 0.9357 - val_loss: 0.1971 - val_accuracy: 0.9314\n",
            "Epoch 37/100\n",
            "256/256 [==============================] - 1s 2ms/step - loss: 0.1737 - accuracy: 0.9364 - val_loss: 0.1986 - val_accuracy: 0.9300\n",
            "Epoch 38/100\n",
            "256/256 [==============================] - 1s 2ms/step - loss: 0.1726 - accuracy: 0.9373 - val_loss: 0.1968 - val_accuracy: 0.9290\n",
            "Epoch 39/100\n",
            "256/256 [==============================] - 1s 2ms/step - loss: 0.1728 - accuracy: 0.9374 - val_loss: 0.1953 - val_accuracy: 0.9319\n",
            "Epoch 40/100\n",
            "256/256 [==============================] - 0s 2ms/step - loss: 0.1722 - accuracy: 0.9364 - val_loss: 0.1996 - val_accuracy: 0.9305\n",
            "Epoch 41/100\n",
            "256/256 [==============================] - 0s 2ms/step - loss: 0.1720 - accuracy: 0.9372 - val_loss: 0.2000 - val_accuracy: 0.9319\n",
            "Epoch 42/100\n",
            "256/256 [==============================] - 1s 2ms/step - loss: 0.1720 - accuracy: 0.9362 - val_loss: 0.1989 - val_accuracy: 0.9319\n",
            "Epoch 43/100\n",
            "256/256 [==============================] - 1s 2ms/step - loss: 0.1719 - accuracy: 0.9380 - val_loss: 0.1957 - val_accuracy: 0.9324\n",
            "Epoch 44/100\n",
            "256/256 [==============================] - 1s 2ms/step - loss: 0.1719 - accuracy: 0.9375 - val_loss: 0.1962 - val_accuracy: 0.9305\n",
            "Epoch 45/100\n",
            "256/256 [==============================] - 1s 2ms/step - loss: 0.1715 - accuracy: 0.9386 - val_loss: 0.1965 - val_accuracy: 0.9314\n",
            "Epoch 46/100\n",
            "256/256 [==============================] - 1s 2ms/step - loss: 0.1707 - accuracy: 0.9360 - val_loss: 0.1977 - val_accuracy: 0.9290\n",
            "Epoch 47/100\n",
            "256/256 [==============================] - 1s 2ms/step - loss: 0.1709 - accuracy: 0.9371 - val_loss: 0.1974 - val_accuracy: 0.9310\n",
            "Epoch 48/100\n",
            "256/256 [==============================] - 1s 2ms/step - loss: 0.1694 - accuracy: 0.9410 - val_loss: 0.1956 - val_accuracy: 0.9329\n",
            "Epoch 49/100\n",
            "256/256 [==============================] - 1s 2ms/step - loss: 0.1697 - accuracy: 0.9374 - val_loss: 0.1931 - val_accuracy: 0.9349\n",
            "Epoch 50/100\n",
            "256/256 [==============================] - 0s 2ms/step - loss: 0.1690 - accuracy: 0.9375 - val_loss: 0.1967 - val_accuracy: 0.9329\n",
            "Epoch 51/100\n",
            "256/256 [==============================] - 1s 2ms/step - loss: 0.1695 - accuracy: 0.9373 - val_loss: 0.1998 - val_accuracy: 0.9334\n",
            "Epoch 52/100\n",
            "256/256 [==============================] - 1s 2ms/step - loss: 0.1693 - accuracy: 0.9384 - val_loss: 0.1986 - val_accuracy: 0.9334\n",
            "Epoch 53/100\n",
            "256/256 [==============================] - 1s 2ms/step - loss: 0.1680 - accuracy: 0.9386 - val_loss: 0.1942 - val_accuracy: 0.9319\n",
            "Epoch 54/100\n",
            "256/256 [==============================] - 1s 2ms/step - loss: 0.1685 - accuracy: 0.9390 - val_loss: 0.1956 - val_accuracy: 0.9334\n",
            "Epoch 55/100\n",
            "256/256 [==============================] - 1s 3ms/step - loss: 0.1686 - accuracy: 0.9383 - val_loss: 0.1977 - val_accuracy: 0.9314\n",
            "Epoch 56/100\n",
            "256/256 [==============================] - 1s 3ms/step - loss: 0.1692 - accuracy: 0.9380 - val_loss: 0.1962 - val_accuracy: 0.9344\n",
            "Epoch 57/100\n",
            "256/256 [==============================] - 1s 3ms/step - loss: 0.1682 - accuracy: 0.9380 - val_loss: 0.2022 - val_accuracy: 0.9305\n",
            "Epoch 58/100\n",
            "256/256 [==============================] - 1s 2ms/step - loss: 0.1673 - accuracy: 0.9393 - val_loss: 0.1987 - val_accuracy: 0.9319\n",
            "Epoch 59/100\n",
            "256/256 [==============================] - 0s 2ms/step - loss: 0.1674 - accuracy: 0.9389 - val_loss: 0.1974 - val_accuracy: 0.9314\n",
            "Epoch 60/100\n",
            "256/256 [==============================] - 0s 2ms/step - loss: 0.1682 - accuracy: 0.9386 - val_loss: 0.1950 - val_accuracy: 0.9334\n",
            "Epoch 61/100\n",
            "256/256 [==============================] - 1s 2ms/step - loss: 0.1669 - accuracy: 0.9394 - val_loss: 0.1987 - val_accuracy: 0.9324\n",
            "Epoch 62/100\n",
            "256/256 [==============================] - 1s 2ms/step - loss: 0.1675 - accuracy: 0.9405 - val_loss: 0.1972 - val_accuracy: 0.9339\n",
            "Epoch 63/100\n",
            "256/256 [==============================] - 1s 2ms/step - loss: 0.1666 - accuracy: 0.9386 - val_loss: 0.1944 - val_accuracy: 0.9339\n",
            "Epoch 64/100\n",
            "256/256 [==============================] - 1s 2ms/step - loss: 0.1673 - accuracy: 0.9382 - val_loss: 0.1963 - val_accuracy: 0.9329\n",
            "Epoch 65/100\n",
            "256/256 [==============================] - 1s 2ms/step - loss: 0.1666 - accuracy: 0.9399 - val_loss: 0.1953 - val_accuracy: 0.9344\n",
            "Epoch 66/100\n",
            "256/256 [==============================] - 1s 2ms/step - loss: 0.1656 - accuracy: 0.9400 - val_loss: 0.1993 - val_accuracy: 0.9314\n",
            "Epoch 67/100\n",
            "256/256 [==============================] - 1s 2ms/step - loss: 0.1646 - accuracy: 0.9407 - val_loss: 0.1985 - val_accuracy: 0.9310\n",
            "Epoch 68/100\n",
            "256/256 [==============================] - 1s 2ms/step - loss: 0.1658 - accuracy: 0.9409 - val_loss: 0.1957 - val_accuracy: 0.9324\n",
            "Epoch 69/100\n",
            "256/256 [==============================] - 0s 2ms/step - loss: 0.1664 - accuracy: 0.9409 - val_loss: 0.1963 - val_accuracy: 0.9324\n",
            "Epoch 70/100\n",
            "256/256 [==============================] - 0s 2ms/step - loss: 0.1647 - accuracy: 0.9388 - val_loss: 0.2012 - val_accuracy: 0.9300\n",
            "Epoch 71/100\n",
            "256/256 [==============================] - 0s 2ms/step - loss: 0.1644 - accuracy: 0.9411 - val_loss: 0.1970 - val_accuracy: 0.9334\n",
            "Epoch 72/100\n",
            "256/256 [==============================] - 0s 2ms/step - loss: 0.1642 - accuracy: 0.9399 - val_loss: 0.1954 - val_accuracy: 0.9344\n",
            "Epoch 73/100\n",
            "256/256 [==============================] - 1s 2ms/step - loss: 0.1633 - accuracy: 0.9407 - val_loss: 0.1946 - val_accuracy: 0.9344\n",
            "Epoch 74/100\n",
            "256/256 [==============================] - 1s 2ms/step - loss: 0.1640 - accuracy: 0.9413 - val_loss: 0.1973 - val_accuracy: 0.9310\n",
            "Epoch 75/100\n",
            "256/256 [==============================] - 0s 2ms/step - loss: 0.1647 - accuracy: 0.9405 - val_loss: 0.1961 - val_accuracy: 0.9305\n",
            "Epoch 76/100\n",
            "256/256 [==============================] - 1s 2ms/step - loss: 0.1637 - accuracy: 0.9395 - val_loss: 0.1979 - val_accuracy: 0.9334\n",
            "Epoch 77/100\n",
            "256/256 [==============================] - 1s 3ms/step - loss: 0.1651 - accuracy: 0.9404 - val_loss: 0.1948 - val_accuracy: 0.9334\n",
            "Epoch 78/100\n",
            "256/256 [==============================] - 1s 3ms/step - loss: 0.1637 - accuracy: 0.9427 - val_loss: 0.1950 - val_accuracy: 0.9354\n",
            "Epoch 79/100\n",
            "256/256 [==============================] - 1s 3ms/step - loss: 0.1637 - accuracy: 0.9421 - val_loss: 0.1947 - val_accuracy: 0.9354\n",
            "Epoch 80/100\n",
            "256/256 [==============================] - 1s 2ms/step - loss: 0.1631 - accuracy: 0.9399 - val_loss: 0.1957 - val_accuracy: 0.9319\n",
            "Epoch 81/100\n",
            "256/256 [==============================] - 1s 2ms/step - loss: 0.1631 - accuracy: 0.9401 - val_loss: 0.1990 - val_accuracy: 0.9324\n",
            "Epoch 82/100\n",
            "256/256 [==============================] - 1s 2ms/step - loss: 0.1631 - accuracy: 0.9404 - val_loss: 0.1952 - val_accuracy: 0.9324\n",
            "Epoch 83/100\n",
            "256/256 [==============================] - 1s 2ms/step - loss: 0.1627 - accuracy: 0.9417 - val_loss: 0.1941 - val_accuracy: 0.9349\n",
            "Epoch 84/100\n",
            "256/256 [==============================] - 1s 2ms/step - loss: 0.1624 - accuracy: 0.9413 - val_loss: 0.1932 - val_accuracy: 0.9368\n",
            "Epoch 85/100\n",
            "256/256 [==============================] - 1s 2ms/step - loss: 0.1626 - accuracy: 0.9418 - val_loss: 0.1947 - val_accuracy: 0.9373\n",
            "Epoch 86/100\n",
            "256/256 [==============================] - 1s 2ms/step - loss: 0.1625 - accuracy: 0.9389 - val_loss: 0.1939 - val_accuracy: 0.9344\n",
            "Epoch 87/100\n",
            "256/256 [==============================] - 1s 2ms/step - loss: 0.1620 - accuracy: 0.9407 - val_loss: 0.1933 - val_accuracy: 0.9349\n",
            "Epoch 88/100\n",
            "256/256 [==============================] - 1s 2ms/step - loss: 0.1625 - accuracy: 0.9406 - val_loss: 0.1962 - val_accuracy: 0.9358\n",
            "Epoch 89/100\n",
            "256/256 [==============================] - 1s 2ms/step - loss: 0.1618 - accuracy: 0.9410 - val_loss: 0.1976 - val_accuracy: 0.9349\n",
            "Epoch 90/100\n",
            "256/256 [==============================] - 1s 2ms/step - loss: 0.1612 - accuracy: 0.9409 - val_loss: 0.1992 - val_accuracy: 0.9339\n",
            "Epoch 91/100\n",
            "256/256 [==============================] - 1s 2ms/step - loss: 0.1605 - accuracy: 0.9417 - val_loss: 0.1988 - val_accuracy: 0.9319\n",
            "Epoch 92/100\n",
            "256/256 [==============================] - 1s 2ms/step - loss: 0.1615 - accuracy: 0.9404 - val_loss: 0.1946 - val_accuracy: 0.9383\n",
            "Epoch 93/100\n",
            "256/256 [==============================] - 1s 2ms/step - loss: 0.1611 - accuracy: 0.9426 - val_loss: 0.1951 - val_accuracy: 0.9358\n",
            "Epoch 94/100\n",
            "256/256 [==============================] - 1s 2ms/step - loss: 0.1605 - accuracy: 0.9432 - val_loss: 0.1957 - val_accuracy: 0.9329\n",
            "Epoch 95/100\n",
            "256/256 [==============================] - 1s 2ms/step - loss: 0.1608 - accuracy: 0.9405 - val_loss: 0.1978 - val_accuracy: 0.9349\n",
            "Epoch 96/100\n",
            "256/256 [==============================] - 1s 2ms/step - loss: 0.1604 - accuracy: 0.9422 - val_loss: 0.2004 - val_accuracy: 0.9319\n",
            "Epoch 97/100\n",
            "256/256 [==============================] - 1s 3ms/step - loss: 0.1601 - accuracy: 0.9415 - val_loss: 0.1993 - val_accuracy: 0.9319\n",
            "Epoch 98/100\n",
            "256/256 [==============================] - 1s 3ms/step - loss: 0.1597 - accuracy: 0.9410 - val_loss: 0.1948 - val_accuracy: 0.9344\n",
            "Epoch 99/100\n",
            "256/256 [==============================] - 1s 3ms/step - loss: 0.1608 - accuracy: 0.9405 - val_loss: 0.1993 - val_accuracy: 0.9324\n",
            "Epoch 100/100\n",
            "256/256 [==============================] - 1s 3ms/step - loss: 0.1598 - accuracy: 0.9417 - val_loss: 0.1997 - val_accuracy: 0.9295\n"
          ]
        },
        {
          "output_type": "execute_result",
          "data": {
            "text/plain": [
              "<keras.src.callbacks.History at 0x79ca0fda5de0>"
            ]
          },
          "metadata": {},
          "execution_count": 63
        }
      ]
    },
    {
      "cell_type": "code",
      "source": [
        "model.evaluate(X_test_scaled, y_test)"
      ],
      "metadata": {
        "colab": {
          "base_uri": "https://localhost:8080/"
        },
        "id": "5HRa85D316QK",
        "outputId": "f863023e-ee85-47b6-cff3-5a236c692fd8"
      },
      "execution_count": null,
      "outputs": [
        {
          "output_type": "stream",
          "name": "stdout",
          "text": [
            "107/107 [==============================] - 0s 2ms/step - loss: 0.2138 - accuracy: 0.9233\n"
          ]
        },
        {
          "output_type": "execute_result",
          "data": {
            "text/plain": [
              "[0.2137821763753891, 0.923302948474884]"
            ]
          },
          "metadata": {},
          "execution_count": 64
        }
      ]
    },
    {
      "cell_type": "code",
      "source": [
        "# X_test_scaled[100:110],\n",
        "y_test[100:110]"
      ],
      "metadata": {
        "colab": {
          "base_uri": "https://localhost:8080/"
        },
        "id": "ManYorIT48FX",
        "outputId": "60f3c5c5-0bb9-4578-ff7c-e9635cf269c1"
      },
      "execution_count": null,
      "outputs": [
        {
          "output_type": "execute_result",
          "data": {
            "text/plain": [
              "array([1, 4, 4, 2, 4, 6, 6, 0, 6, 3])"
            ]
          },
          "metadata": {},
          "execution_count": 65
        }
      ]
    },
    {
      "cell_type": "code",
      "source": [
        "import numpy as np"
      ],
      "metadata": {
        "id": "nSWWdoYF7vHM"
      },
      "execution_count": null,
      "outputs": []
    },
    {
      "cell_type": "code",
      "source": [
        "predict = model.predict( X_test_scaled[100:110] )\n",
        "[np.argsort(data)[-1] for data in predict]"
      ],
      "metadata": {
        "colab": {
          "base_uri": "https://localhost:8080/"
        },
        "id": "RzU_6EYi7xNj",
        "outputId": "372b0ca8-a8bd-45e9-a8a6-95ba34d4bd05"
      },
      "execution_count": null,
      "outputs": [
        {
          "output_type": "stream",
          "name": "stdout",
          "text": [
            "1/1 [==============================] - 0s 109ms/step\n"
          ]
        },
        {
          "output_type": "execute_result",
          "data": {
            "text/plain": [
              "[1, 4, 4, 2, 4, 6, 3, 0, 6, 3]"
            ]
          },
          "metadata": {},
          "execution_count": 67
        }
      ]
    },
    {
      "cell_type": "code",
      "source": [
        "predict = model.predict( X_test_scaled )\n",
        "predict = [np.argsort(data)[-1] for data in predict]\n",
        "np.mean(y_test == predict)"
      ],
      "metadata": {
        "id": "5e9na-3o7yrW",
        "outputId": "a0771dfc-ac0a-4357-e7d5-a9392ab39dea",
        "colab": {
          "base_uri": "https://localhost:8080/"
        }
      },
      "execution_count": null,
      "outputs": [
        {
          "output_type": "stream",
          "name": "stdout",
          "text": [
            "107/107 [==============================] - 0s 2ms/step\n"
          ]
        },
        {
          "output_type": "execute_result",
          "data": {
            "text/plain": [
              "0.9233029679694388"
            ]
          },
          "metadata": {},
          "execution_count": 68
        }
      ]
    },
    {
      "cell_type": "code",
      "source": [],
      "metadata": {
        "id": "6xPsQvoG70Gh"
      },
      "execution_count": null,
      "outputs": []
    }
  ]
}