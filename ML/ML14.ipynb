{
  "nbformat": 4,
  "nbformat_minor": 0,
  "metadata": {
    "colab": {
      "provenance": []
    },
    "kernelspec": {
      "name": "python3",
      "display_name": "Python 3"
    },
    "language_info": {
      "name": "python"
    }
  },
  "cells": [
    {
      "cell_type": "markdown",
      "source": [
        "텐서플로우 VS 넘파이\n",
        "- 둘은 수학적으로 사용되며 호환이 됨\n",
        "-"
      ],
      "metadata": {
        "id": "-5nPYgXAg0Vx"
      }
    },
    {
      "cell_type": "code",
      "execution_count": null,
      "metadata": {
        "colab": {
          "base_uri": "https://localhost:8080/"
        },
        "id": "2Zz-iJLogwNl",
        "outputId": "6f3d88bd-a243-4073-9cf7-37f63c7201c8"
      },
      "outputs": [
        {
          "output_type": "stream",
          "name": "stdout",
          "text": [
            "2.15.0\n"
          ]
        },
        {
          "output_type": "execute_result",
          "data": {
            "text/plain": [
              "<tf.Tensor: shape=(2, 3), dtype=float32, numpy=\n",
              "array([[0.6824664 , 0.45184016, 0.51809037],\n",
              "       [0.8672434 , 0.6193825 , 0.14765728]], dtype=float32)>"
            ]
          },
          "metadata": {},
          "execution_count": 59
        }
      ],
      "source": [
        "import tensorflow as tf\n",
        "print(tf.__version__)\n",
        "tf.random.uniform([2,3], 0, 1)    # 0과 1 사이의 2*3행렬"
      ]
    },
    {
      "cell_type": "code",
      "source": [
        "import tensorflow as tf\n",
        "import numpy as np\n",
        "t = tf.random.uniform([2,3],0,1)\n",
        "n = np.random.uniform(0,1,[2,3])\n",
        "print(f'tensorflow로 사용한 텐서 : {t}')\n",
        "print(f'numpy로 생성한 array : {n}')"
      ],
      "metadata": {
        "colab": {
          "base_uri": "https://localhost:8080/"
        },
        "id": "JiKpPTDahtcT",
        "outputId": "d37ead97-36fc-4262-b5e0-56ccb886f680"
      },
      "execution_count": null,
      "outputs": [
        {
          "output_type": "stream",
          "name": "stdout",
          "text": [
            "tensorflow로 사용한 텐서 : [[0.04129732 0.594339   0.6901165 ]\n",
            " [0.08810973 0.18008506 0.7692753 ]]\n",
            "numpy로 생성한 array : [[0.02588026 0.2944845  0.13437479]\n",
            " [0.94016142 0.53393715 0.123148  ]]\n"
          ]
        }
      ]
    },
    {
      "cell_type": "code",
      "source": [
        "print(f't+n={t+n}')"
      ],
      "metadata": {
        "colab": {
          "base_uri": "https://localhost:8080/"
        },
        "id": "Nedwg5rtiHVk",
        "outputId": "066bb230-6e4c-4459-b6e1-06f1477d0a2b"
      },
      "execution_count": null,
      "outputs": [
        {
          "output_type": "stream",
          "name": "stdout",
          "text": [
            "t+n=[[0.06717758 0.8888235  0.8244913 ]\n",
            " [1.0282712  0.7140222  0.89242333]]\n"
          ]
        }
      ]
    },
    {
      "cell_type": "markdown",
      "source": [
        "텐서\n",
        " - 0차원 텐서 : 스칼라, 상수\n",
        " - 1차원 텐서 :벡터(3,5,10) iris데이터의 샘플 한개\n",
        " - 2차원 텐서 : 행렬 흑백으로 이루어진 영상 한장\n",
        " - 3차원 텐서 -- n차원 텐서"
      ],
      "metadata": {
        "id": "HEvGD1UwjoXc"
      }
    },
    {
      "cell_type": "markdown",
      "source": [
        "텐서플로사 제공하는 데이터"
      ],
      "metadata": {
        "id": "9DkeLLnxkahB"
      }
    },
    {
      "cell_type": "code",
      "source": [
        "import tensorflow as tf\n",
        "import tensorflow.keras.datasets as ds\n",
        "\n",
        "# MNIST 데이터셋 - 흑백 이미지\n",
        "(X_train,y_train), (_, _) = ds.mnist.load_data()\n",
        "y_train_onehot = tf.one_hot(y_train,10, dtype=tf.int8 )\n",
        "print(X_train.shape, y_train.shape, y_train_onehot.shape)\n",
        "\n",
        "# CIFAR-10 데이터셋 - 컬러 이미지\n",
        "(X_train,y_train), (_, _) = ds.cifar10.load_data()\n",
        "y_train_onehot = tf.one_hot(y_train, 10, dtype=tf.int8 )\n",
        "print(X_train.shape, y_train.shape, y_train_onehot.shape)\n",
        "\n",
        "# Boston Housing 데이터셋\n",
        "(X_train,y_train), (_, _) = ds.boston_housing.load_data()\n",
        "print(X_train.shape, y_train.shape)\n",
        "\n",
        "# Reuters 뉴스 데이터셋\n",
        "(X_train,y_train), (_, _) = ds.reuters.load_data()\n",
        "print(X_train.shape, y_train.shape)"
      ],
      "metadata": {
        "colab": {
          "base_uri": "https://localhost:8080/"
        },
        "id": "04gyY5bBjM2E",
        "outputId": "b9bcdcb4-4de8-4bd8-c42b-fc6056e16483"
      },
      "execution_count": null,
      "outputs": [
        {
          "output_type": "stream",
          "name": "stdout",
          "text": [
            "(60000, 28, 28) (60000,) (60000, 10)\n",
            "(50000, 32, 32, 3) (50000, 1) (50000, 1, 10)\n",
            "(404, 13) (404,)\n",
            "(8982,) (8982,)\n"
          ]
        }
      ]
    },
    {
      "cell_type": "code",
      "source": [
        "import numpy as np\n",
        "import tensorflow as tf\n",
        "from tensorflow.keras.datasets import mnist\n",
        "from tensorflow.keras.models import Sequential\n",
        "from tensorflow.keras.layers import Dense,Dropout,Flatten\n",
        "from tensorflow.keras.optimizers import Adam"
      ],
      "metadata": {
        "id": "jjVd_ssymsLD"
      },
      "execution_count": null,
      "outputs": []
    },
    {
      "cell_type": "code",
      "source": [
        "# 데이터를 읽어서 신경망에 입력할 형태로 변환\n",
        "(X_train,y_train),(X_test, y_test) = mnist.load_data()\n",
        "X_train.shape"
      ],
      "metadata": {
        "colab": {
          "base_uri": "https://localhost:8080/"
        },
        "id": "sBcannOTrbSB",
        "outputId": "7fb94046-c756-4237-ae17-4eff3a8117f3"
      },
      "execution_count": null,
      "outputs": [
        {
          "output_type": "execute_result",
          "data": {
            "text/plain": [
              "(60000, 28, 28)"
            ]
          },
          "metadata": {},
          "execution_count": 64
        }
      ]
    },
    {
      "cell_type": "code",
      "source": [
        "# 표준화\n",
        "X_train_scaled = X_train / 255.0\n",
        "X_test_scaled = X_test / 255.0"
      ],
      "metadata": {
        "id": "RugHa91xrwRk"
      },
      "execution_count": null,
      "outputs": []
    },
    {
      "cell_type": "code",
      "source": [
        "# y 데이터 one hot\n",
        "# y_train_onehot = tf.one_hot(y_train,10,dtype=tf.int8)\n",
        "# y_test_onehot = tf.one_hot(y_test,10,dtype=tf.int8)\n",
        "y_train_onehot = tf.keras.utils.to_categorical(y_train,10)\n",
        "y_test_onehot = tf.keras.utils.to_categorical(y_test,10)"
      ],
      "metadata": {
        "id": "jv2_0yYjsOV1"
      },
      "execution_count": null,
      "outputs": []
    },
    {
      "cell_type": "code",
      "source": [
        "# 신경망 구조 설계\n",
        "n_input = (X_train.shape[1], X_train.shape[2])\n",
        "n_hidden1 = 1024\n",
        "n_hidden2 = 512\n",
        "n_hidden3 = 512\n",
        "n_hidden4 = 512\n",
        "n_output = 10\n",
        "\n",
        "mlp = Sequential()\n",
        "mlp.add( Flatten(input_shape=n_input)  )\n",
        "mlp.add( Dense(n_hidden1, activation='relu')  )\n",
        "mlp.add( Dense(n_hidden2, activation='relu')  )\n",
        "mlp.add( Dense(n_hidden3, activation='relu')  )\n",
        "mlp.add( Dense(n_hidden4, activation='relu')  )\n",
        "mlp.add( Dense(n_output, activation='softmax')  )\n",
        "\n",
        "# 신경망 학습\n",
        "adam_ = Adam(learning_rate=0.001)\n",
        "mlp.compile(optimizer=adam_, loss = 'categorical_crossentropy',metrics='accuracy')\n",
        "ealy_stopping = tf.keras.callbacks.EarlyStopping(patience=2, restore_best_weights=True)\n",
        "checkpoint_cb = tf.keras.callbacks.ModelCheckpoint('best_model.keras', save_best_only=True)\n",
        "\n",
        "hist = mlp.fit(X_train_scaled,y_train_onehot,batch_size=128, epochs=60,validation_split=0.2,\n",
        "               callbacks=[checkpoint_cb,ealy_stopping] ,  verbose=2)\n"
      ],
      "metadata": {
        "colab": {
          "base_uri": "https://localhost:8080/"
        },
        "id": "SByiRY1WtBXM",
        "outputId": "3c60999e-5039-4618-b566-a78b27b71c34"
      },
      "execution_count": null,
      "outputs": [
        {
          "output_type": "stream",
          "name": "stdout",
          "text": [
            "Epoch 1/60\n",
            "375/375 - 19s - loss: 0.2372 - accuracy: 0.9274 - val_loss: 0.1164 - val_accuracy: 0.9643 - 19s/epoch - 51ms/step\n",
            "Epoch 2/60\n",
            "375/375 - 16s - loss: 0.0916 - accuracy: 0.9717 - val_loss: 0.1096 - val_accuracy: 0.9697 - 16s/epoch - 44ms/step\n",
            "Epoch 3/60\n",
            "375/375 - 17s - loss: 0.0633 - accuracy: 0.9803 - val_loss: 0.0995 - val_accuracy: 0.9716 - 17s/epoch - 45ms/step\n",
            "Epoch 4/60\n",
            "375/375 - 17s - loss: 0.0484 - accuracy: 0.9844 - val_loss: 0.1158 - val_accuracy: 0.9707 - 17s/epoch - 47ms/step\n",
            "Epoch 5/60\n",
            "375/375 - 17s - loss: 0.0382 - accuracy: 0.9877 - val_loss: 0.0922 - val_accuracy: 0.9763 - 17s/epoch - 45ms/step\n",
            "Epoch 6/60\n",
            "375/375 - 17s - loss: 0.0308 - accuracy: 0.9903 - val_loss: 0.0917 - val_accuracy: 0.9754 - 17s/epoch - 46ms/step\n",
            "Epoch 7/60\n",
            "375/375 - 18s - loss: 0.0289 - accuracy: 0.9911 - val_loss: 0.0923 - val_accuracy: 0.9772 - 18s/epoch - 47ms/step\n",
            "Epoch 8/60\n",
            "375/375 - 17s - loss: 0.0263 - accuracy: 0.9915 - val_loss: 0.1137 - val_accuracy: 0.9749 - 17s/epoch - 44ms/step\n"
          ]
        }
      ]
    },
    {
      "cell_type": "code",
      "source": [
        "tf.keras.utils.to_categorical(y_train,10).shape, tf.one_hot(y_train, 10).shape"
      ],
      "metadata": {
        "colab": {
          "base_uri": "https://localhost:8080/"
        },
        "id": "XzWXmtaDb0es",
        "outputId": "d86b9716-8bb1-4b6c-d1bc-6c5b6f878610"
      },
      "execution_count": null,
      "outputs": [
        {
          "output_type": "execute_result",
          "data": {
            "text/plain": [
              "((60000, 10), TensorShape([60000, 10]))"
            ]
          },
          "metadata": {},
          "execution_count": 68
        }
      ]
    },
    {
      "cell_type": "code",
      "source": [
        "############ GPT수정본 ################\n",
        "\n",
        "\n",
        "# 신경망 구조 설계\n",
        "n_input = (X_train.shape[1], X_train.shape[2])\n",
        "n_hidden1 = 1024\n",
        "n_hidden2 = 512\n",
        "n_hidden3 = 512\n",
        "n_hidden4 = 512\n",
        "n_output = 10\n",
        "\n",
        "mlp = Sequential()\n",
        "mlp.add(Flatten(input_shape=n_input))\n",
        "mlp.add(Dense(n_hidden1, activation='relu'))\n",
        "mlp.add(Dense(n_hidden2, activation='relu'))\n",
        "mlp.add(Dense(n_hidden3, activation='relu'))\n",
        "mlp.add(Dense(n_hidden4, activation='relu'))\n",
        "mlp.add(Dense(n_output, activation='relu'))\n",
        "\n",
        "# 신경망 학습\n",
        "adam = Adam(learning_rate=0.001)\n",
        "mlp.compile(optimizer=adam, loss='categorical_crossentropy', metrics=['accuracy'])\n",
        "\n",
        "# 콜백 정의\n",
        "early_stopping = tf.keras.callbacks.EarlyStopping(patience=2, restore_best_weights=True)\n",
        "checkpoint_cb = tf.keras.callbacks.ModelCheckpoint('best_model.keras', save_best_only=True)\n",
        "\n",
        "# 학습\n",
        "hist = mlp.fit(X_train_scaled, y_train_onehot, batch_size=128, epochs=60, validation_split=0.2,\n",
        "              callbacks=[checkpoint_cb, early_stopping], verbose=2)"
      ],
      "metadata": {
        "colab": {
          "base_uri": "https://localhost:8080/"
        },
        "id": "_fpB6wFUvMdE",
        "outputId": "10d5c1c9-59f1-4e78-d539-955a2b2f3d5c"
      },
      "execution_count": null,
      "outputs": [
        {
          "output_type": "stream",
          "name": "stdout",
          "text": [
            "Epoch 1/60\n",
            "375/375 - 22s - loss: nan - accuracy: 0.1123 - val_loss: nan - val_accuracy: 0.0995 - 22s/epoch - 58ms/step\n",
            "Epoch 2/60\n",
            "375/375 - 16s - loss: nan - accuracy: 0.0985 - val_loss: nan - val_accuracy: 0.0995 - 16s/epoch - 43ms/step\n"
          ]
        }
      ]
    },
    {
      "cell_type": "code",
      "source": [
        "# 분류에 해당하는 데이터를 가져옴\n",
        "# 지금까지 배운 신경망을 이용해서 분류모델을 만들고\n",
        "# 시각화를 통해 성능을 검증해보고 - 과적합\n",
        "# 평가"
      ],
      "metadata": {
        "id": "_1ayn3JvvpDV"
      },
      "execution_count": null,
      "outputs": []
    },
    {
      "cell_type": "code",
      "source": [
        "# https://drive.google.com/file/d/1mEiWSp7zBeRE975To6BRzjsPbAJC2dbQ/view?usp=sharing\n",
        "# wget --no-check-certificate 'https://docs.google.com/uc?export=download&id={FILEID}' -O {FILENAME}\n",
        "!wget https://drive.google.com/uc?id=1mEiWSp7zBeRE975To6BRzjsPbAJC2dbQ -O download.zip"
      ],
      "metadata": {
        "colab": {
          "base_uri": "https://localhost:8080/"
        },
        "id": "yidndDf97a18",
        "outputId": "bb8a182f-cc5a-4763-b8bc-176f5285293b"
      },
      "execution_count": null,
      "outputs": [
        {
          "output_type": "stream",
          "name": "stdout",
          "text": [
            "--2024-04-18 02:42:22--  https://drive.google.com/uc?id=1mEiWSp7zBeRE975To6BRzjsPbAJC2dbQ\n",
            "Resolving drive.google.com (drive.google.com)... 173.194.79.101, 173.194.79.139, 173.194.79.113, ...\n",
            "Connecting to drive.google.com (drive.google.com)|173.194.79.101|:443... connected.\n",
            "HTTP request sent, awaiting response... 303 See Other\n",
            "Location: https://drive.usercontent.google.com/download?id=1mEiWSp7zBeRE975To6BRzjsPbAJC2dbQ [following]\n",
            "--2024-04-18 02:42:23--  https://drive.usercontent.google.com/download?id=1mEiWSp7zBeRE975To6BRzjsPbAJC2dbQ\n",
            "Resolving drive.usercontent.google.com (drive.usercontent.google.com)... 172.217.218.132, 2a00:1450:4013:c08::84\n",
            "Connecting to drive.usercontent.google.com (drive.usercontent.google.com)|172.217.218.132|:443... connected.\n",
            "HTTP request sent, awaiting response... 200 OK\n",
            "Length: 128894 (126K) [application/octet-stream]\n",
            "Saving to: ‘download.zip’\n",
            "\n",
            "download.zip        100%[===================>] 125.87K  --.-KB/s    in 0.001s  \n",
            "\n",
            "2024-04-18 02:42:23 (118 MB/s) - ‘download.zip’ saved [128894/128894]\n",
            "\n"
          ]
        }
      ]
    },
    {
      "cell_type": "code",
      "source": [
        "!pip install gdown\n",
        "!pip install ucimlrepo"
      ],
      "metadata": {
        "colab": {
          "base_uri": "https://localhost:8080/"
        },
        "id": "hMBot4Jn7dri",
        "outputId": "52a918a3-46a2-4b9a-fb43-f3cc6b4b32b4"
      },
      "execution_count": null,
      "outputs": [
        {
          "output_type": "stream",
          "name": "stdout",
          "text": [
            "Requirement already satisfied: gdown in /usr/local/lib/python3.10/dist-packages (4.7.3)\n",
            "Requirement already satisfied: filelock in /usr/local/lib/python3.10/dist-packages (from gdown) (3.13.4)\n",
            "Requirement already satisfied: requests[socks] in /usr/local/lib/python3.10/dist-packages (from gdown) (2.31.0)\n",
            "Requirement already satisfied: six in /usr/local/lib/python3.10/dist-packages (from gdown) (1.16.0)\n",
            "Requirement already satisfied: tqdm in /usr/local/lib/python3.10/dist-packages (from gdown) (4.66.2)\n",
            "Requirement already satisfied: beautifulsoup4 in /usr/local/lib/python3.10/dist-packages (from gdown) (4.12.3)\n",
            "Requirement already satisfied: soupsieve>1.2 in /usr/local/lib/python3.10/dist-packages (from beautifulsoup4->gdown) (2.5)\n",
            "Requirement already satisfied: charset-normalizer<4,>=2 in /usr/local/lib/python3.10/dist-packages (from requests[socks]->gdown) (3.3.2)\n",
            "Requirement already satisfied: idna<4,>=2.5 in /usr/local/lib/python3.10/dist-packages (from requests[socks]->gdown) (3.6)\n",
            "Requirement already satisfied: urllib3<3,>=1.21.1 in /usr/local/lib/python3.10/dist-packages (from requests[socks]->gdown) (2.0.7)\n",
            "Requirement already satisfied: certifi>=2017.4.17 in /usr/local/lib/python3.10/dist-packages (from requests[socks]->gdown) (2024.2.2)\n",
            "Requirement already satisfied: PySocks!=1.5.7,>=1.5.6 in /usr/local/lib/python3.10/dist-packages (from requests[socks]->gdown) (1.7.1)\n",
            "Requirement already satisfied: ucimlrepo in /usr/local/lib/python3.10/dist-packages (0.0.6)\n"
          ]
        }
      ]
    },
    {
      "cell_type": "code",
      "source": [
        "import gdown\n",
        "url = 'https://drive.google.com/uc?id=1mEiWSp7zBeRE975To6BRzjsPbAJC2dbQ'\n",
        "output = 'test.zip'\n",
        "gdown.download(url,output)"
      ],
      "metadata": {
        "colab": {
          "base_uri": "https://localhost:8080/",
          "height": 107
        },
        "id": "pQltXdSM_5fZ",
        "outputId": "27a4d6e3-4281-4b45-9b63-e0cfc8a0320f"
      },
      "execution_count": null,
      "outputs": [
        {
          "output_type": "stream",
          "name": "stderr",
          "text": [
            "Downloading...\n",
            "From: https://drive.google.com/uc?id=1mEiWSp7zBeRE975To6BRzjsPbAJC2dbQ\n",
            "To: /content/test.zip\n",
            "100%|██████████| 129k/129k [00:00<00:00, 79.4MB/s]\n"
          ]
        },
        {
          "output_type": "execute_result",
          "data": {
            "text/plain": [
              "'test.zip'"
            ],
            "application/vnd.google.colaboratory.intrinsic+json": {
              "type": "string"
            }
          },
          "metadata": {},
          "execution_count": 73
        }
      ]
    },
    {
      "cell_type": "code",
      "source": [
        "!unzip /content/download.zip"
      ],
      "metadata": {
        "colab": {
          "base_uri": "https://localhost:8080/"
        },
        "id": "0BM7s9s9cLxb",
        "outputId": "46adcd1f-e156-4585-c15a-580d05fb32bf"
      },
      "execution_count": null,
      "outputs": [
        {
          "output_type": "stream",
          "name": "stdout",
          "text": [
            "Archive:  /content/download.zip\n",
            "replace Index? [y]es, [n]o, [A]ll, [N]one, [r]ename: "
          ]
        }
      ]
    },
    {
      "cell_type": "code",
      "source": [
        "from ucimlrepo import fetch_ucirepo\n",
        "\n",
        "# fetch dataset\n",
        "heart_disease = fetch_ucirepo(id=45)\n",
        "\n",
        "# data (as pandas dataframes)\n",
        "X = heart_disease.data.features\n",
        "y = heart_disease.data.targets\n",
        "\n",
        "# metadata\n",
        "print(heart_disease.metadata)\n",
        "\n",
        "# variable information\n",
        "print(heart_disease.variables)"
      ],
      "metadata": {
        "colab": {
          "base_uri": "https://localhost:8080/"
        },
        "id": "ldjCxxpccVSL",
        "outputId": "e5921ebf-c078-4ece-80e2-6fadf6424d3e"
      },
      "execution_count": null,
      "outputs": [
        {
          "output_type": "stream",
          "name": "stdout",
          "text": [
            "{'uci_id': 45, 'name': 'Heart Disease', 'repository_url': 'https://archive.ics.uci.edu/dataset/45/heart+disease', 'data_url': 'https://archive.ics.uci.edu/static/public/45/data.csv', 'abstract': '4 databases: Cleveland, Hungary, Switzerland, and the VA Long Beach', 'area': 'Health and Medicine', 'tasks': ['Classification'], 'characteristics': ['Multivariate'], 'num_instances': 303, 'num_features': 13, 'feature_types': ['Categorical', 'Integer', 'Real'], 'demographics': ['Age', 'Sex'], 'target_col': ['num'], 'index_col': None, 'has_missing_values': 'yes', 'missing_values_symbol': 'NaN', 'year_of_dataset_creation': 1989, 'last_updated': 'Fri Nov 03 2023', 'dataset_doi': '10.24432/C52P4X', 'creators': ['Andras Janosi', 'William Steinbrunn', 'Matthias Pfisterer', 'Robert Detrano'], 'intro_paper': {'title': 'International application of a new probability algorithm for the diagnosis of coronary artery disease.', 'authors': 'R. Detrano, A. Jánosi, W. Steinbrunn, M. Pfisterer, J. Schmid, S. Sandhu, K. Guppy, S. Lee, V. Froelicher', 'published_in': 'American Journal of Cardiology', 'year': 1989, 'url': 'https://www.semanticscholar.org/paper/a7d714f8f87bfc41351eb5ae1e5472f0ebbe0574', 'doi': None}, 'additional_info': {'summary': 'This database contains 76 attributes, but all published experiments refer to using a subset of 14 of them.  In particular, the Cleveland database is the only one that has been used by ML researchers to date.  The \"goal\" field refers to the presence of heart disease in the patient.  It is integer valued from 0 (no presence) to 4. Experiments with the Cleveland database have concentrated on simply attempting to distinguish presence (values 1,2,3,4) from absence (value 0).  \\n   \\nThe names and social security numbers of the patients were recently removed from the database, replaced with dummy values.\\n\\nOne file has been \"processed\", that one containing the Cleveland database.  All four unprocessed files also exist in this directory.\\n\\nTo see Test Costs (donated by Peter Turney), please see the folder \"Costs\" ', 'purpose': None, 'funded_by': None, 'instances_represent': None, 'recommended_data_splits': None, 'sensitive_data': None, 'preprocessing_description': None, 'variable_info': 'Only 14 attributes used:\\r\\n      1. #3  (age)       \\r\\n      2. #4  (sex)       \\r\\n      3. #9  (cp)        \\r\\n      4. #10 (trestbps)  \\r\\n      5. #12 (chol)      \\r\\n      6. #16 (fbs)       \\r\\n      7. #19 (restecg)   \\r\\n      8. #32 (thalach)   \\r\\n      9. #38 (exang)     \\r\\n      10. #40 (oldpeak)   \\r\\n      11. #41 (slope)     \\r\\n      12. #44 (ca)        \\r\\n      13. #51 (thal)      \\r\\n      14. #58 (num)       (the predicted attribute)\\r\\n\\r\\nComplete attribute documentation:\\r\\n      1 id: patient identification number\\r\\n      2 ccf: social security number (I replaced this with a dummy value of 0)\\r\\n      3 age: age in years\\r\\n      4 sex: sex (1 = male; 0 = female)\\r\\n      5 painloc: chest pain location (1 = substernal; 0 = otherwise)\\r\\n      6 painexer (1 = provoked by exertion; 0 = otherwise)\\r\\n      7 relrest (1 = relieved after rest; 0 = otherwise)\\r\\n      8 pncaden (sum of 5, 6, and 7)\\r\\n      9 cp: chest pain type\\r\\n        -- Value 1: typical angina\\r\\n        -- Value 2: atypical angina\\r\\n        -- Value 3: non-anginal pain\\r\\n        -- Value 4: asymptomatic\\r\\n     10 trestbps: resting blood pressure (in mm Hg on admission to the hospital)\\r\\n     11 htn\\r\\n     12 chol: serum cholestoral in mg/dl\\r\\n     13 smoke: I believe this is 1 = yes; 0 = no (is or is not a smoker)\\r\\n     14 cigs (cigarettes per day)\\r\\n     15 years (number of years as a smoker)\\r\\n     16 fbs: (fasting blood sugar > 120 mg/dl)  (1 = true; 0 = false)\\r\\n     17 dm (1 = history of diabetes; 0 = no such history)\\r\\n     18 famhist: family history of coronary artery disease (1 = yes; 0 = no)\\r\\n     19 restecg: resting electrocardiographic results\\r\\n        -- Value 0: normal\\r\\n        -- Value 1: having ST-T wave abnormality (T wave inversions and/or ST elevation or depression of > 0.05 mV)\\r\\n        -- Value 2: showing probable or definite left ventricular hypertrophy by Estes\\' criteria\\r\\n     20 ekgmo (month of exercise ECG reading)\\r\\n     21 ekgday(day of exercise ECG reading)\\r\\n     22 ekgyr (year of exercise ECG reading)\\r\\n     23 dig (digitalis used furing exercise ECG: 1 = yes; 0 = no)\\r\\n     24 prop (Beta blocker used during exercise ECG: 1 = yes; 0 = no)\\r\\n     25 nitr (nitrates used during exercise ECG: 1 = yes; 0 = no)\\r\\n     26 pro (calcium channel blocker used during exercise ECG: 1 = yes; 0 = no)\\r\\n     27 diuretic (diuretic used used during exercise ECG: 1 = yes; 0 = no)\\r\\n     28 proto: exercise protocol\\r\\n          1 = Bruce     \\r\\n          2 = Kottus\\r\\n          3 = McHenry\\r\\n          4 = fast Balke\\r\\n          5 = Balke\\r\\n          6 = Noughton \\r\\n          7 = bike 150 kpa min/min  (Not sure if \"kpa min/min\" is what was written!)\\r\\n          8 = bike 125 kpa min/min  \\r\\n          9 = bike 100 kpa min/min\\r\\n         10 = bike 75 kpa min/min\\r\\n         11 = bike 50 kpa min/min\\r\\n         12 = arm ergometer\\r\\n     29 thaldur: duration of exercise test in minutes\\r\\n     30 thaltime: time when ST measure depression was noted\\r\\n     31 met: mets achieved\\r\\n     32 thalach: maximum heart rate achieved\\r\\n     33 thalrest: resting heart rate\\r\\n     34 tpeakbps: peak exercise blood pressure (first of 2 parts)\\r\\n     35 tpeakbpd: peak exercise blood pressure (second of 2 parts)\\r\\n     36 dummy\\r\\n     37 trestbpd: resting blood pressure\\r\\n     38 exang: exercise induced angina (1 = yes; 0 = no)\\r\\n     39 xhypo: (1 = yes; 0 = no)\\r\\n     40 oldpeak = ST depression induced by exercise relative to rest\\r\\n     41 slope: the slope of the peak exercise ST segment\\r\\n        -- Value 1: upsloping\\r\\n        -- Value 2: flat\\r\\n        -- Value 3: downsloping\\r\\n     42 rldv5: height at rest\\r\\n     43 rldv5e: height at peak exercise\\r\\n     44 ca: number of major vessels (0-3) colored by flourosopy\\r\\n     45 restckm: irrelevant\\r\\n     46 exerckm: irrelevant\\r\\n     47 restef: rest raidonuclid (sp?) ejection fraction\\r\\n     48 restwm: rest wall (sp?) motion abnormality\\r\\n        0 = none\\r\\n        1 = mild or moderate\\r\\n        2 = moderate or severe\\r\\n        3 = akinesis or dyskmem (sp?)\\r\\n     49 exeref: exercise radinalid (sp?) ejection fraction\\r\\n     50 exerwm: exercise wall (sp?) motion \\r\\n     51 thal: 3 = normal; 6 = fixed defect; 7 = reversable defect\\r\\n     52 thalsev: not used\\r\\n     53 thalpul: not used\\r\\n     54 earlobe: not used\\r\\n     55 cmo: month of cardiac cath (sp?)  (perhaps \"call\")\\r\\n     56 cday: day of cardiac cath (sp?)\\r\\n     57 cyr: year of cardiac cath (sp?)\\r\\n     58 num: diagnosis of heart disease (angiographic disease status)\\r\\n        -- Value 0: < 50% diameter narrowing\\r\\n        -- Value 1: > 50% diameter narrowing\\r\\n        (in any major vessel: attributes 59 through 68 are vessels)\\r\\n     59 lmt\\r\\n     60 ladprox\\r\\n     61 laddist\\r\\n     62 diag\\r\\n     63 cxmain\\r\\n     64 ramus\\r\\n     65 om1\\r\\n     66 om2\\r\\n     67 rcaprox\\r\\n     68 rcadist\\r\\n     69 lvx1: not used\\r\\n     70 lvx2: not used\\r\\n     71 lvx3: not used\\r\\n     72 lvx4: not used\\r\\n     73 lvf: not used\\r\\n     74 cathef: not used\\r\\n     75 junk: not used\\r\\n     76 name: last name of patient  (I replaced this with the dummy string \"name\")', 'citation': None}}\n"
          ]
        },
        {
          "output_type": "stream",
          "name": "stderr",
          "text": [
            "Exception ignored in: <function _xla_gc_callback at 0x7e7a3747c5e0>\n",
            "Traceback (most recent call last):\n",
            "  File \"/usr/local/lib/python3.10/dist-packages/jax/_src/lib/__init__.py\", line 98, in _xla_gc_callback\n",
            "    def _xla_gc_callback(*args):\n",
            "KeyboardInterrupt: \n"
          ]
        },
        {
          "output_type": "stream",
          "name": "stdout",
          "text": [
            "        name     role         type demographic  \\\n",
            "0        age  Feature      Integer         Age   \n",
            "1        sex  Feature  Categorical         Sex   \n",
            "2         cp  Feature  Categorical        None   \n",
            "3   trestbps  Feature      Integer        None   \n",
            "4       chol  Feature      Integer        None   \n",
            "5        fbs  Feature  Categorical        None   \n",
            "6    restecg  Feature  Categorical        None   \n",
            "7    thalach  Feature      Integer        None   \n",
            "8      exang  Feature  Categorical        None   \n",
            "9    oldpeak  Feature      Integer        None   \n",
            "10     slope  Feature  Categorical        None   \n",
            "11        ca  Feature      Integer        None   \n",
            "12      thal  Feature  Categorical        None   \n",
            "13       num   Target      Integer        None   \n",
            "\n",
            "                                          description  units missing_values  \n",
            "0                                                None  years             no  \n",
            "1                                                None   None             no  \n",
            "2                                                None   None             no  \n",
            "3   resting blood pressure (on admission to the ho...  mm Hg             no  \n",
            "4                                   serum cholestoral  mg/dl             no  \n",
            "5                     fasting blood sugar > 120 mg/dl   None             no  \n",
            "6                                                None   None             no  \n",
            "7                         maximum heart rate achieved   None             no  \n",
            "8                             exercise induced angina   None             no  \n",
            "9   ST depression induced by exercise relative to ...   None             no  \n",
            "10                                               None   None             no  \n",
            "11  number of major vessels (0-3) colored by flour...   None            yes  \n",
            "12                                               None   None            yes  \n",
            "13                         diagnosis of heart disease   None             no  \n"
          ]
        }
      ]
    },
    {
      "cell_type": "code",
      "source": [
        "heart_disease.metadata.data_url"
      ],
      "metadata": {
        "colab": {
          "base_uri": "https://localhost:8080/",
          "height": 35
        },
        "id": "aBawft0UcZJB",
        "outputId": "5e24c334-b9cd-415b-c53c-61d9e791b178"
      },
      "execution_count": null,
      "outputs": [
        {
          "output_type": "execute_result",
          "data": {
            "text/plain": [
              "'https://archive.ics.uci.edu/static/public/45/data.csv'"
            ],
            "application/vnd.google.colaboratory.intrinsic+json": {
              "type": "string"
            }
          },
          "metadata": {},
          "execution_count": 76
        }
      ]
    },
    {
      "cell_type": "code",
      "source": [
        "import pandas as pd\n",
        "df = pd.read_csv(heart_disease.metadata.data_url)\n",
        "df.num.value_counts()\n",
        "#0 정상\n",
        "# 1 심장 백내장\n",
        "# 2 협심증\n",
        "# 3 심근경색"
      ],
      "metadata": {
        "colab": {
          "base_uri": "https://localhost:8080/"
        },
        "id": "ZIOnbqYkcb3r",
        "outputId": "fd508150-6362-4186-f410-fb1279d7f4fe"
      },
      "execution_count": null,
      "outputs": [
        {
          "output_type": "execute_result",
          "data": {
            "text/plain": [
              "num\n",
              "0    164\n",
              "1     55\n",
              "2     36\n",
              "3     35\n",
              "4     13\n",
              "Name: count, dtype: int64"
            ]
          },
          "metadata": {},
          "execution_count": 77
        }
      ]
    },
    {
      "cell_type": "code",
      "source": [
        "# 필요한 라이브러리\n",
        "import numpy as np\n",
        "import tensorflow as tf\n",
        "from tensorflow.keras.datasets import mnist\n",
        "from tensorflow.keras.models import Sequential\n",
        "from tensorflow.keras.layers import Dense,Dropout,Flatten\n",
        "from tensorflow.keras.optimizers import Adam\n",
        "from sklearn.model_selection import train_test_split\n",
        "from sklearn.preprocessing import StandardScaler\n",
        "import pandas as pd"
      ],
      "metadata": {
        "id": "wZAJV-0Dcert"
      },
      "execution_count": null,
      "outputs": []
    },
    {
      "cell_type": "code",
      "source": [
        "# 데이터 로드\n",
        "# 데이터 로드\n",
        "df = pd.read_csv(heart_disease.metadata.data_url)\n",
        "X = df.iloc[:,:-1]\n",
        "y = df.iloc[:,-1]"
      ],
      "metadata": {
        "id": "kz1S9ja0Hh4I"
      },
      "execution_count": null,
      "outputs": []
    },
    {
      "cell_type": "code",
      "source": [
        "df.describe()"
      ],
      "metadata": {
        "colab": {
          "base_uri": "https://localhost:8080/",
          "height": 320
        },
        "id": "OlpbUflqhrSz",
        "outputId": "0283eb4e-9cbe-41f1-dabd-8962884fdac7"
      },
      "execution_count": null,
      "outputs": [
        {
          "output_type": "execute_result",
          "data": {
            "text/plain": [
              "              age         sex          cp    trestbps        chol         fbs  \\\n",
              "count  303.000000  303.000000  303.000000  303.000000  303.000000  303.000000   \n",
              "mean    54.438944    0.679868    3.158416  131.689769  246.693069    0.148515   \n",
              "std      9.038662    0.467299    0.960126   17.599748   51.776918    0.356198   \n",
              "min     29.000000    0.000000    1.000000   94.000000  126.000000    0.000000   \n",
              "25%     48.000000    0.000000    3.000000  120.000000  211.000000    0.000000   \n",
              "50%     56.000000    1.000000    3.000000  130.000000  241.000000    0.000000   \n",
              "75%     61.000000    1.000000    4.000000  140.000000  275.000000    0.000000   \n",
              "max     77.000000    1.000000    4.000000  200.000000  564.000000    1.000000   \n",
              "\n",
              "          restecg     thalach       exang     oldpeak       slope          ca  \\\n",
              "count  303.000000  303.000000  303.000000  303.000000  303.000000  299.000000   \n",
              "mean     0.990099  149.607261    0.326733    1.039604    1.600660    0.672241   \n",
              "std      0.994971   22.875003    0.469794    1.161075    0.616226    0.937438   \n",
              "min      0.000000   71.000000    0.000000    0.000000    1.000000    0.000000   \n",
              "25%      0.000000  133.500000    0.000000    0.000000    1.000000    0.000000   \n",
              "50%      1.000000  153.000000    0.000000    0.800000    2.000000    0.000000   \n",
              "75%      2.000000  166.000000    1.000000    1.600000    2.000000    1.000000   \n",
              "max      2.000000  202.000000    1.000000    6.200000    3.000000    3.000000   \n",
              "\n",
              "             thal         num  \n",
              "count  301.000000  303.000000  \n",
              "mean     4.734219    0.937294  \n",
              "std      1.939706    1.228536  \n",
              "min      3.000000    0.000000  \n",
              "25%      3.000000    0.000000  \n",
              "50%      3.000000    0.000000  \n",
              "75%      7.000000    2.000000  \n",
              "max      7.000000    4.000000  "
            ],
            "text/html": [
              "\n",
              "  <div id=\"df-e14bc531-4f91-48f3-acd0-e3ce13b27bc4\" class=\"colab-df-container\">\n",
              "    <div>\n",
              "<style scoped>\n",
              "    .dataframe tbody tr th:only-of-type {\n",
              "        vertical-align: middle;\n",
              "    }\n",
              "\n",
              "    .dataframe tbody tr th {\n",
              "        vertical-align: top;\n",
              "    }\n",
              "\n",
              "    .dataframe thead th {\n",
              "        text-align: right;\n",
              "    }\n",
              "</style>\n",
              "<table border=\"1\" class=\"dataframe\">\n",
              "  <thead>\n",
              "    <tr style=\"text-align: right;\">\n",
              "      <th></th>\n",
              "      <th>age</th>\n",
              "      <th>sex</th>\n",
              "      <th>cp</th>\n",
              "      <th>trestbps</th>\n",
              "      <th>chol</th>\n",
              "      <th>fbs</th>\n",
              "      <th>restecg</th>\n",
              "      <th>thalach</th>\n",
              "      <th>exang</th>\n",
              "      <th>oldpeak</th>\n",
              "      <th>slope</th>\n",
              "      <th>ca</th>\n",
              "      <th>thal</th>\n",
              "      <th>num</th>\n",
              "    </tr>\n",
              "  </thead>\n",
              "  <tbody>\n",
              "    <tr>\n",
              "      <th>count</th>\n",
              "      <td>303.000000</td>\n",
              "      <td>303.000000</td>\n",
              "      <td>303.000000</td>\n",
              "      <td>303.000000</td>\n",
              "      <td>303.000000</td>\n",
              "      <td>303.000000</td>\n",
              "      <td>303.000000</td>\n",
              "      <td>303.000000</td>\n",
              "      <td>303.000000</td>\n",
              "      <td>303.000000</td>\n",
              "      <td>303.000000</td>\n",
              "      <td>299.000000</td>\n",
              "      <td>301.000000</td>\n",
              "      <td>303.000000</td>\n",
              "    </tr>\n",
              "    <tr>\n",
              "      <th>mean</th>\n",
              "      <td>54.438944</td>\n",
              "      <td>0.679868</td>\n",
              "      <td>3.158416</td>\n",
              "      <td>131.689769</td>\n",
              "      <td>246.693069</td>\n",
              "      <td>0.148515</td>\n",
              "      <td>0.990099</td>\n",
              "      <td>149.607261</td>\n",
              "      <td>0.326733</td>\n",
              "      <td>1.039604</td>\n",
              "      <td>1.600660</td>\n",
              "      <td>0.672241</td>\n",
              "      <td>4.734219</td>\n",
              "      <td>0.937294</td>\n",
              "    </tr>\n",
              "    <tr>\n",
              "      <th>std</th>\n",
              "      <td>9.038662</td>\n",
              "      <td>0.467299</td>\n",
              "      <td>0.960126</td>\n",
              "      <td>17.599748</td>\n",
              "      <td>51.776918</td>\n",
              "      <td>0.356198</td>\n",
              "      <td>0.994971</td>\n",
              "      <td>22.875003</td>\n",
              "      <td>0.469794</td>\n",
              "      <td>1.161075</td>\n",
              "      <td>0.616226</td>\n",
              "      <td>0.937438</td>\n",
              "      <td>1.939706</td>\n",
              "      <td>1.228536</td>\n",
              "    </tr>\n",
              "    <tr>\n",
              "      <th>min</th>\n",
              "      <td>29.000000</td>\n",
              "      <td>0.000000</td>\n",
              "      <td>1.000000</td>\n",
              "      <td>94.000000</td>\n",
              "      <td>126.000000</td>\n",
              "      <td>0.000000</td>\n",
              "      <td>0.000000</td>\n",
              "      <td>71.000000</td>\n",
              "      <td>0.000000</td>\n",
              "      <td>0.000000</td>\n",
              "      <td>1.000000</td>\n",
              "      <td>0.000000</td>\n",
              "      <td>3.000000</td>\n",
              "      <td>0.000000</td>\n",
              "    </tr>\n",
              "    <tr>\n",
              "      <th>25%</th>\n",
              "      <td>48.000000</td>\n",
              "      <td>0.000000</td>\n",
              "      <td>3.000000</td>\n",
              "      <td>120.000000</td>\n",
              "      <td>211.000000</td>\n",
              "      <td>0.000000</td>\n",
              "      <td>0.000000</td>\n",
              "      <td>133.500000</td>\n",
              "      <td>0.000000</td>\n",
              "      <td>0.000000</td>\n",
              "      <td>1.000000</td>\n",
              "      <td>0.000000</td>\n",
              "      <td>3.000000</td>\n",
              "      <td>0.000000</td>\n",
              "    </tr>\n",
              "    <tr>\n",
              "      <th>50%</th>\n",
              "      <td>56.000000</td>\n",
              "      <td>1.000000</td>\n",
              "      <td>3.000000</td>\n",
              "      <td>130.000000</td>\n",
              "      <td>241.000000</td>\n",
              "      <td>0.000000</td>\n",
              "      <td>1.000000</td>\n",
              "      <td>153.000000</td>\n",
              "      <td>0.000000</td>\n",
              "      <td>0.800000</td>\n",
              "      <td>2.000000</td>\n",
              "      <td>0.000000</td>\n",
              "      <td>3.000000</td>\n",
              "      <td>0.000000</td>\n",
              "    </tr>\n",
              "    <tr>\n",
              "      <th>75%</th>\n",
              "      <td>61.000000</td>\n",
              "      <td>1.000000</td>\n",
              "      <td>4.000000</td>\n",
              "      <td>140.000000</td>\n",
              "      <td>275.000000</td>\n",
              "      <td>0.000000</td>\n",
              "      <td>2.000000</td>\n",
              "      <td>166.000000</td>\n",
              "      <td>1.000000</td>\n",
              "      <td>1.600000</td>\n",
              "      <td>2.000000</td>\n",
              "      <td>1.000000</td>\n",
              "      <td>7.000000</td>\n",
              "      <td>2.000000</td>\n",
              "    </tr>\n",
              "    <tr>\n",
              "      <th>max</th>\n",
              "      <td>77.000000</td>\n",
              "      <td>1.000000</td>\n",
              "      <td>4.000000</td>\n",
              "      <td>200.000000</td>\n",
              "      <td>564.000000</td>\n",
              "      <td>1.000000</td>\n",
              "      <td>2.000000</td>\n",
              "      <td>202.000000</td>\n",
              "      <td>1.000000</td>\n",
              "      <td>6.200000</td>\n",
              "      <td>3.000000</td>\n",
              "      <td>3.000000</td>\n",
              "      <td>7.000000</td>\n",
              "      <td>4.000000</td>\n",
              "    </tr>\n",
              "  </tbody>\n",
              "</table>\n",
              "</div>\n",
              "    <div class=\"colab-df-buttons\">\n",
              "\n",
              "  <div class=\"colab-df-container\">\n",
              "    <button class=\"colab-df-convert\" onclick=\"convertToInteractive('df-e14bc531-4f91-48f3-acd0-e3ce13b27bc4')\"\n",
              "            title=\"Convert this dataframe to an interactive table.\"\n",
              "            style=\"display:none;\">\n",
              "\n",
              "  <svg xmlns=\"http://www.w3.org/2000/svg\" height=\"24px\" viewBox=\"0 -960 960 960\">\n",
              "    <path d=\"M120-120v-720h720v720H120Zm60-500h600v-160H180v160Zm220 220h160v-160H400v160Zm0 220h160v-160H400v160ZM180-400h160v-160H180v160Zm440 0h160v-160H620v160ZM180-180h160v-160H180v160Zm440 0h160v-160H620v160Z\"/>\n",
              "  </svg>\n",
              "    </button>\n",
              "\n",
              "  <style>\n",
              "    .colab-df-container {\n",
              "      display:flex;\n",
              "      gap: 12px;\n",
              "    }\n",
              "\n",
              "    .colab-df-convert {\n",
              "      background-color: #E8F0FE;\n",
              "      border: none;\n",
              "      border-radius: 50%;\n",
              "      cursor: pointer;\n",
              "      display: none;\n",
              "      fill: #1967D2;\n",
              "      height: 32px;\n",
              "      padding: 0 0 0 0;\n",
              "      width: 32px;\n",
              "    }\n",
              "\n",
              "    .colab-df-convert:hover {\n",
              "      background-color: #E2EBFA;\n",
              "      box-shadow: 0px 1px 2px rgba(60, 64, 67, 0.3), 0px 1px 3px 1px rgba(60, 64, 67, 0.15);\n",
              "      fill: #174EA6;\n",
              "    }\n",
              "\n",
              "    .colab-df-buttons div {\n",
              "      margin-bottom: 4px;\n",
              "    }\n",
              "\n",
              "    [theme=dark] .colab-df-convert {\n",
              "      background-color: #3B4455;\n",
              "      fill: #D2E3FC;\n",
              "    }\n",
              "\n",
              "    [theme=dark] .colab-df-convert:hover {\n",
              "      background-color: #434B5C;\n",
              "      box-shadow: 0px 1px 3px 1px rgba(0, 0, 0, 0.15);\n",
              "      filter: drop-shadow(0px 1px 2px rgba(0, 0, 0, 0.3));\n",
              "      fill: #FFFFFF;\n",
              "    }\n",
              "  </style>\n",
              "\n",
              "    <script>\n",
              "      const buttonEl =\n",
              "        document.querySelector('#df-e14bc531-4f91-48f3-acd0-e3ce13b27bc4 button.colab-df-convert');\n",
              "      buttonEl.style.display =\n",
              "        google.colab.kernel.accessAllowed ? 'block' : 'none';\n",
              "\n",
              "      async function convertToInteractive(key) {\n",
              "        const element = document.querySelector('#df-e14bc531-4f91-48f3-acd0-e3ce13b27bc4');\n",
              "        const dataTable =\n",
              "          await google.colab.kernel.invokeFunction('convertToInteractive',\n",
              "                                                    [key], {});\n",
              "        if (!dataTable) return;\n",
              "\n",
              "        const docLinkHtml = 'Like what you see? Visit the ' +\n",
              "          '<a target=\"_blank\" href=https://colab.research.google.com/notebooks/data_table.ipynb>data table notebook</a>'\n",
              "          + ' to learn more about interactive tables.';\n",
              "        element.innerHTML = '';\n",
              "        dataTable['output_type'] = 'display_data';\n",
              "        await google.colab.output.renderOutput(dataTable, element);\n",
              "        const docLink = document.createElement('div');\n",
              "        docLink.innerHTML = docLinkHtml;\n",
              "        element.appendChild(docLink);\n",
              "      }\n",
              "    </script>\n",
              "  </div>\n",
              "\n",
              "\n",
              "<div id=\"df-e6ae3a32-e563-4320-a146-4b7aea59b483\">\n",
              "  <button class=\"colab-df-quickchart\" onclick=\"quickchart('df-e6ae3a32-e563-4320-a146-4b7aea59b483')\"\n",
              "            title=\"Suggest charts\"\n",
              "            style=\"display:none;\">\n",
              "\n",
              "<svg xmlns=\"http://www.w3.org/2000/svg\" height=\"24px\"viewBox=\"0 0 24 24\"\n",
              "     width=\"24px\">\n",
              "    <g>\n",
              "        <path d=\"M19 3H5c-1.1 0-2 .9-2 2v14c0 1.1.9 2 2 2h14c1.1 0 2-.9 2-2V5c0-1.1-.9-2-2-2zM9 17H7v-7h2v7zm4 0h-2V7h2v10zm4 0h-2v-4h2v4z\"/>\n",
              "    </g>\n",
              "</svg>\n",
              "  </button>\n",
              "\n",
              "<style>\n",
              "  .colab-df-quickchart {\n",
              "      --bg-color: #E8F0FE;\n",
              "      --fill-color: #1967D2;\n",
              "      --hover-bg-color: #E2EBFA;\n",
              "      --hover-fill-color: #174EA6;\n",
              "      --disabled-fill-color: #AAA;\n",
              "      --disabled-bg-color: #DDD;\n",
              "  }\n",
              "\n",
              "  [theme=dark] .colab-df-quickchart {\n",
              "      --bg-color: #3B4455;\n",
              "      --fill-color: #D2E3FC;\n",
              "      --hover-bg-color: #434B5C;\n",
              "      --hover-fill-color: #FFFFFF;\n",
              "      --disabled-bg-color: #3B4455;\n",
              "      --disabled-fill-color: #666;\n",
              "  }\n",
              "\n",
              "  .colab-df-quickchart {\n",
              "    background-color: var(--bg-color);\n",
              "    border: none;\n",
              "    border-radius: 50%;\n",
              "    cursor: pointer;\n",
              "    display: none;\n",
              "    fill: var(--fill-color);\n",
              "    height: 32px;\n",
              "    padding: 0;\n",
              "    width: 32px;\n",
              "  }\n",
              "\n",
              "  .colab-df-quickchart:hover {\n",
              "    background-color: var(--hover-bg-color);\n",
              "    box-shadow: 0 1px 2px rgba(60, 64, 67, 0.3), 0 1px 3px 1px rgba(60, 64, 67, 0.15);\n",
              "    fill: var(--button-hover-fill-color);\n",
              "  }\n",
              "\n",
              "  .colab-df-quickchart-complete:disabled,\n",
              "  .colab-df-quickchart-complete:disabled:hover {\n",
              "    background-color: var(--disabled-bg-color);\n",
              "    fill: var(--disabled-fill-color);\n",
              "    box-shadow: none;\n",
              "  }\n",
              "\n",
              "  .colab-df-spinner {\n",
              "    border: 2px solid var(--fill-color);\n",
              "    border-color: transparent;\n",
              "    border-bottom-color: var(--fill-color);\n",
              "    animation:\n",
              "      spin 1s steps(1) infinite;\n",
              "  }\n",
              "\n",
              "  @keyframes spin {\n",
              "    0% {\n",
              "      border-color: transparent;\n",
              "      border-bottom-color: var(--fill-color);\n",
              "      border-left-color: var(--fill-color);\n",
              "    }\n",
              "    20% {\n",
              "      border-color: transparent;\n",
              "      border-left-color: var(--fill-color);\n",
              "      border-top-color: var(--fill-color);\n",
              "    }\n",
              "    30% {\n",
              "      border-color: transparent;\n",
              "      border-left-color: var(--fill-color);\n",
              "      border-top-color: var(--fill-color);\n",
              "      border-right-color: var(--fill-color);\n",
              "    }\n",
              "    40% {\n",
              "      border-color: transparent;\n",
              "      border-right-color: var(--fill-color);\n",
              "      border-top-color: var(--fill-color);\n",
              "    }\n",
              "    60% {\n",
              "      border-color: transparent;\n",
              "      border-right-color: var(--fill-color);\n",
              "    }\n",
              "    80% {\n",
              "      border-color: transparent;\n",
              "      border-right-color: var(--fill-color);\n",
              "      border-bottom-color: var(--fill-color);\n",
              "    }\n",
              "    90% {\n",
              "      border-color: transparent;\n",
              "      border-bottom-color: var(--fill-color);\n",
              "    }\n",
              "  }\n",
              "</style>\n",
              "\n",
              "  <script>\n",
              "    async function quickchart(key) {\n",
              "      const quickchartButtonEl =\n",
              "        document.querySelector('#' + key + ' button');\n",
              "      quickchartButtonEl.disabled = true;  // To prevent multiple clicks.\n",
              "      quickchartButtonEl.classList.add('colab-df-spinner');\n",
              "      try {\n",
              "        const charts = await google.colab.kernel.invokeFunction(\n",
              "            'suggestCharts', [key], {});\n",
              "      } catch (error) {\n",
              "        console.error('Error during call to suggestCharts:', error);\n",
              "      }\n",
              "      quickchartButtonEl.classList.remove('colab-df-spinner');\n",
              "      quickchartButtonEl.classList.add('colab-df-quickchart-complete');\n",
              "    }\n",
              "    (() => {\n",
              "      let quickchartButtonEl =\n",
              "        document.querySelector('#df-e6ae3a32-e563-4320-a146-4b7aea59b483 button');\n",
              "      quickchartButtonEl.style.display =\n",
              "        google.colab.kernel.accessAllowed ? 'block' : 'none';\n",
              "    })();\n",
              "  </script>\n",
              "</div>\n",
              "\n",
              "    </div>\n",
              "  </div>\n"
            ],
            "application/vnd.google.colaboratory.intrinsic+json": {
              "type": "dataframe",
              "summary": "{\n  \"name\": \"df\",\n  \"rows\": 8,\n  \"fields\": [\n    {\n      \"column\": \"age\",\n      \"properties\": {\n        \"dtype\": \"number\",\n        \"std\": 92.5728159022223,\n        \"min\": 9.038662442446746,\n        \"max\": 303.0,\n        \"num_unique_values\": 8,\n        \"samples\": [\n          54.43894389438944,\n          56.0,\n          303.0\n        ],\n        \"semantic_type\": \"\",\n        \"description\": \"\"\n      }\n    },\n    {\n      \"column\": \"sex\",\n      \"properties\": {\n        \"dtype\": \"number\",\n        \"std\": 106.91803123915392,\n        \"min\": 0.0,\n        \"max\": 303.0,\n        \"num_unique_values\": 5,\n        \"samples\": [\n          0.6798679867986799,\n          1.0,\n          0.46729882777012993\n        ],\n        \"semantic_type\": \"\",\n        \"description\": \"\"\n      }\n    },\n    {\n      \"column\": \"cp\",\n      \"properties\": {\n        \"dtype\": \"number\",\n        \"std\": 106.16755832732339,\n        \"min\": 0.9601256119600138,\n        \"max\": 303.0,\n        \"num_unique_values\": 6,\n        \"samples\": [\n          303.0,\n          3.1584158415841586,\n          4.0\n        ],\n        \"semantic_type\": \"\",\n        \"description\": \"\"\n      }\n    },\n    {\n      \"column\": \"trestbps\",\n      \"properties\": {\n        \"dtype\": \"number\",\n        \"std\": 82.63751582423215,\n        \"min\": 17.59974772958769,\n        \"max\": 303.0,\n        \"num_unique_values\": 8,\n        \"samples\": [\n          131.68976897689768,\n          130.0,\n          303.0\n        ],\n        \"semantic_type\": \"\",\n        \"description\": \"\"\n      }\n    },\n    {\n      \"column\": \"chol\",\n      \"properties\": {\n        \"dtype\": \"number\",\n        \"std\": 150.36559430635785,\n        \"min\": 51.77691754263704,\n        \"max\": 564.0,\n        \"num_unique_values\": 8,\n        \"samples\": [\n          246.69306930693068,\n          241.0,\n          303.0\n        ],\n        \"semantic_type\": \"\",\n        \"description\": \"\"\n      }\n    },\n    {\n      \"column\": \"fbs\",\n      \"properties\": {\n        \"dtype\": \"number\",\n        \"std\": 107.0512286741478,\n        \"min\": 0.0,\n        \"max\": 303.0,\n        \"num_unique_values\": 5,\n        \"samples\": [\n          0.1485148514851485,\n          1.0,\n          0.35619787492797644\n        ],\n        \"semantic_type\": \"\",\n        \"description\": \"\"\n      }\n    },\n    {\n      \"column\": \"restecg\",\n      \"properties\": {\n        \"dtype\": \"number\",\n        \"std\": 106.77655393236438,\n        \"min\": 0.0,\n        \"max\": 303.0,\n        \"num_unique_values\": 6,\n        \"samples\": [\n          303.0,\n          0.9900990099009901,\n          2.0\n        ],\n        \"semantic_type\": \"\",\n        \"description\": \"\"\n      }\n    },\n    {\n      \"column\": \"thalach\",\n      \"properties\": {\n        \"dtype\": \"number\",\n        \"std\": 83.71042641207808,\n        \"min\": 22.875003276980376,\n        \"max\": 303.0,\n        \"num_unique_values\": 8,\n        \"samples\": [\n          149.6072607260726,\n          153.0,\n          303.0\n        ],\n        \"semantic_type\": \"\",\n        \"description\": \"\"\n      }\n    },\n    {\n      \"column\": \"exang\",\n      \"properties\": {\n        \"dtype\": \"number\",\n        \"std\": 106.9862394088184,\n        \"min\": 0.0,\n        \"max\": 303.0,\n        \"num_unique_values\": 5,\n        \"samples\": [\n          0.32673267326732675,\n          1.0,\n          0.46979446452231655\n        ],\n        \"semantic_type\": \"\",\n        \"description\": \"\"\n      }\n    },\n    {\n      \"column\": \"oldpeak\",\n      \"properties\": {\n        \"dtype\": \"number\",\n        \"std\": 106.59952466080658,\n        \"min\": 0.0,\n        \"max\": 303.0,\n        \"num_unique_values\": 7,\n        \"samples\": [\n          303.0,\n          1.0396039603960396,\n          1.6\n        ],\n        \"semantic_type\": \"\",\n        \"description\": \"\"\n      }\n    },\n    {\n      \"column\": \"slope\",\n      \"properties\": {\n        \"dtype\": \"number\",\n        \"std\": 106.5627986546393,\n        \"min\": 0.6162261453459619,\n        \"max\": 303.0,\n        \"num_unique_values\": 6,\n        \"samples\": [\n          303.0,\n          1.6006600660066006,\n          3.0\n        ],\n        \"semantic_type\": \"\",\n        \"description\": \"\"\n      }\n    },\n    {\n      \"column\": \"ca\",\n      \"properties\": {\n        \"dtype\": \"number\",\n        \"std\": 105.4337629723496,\n        \"min\": 0.0,\n        \"max\": 299.0,\n        \"num_unique_values\": 6,\n        \"samples\": [\n          299.0,\n          0.6722408026755853,\n          3.0\n        ],\n        \"semantic_type\": \"\",\n        \"description\": \"\"\n      }\n    },\n    {\n      \"column\": \"thal\",\n      \"properties\": {\n        \"dtype\": \"number\",\n        \"std\": 104.93809039007937,\n        \"min\": 1.939705769378644,\n        \"max\": 301.0,\n        \"num_unique_values\": 5,\n        \"samples\": [\n          4.73421926910299,\n          7.0,\n          1.939705769378644\n        ],\n        \"semantic_type\": \"\",\n        \"description\": \"\"\n      }\n    },\n    {\n      \"column\": \"num\",\n      \"properties\": {\n        \"dtype\": \"number\",\n        \"std\": 106.72284943779034,\n        \"min\": 0.0,\n        \"max\": 303.0,\n        \"num_unique_values\": 6,\n        \"samples\": [\n          303.0,\n          0.9372937293729373,\n          4.0\n        ],\n        \"semantic_type\": \"\",\n        \"description\": \"\"\n      }\n    }\n  ]\n}"
            }
          },
          "metadata": {},
          "execution_count": 80
        }
      ]
    },
    {
      "cell_type": "code",
      "source": [
        "df.isnull().any()"
      ],
      "metadata": {
        "colab": {
          "base_uri": "https://localhost:8080/"
        },
        "id": "EYVPCr3BhxDF",
        "outputId": "a2af263a-10d5-498e-9e7a-70e1ada09883"
      },
      "execution_count": null,
      "outputs": [
        {
          "output_type": "execute_result",
          "data": {
            "text/plain": [
              "age         False\n",
              "sex         False\n",
              "cp          False\n",
              "trestbps    False\n",
              "chol        False\n",
              "fbs         False\n",
              "restecg     False\n",
              "thalach     False\n",
              "exang       False\n",
              "oldpeak     False\n",
              "slope       False\n",
              "ca           True\n",
              "thal         True\n",
              "num         False\n",
              "dtype: bool"
            ]
          },
          "metadata": {},
          "execution_count": 81
        }
      ]
    },
    {
      "cell_type": "code",
      "source": [
        "df.isnull().mean()"
      ],
      "metadata": {
        "colab": {
          "base_uri": "https://localhost:8080/"
        },
        "id": "B_SqLGt3hxAI",
        "outputId": "b2e59ec7-d666-407e-ac5a-7748189419d9"
      },
      "execution_count": null,
      "outputs": [
        {
          "output_type": "execute_result",
          "data": {
            "text/plain": [
              "age         0.000000\n",
              "sex         0.000000\n",
              "cp          0.000000\n",
              "trestbps    0.000000\n",
              "chol        0.000000\n",
              "fbs         0.000000\n",
              "restecg     0.000000\n",
              "thalach     0.000000\n",
              "exang       0.000000\n",
              "oldpeak     0.000000\n",
              "slope       0.000000\n",
              "ca          0.013201\n",
              "thal        0.006601\n",
              "num         0.000000\n",
              "dtype: float64"
            ]
          },
          "metadata": {},
          "execution_count": 82
        }
      ]
    },
    {
      "cell_type": "code",
      "source": [
        "df = df.dropna()"
      ],
      "metadata": {
        "id": "RXO7mSFehw9T"
      },
      "execution_count": null,
      "outputs": []
    },
    {
      "cell_type": "code",
      "source": [
        "df.isnull().any()"
      ],
      "metadata": {
        "colab": {
          "base_uri": "https://localhost:8080/"
        },
        "id": "RQYz6IVphw5v",
        "outputId": "7bd70611-730b-4d03-9f29-f3e13249213c"
      },
      "execution_count": null,
      "outputs": [
        {
          "output_type": "execute_result",
          "data": {
            "text/plain": [
              "age         False\n",
              "sex         False\n",
              "cp          False\n",
              "trestbps    False\n",
              "chol        False\n",
              "fbs         False\n",
              "restecg     False\n",
              "thalach     False\n",
              "exang       False\n",
              "oldpeak     False\n",
              "slope       False\n",
              "ca          False\n",
              "thal        False\n",
              "num         False\n",
              "dtype: bool"
            ]
          },
          "metadata": {},
          "execution_count": 84
        }
      ]
    },
    {
      "cell_type": "code",
      "source": [
        "X = df.iloc[:,:-1].to_numpy()\n",
        "y = df.iloc[:,-1].to_numpy()\n",
        "X.shape, y.shape"
      ],
      "metadata": {
        "colab": {
          "base_uri": "https://localhost:8080/"
        },
        "id": "MWAI058YiQd5",
        "outputId": "f28dd5f8-138f-49f2-d164-ab86bdc59ae1"
      },
      "execution_count": null,
      "outputs": [
        {
          "output_type": "execute_result",
          "data": {
            "text/plain": [
              "((297, 13), (297,))"
            ]
          },
          "metadata": {},
          "execution_count": 85
        }
      ]
    },
    {
      "cell_type": "code",
      "source": [
        "# 데이터 분할\n",
        "X_train, X_test, y_train, y_test = train_test_split(X,y,stratify=y,test_size=0.2,random_state=0)\n",
        "# 표준화 - 이상치 존재로 standard scaler 사용\n",
        "ss = StandardScaler()\n",
        "X_train_scaled =  ss.fit_transform(X_train);  X_test_scaled =  ss.transform(X_test)\n",
        "X_train_scaled.shape, y_train.shape"
      ],
      "metadata": {
        "colab": {
          "base_uri": "https://localhost:8080/"
        },
        "id": "lk9sPL2DiQas",
        "outputId": "3772754c-0dd1-4a95-b273-bff5c6553eb8"
      },
      "execution_count": null,
      "outputs": [
        {
          "output_type": "execute_result",
          "data": {
            "text/plain": [
              "((237, 13), (237,))"
            ]
          },
          "metadata": {},
          "execution_count": 86
        }
      ]
    },
    {
      "cell_type": "code",
      "source": [
        "n_input = X_train_scaled.shape[1]\n",
        "n_hidden1 = 10\n",
        "n_output = len(np.unique(y))\n",
        "\n",
        "model = Sequential()\n",
        "model.add( Dense(n_hidden1,activation = 'relu', input_shape=(n_input, ) )   )\n",
        "model.add( Dense(n_output,activation = 'softmax' )   )\n",
        "\n",
        "model.compile(optimizer='adam',loss = 'sparse_categorical_crossentropy',metrics='accuracy')\n",
        "ealy_stopping = tf.keras.callbacks.EarlyStopping(patience=2, restore_best_weights=True)\n",
        "checkpoint_cb = tf.keras.callbacks.ModelCheckpoint('best_model.keras', save_best_only=True)\n",
        "\n",
        "hist = model.fit(X_train_scaled, y_train, validation_split=0.2, callbacks=[ealy_stopping,checkpoint_cb],\n",
        "          epochs=100, verbose=2)"
      ],
      "metadata": {
        "colab": {
          "base_uri": "https://localhost:8080/"
        },
        "id": "Vx2yar4qcx9t",
        "outputId": "563eee0f-07c8-449d-9de9-bbb7dcf7a65f"
      },
      "execution_count": null,
      "outputs": [
        {
          "output_type": "stream",
          "name": "stdout",
          "text": [
            "Epoch 1/100\n",
            "6/6 - 3s - loss: 1.9929 - accuracy: 0.2011 - val_loss: 2.0309 - val_accuracy: 0.2708 - 3s/epoch - 546ms/step\n",
            "Epoch 2/100\n",
            "6/6 - 0s - loss: 1.9426 - accuracy: 0.2169 - val_loss: 1.9876 - val_accuracy: 0.2708 - 174ms/epoch - 29ms/step\n",
            "Epoch 3/100\n",
            "6/6 - 0s - loss: 1.8973 - accuracy: 0.2434 - val_loss: 1.9471 - val_accuracy: 0.2708 - 201ms/epoch - 33ms/step\n",
            "Epoch 4/100\n",
            "6/6 - 0s - loss: 1.8561 - accuracy: 0.2646 - val_loss: 1.9077 - val_accuracy: 0.2708 - 262ms/epoch - 44ms/step\n",
            "Epoch 5/100\n",
            "6/6 - 0s - loss: 1.8159 - accuracy: 0.2698 - val_loss: 1.8708 - val_accuracy: 0.2708 - 275ms/epoch - 46ms/step\n",
            "Epoch 6/100\n",
            "6/6 - 0s - loss: 1.7764 - accuracy: 0.2698 - val_loss: 1.8361 - val_accuracy: 0.2917 - 132ms/epoch - 22ms/step\n",
            "Epoch 7/100\n",
            "6/6 - 0s - loss: 1.7396 - accuracy: 0.2910 - val_loss: 1.8035 - val_accuracy: 0.3125 - 114ms/epoch - 19ms/step\n",
            "Epoch 8/100\n",
            "6/6 - 0s - loss: 1.7041 - accuracy: 0.3228 - val_loss: 1.7718 - val_accuracy: 0.3333 - 120ms/epoch - 20ms/step\n",
            "Epoch 9/100\n",
            "6/6 - 0s - loss: 1.6711 - accuracy: 0.3386 - val_loss: 1.7419 - val_accuracy: 0.3542 - 115ms/epoch - 19ms/step\n",
            "Epoch 10/100\n",
            "6/6 - 0s - loss: 1.6382 - accuracy: 0.3492 - val_loss: 1.7123 - val_accuracy: 0.3542 - 165ms/epoch - 28ms/step\n",
            "Epoch 11/100\n",
            "6/6 - 0s - loss: 1.6068 - accuracy: 0.3492 - val_loss: 1.6842 - val_accuracy: 0.3750 - 180ms/epoch - 30ms/step\n",
            "Epoch 12/100\n",
            "6/6 - 0s - loss: 1.5781 - accuracy: 0.3651 - val_loss: 1.6567 - val_accuracy: 0.3542 - 130ms/epoch - 22ms/step\n",
            "Epoch 13/100\n",
            "6/6 - 0s - loss: 1.5482 - accuracy: 0.3810 - val_loss: 1.6307 - val_accuracy: 0.3542 - 168ms/epoch - 28ms/step\n",
            "Epoch 14/100\n",
            "6/6 - 0s - loss: 1.5214 - accuracy: 0.3968 - val_loss: 1.6056 - val_accuracy: 0.3958 - 197ms/epoch - 33ms/step\n",
            "Epoch 15/100\n",
            "6/6 - 0s - loss: 1.4954 - accuracy: 0.4074 - val_loss: 1.5811 - val_accuracy: 0.3958 - 397ms/epoch - 66ms/step\n",
            "Epoch 16/100\n",
            "6/6 - 0s - loss: 1.4699 - accuracy: 0.4180 - val_loss: 1.5577 - val_accuracy: 0.3958 - 248ms/epoch - 41ms/step\n",
            "Epoch 17/100\n",
            "6/6 - 0s - loss: 1.4456 - accuracy: 0.4392 - val_loss: 1.5348 - val_accuracy: 0.4167 - 185ms/epoch - 31ms/step\n",
            "Epoch 18/100\n",
            "6/6 - 0s - loss: 1.4227 - accuracy: 0.4603 - val_loss: 1.5122 - val_accuracy: 0.4375 - 112ms/epoch - 19ms/step\n",
            "Epoch 19/100\n",
            "6/6 - 0s - loss: 1.3999 - accuracy: 0.4868 - val_loss: 1.4905 - val_accuracy: 0.4375 - 152ms/epoch - 25ms/step\n",
            "Epoch 20/100\n",
            "6/6 - 0s - loss: 1.3793 - accuracy: 0.4921 - val_loss: 1.4688 - val_accuracy: 0.4375 - 158ms/epoch - 26ms/step\n",
            "Epoch 21/100\n",
            "6/6 - 0s - loss: 1.3593 - accuracy: 0.4921 - val_loss: 1.4479 - val_accuracy: 0.4375 - 128ms/epoch - 21ms/step\n",
            "Epoch 22/100\n",
            "6/6 - 0s - loss: 1.3388 - accuracy: 0.5079 - val_loss: 1.4279 - val_accuracy: 0.4583 - 111ms/epoch - 18ms/step\n",
            "Epoch 23/100\n",
            "6/6 - 0s - loss: 1.3203 - accuracy: 0.5132 - val_loss: 1.4083 - val_accuracy: 0.4792 - 198ms/epoch - 33ms/step\n",
            "Epoch 24/100\n",
            "6/6 - 0s - loss: 1.3016 - accuracy: 0.5185 - val_loss: 1.3896 - val_accuracy: 0.4792 - 188ms/epoch - 31ms/step\n",
            "Epoch 25/100\n",
            "6/6 - 0s - loss: 1.2837 - accuracy: 0.5291 - val_loss: 1.3720 - val_accuracy: 0.5000 - 185ms/epoch - 31ms/step\n",
            "Epoch 26/100\n",
            "6/6 - 0s - loss: 1.2669 - accuracy: 0.5397 - val_loss: 1.3551 - val_accuracy: 0.5000 - 232ms/epoch - 39ms/step\n",
            "Epoch 27/100\n",
            "6/6 - 0s - loss: 1.2510 - accuracy: 0.5344 - val_loss: 1.3390 - val_accuracy: 0.5000 - 112ms/epoch - 19ms/step\n",
            "Epoch 28/100\n",
            "6/6 - 0s - loss: 1.2360 - accuracy: 0.5344 - val_loss: 1.3230 - val_accuracy: 0.5000 - 124ms/epoch - 21ms/step\n",
            "Epoch 29/100\n",
            "6/6 - 0s - loss: 1.2209 - accuracy: 0.5344 - val_loss: 1.3079 - val_accuracy: 0.5000 - 192ms/epoch - 32ms/step\n",
            "Epoch 30/100\n",
            "6/6 - 0s - loss: 1.2077 - accuracy: 0.5344 - val_loss: 1.2929 - val_accuracy: 0.5208 - 144ms/epoch - 24ms/step\n",
            "Epoch 31/100\n",
            "6/6 - 0s - loss: 1.1939 - accuracy: 0.5450 - val_loss: 1.2788 - val_accuracy: 0.5208 - 187ms/epoch - 31ms/step\n",
            "Epoch 32/100\n",
            "6/6 - 0s - loss: 1.1817 - accuracy: 0.5450 - val_loss: 1.2646 - val_accuracy: 0.5208 - 258ms/epoch - 43ms/step\n",
            "Epoch 33/100\n",
            "6/6 - 0s - loss: 1.1691 - accuracy: 0.5450 - val_loss: 1.2517 - val_accuracy: 0.5208 - 127ms/epoch - 21ms/step\n",
            "Epoch 34/100\n",
            "6/6 - 0s - loss: 1.1579 - accuracy: 0.5450 - val_loss: 1.2394 - val_accuracy: 0.5417 - 167ms/epoch - 28ms/step\n",
            "Epoch 35/100\n",
            "6/6 - 0s - loss: 1.1468 - accuracy: 0.5450 - val_loss: 1.2272 - val_accuracy: 0.5417 - 111ms/epoch - 19ms/step\n",
            "Epoch 36/100\n",
            "6/6 - 0s - loss: 1.1359 - accuracy: 0.5556 - val_loss: 1.2156 - val_accuracy: 0.5417 - 139ms/epoch - 23ms/step\n",
            "Epoch 37/100\n",
            "6/6 - 0s - loss: 1.1254 - accuracy: 0.5608 - val_loss: 1.2044 - val_accuracy: 0.5417 - 111ms/epoch - 19ms/step\n",
            "Epoch 38/100\n",
            "6/6 - 0s - loss: 1.1156 - accuracy: 0.5820 - val_loss: 1.1940 - val_accuracy: 0.5417 - 149ms/epoch - 25ms/step\n",
            "Epoch 39/100\n",
            "6/6 - 0s - loss: 1.1057 - accuracy: 0.5820 - val_loss: 1.1839 - val_accuracy: 0.5417 - 149ms/epoch - 25ms/step\n",
            "Epoch 40/100\n",
            "6/6 - 0s - loss: 1.0970 - accuracy: 0.5820 - val_loss: 1.1739 - val_accuracy: 0.5417 - 156ms/epoch - 26ms/step\n",
            "Epoch 41/100\n",
            "6/6 - 0s - loss: 1.0880 - accuracy: 0.5820 - val_loss: 1.1644 - val_accuracy: 0.5417 - 140ms/epoch - 23ms/step\n",
            "Epoch 42/100\n",
            "6/6 - 0s - loss: 1.0786 - accuracy: 0.5926 - val_loss: 1.1560 - val_accuracy: 0.5625 - 213ms/epoch - 36ms/step\n",
            "Epoch 43/100\n",
            "6/6 - 0s - loss: 1.0707 - accuracy: 0.5979 - val_loss: 1.1473 - val_accuracy: 0.5625 - 117ms/epoch - 19ms/step\n",
            "Epoch 44/100\n",
            "6/6 - 0s - loss: 1.0626 - accuracy: 0.5979 - val_loss: 1.1397 - val_accuracy: 0.5625 - 116ms/epoch - 19ms/step\n",
            "Epoch 45/100\n",
            "6/6 - 0s - loss: 1.0548 - accuracy: 0.5979 - val_loss: 1.1323 - val_accuracy: 0.5625 - 181ms/epoch - 30ms/step\n",
            "Epoch 46/100\n",
            "6/6 - 0s - loss: 1.0474 - accuracy: 0.5979 - val_loss: 1.1251 - val_accuracy: 0.5625 - 131ms/epoch - 22ms/step\n",
            "Epoch 47/100\n",
            "6/6 - 0s - loss: 1.0407 - accuracy: 0.5979 - val_loss: 1.1183 - val_accuracy: 0.5625 - 158ms/epoch - 26ms/step\n",
            "Epoch 48/100\n",
            "6/6 - 0s - loss: 1.0337 - accuracy: 0.5979 - val_loss: 1.1119 - val_accuracy: 0.5625 - 123ms/epoch - 20ms/step\n",
            "Epoch 49/100\n",
            "6/6 - 0s - loss: 1.0268 - accuracy: 0.5979 - val_loss: 1.1054 - val_accuracy: 0.5625 - 142ms/epoch - 24ms/step\n",
            "Epoch 50/100\n",
            "6/6 - 0s - loss: 1.0211 - accuracy: 0.5979 - val_loss: 1.0991 - val_accuracy: 0.5833 - 124ms/epoch - 21ms/step\n",
            "Epoch 51/100\n",
            "6/6 - 0s - loss: 1.0145 - accuracy: 0.6032 - val_loss: 1.0934 - val_accuracy: 0.5833 - 141ms/epoch - 23ms/step\n",
            "Epoch 52/100\n",
            "6/6 - 0s - loss: 1.0087 - accuracy: 0.6085 - val_loss: 1.0880 - val_accuracy: 0.5833 - 172ms/epoch - 29ms/step\n",
            "Epoch 53/100\n",
            "6/6 - 0s - loss: 1.0032 - accuracy: 0.6085 - val_loss: 1.0825 - val_accuracy: 0.5833 - 172ms/epoch - 29ms/step\n",
            "Epoch 54/100\n",
            "6/6 - 0s - loss: 0.9977 - accuracy: 0.6032 - val_loss: 1.0777 - val_accuracy: 0.5833 - 243ms/epoch - 41ms/step\n",
            "Epoch 55/100\n",
            "6/6 - 0s - loss: 0.9925 - accuracy: 0.6085 - val_loss: 1.0724 - val_accuracy: 0.5833 - 325ms/epoch - 54ms/step\n",
            "Epoch 56/100\n",
            "6/6 - 0s - loss: 0.9872 - accuracy: 0.6085 - val_loss: 1.0677 - val_accuracy: 0.5833 - 329ms/epoch - 55ms/step\n",
            "Epoch 57/100\n",
            "6/6 - 0s - loss: 0.9821 - accuracy: 0.6085 - val_loss: 1.0635 - val_accuracy: 0.6042 - 333ms/epoch - 55ms/step\n",
            "Epoch 58/100\n",
            "6/6 - 0s - loss: 0.9773 - accuracy: 0.6085 - val_loss: 1.0589 - val_accuracy: 0.6042 - 307ms/epoch - 51ms/step\n",
            "Epoch 59/100\n",
            "6/6 - 0s - loss: 0.9724 - accuracy: 0.6138 - val_loss: 1.0547 - val_accuracy: 0.6042 - 202ms/epoch - 34ms/step\n",
            "Epoch 60/100\n",
            "6/6 - 0s - loss: 0.9678 - accuracy: 0.6138 - val_loss: 1.0511 - val_accuracy: 0.6042 - 310ms/epoch - 52ms/step\n",
            "Epoch 61/100\n",
            "6/6 - 0s - loss: 0.9636 - accuracy: 0.6138 - val_loss: 1.0476 - val_accuracy: 0.5833 - 206ms/epoch - 34ms/step\n",
            "Epoch 62/100\n",
            "6/6 - 0s - loss: 0.9593 - accuracy: 0.6138 - val_loss: 1.0439 - val_accuracy: 0.5833 - 158ms/epoch - 26ms/step\n",
            "Epoch 63/100\n",
            "6/6 - 0s - loss: 0.9550 - accuracy: 0.6190 - val_loss: 1.0406 - val_accuracy: 0.5833 - 297ms/epoch - 49ms/step\n",
            "Epoch 64/100\n",
            "6/6 - 0s - loss: 0.9511 - accuracy: 0.6243 - val_loss: 1.0370 - val_accuracy: 0.6042 - 227ms/epoch - 38ms/step\n",
            "Epoch 65/100\n",
            "6/6 - 0s - loss: 0.9473 - accuracy: 0.6243 - val_loss: 1.0339 - val_accuracy: 0.6042 - 175ms/epoch - 29ms/step\n",
            "Epoch 66/100\n",
            "6/6 - 0s - loss: 0.9433 - accuracy: 0.6296 - val_loss: 1.0308 - val_accuracy: 0.6042 - 114ms/epoch - 19ms/step\n",
            "Epoch 67/100\n",
            "6/6 - 0s - loss: 0.9396 - accuracy: 0.6296 - val_loss: 1.0280 - val_accuracy: 0.6042 - 164ms/epoch - 27ms/step\n",
            "Epoch 68/100\n",
            "6/6 - 0s - loss: 0.9362 - accuracy: 0.6296 - val_loss: 1.0255 - val_accuracy: 0.5833 - 238ms/epoch - 40ms/step\n",
            "Epoch 69/100\n",
            "6/6 - 0s - loss: 0.9327 - accuracy: 0.6296 - val_loss: 1.0224 - val_accuracy: 0.6042 - 156ms/epoch - 26ms/step\n",
            "Epoch 70/100\n",
            "6/6 - 0s - loss: 0.9295 - accuracy: 0.6296 - val_loss: 1.0201 - val_accuracy: 0.6042 - 174ms/epoch - 29ms/step\n",
            "Epoch 71/100\n",
            "6/6 - 0s - loss: 0.9262 - accuracy: 0.6296 - val_loss: 1.0172 - val_accuracy: 0.6042 - 204ms/epoch - 34ms/step\n",
            "Epoch 72/100\n",
            "6/6 - 0s - loss: 0.9231 - accuracy: 0.6243 - val_loss: 1.0148 - val_accuracy: 0.6042 - 191ms/epoch - 32ms/step\n",
            "Epoch 73/100\n",
            "6/6 - 0s - loss: 0.9200 - accuracy: 0.6190 - val_loss: 1.0126 - val_accuracy: 0.5833 - 166ms/epoch - 28ms/step\n",
            "Epoch 74/100\n",
            "6/6 - 0s - loss: 0.9170 - accuracy: 0.6190 - val_loss: 1.0108 - val_accuracy: 0.6042 - 115ms/epoch - 19ms/step\n",
            "Epoch 75/100\n",
            "6/6 - 0s - loss: 0.9141 - accuracy: 0.6243 - val_loss: 1.0088 - val_accuracy: 0.5833 - 261ms/epoch - 43ms/step\n",
            "Epoch 76/100\n",
            "6/6 - 0s - loss: 0.9112 - accuracy: 0.6296 - val_loss: 1.0069 - val_accuracy: 0.6042 - 142ms/epoch - 24ms/step\n",
            "Epoch 77/100\n",
            "6/6 - 0s - loss: 0.9084 - accuracy: 0.6243 - val_loss: 1.0047 - val_accuracy: 0.6042 - 188ms/epoch - 31ms/step\n",
            "Epoch 78/100\n",
            "6/6 - 0s - loss: 0.9058 - accuracy: 0.6296 - val_loss: 1.0030 - val_accuracy: 0.6042 - 203ms/epoch - 34ms/step\n",
            "Epoch 79/100\n",
            "6/6 - 0s - loss: 0.9028 - accuracy: 0.6296 - val_loss: 1.0010 - val_accuracy: 0.6042 - 155ms/epoch - 26ms/step\n",
            "Epoch 80/100\n",
            "6/6 - 0s - loss: 0.9001 - accuracy: 0.6296 - val_loss: 0.9990 - val_accuracy: 0.6042 - 226ms/epoch - 38ms/step\n",
            "Epoch 81/100\n",
            "6/6 - 0s - loss: 0.8973 - accuracy: 0.6296 - val_loss: 0.9976 - val_accuracy: 0.6042 - 167ms/epoch - 28ms/step\n",
            "Epoch 82/100\n",
            "6/6 - 0s - loss: 0.8947 - accuracy: 0.6296 - val_loss: 0.9957 - val_accuracy: 0.6042 - 270ms/epoch - 45ms/step\n",
            "Epoch 83/100\n",
            "6/6 - 0s - loss: 0.8920 - accuracy: 0.6296 - val_loss: 0.9941 - val_accuracy: 0.6042 - 215ms/epoch - 36ms/step\n",
            "Epoch 84/100\n",
            "6/6 - 0s - loss: 0.8892 - accuracy: 0.6349 - val_loss: 0.9928 - val_accuracy: 0.6042 - 246ms/epoch - 41ms/step\n",
            "Epoch 85/100\n",
            "6/6 - 0s - loss: 0.8872 - accuracy: 0.6402 - val_loss: 0.9914 - val_accuracy: 0.6250 - 196ms/epoch - 33ms/step\n",
            "Epoch 86/100\n",
            "6/6 - 0s - loss: 0.8841 - accuracy: 0.6402 - val_loss: 0.9901 - val_accuracy: 0.6250 - 305ms/epoch - 51ms/step\n",
            "Epoch 87/100\n",
            "6/6 - 0s - loss: 0.8818 - accuracy: 0.6455 - val_loss: 0.9889 - val_accuracy: 0.6250 - 120ms/epoch - 20ms/step\n",
            "Epoch 88/100\n",
            "6/6 - 0s - loss: 0.8792 - accuracy: 0.6455 - val_loss: 0.9878 - val_accuracy: 0.6250 - 129ms/epoch - 22ms/step\n",
            "Epoch 89/100\n",
            "6/6 - 0s - loss: 0.8769 - accuracy: 0.6455 - val_loss: 0.9865 - val_accuracy: 0.6250 - 115ms/epoch - 19ms/step\n",
            "Epoch 90/100\n",
            "6/6 - 0s - loss: 0.8747 - accuracy: 0.6455 - val_loss: 0.9853 - val_accuracy: 0.6042 - 147ms/epoch - 24ms/step\n",
            "Epoch 91/100\n",
            "6/6 - 0s - loss: 0.8725 - accuracy: 0.6455 - val_loss: 0.9845 - val_accuracy: 0.6250 - 127ms/epoch - 21ms/step\n",
            "Epoch 92/100\n",
            "6/6 - 0s - loss: 0.8697 - accuracy: 0.6455 - val_loss: 0.9836 - val_accuracy: 0.6250 - 116ms/epoch - 19ms/step\n",
            "Epoch 93/100\n",
            "6/6 - 0s - loss: 0.8673 - accuracy: 0.6455 - val_loss: 0.9827 - val_accuracy: 0.6250 - 183ms/epoch - 30ms/step\n",
            "Epoch 94/100\n",
            "6/6 - 0s - loss: 0.8653 - accuracy: 0.6455 - val_loss: 0.9816 - val_accuracy: 0.6250 - 199ms/epoch - 33ms/step\n",
            "Epoch 95/100\n",
            "6/6 - 0s - loss: 0.8630 - accuracy: 0.6455 - val_loss: 0.9806 - val_accuracy: 0.6250 - 104ms/epoch - 17ms/step\n",
            "Epoch 96/100\n",
            "6/6 - 0s - loss: 0.8606 - accuracy: 0.6455 - val_loss: 0.9799 - val_accuracy: 0.6250 - 120ms/epoch - 20ms/step\n",
            "Epoch 97/100\n",
            "6/6 - 0s - loss: 0.8583 - accuracy: 0.6455 - val_loss: 0.9793 - val_accuracy: 0.6250 - 103ms/epoch - 17ms/step\n",
            "Epoch 98/100\n",
            "6/6 - 0s - loss: 0.8564 - accuracy: 0.6455 - val_loss: 0.9787 - val_accuracy: 0.6250 - 141ms/epoch - 24ms/step\n",
            "Epoch 99/100\n",
            "6/6 - 0s - loss: 0.8542 - accuracy: 0.6455 - val_loss: 0.9780 - val_accuracy: 0.6250 - 172ms/epoch - 29ms/step\n",
            "Epoch 100/100\n",
            "6/6 - 0s - loss: 0.8523 - accuracy: 0.6455 - val_loss: 0.9776 - val_accuracy: 0.6250 - 126ms/epoch - 21ms/step\n"
          ]
        }
      ]
    },
    {
      "cell_type": "code",
      "source": [
        "# 상관관계\n",
        "# 공분산\n",
        "# 각종 머신러닝 기법을 통해\n",
        "# 최적의 feature를 찾기"
      ],
      "metadata": {
        "id": "ap25sUUHcwEb"
      },
      "execution_count": null,
      "outputs": []
    },
    {
      "cell_type": "code",
      "source": [
        "# Solution 1 : 다중분류 -> 2진분류\n",
        "# 0 ->1  1 2 3 4 -> 0\n",
        "print(f'original data : {y[:5]}')\n",
        "new_y = np.array([  1 if label == 0 else 0  for label in y])\n",
        "print(f'new_y:{new_y[:5]}')\n",
        "\n",
        "#데이터 분할\n",
        "X_train, X_test, y_train, y_test = train_test_split(X, new_y, stratify=new_y,random_state=0)\n",
        "ss=StandardScaler()\n",
        "X_train_scaled = ss.fit_transform(X_train); X_test_scaled = ss.transform(X_test)"
      ],
      "metadata": {
        "colab": {
          "base_uri": "https://localhost:8080/"
        },
        "id": "xH36W4AXiQX3",
        "outputId": "c477ca34-363e-471b-b5ca-7e89aaef8159"
      },
      "execution_count": null,
      "outputs": [
        {
          "output_type": "stream",
          "name": "stdout",
          "text": [
            "original data : [0 2 1 0 0]\n",
            "new_y:[1 0 0 1 1]\n"
          ]
        }
      ]
    },
    {
      "cell_type": "code",
      "source": [
        "# 이진분류 신경망 만들기 - 함수\n",
        "\n",
        "class ANN_Binary():\n",
        "  def __init__(self,n_input,n_hidden,n_output,learning_rate=0.001):\n",
        "    self.n_input = n_input\n",
        "    self.n_hidden = n_hidden\n",
        "    self.n_output = n_output\n",
        "\n",
        "    self.dense1 = Dense(n_hidden,activation='relu',input_shape = (n_input,))\n",
        "    self.dense2 = Dense(n_hidden,activation='relu')\n",
        "    self.dropout = Dropout(0.1)\n",
        "    self.dense3 = Dense(n_output,activation='sigmoid')\n",
        "\n",
        "    self.optim = Adam(learning_rate=learning_rate)\n",
        "    self.ealy_stopping = tf.keras.callbacks.EarlyStopping(patience=3, restore_best_weights=True)\n",
        "    self.checkpoint_cb = tf.keras.callbacks.ModelCheckpoint('best_model.keras', save_best_only=True)\n",
        "  def fit(self,X,y,epochs=200):\n",
        "    model = Sequential([\n",
        "        self.dense1,\n",
        "        self.dense2,\n",
        "        self.dropout,\n",
        "        self.dense3\n",
        "    ])\n",
        "    model.compile(optimizer='adam',loss = 'binary_crossentropy',metrics='accuracy')\n",
        "    hist = model.fit(X, y, validation_split=0.2, callbacks=[self.ealy_stopping,self.checkpoint_cb],\n",
        "          epochs=epochs, verbose=2)\n",
        "    return hist\n",
        "\n",
        "  def get_best_model(self):\n",
        "    return tf.keras.models.load_model('best_model.keras')\n",
        "\n",
        "  def score(self,X,y):\n",
        "    return self.get_best_model().evaluate(X,y)\n",
        "\n",
        "n_input = X_train_scaled.shape[1]\n",
        "n_hidden = 15\n",
        "n_output = 1\n",
        "\n",
        "mymodel = ANN_Binary(n_input,n_hidden,n_output,learning_rate=0.001)\n",
        "mymodel.fit(X_train_scaled,y_train)\n",
        "mymodel.score(X_test_scaled, y_test)\n",
        "\n",
        "\n",
        "# 이진분류 신경망 만들기\n",
        "\n",
        "# n_input = X_train_scaled.shape[1]\n",
        "# n_hidden1 = 10\n",
        "# n_hidden2 = 5\n",
        "# n_hidden3 = 3\n",
        "# n_output = 1\n",
        "\n",
        "# model = Sequential()\n",
        "# model.add( Dense(n_hidden1,activation = 'relu', input_shape=(n_input, ) )   )\n",
        "# model.add( Dense(n_hidden2,activation = 'relu' )   )\n",
        "# model.add( Dense(n_hidden3,activation = 'relu' )   )\n",
        "# model.add(Dropout(0.25))\n",
        "# model.add( Dense(n_output,activation = 'sigmoid' )   )\n",
        "\n",
        "# opti = Adam(learning_rate=1e-4)  # 기본이 0.001 -> 0.0001  -> 1/10000\n",
        "\n",
        "# model.compile(optimizer='adam',loss = 'binary_crossentropy',metrics='accuracy')\n",
        "# ealy_stopping = tf.keras.callbacks.EarlyStopping(patience=3, restore_best_weights=True)\n",
        "# checkpoint_cb = tf.keras.callbacks.ModelCheckpoint('best_model.keras', save_best_only=True)\n",
        "\n",
        "# hist = model.fit(\n",
        "#     X_train_scaled, y_train,\n",
        "#     validation_split=0.2,\n",
        "#     callbacks=[ealy_stopping, checkpoint_cb],\n",
        "#     epochs=200,\n",
        "#     verbose=2\n",
        "# )"
      ],
      "metadata": {
        "colab": {
          "base_uri": "https://localhost:8080/"
        },
        "id": "K8i4gM_nuxYX",
        "outputId": "2d264b40-1911-48de-9fe3-8f4d058cc0cf"
      },
      "execution_count": null,
      "outputs": [
        {
          "output_type": "stream",
          "name": "stdout",
          "text": [
            "Epoch 1/200\n",
            "6/6 - 2s - loss: 0.6601 - accuracy: 0.6158 - val_loss: 0.5860 - val_accuracy: 0.7556 - 2s/epoch - 414ms/step\n",
            "Epoch 2/200\n",
            "6/6 - 0s - loss: 0.6452 - accuracy: 0.6215 - val_loss: 0.5714 - val_accuracy: 0.7556 - 68ms/epoch - 11ms/step\n",
            "Epoch 3/200\n",
            "6/6 - 0s - loss: 0.6003 - accuracy: 0.6554 - val_loss: 0.5585 - val_accuracy: 0.7778 - 71ms/epoch - 12ms/step\n",
            "Epoch 4/200\n",
            "6/6 - 0s - loss: 0.6170 - accuracy: 0.6271 - val_loss: 0.5457 - val_accuracy: 0.7778 - 70ms/epoch - 12ms/step\n",
            "Epoch 5/200\n",
            "6/6 - 0s - loss: 0.5931 - accuracy: 0.7119 - val_loss: 0.5341 - val_accuracy: 0.7778 - 103ms/epoch - 17ms/step\n",
            "Epoch 6/200\n",
            "6/6 - 0s - loss: 0.5733 - accuracy: 0.6949 - val_loss: 0.5230 - val_accuracy: 0.8000 - 118ms/epoch - 20ms/step\n",
            "Epoch 7/200\n",
            "6/6 - 0s - loss: 0.5520 - accuracy: 0.7288 - val_loss: 0.5123 - val_accuracy: 0.8444 - 117ms/epoch - 20ms/step\n",
            "Epoch 8/200\n",
            "6/6 - 0s - loss: 0.5299 - accuracy: 0.7514 - val_loss: 0.5023 - val_accuracy: 0.8444 - 136ms/epoch - 23ms/step\n",
            "Epoch 9/200\n",
            "6/6 - 0s - loss: 0.5156 - accuracy: 0.7797 - val_loss: 0.4917 - val_accuracy: 0.8667 - 119ms/epoch - 20ms/step\n",
            "Epoch 10/200\n",
            "6/6 - 0s - loss: 0.5166 - accuracy: 0.7853 - val_loss: 0.4821 - val_accuracy: 0.8667 - 97ms/epoch - 16ms/step\n",
            "Epoch 11/200\n",
            "6/6 - 0s - loss: 0.5066 - accuracy: 0.7966 - val_loss: 0.4724 - val_accuracy: 0.8667 - 98ms/epoch - 16ms/step\n",
            "Epoch 12/200\n",
            "6/6 - 0s - loss: 0.4782 - accuracy: 0.7910 - val_loss: 0.4634 - val_accuracy: 0.8667 - 99ms/epoch - 16ms/step\n",
            "Epoch 13/200\n",
            "6/6 - 0s - loss: 0.4669 - accuracy: 0.8023 - val_loss: 0.4535 - val_accuracy: 0.8667 - 98ms/epoch - 16ms/step\n",
            "Epoch 14/200\n",
            "6/6 - 0s - loss: 0.4465 - accuracy: 0.8079 - val_loss: 0.4442 - val_accuracy: 0.8667 - 123ms/epoch - 21ms/step\n",
            "Epoch 15/200\n",
            "6/6 - 0s - loss: 0.4479 - accuracy: 0.8192 - val_loss: 0.4355 - val_accuracy: 0.8889 - 112ms/epoch - 19ms/step\n",
            "Epoch 16/200\n",
            "6/6 - 0s - loss: 0.4376 - accuracy: 0.8418 - val_loss: 0.4281 - val_accuracy: 0.8667 - 105ms/epoch - 18ms/step\n",
            "Epoch 17/200\n",
            "6/6 - 0s - loss: 0.4210 - accuracy: 0.8418 - val_loss: 0.4208 - val_accuracy: 0.8667 - 100ms/epoch - 17ms/step\n",
            "Epoch 18/200\n",
            "6/6 - 0s - loss: 0.4237 - accuracy: 0.8362 - val_loss: 0.4154 - val_accuracy: 0.8667 - 136ms/epoch - 23ms/step\n",
            "Epoch 19/200\n",
            "6/6 - 0s - loss: 0.4013 - accuracy: 0.8362 - val_loss: 0.4110 - val_accuracy: 0.8667 - 136ms/epoch - 23ms/step\n",
            "Epoch 20/200\n",
            "6/6 - 0s - loss: 0.4061 - accuracy: 0.8305 - val_loss: 0.4064 - val_accuracy: 0.8667 - 117ms/epoch - 20ms/step\n",
            "Epoch 21/200\n",
            "6/6 - 0s - loss: 0.3842 - accuracy: 0.8588 - val_loss: 0.4025 - val_accuracy: 0.8667 - 115ms/epoch - 19ms/step\n",
            "Epoch 22/200\n",
            "6/6 - 0s - loss: 0.3796 - accuracy: 0.8475 - val_loss: 0.3996 - val_accuracy: 0.8667 - 120ms/epoch - 20ms/step\n",
            "Epoch 23/200\n",
            "6/6 - 0s - loss: 0.3882 - accuracy: 0.8362 - val_loss: 0.3975 - val_accuracy: 0.8667 - 116ms/epoch - 19ms/step\n",
            "Epoch 24/200\n",
            "6/6 - 0s - loss: 0.3510 - accuracy: 0.8814 - val_loss: 0.3960 - val_accuracy: 0.8889 - 116ms/epoch - 19ms/step\n",
            "Epoch 25/200\n",
            "6/6 - 0s - loss: 0.3710 - accuracy: 0.8588 - val_loss: 0.3946 - val_accuracy: 0.8889 - 107ms/epoch - 18ms/step\n",
            "Epoch 26/200\n",
            "6/6 - 0s - loss: 0.3509 - accuracy: 0.8644 - val_loss: 0.3944 - val_accuracy: 0.8889 - 142ms/epoch - 24ms/step\n",
            "Epoch 27/200\n",
            "6/6 - 0s - loss: 0.3476 - accuracy: 0.8531 - val_loss: 0.3945 - val_accuracy: 0.8889 - 54ms/epoch - 9ms/step\n",
            "Epoch 28/200\n",
            "6/6 - 0s - loss: 0.3450 - accuracy: 0.8757 - val_loss: 0.3955 - val_accuracy: 0.8889 - 61ms/epoch - 10ms/step\n",
            "Epoch 29/200\n",
            "6/6 - 0s - loss: 0.3514 - accuracy: 0.8644 - val_loss: 0.3958 - val_accuracy: 0.8889 - 72ms/epoch - 12ms/step\n",
            "3/3 [==============================] - 0s 5ms/step - loss: 0.4275 - accuracy: 0.8133\n"
          ]
        },
        {
          "output_type": "execute_result",
          "data": {
            "text/plain": [
              "[0.42749518156051636, 0.8133333325386047]"
            ]
          },
          "metadata": {},
          "execution_count": 90
        }
      ]
    },
    {
      "cell_type": "code",
      "source": [
        "best_model = tf.keras.models.load_model('best_model.keras')\n",
        "best_model.evaluate(X_test_scaled, y_test)"
      ],
      "metadata": {
        "colab": {
          "base_uri": "https://localhost:8080/"
        },
        "id": "Kt2rTyjoiQT-",
        "outputId": "c1fe643b-a293-47dc-e073-1ffca84e7d93"
      },
      "execution_count": null,
      "outputs": [
        {
          "output_type": "stream",
          "name": "stdout",
          "text": [
            "3/3 [==============================] - 0s 4ms/step - loss: 0.4275 - accuracy: 0.8133\n"
          ]
        },
        {
          "output_type": "execute_result",
          "data": {
            "text/plain": [
              "[0.42749518156051636, 0.8133333325386047]"
            ]
          },
          "metadata": {},
          "execution_count": 91
        }
      ]
    },
    {
      "cell_type": "markdown",
      "source": [
        "깊은 다층 퍼셉트론으로 MNIST 인식"
      ],
      "metadata": {
        "id": "FosDYBi01s2h"
      }
    },
    {
      "cell_type": "code",
      "source": [
        "import numpy as np\n",
        "import tensorflow as tf\n",
        "from tensorflow.keras.datasets import mnist\n",
        "from tensorflow.keras.models import Sequential\n",
        "from tensorflow.keras.layers import Dense,Dropout,Flatten\n",
        "from tensorflow.keras.optimizers import Adam"
      ],
      "metadata": {
        "id": "HNntlnqC1yKN"
      },
      "execution_count": 1,
      "outputs": []
    },
    {
      "cell_type": "code",
      "source": [
        "# 데이터를 읽어서 신경망에 입력할 형태로 변환\n",
        "(X_train,y_train),(X_test, y_test) = mnist.load_data()\n",
        "# 표준화\n",
        "X_train_scaled = X_train / 255.0\n",
        "X_test_scaled = X_test / 255.0\n",
        "# y 데이터 one hot\n",
        "# y_train_onthot = tf.one_hot(y_train,10,dtype=tf.int8)\n",
        "# y_test_onthot = tf.one_hot(y_test,10,dtype=tf.int8)\n",
        "y_train_onthot = tf.keras.utils.to_categorical(y_train,10)  #  one-hot\n",
        "y_test_onthot = tf.keras.utils.to_categorical(y_test,10)"
      ],
      "metadata": {
        "colab": {
          "base_uri": "https://localhost:8080/"
        },
        "id": "bNRPvSs01snc",
        "outputId": "76b9bfee-0500-4fb0-8986-171b61d3128e"
      },
      "execution_count": 2,
      "outputs": [
        {
          "output_type": "stream",
          "name": "stdout",
          "text": [
            "Downloading data from https://storage.googleapis.com/tensorflow/tf-keras-datasets/mnist.npz\n",
            "11490434/11490434 [==============================] - 0s 0us/step\n"
          ]
        }
      ]
    },
    {
      "cell_type": "code",
      "source": [
        "# 신경망 구조 설계\n",
        "n_input = (X_train.shape[1], X_train.shape[2])\n",
        "n_hidden1 = 1024\n",
        "n_hidden2 = 512\n",
        "n_hidden3 = 512\n",
        "n_hidden4 = 512\n",
        "n_output = 10\n",
        "\n",
        "mlp = Sequential()\n",
        "mlp.add( Flatten(input_shape=n_input)  )\n",
        "mlp.add( Dense(n_hidden1, activation='relu')  )\n",
        "mlp.add( Dense(n_hidden2, activation='relu')  )\n",
        "mlp.add( Dense(n_hidden3, activation='relu')  )\n",
        "mlp.add( Dense(n_hidden4, activation='relu')  )\n",
        "mlp.add( Dense(n_output, activation='softmax')  )\n",
        "\n",
        "# 신경망 학습\n",
        "adam_ = Adam(learning_rate=0.001)\n",
        "mlp.compile(optimizer=adam_, loss = 'categorical_crossentropy',metrics='accuracy')\n",
        "ealy_stopping = tf.keras.callbacks.EarlyStopping(patience=2, restore_best_weights=True)\n",
        "checkpoint_cb = tf.keras.callbacks.ModelCheckpoint('best_model.keras', save_best_only=True)\n",
        "\n",
        "hist = mlp.fit(X_train_scaled,y_train_onthot,batch_size=128, epochs=60,validation_split=0.2,\n",
        "               callbacks=[checkpoint_cb,ealy_stopping] ,  verbose=2)"
      ],
      "metadata": {
        "colab": {
          "base_uri": "https://localhost:8080/"
        },
        "id": "MToAIg8n12Of",
        "outputId": "d133d0bc-b618-47d9-82bd-4e552731a573"
      },
      "execution_count": 3,
      "outputs": [
        {
          "output_type": "stream",
          "name": "stdout",
          "text": [
            "Epoch 1/60\n",
            "375/375 - 37s - loss: 0.2299 - accuracy: 0.9288 - val_loss: 0.1077 - val_accuracy: 0.9678 - 37s/epoch - 100ms/step\n",
            "Epoch 2/60\n",
            "375/375 - 23s - loss: 0.0952 - accuracy: 0.9708 - val_loss: 0.1037 - val_accuracy: 0.9682 - 23s/epoch - 60ms/step\n",
            "Epoch 3/60\n",
            "375/375 - 20s - loss: 0.0596 - accuracy: 0.9813 - val_loss: 0.1165 - val_accuracy: 0.9663 - 20s/epoch - 53ms/step\n",
            "Epoch 4/60\n",
            "375/375 - 27s - loss: 0.0523 - accuracy: 0.9841 - val_loss: 0.1052 - val_accuracy: 0.9703 - 27s/epoch - 73ms/step\n"
          ]
        }
      ]
    },
    {
      "cell_type": "code",
      "source": [
        "tf.keras.utils.to_categorical(y_train,10).shape, tf.one_hot(y_train, 10).shape"
      ],
      "metadata": {
        "colab": {
          "base_uri": "https://localhost:8080/"
        },
        "id": "pZYCa-nn14v3",
        "outputId": "fa60a7b3-853a-4c90-e20f-a1a6e534b4a2"
      },
      "execution_count": 4,
      "outputs": [
        {
          "output_type": "execute_result",
          "data": {
            "text/plain": [
              "((60000, 10), TensorShape([60000, 10]))"
            ]
          },
          "metadata": {},
          "execution_count": 4
        }
      ]
    },
    {
      "cell_type": "code",
      "source": [
        "# 분류 에 해당하는 데이터를 가져와서\n",
        "# 지금까지 배운 신경망을 이용해서 분류 모델을 만들고\n",
        "# 시각화를통해 성능을 검증해보고 = 과적합\n",
        "# 평가"
      ],
      "metadata": {
        "id": "cUNjVqQU16EN"
      },
      "execution_count": 5,
      "outputs": []
    },
    {
      "cell_type": "code",
      "source": [
        "# https://drive.google.com/file/d/1mEiWSp7zBeRE975To6BRzjsPbAJC2dbQ/view?usp=sharing\n",
        "# wget --no-check-certificate 'https://docs.google.com/uc?export=download&id={FILEID}' -O {FILENAME}\n",
        "!wget https://drive.google.com/uc?id=1mEiWSp7zBeRE975To6BRzjsPbAJC2dbQ -O download.zip"
      ],
      "metadata": {
        "colab": {
          "base_uri": "https://localhost:8080/"
        },
        "id": "doYRdj6a17iU",
        "outputId": "099f2913-25c8-4efd-d87c-9d76168864b5"
      },
      "execution_count": 6,
      "outputs": [
        {
          "output_type": "stream",
          "name": "stdout",
          "text": [
            "--2024-05-01 11:13:24--  https://drive.google.com/uc?id=1mEiWSp7zBeRE975To6BRzjsPbAJC2dbQ\n",
            "Resolving drive.google.com (drive.google.com)... 142.251.162.138, 142.251.162.113, 142.251.162.100, ...\n",
            "Connecting to drive.google.com (drive.google.com)|142.251.162.138|:443... connected.\n",
            "HTTP request sent, awaiting response... 303 See Other\n",
            "Location: https://drive.usercontent.google.com/download?id=1mEiWSp7zBeRE975To6BRzjsPbAJC2dbQ [following]\n",
            "--2024-05-01 11:13:24--  https://drive.usercontent.google.com/download?id=1mEiWSp7zBeRE975To6BRzjsPbAJC2dbQ\n",
            "Resolving drive.usercontent.google.com (drive.usercontent.google.com)... 74.125.134.132, 2607:f8b0:400c:c0c::84\n",
            "Connecting to drive.usercontent.google.com (drive.usercontent.google.com)|74.125.134.132|:443... connected.\n",
            "HTTP request sent, awaiting response... 200 OK\n",
            "Length: 128894 (126K) [application/octet-stream]\n",
            "Saving to: ‘download.zip’\n",
            "\n",
            "download.zip        100%[===================>] 125.87K  --.-KB/s    in 0.002s  \n",
            "\n",
            "2024-05-01 11:13:25 (69.7 MB/s) - ‘download.zip’ saved [128894/128894]\n",
            "\n"
          ]
        }
      ]
    },
    {
      "cell_type": "code",
      "source": [
        "!pip install gdown"
      ],
      "metadata": {
        "colab": {
          "base_uri": "https://localhost:8080/"
        },
        "id": "j3PBjCHM187J",
        "outputId": "06957485-ccc5-4650-9d5a-03d8b86fb693"
      },
      "execution_count": 7,
      "outputs": [
        {
          "output_type": "stream",
          "name": "stdout",
          "text": [
            "Requirement already satisfied: gdown in /usr/local/lib/python3.10/dist-packages (5.1.0)\n",
            "Requirement already satisfied: beautifulsoup4 in /usr/local/lib/python3.10/dist-packages (from gdown) (4.12.3)\n",
            "Requirement already satisfied: filelock in /usr/local/lib/python3.10/dist-packages (from gdown) (3.13.4)\n",
            "Requirement already satisfied: requests[socks] in /usr/local/lib/python3.10/dist-packages (from gdown) (2.31.0)\n",
            "Requirement already satisfied: tqdm in /usr/local/lib/python3.10/dist-packages (from gdown) (4.66.2)\n",
            "Requirement already satisfied: soupsieve>1.2 in /usr/local/lib/python3.10/dist-packages (from beautifulsoup4->gdown) (2.5)\n",
            "Requirement already satisfied: charset-normalizer<4,>=2 in /usr/local/lib/python3.10/dist-packages (from requests[socks]->gdown) (3.3.2)\n",
            "Requirement already satisfied: idna<4,>=2.5 in /usr/local/lib/python3.10/dist-packages (from requests[socks]->gdown) (3.7)\n",
            "Requirement already satisfied: urllib3<3,>=1.21.1 in /usr/local/lib/python3.10/dist-packages (from requests[socks]->gdown) (2.0.7)\n",
            "Requirement already satisfied: certifi>=2017.4.17 in /usr/local/lib/python3.10/dist-packages (from requests[socks]->gdown) (2024.2.2)\n",
            "Requirement already satisfied: PySocks!=1.5.7,>=1.5.6 in /usr/local/lib/python3.10/dist-packages (from requests[socks]->gdown) (1.7.1)\n"
          ]
        }
      ]
    },
    {
      "cell_type": "code",
      "source": [
        "import gdown\n",
        "url = 'https://drive.google.com/uc?id=1mEiWSp7zBeRE975To6BRzjsPbAJC2dbQ'\n",
        "output = 'test.zip'\n",
        "gdown.download(url,output)"
      ],
      "metadata": {
        "colab": {
          "base_uri": "https://localhost:8080/",
          "height": 111
        },
        "id": "glM7C9Ln1-cO",
        "outputId": "0a6fb0c0-eab4-4bfa-f63c-a7cb9c0f4167"
      },
      "execution_count": 8,
      "outputs": [
        {
          "output_type": "stream",
          "name": "stderr",
          "text": [
            "Downloading...\n",
            "From: https://drive.google.com/uc?id=1mEiWSp7zBeRE975To6BRzjsPbAJC2dbQ\n",
            "To: /content/test.zip\n",
            "100%|██████████| 129k/129k [00:00<00:00, 34.4MB/s]\n"
          ]
        },
        {
          "output_type": "execute_result",
          "data": {
            "text/plain": [
              "'test.zip'"
            ],
            "application/vnd.google.colaboratory.intrinsic+json": {
              "type": "string"
            }
          },
          "metadata": {},
          "execution_count": 8
        }
      ]
    },
    {
      "cell_type": "code",
      "source": [
        "!unzip /content/download.zip"
      ],
      "metadata": {
        "colab": {
          "base_uri": "https://localhost:8080/"
        },
        "id": "6p_eSxs-2Aqv",
        "outputId": "2926a316-3aca-4e1e-9c30-eec6e934b11f"
      },
      "execution_count": 9,
      "outputs": [
        {
          "output_type": "stream",
          "name": "stdout",
          "text": [
            "Archive:  /content/download.zip\n",
            "  inflating: Index                   \n",
            "  inflating: WARNING                 \n",
            "  inflating: ask-detrano             \n",
            "  inflating: bak                     \n",
            "  inflating: cleve.mod               \n",
            "  inflating: cleveland.data          \n",
            "   creating: costs/\n",
            "  inflating: costs/Index             \n",
            "  inflating: costs/heart-disease.README  \n",
            "  inflating: costs/heart-disease.cost  \n",
            "  inflating: costs/heart-disease.delay  \n",
            "  inflating: costs/heart-disease.expense  \n",
            "  inflating: costs/heart-disease.group  \n",
            "  inflating: heart-disease.names     \n",
            "  inflating: hungarian.data          \n",
            "  inflating: long-beach-va.data      \n",
            "  inflating: new.data                \n",
            "  inflating: processed.cleveland.data  \n",
            "  inflating: processed.hungarian.data  \n",
            "  inflating: processed.switzerland.data  \n",
            "  inflating: processed.va.data       \n",
            "  inflating: reprocessed.hungarian.data  \n",
            "  inflating: switzerland.data        \n"
          ]
        }
      ]
    },
    {
      "cell_type": "code",
      "source": [
        "!pip install ucimlrepo"
      ],
      "metadata": {
        "colab": {
          "base_uri": "https://localhost:8080/"
        },
        "id": "sQoXipH-2Blg",
        "outputId": "4738d01e-11c2-48ae-e0ba-c887234df181"
      },
      "execution_count": 10,
      "outputs": [
        {
          "output_type": "stream",
          "name": "stdout",
          "text": [
            "Collecting ucimlrepo\n",
            "  Downloading ucimlrepo-0.0.6-py3-none-any.whl (8.0 kB)\n",
            "Installing collected packages: ucimlrepo\n",
            "Successfully installed ucimlrepo-0.0.6\n"
          ]
        }
      ]
    },
    {
      "cell_type": "code",
      "source": [
        "from ucimlrepo import fetch_ucirepo\n",
        "\n",
        "# fetch dataset\n",
        "heart_disease = fetch_ucirepo(id=45)\n",
        "\n",
        "# data (as pandas dataframes)\n",
        "X = heart_disease.data.features\n",
        "y = heart_disease.data.targets\n",
        "\n",
        "# metadata\n",
        "print(heart_disease.metadata)\n",
        "\n",
        "# variable information\n",
        "print(heart_disease.variables)"
      ],
      "metadata": {
        "colab": {
          "base_uri": "https://localhost:8080/"
        },
        "id": "CLZzq6jj2DGv",
        "outputId": "38953576-80de-4b3d-8d98-737e27c639de"
      },
      "execution_count": 11,
      "outputs": [
        {
          "output_type": "stream",
          "name": "stdout",
          "text": [
            "{'uci_id': 45, 'name': 'Heart Disease', 'repository_url': 'https://archive.ics.uci.edu/dataset/45/heart+disease', 'data_url': 'https://archive.ics.uci.edu/static/public/45/data.csv', 'abstract': '4 databases: Cleveland, Hungary, Switzerland, and the VA Long Beach', 'area': 'Health and Medicine', 'tasks': ['Classification'], 'characteristics': ['Multivariate'], 'num_instances': 303, 'num_features': 13, 'feature_types': ['Categorical', 'Integer', 'Real'], 'demographics': ['Age', 'Sex'], 'target_col': ['num'], 'index_col': None, 'has_missing_values': 'yes', 'missing_values_symbol': 'NaN', 'year_of_dataset_creation': 1989, 'last_updated': 'Fri Nov 03 2023', 'dataset_doi': '10.24432/C52P4X', 'creators': ['Andras Janosi', 'William Steinbrunn', 'Matthias Pfisterer', 'Robert Detrano'], 'intro_paper': {'title': 'International application of a new probability algorithm for the diagnosis of coronary artery disease.', 'authors': 'R. Detrano, A. Jánosi, W. Steinbrunn, M. Pfisterer, J. Schmid, S. Sandhu, K. Guppy, S. Lee, V. Froelicher', 'published_in': 'American Journal of Cardiology', 'year': 1989, 'url': 'https://www.semanticscholar.org/paper/a7d714f8f87bfc41351eb5ae1e5472f0ebbe0574', 'doi': None}, 'additional_info': {'summary': 'This database contains 76 attributes, but all published experiments refer to using a subset of 14 of them.  In particular, the Cleveland database is the only one that has been used by ML researchers to date.  The \"goal\" field refers to the presence of heart disease in the patient.  It is integer valued from 0 (no presence) to 4. Experiments with the Cleveland database have concentrated on simply attempting to distinguish presence (values 1,2,3,4) from absence (value 0).  \\n   \\nThe names and social security numbers of the patients were recently removed from the database, replaced with dummy values.\\n\\nOne file has been \"processed\", that one containing the Cleveland database.  All four unprocessed files also exist in this directory.\\n\\nTo see Test Costs (donated by Peter Turney), please see the folder \"Costs\" ', 'purpose': None, 'funded_by': None, 'instances_represent': None, 'recommended_data_splits': None, 'sensitive_data': None, 'preprocessing_description': None, 'variable_info': 'Only 14 attributes used:\\r\\n      1. #3  (age)       \\r\\n      2. #4  (sex)       \\r\\n      3. #9  (cp)        \\r\\n      4. #10 (trestbps)  \\r\\n      5. #12 (chol)      \\r\\n      6. #16 (fbs)       \\r\\n      7. #19 (restecg)   \\r\\n      8. #32 (thalach)   \\r\\n      9. #38 (exang)     \\r\\n      10. #40 (oldpeak)   \\r\\n      11. #41 (slope)     \\r\\n      12. #44 (ca)        \\r\\n      13. #51 (thal)      \\r\\n      14. #58 (num)       (the predicted attribute)\\r\\n\\r\\nComplete attribute documentation:\\r\\n      1 id: patient identification number\\r\\n      2 ccf: social security number (I replaced this with a dummy value of 0)\\r\\n      3 age: age in years\\r\\n      4 sex: sex (1 = male; 0 = female)\\r\\n      5 painloc: chest pain location (1 = substernal; 0 = otherwise)\\r\\n      6 painexer (1 = provoked by exertion; 0 = otherwise)\\r\\n      7 relrest (1 = relieved after rest; 0 = otherwise)\\r\\n      8 pncaden (sum of 5, 6, and 7)\\r\\n      9 cp: chest pain type\\r\\n        -- Value 1: typical angina\\r\\n        -- Value 2: atypical angina\\r\\n        -- Value 3: non-anginal pain\\r\\n        -- Value 4: asymptomatic\\r\\n     10 trestbps: resting blood pressure (in mm Hg on admission to the hospital)\\r\\n     11 htn\\r\\n     12 chol: serum cholestoral in mg/dl\\r\\n     13 smoke: I believe this is 1 = yes; 0 = no (is or is not a smoker)\\r\\n     14 cigs (cigarettes per day)\\r\\n     15 years (number of years as a smoker)\\r\\n     16 fbs: (fasting blood sugar > 120 mg/dl)  (1 = true; 0 = false)\\r\\n     17 dm (1 = history of diabetes; 0 = no such history)\\r\\n     18 famhist: family history of coronary artery disease (1 = yes; 0 = no)\\r\\n     19 restecg: resting electrocardiographic results\\r\\n        -- Value 0: normal\\r\\n        -- Value 1: having ST-T wave abnormality (T wave inversions and/or ST elevation or depression of > 0.05 mV)\\r\\n        -- Value 2: showing probable or definite left ventricular hypertrophy by Estes\\' criteria\\r\\n     20 ekgmo (month of exercise ECG reading)\\r\\n     21 ekgday(day of exercise ECG reading)\\r\\n     22 ekgyr (year of exercise ECG reading)\\r\\n     23 dig (digitalis used furing exercise ECG: 1 = yes; 0 = no)\\r\\n     24 prop (Beta blocker used during exercise ECG: 1 = yes; 0 = no)\\r\\n     25 nitr (nitrates used during exercise ECG: 1 = yes; 0 = no)\\r\\n     26 pro (calcium channel blocker used during exercise ECG: 1 = yes; 0 = no)\\r\\n     27 diuretic (diuretic used used during exercise ECG: 1 = yes; 0 = no)\\r\\n     28 proto: exercise protocol\\r\\n          1 = Bruce     \\r\\n          2 = Kottus\\r\\n          3 = McHenry\\r\\n          4 = fast Balke\\r\\n          5 = Balke\\r\\n          6 = Noughton \\r\\n          7 = bike 150 kpa min/min  (Not sure if \"kpa min/min\" is what was written!)\\r\\n          8 = bike 125 kpa min/min  \\r\\n          9 = bike 100 kpa min/min\\r\\n         10 = bike 75 kpa min/min\\r\\n         11 = bike 50 kpa min/min\\r\\n         12 = arm ergometer\\r\\n     29 thaldur: duration of exercise test in minutes\\r\\n     30 thaltime: time when ST measure depression was noted\\r\\n     31 met: mets achieved\\r\\n     32 thalach: maximum heart rate achieved\\r\\n     33 thalrest: resting heart rate\\r\\n     34 tpeakbps: peak exercise blood pressure (first of 2 parts)\\r\\n     35 tpeakbpd: peak exercise blood pressure (second of 2 parts)\\r\\n     36 dummy\\r\\n     37 trestbpd: resting blood pressure\\r\\n     38 exang: exercise induced angina (1 = yes; 0 = no)\\r\\n     39 xhypo: (1 = yes; 0 = no)\\r\\n     40 oldpeak = ST depression induced by exercise relative to rest\\r\\n     41 slope: the slope of the peak exercise ST segment\\r\\n        -- Value 1: upsloping\\r\\n        -- Value 2: flat\\r\\n        -- Value 3: downsloping\\r\\n     42 rldv5: height at rest\\r\\n     43 rldv5e: height at peak exercise\\r\\n     44 ca: number of major vessels (0-3) colored by flourosopy\\r\\n     45 restckm: irrelevant\\r\\n     46 exerckm: irrelevant\\r\\n     47 restef: rest raidonuclid (sp?) ejection fraction\\r\\n     48 restwm: rest wall (sp?) motion abnormality\\r\\n        0 = none\\r\\n        1 = mild or moderate\\r\\n        2 = moderate or severe\\r\\n        3 = akinesis or dyskmem (sp?)\\r\\n     49 exeref: exercise radinalid (sp?) ejection fraction\\r\\n     50 exerwm: exercise wall (sp?) motion \\r\\n     51 thal: 3 = normal; 6 = fixed defect; 7 = reversable defect\\r\\n     52 thalsev: not used\\r\\n     53 thalpul: not used\\r\\n     54 earlobe: not used\\r\\n     55 cmo: month of cardiac cath (sp?)  (perhaps \"call\")\\r\\n     56 cday: day of cardiac cath (sp?)\\r\\n     57 cyr: year of cardiac cath (sp?)\\r\\n     58 num: diagnosis of heart disease (angiographic disease status)\\r\\n        -- Value 0: < 50% diameter narrowing\\r\\n        -- Value 1: > 50% diameter narrowing\\r\\n        (in any major vessel: attributes 59 through 68 are vessels)\\r\\n     59 lmt\\r\\n     60 ladprox\\r\\n     61 laddist\\r\\n     62 diag\\r\\n     63 cxmain\\r\\n     64 ramus\\r\\n     65 om1\\r\\n     66 om2\\r\\n     67 rcaprox\\r\\n     68 rcadist\\r\\n     69 lvx1: not used\\r\\n     70 lvx2: not used\\r\\n     71 lvx3: not used\\r\\n     72 lvx4: not used\\r\\n     73 lvf: not used\\r\\n     74 cathef: not used\\r\\n     75 junk: not used\\r\\n     76 name: last name of patient  (I replaced this with the dummy string \"name\")', 'citation': None}}\n",
            "        name     role         type demographic  \\\n",
            "0        age  Feature      Integer         Age   \n",
            "1        sex  Feature  Categorical         Sex   \n",
            "2         cp  Feature  Categorical        None   \n",
            "3   trestbps  Feature      Integer        None   \n",
            "4       chol  Feature      Integer        None   \n",
            "5        fbs  Feature  Categorical        None   \n",
            "6    restecg  Feature  Categorical        None   \n",
            "7    thalach  Feature      Integer        None   \n",
            "8      exang  Feature  Categorical        None   \n",
            "9    oldpeak  Feature      Integer        None   \n",
            "10     slope  Feature  Categorical        None   \n",
            "11        ca  Feature      Integer        None   \n",
            "12      thal  Feature  Categorical        None   \n",
            "13       num   Target      Integer        None   \n",
            "\n",
            "                                          description  units missing_values  \n",
            "0                                                None  years             no  \n",
            "1                                                None   None             no  \n",
            "2                                                None   None             no  \n",
            "3   resting blood pressure (on admission to the ho...  mm Hg             no  \n",
            "4                                   serum cholestoral  mg/dl             no  \n",
            "5                     fasting blood sugar > 120 mg/dl   None             no  \n",
            "6                                                None   None             no  \n",
            "7                         maximum heart rate achieved   None             no  \n",
            "8                             exercise induced angina   None             no  \n",
            "9   ST depression induced by exercise relative to ...   None             no  \n",
            "10                                               None   None             no  \n",
            "11  number of major vessels (0-3) colored by flour...   None            yes  \n",
            "12                                               None   None            yes  \n",
            "13                         diagnosis of heart disease   None             no  \n"
          ]
        }
      ]
    },
    {
      "cell_type": "code",
      "source": [
        "heart_disease.metadata.data_url"
      ],
      "metadata": {
        "colab": {
          "base_uri": "https://localhost:8080/",
          "height": 36
        },
        "id": "Imyy1N8U2Ew-",
        "outputId": "912afc74-c954-4b3e-b8fe-725ac919943e"
      },
      "execution_count": 12,
      "outputs": [
        {
          "output_type": "execute_result",
          "data": {
            "text/plain": [
              "'https://archive.ics.uci.edu/static/public/45/data.csv'"
            ],
            "application/vnd.google.colaboratory.intrinsic+json": {
              "type": "string"
            }
          },
          "metadata": {},
          "execution_count": 12
        }
      ]
    },
    {
      "cell_type": "code",
      "source": [
        "import pandas as pd\n",
        "df = pd.read_csv(heart_disease.metadata.data_url)\n",
        "df.num.value_counts()\n",
        "#0 정상\n",
        "# 1 심장 백내장\n",
        "# 2 협심증\n",
        "# 3 심근경색\n",
        "# 4\n",
        "# 303-164 = 139"
      ],
      "metadata": {
        "colab": {
          "base_uri": "https://localhost:8080/"
        },
        "id": "8CjpEO7a2Fz2",
        "outputId": "ff596165-975d-4b14-9c84-2d6051e2c071"
      },
      "execution_count": 13,
      "outputs": [
        {
          "output_type": "execute_result",
          "data": {
            "text/plain": [
              "num\n",
              "0    164\n",
              "1     55\n",
              "2     36\n",
              "3     35\n",
              "4     13\n",
              "Name: count, dtype: int64"
            ]
          },
          "metadata": {},
          "execution_count": 13
        }
      ]
    },
    {
      "cell_type": "code",
      "source": [
        "# 필요한 라이브러리\n",
        "import numpy as np\n",
        "import tensorflow as tf\n",
        "from tensorflow.keras.datasets import mnist\n",
        "from tensorflow.keras.models import Sequential\n",
        "from tensorflow.keras.layers import Dense,Dropout,Flatten\n",
        "from tensorflow.keras.optimizers import Adam\n",
        "from sklearn.model_selection import train_test_split\n",
        "from sklearn.preprocessing import StandardScaler\n",
        "import pandas as pd\n",
        "\n",
        "# 데이터 로드\n",
        "df = pd.read_csv(heart_disease.metadata.data_url)\n",
        "df.head()"
      ],
      "metadata": {
        "colab": {
          "base_uri": "https://localhost:8080/",
          "height": 206
        },
        "id": "5KoDEdNv2Hf4",
        "outputId": "39e5bf74-e9c8-4e6e-a660-a1685444aad0"
      },
      "execution_count": 14,
      "outputs": [
        {
          "output_type": "execute_result",
          "data": {
            "text/plain": [
              "   age  sex  cp  trestbps  chol  fbs  restecg  thalach  exang  oldpeak  slope  \\\n",
              "0   63    1   1       145   233    1        2      150      0      2.3      3   \n",
              "1   67    1   4       160   286    0        2      108      1      1.5      2   \n",
              "2   67    1   4       120   229    0        2      129      1      2.6      2   \n",
              "3   37    1   3       130   250    0        0      187      0      3.5      3   \n",
              "4   41    0   2       130   204    0        2      172      0      1.4      1   \n",
              "\n",
              "    ca  thal  num  \n",
              "0  0.0   6.0    0  \n",
              "1  3.0   3.0    2  \n",
              "2  2.0   7.0    1  \n",
              "3  0.0   3.0    0  \n",
              "4  0.0   3.0    0  "
            ],
            "text/html": [
              "\n",
              "  <div id=\"df-ea11f9ba-6447-443c-bce0-dc39a55ececa\" class=\"colab-df-container\">\n",
              "    <div>\n",
              "<style scoped>\n",
              "    .dataframe tbody tr th:only-of-type {\n",
              "        vertical-align: middle;\n",
              "    }\n",
              "\n",
              "    .dataframe tbody tr th {\n",
              "        vertical-align: top;\n",
              "    }\n",
              "\n",
              "    .dataframe thead th {\n",
              "        text-align: right;\n",
              "    }\n",
              "</style>\n",
              "<table border=\"1\" class=\"dataframe\">\n",
              "  <thead>\n",
              "    <tr style=\"text-align: right;\">\n",
              "      <th></th>\n",
              "      <th>age</th>\n",
              "      <th>sex</th>\n",
              "      <th>cp</th>\n",
              "      <th>trestbps</th>\n",
              "      <th>chol</th>\n",
              "      <th>fbs</th>\n",
              "      <th>restecg</th>\n",
              "      <th>thalach</th>\n",
              "      <th>exang</th>\n",
              "      <th>oldpeak</th>\n",
              "      <th>slope</th>\n",
              "      <th>ca</th>\n",
              "      <th>thal</th>\n",
              "      <th>num</th>\n",
              "    </tr>\n",
              "  </thead>\n",
              "  <tbody>\n",
              "    <tr>\n",
              "      <th>0</th>\n",
              "      <td>63</td>\n",
              "      <td>1</td>\n",
              "      <td>1</td>\n",
              "      <td>145</td>\n",
              "      <td>233</td>\n",
              "      <td>1</td>\n",
              "      <td>2</td>\n",
              "      <td>150</td>\n",
              "      <td>0</td>\n",
              "      <td>2.3</td>\n",
              "      <td>3</td>\n",
              "      <td>0.0</td>\n",
              "      <td>6.0</td>\n",
              "      <td>0</td>\n",
              "    </tr>\n",
              "    <tr>\n",
              "      <th>1</th>\n",
              "      <td>67</td>\n",
              "      <td>1</td>\n",
              "      <td>4</td>\n",
              "      <td>160</td>\n",
              "      <td>286</td>\n",
              "      <td>0</td>\n",
              "      <td>2</td>\n",
              "      <td>108</td>\n",
              "      <td>1</td>\n",
              "      <td>1.5</td>\n",
              "      <td>2</td>\n",
              "      <td>3.0</td>\n",
              "      <td>3.0</td>\n",
              "      <td>2</td>\n",
              "    </tr>\n",
              "    <tr>\n",
              "      <th>2</th>\n",
              "      <td>67</td>\n",
              "      <td>1</td>\n",
              "      <td>4</td>\n",
              "      <td>120</td>\n",
              "      <td>229</td>\n",
              "      <td>0</td>\n",
              "      <td>2</td>\n",
              "      <td>129</td>\n",
              "      <td>1</td>\n",
              "      <td>2.6</td>\n",
              "      <td>2</td>\n",
              "      <td>2.0</td>\n",
              "      <td>7.0</td>\n",
              "      <td>1</td>\n",
              "    </tr>\n",
              "    <tr>\n",
              "      <th>3</th>\n",
              "      <td>37</td>\n",
              "      <td>1</td>\n",
              "      <td>3</td>\n",
              "      <td>130</td>\n",
              "      <td>250</td>\n",
              "      <td>0</td>\n",
              "      <td>0</td>\n",
              "      <td>187</td>\n",
              "      <td>0</td>\n",
              "      <td>3.5</td>\n",
              "      <td>3</td>\n",
              "      <td>0.0</td>\n",
              "      <td>3.0</td>\n",
              "      <td>0</td>\n",
              "    </tr>\n",
              "    <tr>\n",
              "      <th>4</th>\n",
              "      <td>41</td>\n",
              "      <td>0</td>\n",
              "      <td>2</td>\n",
              "      <td>130</td>\n",
              "      <td>204</td>\n",
              "      <td>0</td>\n",
              "      <td>2</td>\n",
              "      <td>172</td>\n",
              "      <td>0</td>\n",
              "      <td>1.4</td>\n",
              "      <td>1</td>\n",
              "      <td>0.0</td>\n",
              "      <td>3.0</td>\n",
              "      <td>0</td>\n",
              "    </tr>\n",
              "  </tbody>\n",
              "</table>\n",
              "</div>\n",
              "    <div class=\"colab-df-buttons\">\n",
              "\n",
              "  <div class=\"colab-df-container\">\n",
              "    <button class=\"colab-df-convert\" onclick=\"convertToInteractive('df-ea11f9ba-6447-443c-bce0-dc39a55ececa')\"\n",
              "            title=\"Convert this dataframe to an interactive table.\"\n",
              "            style=\"display:none;\">\n",
              "\n",
              "  <svg xmlns=\"http://www.w3.org/2000/svg\" height=\"24px\" viewBox=\"0 -960 960 960\">\n",
              "    <path d=\"M120-120v-720h720v720H120Zm60-500h600v-160H180v160Zm220 220h160v-160H400v160Zm0 220h160v-160H400v160ZM180-400h160v-160H180v160Zm440 0h160v-160H620v160ZM180-180h160v-160H180v160Zm440 0h160v-160H620v160Z\"/>\n",
              "  </svg>\n",
              "    </button>\n",
              "\n",
              "  <style>\n",
              "    .colab-df-container {\n",
              "      display:flex;\n",
              "      gap: 12px;\n",
              "    }\n",
              "\n",
              "    .colab-df-convert {\n",
              "      background-color: #E8F0FE;\n",
              "      border: none;\n",
              "      border-radius: 50%;\n",
              "      cursor: pointer;\n",
              "      display: none;\n",
              "      fill: #1967D2;\n",
              "      height: 32px;\n",
              "      padding: 0 0 0 0;\n",
              "      width: 32px;\n",
              "    }\n",
              "\n",
              "    .colab-df-convert:hover {\n",
              "      background-color: #E2EBFA;\n",
              "      box-shadow: 0px 1px 2px rgba(60, 64, 67, 0.3), 0px 1px 3px 1px rgba(60, 64, 67, 0.15);\n",
              "      fill: #174EA6;\n",
              "    }\n",
              "\n",
              "    .colab-df-buttons div {\n",
              "      margin-bottom: 4px;\n",
              "    }\n",
              "\n",
              "    [theme=dark] .colab-df-convert {\n",
              "      background-color: #3B4455;\n",
              "      fill: #D2E3FC;\n",
              "    }\n",
              "\n",
              "    [theme=dark] .colab-df-convert:hover {\n",
              "      background-color: #434B5C;\n",
              "      box-shadow: 0px 1px 3px 1px rgba(0, 0, 0, 0.15);\n",
              "      filter: drop-shadow(0px 1px 2px rgba(0, 0, 0, 0.3));\n",
              "      fill: #FFFFFF;\n",
              "    }\n",
              "  </style>\n",
              "\n",
              "    <script>\n",
              "      const buttonEl =\n",
              "        document.querySelector('#df-ea11f9ba-6447-443c-bce0-dc39a55ececa button.colab-df-convert');\n",
              "      buttonEl.style.display =\n",
              "        google.colab.kernel.accessAllowed ? 'block' : 'none';\n",
              "\n",
              "      async function convertToInteractive(key) {\n",
              "        const element = document.querySelector('#df-ea11f9ba-6447-443c-bce0-dc39a55ececa');\n",
              "        const dataTable =\n",
              "          await google.colab.kernel.invokeFunction('convertToInteractive',\n",
              "                                                    [key], {});\n",
              "        if (!dataTable) return;\n",
              "\n",
              "        const docLinkHtml = 'Like what you see? Visit the ' +\n",
              "          '<a target=\"_blank\" href=https://colab.research.google.com/notebooks/data_table.ipynb>data table notebook</a>'\n",
              "          + ' to learn more about interactive tables.';\n",
              "        element.innerHTML = '';\n",
              "        dataTable['output_type'] = 'display_data';\n",
              "        await google.colab.output.renderOutput(dataTable, element);\n",
              "        const docLink = document.createElement('div');\n",
              "        docLink.innerHTML = docLinkHtml;\n",
              "        element.appendChild(docLink);\n",
              "      }\n",
              "    </script>\n",
              "  </div>\n",
              "\n",
              "\n",
              "<div id=\"df-272aa644-0377-4583-8e7a-04a1eb444443\">\n",
              "  <button class=\"colab-df-quickchart\" onclick=\"quickchart('df-272aa644-0377-4583-8e7a-04a1eb444443')\"\n",
              "            title=\"Suggest charts\"\n",
              "            style=\"display:none;\">\n",
              "\n",
              "<svg xmlns=\"http://www.w3.org/2000/svg\" height=\"24px\"viewBox=\"0 0 24 24\"\n",
              "     width=\"24px\">\n",
              "    <g>\n",
              "        <path d=\"M19 3H5c-1.1 0-2 .9-2 2v14c0 1.1.9 2 2 2h14c1.1 0 2-.9 2-2V5c0-1.1-.9-2-2-2zM9 17H7v-7h2v7zm4 0h-2V7h2v10zm4 0h-2v-4h2v4z\"/>\n",
              "    </g>\n",
              "</svg>\n",
              "  </button>\n",
              "\n",
              "<style>\n",
              "  .colab-df-quickchart {\n",
              "      --bg-color: #E8F0FE;\n",
              "      --fill-color: #1967D2;\n",
              "      --hover-bg-color: #E2EBFA;\n",
              "      --hover-fill-color: #174EA6;\n",
              "      --disabled-fill-color: #AAA;\n",
              "      --disabled-bg-color: #DDD;\n",
              "  }\n",
              "\n",
              "  [theme=dark] .colab-df-quickchart {\n",
              "      --bg-color: #3B4455;\n",
              "      --fill-color: #D2E3FC;\n",
              "      --hover-bg-color: #434B5C;\n",
              "      --hover-fill-color: #FFFFFF;\n",
              "      --disabled-bg-color: #3B4455;\n",
              "      --disabled-fill-color: #666;\n",
              "  }\n",
              "\n",
              "  .colab-df-quickchart {\n",
              "    background-color: var(--bg-color);\n",
              "    border: none;\n",
              "    border-radius: 50%;\n",
              "    cursor: pointer;\n",
              "    display: none;\n",
              "    fill: var(--fill-color);\n",
              "    height: 32px;\n",
              "    padding: 0;\n",
              "    width: 32px;\n",
              "  }\n",
              "\n",
              "  .colab-df-quickchart:hover {\n",
              "    background-color: var(--hover-bg-color);\n",
              "    box-shadow: 0 1px 2px rgba(60, 64, 67, 0.3), 0 1px 3px 1px rgba(60, 64, 67, 0.15);\n",
              "    fill: var(--button-hover-fill-color);\n",
              "  }\n",
              "\n",
              "  .colab-df-quickchart-complete:disabled,\n",
              "  .colab-df-quickchart-complete:disabled:hover {\n",
              "    background-color: var(--disabled-bg-color);\n",
              "    fill: var(--disabled-fill-color);\n",
              "    box-shadow: none;\n",
              "  }\n",
              "\n",
              "  .colab-df-spinner {\n",
              "    border: 2px solid var(--fill-color);\n",
              "    border-color: transparent;\n",
              "    border-bottom-color: var(--fill-color);\n",
              "    animation:\n",
              "      spin 1s steps(1) infinite;\n",
              "  }\n",
              "\n",
              "  @keyframes spin {\n",
              "    0% {\n",
              "      border-color: transparent;\n",
              "      border-bottom-color: var(--fill-color);\n",
              "      border-left-color: var(--fill-color);\n",
              "    }\n",
              "    20% {\n",
              "      border-color: transparent;\n",
              "      border-left-color: var(--fill-color);\n",
              "      border-top-color: var(--fill-color);\n",
              "    }\n",
              "    30% {\n",
              "      border-color: transparent;\n",
              "      border-left-color: var(--fill-color);\n",
              "      border-top-color: var(--fill-color);\n",
              "      border-right-color: var(--fill-color);\n",
              "    }\n",
              "    40% {\n",
              "      border-color: transparent;\n",
              "      border-right-color: var(--fill-color);\n",
              "      border-top-color: var(--fill-color);\n",
              "    }\n",
              "    60% {\n",
              "      border-color: transparent;\n",
              "      border-right-color: var(--fill-color);\n",
              "    }\n",
              "    80% {\n",
              "      border-color: transparent;\n",
              "      border-right-color: var(--fill-color);\n",
              "      border-bottom-color: var(--fill-color);\n",
              "    }\n",
              "    90% {\n",
              "      border-color: transparent;\n",
              "      border-bottom-color: var(--fill-color);\n",
              "    }\n",
              "  }\n",
              "</style>\n",
              "\n",
              "  <script>\n",
              "    async function quickchart(key) {\n",
              "      const quickchartButtonEl =\n",
              "        document.querySelector('#' + key + ' button');\n",
              "      quickchartButtonEl.disabled = true;  // To prevent multiple clicks.\n",
              "      quickchartButtonEl.classList.add('colab-df-spinner');\n",
              "      try {\n",
              "        const charts = await google.colab.kernel.invokeFunction(\n",
              "            'suggestCharts', [key], {});\n",
              "      } catch (error) {\n",
              "        console.error('Error during call to suggestCharts:', error);\n",
              "      }\n",
              "      quickchartButtonEl.classList.remove('colab-df-spinner');\n",
              "      quickchartButtonEl.classList.add('colab-df-quickchart-complete');\n",
              "    }\n",
              "    (() => {\n",
              "      let quickchartButtonEl =\n",
              "        document.querySelector('#df-272aa644-0377-4583-8e7a-04a1eb444443 button');\n",
              "      quickchartButtonEl.style.display =\n",
              "        google.colab.kernel.accessAllowed ? 'block' : 'none';\n",
              "    })();\n",
              "  </script>\n",
              "</div>\n",
              "\n",
              "    </div>\n",
              "  </div>\n"
            ],
            "application/vnd.google.colaboratory.intrinsic+json": {
              "type": "dataframe",
              "variable_name": "df",
              "summary": "{\n  \"name\": \"df\",\n  \"rows\": 303,\n  \"fields\": [\n    {\n      \"column\": \"age\",\n      \"properties\": {\n        \"dtype\": \"number\",\n        \"std\": 9,\n        \"min\": 29,\n        \"max\": 77,\n        \"num_unique_values\": 41,\n        \"samples\": [\n          61,\n          64,\n          44\n        ],\n        \"semantic_type\": \"\",\n        \"description\": \"\"\n      }\n    },\n    {\n      \"column\": \"sex\",\n      \"properties\": {\n        \"dtype\": \"number\",\n        \"std\": 0,\n        \"min\": 0,\n        \"max\": 1,\n        \"num_unique_values\": 2,\n        \"samples\": [\n          0,\n          1\n        ],\n        \"semantic_type\": \"\",\n        \"description\": \"\"\n      }\n    },\n    {\n      \"column\": \"cp\",\n      \"properties\": {\n        \"dtype\": \"number\",\n        \"std\": 0,\n        \"min\": 1,\n        \"max\": 4,\n        \"num_unique_values\": 4,\n        \"samples\": [\n          4,\n          2\n        ],\n        \"semantic_type\": \"\",\n        \"description\": \"\"\n      }\n    },\n    {\n      \"column\": \"trestbps\",\n      \"properties\": {\n        \"dtype\": \"number\",\n        \"std\": 17,\n        \"min\": 94,\n        \"max\": 200,\n        \"num_unique_values\": 50,\n        \"samples\": [\n          124,\n          192\n        ],\n        \"semantic_type\": \"\",\n        \"description\": \"\"\n      }\n    },\n    {\n      \"column\": \"chol\",\n      \"properties\": {\n        \"dtype\": \"number\",\n        \"std\": 51,\n        \"min\": 126,\n        \"max\": 564,\n        \"num_unique_values\": 152,\n        \"samples\": [\n          321,\n          187\n        ],\n        \"semantic_type\": \"\",\n        \"description\": \"\"\n      }\n    },\n    {\n      \"column\": \"fbs\",\n      \"properties\": {\n        \"dtype\": \"number\",\n        \"std\": 0,\n        \"min\": 0,\n        \"max\": 1,\n        \"num_unique_values\": 2,\n        \"samples\": [\n          0,\n          1\n        ],\n        \"semantic_type\": \"\",\n        \"description\": \"\"\n      }\n    },\n    {\n      \"column\": \"restecg\",\n      \"properties\": {\n        \"dtype\": \"number\",\n        \"std\": 0,\n        \"min\": 0,\n        \"max\": 2,\n        \"num_unique_values\": 3,\n        \"samples\": [\n          2,\n          0\n        ],\n        \"semantic_type\": \"\",\n        \"description\": \"\"\n      }\n    },\n    {\n      \"column\": \"thalach\",\n      \"properties\": {\n        \"dtype\": \"number\",\n        \"std\": 22,\n        \"min\": 71,\n        \"max\": 202,\n        \"num_unique_values\": 91,\n        \"samples\": [\n          170,\n          114\n        ],\n        \"semantic_type\": \"\",\n        \"description\": \"\"\n      }\n    },\n    {\n      \"column\": \"exang\",\n      \"properties\": {\n        \"dtype\": \"number\",\n        \"std\": 0,\n        \"min\": 0,\n        \"max\": 1,\n        \"num_unique_values\": 2,\n        \"samples\": [\n          1,\n          0\n        ],\n        \"semantic_type\": \"\",\n        \"description\": \"\"\n      }\n    },\n    {\n      \"column\": \"oldpeak\",\n      \"properties\": {\n        \"dtype\": \"number\",\n        \"std\": 1.1610750220686348,\n        \"min\": 0.0,\n        \"max\": 6.2,\n        \"num_unique_values\": 40,\n        \"samples\": [\n          2.4,\n          0.2\n        ],\n        \"semantic_type\": \"\",\n        \"description\": \"\"\n      }\n    },\n    {\n      \"column\": \"slope\",\n      \"properties\": {\n        \"dtype\": \"number\",\n        \"std\": 0,\n        \"min\": 1,\n        \"max\": 3,\n        \"num_unique_values\": 3,\n        \"samples\": [\n          3,\n          2\n        ],\n        \"semantic_type\": \"\",\n        \"description\": \"\"\n      }\n    },\n    {\n      \"column\": \"ca\",\n      \"properties\": {\n        \"dtype\": \"number\",\n        \"std\": 0.9374383177242163,\n        \"min\": 0.0,\n        \"max\": 3.0,\n        \"num_unique_values\": 4,\n        \"samples\": [\n          3.0,\n          1.0\n        ],\n        \"semantic_type\": \"\",\n        \"description\": \"\"\n      }\n    },\n    {\n      \"column\": \"thal\",\n      \"properties\": {\n        \"dtype\": \"number\",\n        \"std\": 1.939705769378644,\n        \"min\": 3.0,\n        \"max\": 7.0,\n        \"num_unique_values\": 3,\n        \"samples\": [\n          6.0,\n          3.0\n        ],\n        \"semantic_type\": \"\",\n        \"description\": \"\"\n      }\n    },\n    {\n      \"column\": \"num\",\n      \"properties\": {\n        \"dtype\": \"number\",\n        \"std\": 1,\n        \"min\": 0,\n        \"max\": 4,\n        \"num_unique_values\": 5,\n        \"samples\": [\n          2,\n          4\n        ],\n        \"semantic_type\": \"\",\n        \"description\": \"\"\n      }\n    }\n  ]\n}"
            }
          },
          "metadata": {},
          "execution_count": 14
        }
      ]
    },
    {
      "cell_type": "code",
      "source": [
        "df.describe()"
      ],
      "metadata": {
        "colab": {
          "base_uri": "https://localhost:8080/",
          "height": 320
        },
        "id": "aajSzi3n2JVk",
        "outputId": "55a8a4b4-431c-40db-f323-016bcde7ec1b"
      },
      "execution_count": 15,
      "outputs": [
        {
          "output_type": "execute_result",
          "data": {
            "text/plain": [
              "              age         sex          cp    trestbps        chol         fbs  \\\n",
              "count  303.000000  303.000000  303.000000  303.000000  303.000000  303.000000   \n",
              "mean    54.438944    0.679868    3.158416  131.689769  246.693069    0.148515   \n",
              "std      9.038662    0.467299    0.960126   17.599748   51.776918    0.356198   \n",
              "min     29.000000    0.000000    1.000000   94.000000  126.000000    0.000000   \n",
              "25%     48.000000    0.000000    3.000000  120.000000  211.000000    0.000000   \n",
              "50%     56.000000    1.000000    3.000000  130.000000  241.000000    0.000000   \n",
              "75%     61.000000    1.000000    4.000000  140.000000  275.000000    0.000000   \n",
              "max     77.000000    1.000000    4.000000  200.000000  564.000000    1.000000   \n",
              "\n",
              "          restecg     thalach       exang     oldpeak       slope          ca  \\\n",
              "count  303.000000  303.000000  303.000000  303.000000  303.000000  299.000000   \n",
              "mean     0.990099  149.607261    0.326733    1.039604    1.600660    0.672241   \n",
              "std      0.994971   22.875003    0.469794    1.161075    0.616226    0.937438   \n",
              "min      0.000000   71.000000    0.000000    0.000000    1.000000    0.000000   \n",
              "25%      0.000000  133.500000    0.000000    0.000000    1.000000    0.000000   \n",
              "50%      1.000000  153.000000    0.000000    0.800000    2.000000    0.000000   \n",
              "75%      2.000000  166.000000    1.000000    1.600000    2.000000    1.000000   \n",
              "max      2.000000  202.000000    1.000000    6.200000    3.000000    3.000000   \n",
              "\n",
              "             thal         num  \n",
              "count  301.000000  303.000000  \n",
              "mean     4.734219    0.937294  \n",
              "std      1.939706    1.228536  \n",
              "min      3.000000    0.000000  \n",
              "25%      3.000000    0.000000  \n",
              "50%      3.000000    0.000000  \n",
              "75%      7.000000    2.000000  \n",
              "max      7.000000    4.000000  "
            ],
            "text/html": [
              "\n",
              "  <div id=\"df-3ab8f305-a2eb-4ece-b231-2b870d52ff0b\" class=\"colab-df-container\">\n",
              "    <div>\n",
              "<style scoped>\n",
              "    .dataframe tbody tr th:only-of-type {\n",
              "        vertical-align: middle;\n",
              "    }\n",
              "\n",
              "    .dataframe tbody tr th {\n",
              "        vertical-align: top;\n",
              "    }\n",
              "\n",
              "    .dataframe thead th {\n",
              "        text-align: right;\n",
              "    }\n",
              "</style>\n",
              "<table border=\"1\" class=\"dataframe\">\n",
              "  <thead>\n",
              "    <tr style=\"text-align: right;\">\n",
              "      <th></th>\n",
              "      <th>age</th>\n",
              "      <th>sex</th>\n",
              "      <th>cp</th>\n",
              "      <th>trestbps</th>\n",
              "      <th>chol</th>\n",
              "      <th>fbs</th>\n",
              "      <th>restecg</th>\n",
              "      <th>thalach</th>\n",
              "      <th>exang</th>\n",
              "      <th>oldpeak</th>\n",
              "      <th>slope</th>\n",
              "      <th>ca</th>\n",
              "      <th>thal</th>\n",
              "      <th>num</th>\n",
              "    </tr>\n",
              "  </thead>\n",
              "  <tbody>\n",
              "    <tr>\n",
              "      <th>count</th>\n",
              "      <td>303.000000</td>\n",
              "      <td>303.000000</td>\n",
              "      <td>303.000000</td>\n",
              "      <td>303.000000</td>\n",
              "      <td>303.000000</td>\n",
              "      <td>303.000000</td>\n",
              "      <td>303.000000</td>\n",
              "      <td>303.000000</td>\n",
              "      <td>303.000000</td>\n",
              "      <td>303.000000</td>\n",
              "      <td>303.000000</td>\n",
              "      <td>299.000000</td>\n",
              "      <td>301.000000</td>\n",
              "      <td>303.000000</td>\n",
              "    </tr>\n",
              "    <tr>\n",
              "      <th>mean</th>\n",
              "      <td>54.438944</td>\n",
              "      <td>0.679868</td>\n",
              "      <td>3.158416</td>\n",
              "      <td>131.689769</td>\n",
              "      <td>246.693069</td>\n",
              "      <td>0.148515</td>\n",
              "      <td>0.990099</td>\n",
              "      <td>149.607261</td>\n",
              "      <td>0.326733</td>\n",
              "      <td>1.039604</td>\n",
              "      <td>1.600660</td>\n",
              "      <td>0.672241</td>\n",
              "      <td>4.734219</td>\n",
              "      <td>0.937294</td>\n",
              "    </tr>\n",
              "    <tr>\n",
              "      <th>std</th>\n",
              "      <td>9.038662</td>\n",
              "      <td>0.467299</td>\n",
              "      <td>0.960126</td>\n",
              "      <td>17.599748</td>\n",
              "      <td>51.776918</td>\n",
              "      <td>0.356198</td>\n",
              "      <td>0.994971</td>\n",
              "      <td>22.875003</td>\n",
              "      <td>0.469794</td>\n",
              "      <td>1.161075</td>\n",
              "      <td>0.616226</td>\n",
              "      <td>0.937438</td>\n",
              "      <td>1.939706</td>\n",
              "      <td>1.228536</td>\n",
              "    </tr>\n",
              "    <tr>\n",
              "      <th>min</th>\n",
              "      <td>29.000000</td>\n",
              "      <td>0.000000</td>\n",
              "      <td>1.000000</td>\n",
              "      <td>94.000000</td>\n",
              "      <td>126.000000</td>\n",
              "      <td>0.000000</td>\n",
              "      <td>0.000000</td>\n",
              "      <td>71.000000</td>\n",
              "      <td>0.000000</td>\n",
              "      <td>0.000000</td>\n",
              "      <td>1.000000</td>\n",
              "      <td>0.000000</td>\n",
              "      <td>3.000000</td>\n",
              "      <td>0.000000</td>\n",
              "    </tr>\n",
              "    <tr>\n",
              "      <th>25%</th>\n",
              "      <td>48.000000</td>\n",
              "      <td>0.000000</td>\n",
              "      <td>3.000000</td>\n",
              "      <td>120.000000</td>\n",
              "      <td>211.000000</td>\n",
              "      <td>0.000000</td>\n",
              "      <td>0.000000</td>\n",
              "      <td>133.500000</td>\n",
              "      <td>0.000000</td>\n",
              "      <td>0.000000</td>\n",
              "      <td>1.000000</td>\n",
              "      <td>0.000000</td>\n",
              "      <td>3.000000</td>\n",
              "      <td>0.000000</td>\n",
              "    </tr>\n",
              "    <tr>\n",
              "      <th>50%</th>\n",
              "      <td>56.000000</td>\n",
              "      <td>1.000000</td>\n",
              "      <td>3.000000</td>\n",
              "      <td>130.000000</td>\n",
              "      <td>241.000000</td>\n",
              "      <td>0.000000</td>\n",
              "      <td>1.000000</td>\n",
              "      <td>153.000000</td>\n",
              "      <td>0.000000</td>\n",
              "      <td>0.800000</td>\n",
              "      <td>2.000000</td>\n",
              "      <td>0.000000</td>\n",
              "      <td>3.000000</td>\n",
              "      <td>0.000000</td>\n",
              "    </tr>\n",
              "    <tr>\n",
              "      <th>75%</th>\n",
              "      <td>61.000000</td>\n",
              "      <td>1.000000</td>\n",
              "      <td>4.000000</td>\n",
              "      <td>140.000000</td>\n",
              "      <td>275.000000</td>\n",
              "      <td>0.000000</td>\n",
              "      <td>2.000000</td>\n",
              "      <td>166.000000</td>\n",
              "      <td>1.000000</td>\n",
              "      <td>1.600000</td>\n",
              "      <td>2.000000</td>\n",
              "      <td>1.000000</td>\n",
              "      <td>7.000000</td>\n",
              "      <td>2.000000</td>\n",
              "    </tr>\n",
              "    <tr>\n",
              "      <th>max</th>\n",
              "      <td>77.000000</td>\n",
              "      <td>1.000000</td>\n",
              "      <td>4.000000</td>\n",
              "      <td>200.000000</td>\n",
              "      <td>564.000000</td>\n",
              "      <td>1.000000</td>\n",
              "      <td>2.000000</td>\n",
              "      <td>202.000000</td>\n",
              "      <td>1.000000</td>\n",
              "      <td>6.200000</td>\n",
              "      <td>3.000000</td>\n",
              "      <td>3.000000</td>\n",
              "      <td>7.000000</td>\n",
              "      <td>4.000000</td>\n",
              "    </tr>\n",
              "  </tbody>\n",
              "</table>\n",
              "</div>\n",
              "    <div class=\"colab-df-buttons\">\n",
              "\n",
              "  <div class=\"colab-df-container\">\n",
              "    <button class=\"colab-df-convert\" onclick=\"convertToInteractive('df-3ab8f305-a2eb-4ece-b231-2b870d52ff0b')\"\n",
              "            title=\"Convert this dataframe to an interactive table.\"\n",
              "            style=\"display:none;\">\n",
              "\n",
              "  <svg xmlns=\"http://www.w3.org/2000/svg\" height=\"24px\" viewBox=\"0 -960 960 960\">\n",
              "    <path d=\"M120-120v-720h720v720H120Zm60-500h600v-160H180v160Zm220 220h160v-160H400v160Zm0 220h160v-160H400v160ZM180-400h160v-160H180v160Zm440 0h160v-160H620v160ZM180-180h160v-160H180v160Zm440 0h160v-160H620v160Z\"/>\n",
              "  </svg>\n",
              "    </button>\n",
              "\n",
              "  <style>\n",
              "    .colab-df-container {\n",
              "      display:flex;\n",
              "      gap: 12px;\n",
              "    }\n",
              "\n",
              "    .colab-df-convert {\n",
              "      background-color: #E8F0FE;\n",
              "      border: none;\n",
              "      border-radius: 50%;\n",
              "      cursor: pointer;\n",
              "      display: none;\n",
              "      fill: #1967D2;\n",
              "      height: 32px;\n",
              "      padding: 0 0 0 0;\n",
              "      width: 32px;\n",
              "    }\n",
              "\n",
              "    .colab-df-convert:hover {\n",
              "      background-color: #E2EBFA;\n",
              "      box-shadow: 0px 1px 2px rgba(60, 64, 67, 0.3), 0px 1px 3px 1px rgba(60, 64, 67, 0.15);\n",
              "      fill: #174EA6;\n",
              "    }\n",
              "\n",
              "    .colab-df-buttons div {\n",
              "      margin-bottom: 4px;\n",
              "    }\n",
              "\n",
              "    [theme=dark] .colab-df-convert {\n",
              "      background-color: #3B4455;\n",
              "      fill: #D2E3FC;\n",
              "    }\n",
              "\n",
              "    [theme=dark] .colab-df-convert:hover {\n",
              "      background-color: #434B5C;\n",
              "      box-shadow: 0px 1px 3px 1px rgba(0, 0, 0, 0.15);\n",
              "      filter: drop-shadow(0px 1px 2px rgba(0, 0, 0, 0.3));\n",
              "      fill: #FFFFFF;\n",
              "    }\n",
              "  </style>\n",
              "\n",
              "    <script>\n",
              "      const buttonEl =\n",
              "        document.querySelector('#df-3ab8f305-a2eb-4ece-b231-2b870d52ff0b button.colab-df-convert');\n",
              "      buttonEl.style.display =\n",
              "        google.colab.kernel.accessAllowed ? 'block' : 'none';\n",
              "\n",
              "      async function convertToInteractive(key) {\n",
              "        const element = document.querySelector('#df-3ab8f305-a2eb-4ece-b231-2b870d52ff0b');\n",
              "        const dataTable =\n",
              "          await google.colab.kernel.invokeFunction('convertToInteractive',\n",
              "                                                    [key], {});\n",
              "        if (!dataTable) return;\n",
              "\n",
              "        const docLinkHtml = 'Like what you see? Visit the ' +\n",
              "          '<a target=\"_blank\" href=https://colab.research.google.com/notebooks/data_table.ipynb>data table notebook</a>'\n",
              "          + ' to learn more about interactive tables.';\n",
              "        element.innerHTML = '';\n",
              "        dataTable['output_type'] = 'display_data';\n",
              "        await google.colab.output.renderOutput(dataTable, element);\n",
              "        const docLink = document.createElement('div');\n",
              "        docLink.innerHTML = docLinkHtml;\n",
              "        element.appendChild(docLink);\n",
              "      }\n",
              "    </script>\n",
              "  </div>\n",
              "\n",
              "\n",
              "<div id=\"df-d23f4c35-7428-4f05-9af2-a700e3f04afa\">\n",
              "  <button class=\"colab-df-quickchart\" onclick=\"quickchart('df-d23f4c35-7428-4f05-9af2-a700e3f04afa')\"\n",
              "            title=\"Suggest charts\"\n",
              "            style=\"display:none;\">\n",
              "\n",
              "<svg xmlns=\"http://www.w3.org/2000/svg\" height=\"24px\"viewBox=\"0 0 24 24\"\n",
              "     width=\"24px\">\n",
              "    <g>\n",
              "        <path d=\"M19 3H5c-1.1 0-2 .9-2 2v14c0 1.1.9 2 2 2h14c1.1 0 2-.9 2-2V5c0-1.1-.9-2-2-2zM9 17H7v-7h2v7zm4 0h-2V7h2v10zm4 0h-2v-4h2v4z\"/>\n",
              "    </g>\n",
              "</svg>\n",
              "  </button>\n",
              "\n",
              "<style>\n",
              "  .colab-df-quickchart {\n",
              "      --bg-color: #E8F0FE;\n",
              "      --fill-color: #1967D2;\n",
              "      --hover-bg-color: #E2EBFA;\n",
              "      --hover-fill-color: #174EA6;\n",
              "      --disabled-fill-color: #AAA;\n",
              "      --disabled-bg-color: #DDD;\n",
              "  }\n",
              "\n",
              "  [theme=dark] .colab-df-quickchart {\n",
              "      --bg-color: #3B4455;\n",
              "      --fill-color: #D2E3FC;\n",
              "      --hover-bg-color: #434B5C;\n",
              "      --hover-fill-color: #FFFFFF;\n",
              "      --disabled-bg-color: #3B4455;\n",
              "      --disabled-fill-color: #666;\n",
              "  }\n",
              "\n",
              "  .colab-df-quickchart {\n",
              "    background-color: var(--bg-color);\n",
              "    border: none;\n",
              "    border-radius: 50%;\n",
              "    cursor: pointer;\n",
              "    display: none;\n",
              "    fill: var(--fill-color);\n",
              "    height: 32px;\n",
              "    padding: 0;\n",
              "    width: 32px;\n",
              "  }\n",
              "\n",
              "  .colab-df-quickchart:hover {\n",
              "    background-color: var(--hover-bg-color);\n",
              "    box-shadow: 0 1px 2px rgba(60, 64, 67, 0.3), 0 1px 3px 1px rgba(60, 64, 67, 0.15);\n",
              "    fill: var(--button-hover-fill-color);\n",
              "  }\n",
              "\n",
              "  .colab-df-quickchart-complete:disabled,\n",
              "  .colab-df-quickchart-complete:disabled:hover {\n",
              "    background-color: var(--disabled-bg-color);\n",
              "    fill: var(--disabled-fill-color);\n",
              "    box-shadow: none;\n",
              "  }\n",
              "\n",
              "  .colab-df-spinner {\n",
              "    border: 2px solid var(--fill-color);\n",
              "    border-color: transparent;\n",
              "    border-bottom-color: var(--fill-color);\n",
              "    animation:\n",
              "      spin 1s steps(1) infinite;\n",
              "  }\n",
              "\n",
              "  @keyframes spin {\n",
              "    0% {\n",
              "      border-color: transparent;\n",
              "      border-bottom-color: var(--fill-color);\n",
              "      border-left-color: var(--fill-color);\n",
              "    }\n",
              "    20% {\n",
              "      border-color: transparent;\n",
              "      border-left-color: var(--fill-color);\n",
              "      border-top-color: var(--fill-color);\n",
              "    }\n",
              "    30% {\n",
              "      border-color: transparent;\n",
              "      border-left-color: var(--fill-color);\n",
              "      border-top-color: var(--fill-color);\n",
              "      border-right-color: var(--fill-color);\n",
              "    }\n",
              "    40% {\n",
              "      border-color: transparent;\n",
              "      border-right-color: var(--fill-color);\n",
              "      border-top-color: var(--fill-color);\n",
              "    }\n",
              "    60% {\n",
              "      border-color: transparent;\n",
              "      border-right-color: var(--fill-color);\n",
              "    }\n",
              "    80% {\n",
              "      border-color: transparent;\n",
              "      border-right-color: var(--fill-color);\n",
              "      border-bottom-color: var(--fill-color);\n",
              "    }\n",
              "    90% {\n",
              "      border-color: transparent;\n",
              "      border-bottom-color: var(--fill-color);\n",
              "    }\n",
              "  }\n",
              "</style>\n",
              "\n",
              "  <script>\n",
              "    async function quickchart(key) {\n",
              "      const quickchartButtonEl =\n",
              "        document.querySelector('#' + key + ' button');\n",
              "      quickchartButtonEl.disabled = true;  // To prevent multiple clicks.\n",
              "      quickchartButtonEl.classList.add('colab-df-spinner');\n",
              "      try {\n",
              "        const charts = await google.colab.kernel.invokeFunction(\n",
              "            'suggestCharts', [key], {});\n",
              "      } catch (error) {\n",
              "        console.error('Error during call to suggestCharts:', error);\n",
              "      }\n",
              "      quickchartButtonEl.classList.remove('colab-df-spinner');\n",
              "      quickchartButtonEl.classList.add('colab-df-quickchart-complete');\n",
              "    }\n",
              "    (() => {\n",
              "      let quickchartButtonEl =\n",
              "        document.querySelector('#df-d23f4c35-7428-4f05-9af2-a700e3f04afa button');\n",
              "      quickchartButtonEl.style.display =\n",
              "        google.colab.kernel.accessAllowed ? 'block' : 'none';\n",
              "    })();\n",
              "  </script>\n",
              "</div>\n",
              "\n",
              "    </div>\n",
              "  </div>\n"
            ],
            "application/vnd.google.colaboratory.intrinsic+json": {
              "type": "dataframe",
              "summary": "{\n  \"name\": \"df\",\n  \"rows\": 8,\n  \"fields\": [\n    {\n      \"column\": \"age\",\n      \"properties\": {\n        \"dtype\": \"number\",\n        \"std\": 92.5728159022223,\n        \"min\": 9.038662442446746,\n        \"max\": 303.0,\n        \"num_unique_values\": 8,\n        \"samples\": [\n          54.43894389438944,\n          56.0,\n          303.0\n        ],\n        \"semantic_type\": \"\",\n        \"description\": \"\"\n      }\n    },\n    {\n      \"column\": \"sex\",\n      \"properties\": {\n        \"dtype\": \"number\",\n        \"std\": 106.91803123915392,\n        \"min\": 0.0,\n        \"max\": 303.0,\n        \"num_unique_values\": 5,\n        \"samples\": [\n          0.6798679867986799,\n          1.0,\n          0.46729882777012993\n        ],\n        \"semantic_type\": \"\",\n        \"description\": \"\"\n      }\n    },\n    {\n      \"column\": \"cp\",\n      \"properties\": {\n        \"dtype\": \"number\",\n        \"std\": 106.16755832732339,\n        \"min\": 0.9601256119600138,\n        \"max\": 303.0,\n        \"num_unique_values\": 6,\n        \"samples\": [\n          303.0,\n          3.1584158415841586,\n          4.0\n        ],\n        \"semantic_type\": \"\",\n        \"description\": \"\"\n      }\n    },\n    {\n      \"column\": \"trestbps\",\n      \"properties\": {\n        \"dtype\": \"number\",\n        \"std\": 82.63751582423215,\n        \"min\": 17.59974772958769,\n        \"max\": 303.0,\n        \"num_unique_values\": 8,\n        \"samples\": [\n          131.68976897689768,\n          130.0,\n          303.0\n        ],\n        \"semantic_type\": \"\",\n        \"description\": \"\"\n      }\n    },\n    {\n      \"column\": \"chol\",\n      \"properties\": {\n        \"dtype\": \"number\",\n        \"std\": 150.36559430635785,\n        \"min\": 51.77691754263704,\n        \"max\": 564.0,\n        \"num_unique_values\": 8,\n        \"samples\": [\n          246.69306930693068,\n          241.0,\n          303.0\n        ],\n        \"semantic_type\": \"\",\n        \"description\": \"\"\n      }\n    },\n    {\n      \"column\": \"fbs\",\n      \"properties\": {\n        \"dtype\": \"number\",\n        \"std\": 107.0512286741478,\n        \"min\": 0.0,\n        \"max\": 303.0,\n        \"num_unique_values\": 5,\n        \"samples\": [\n          0.1485148514851485,\n          1.0,\n          0.35619787492797644\n        ],\n        \"semantic_type\": \"\",\n        \"description\": \"\"\n      }\n    },\n    {\n      \"column\": \"restecg\",\n      \"properties\": {\n        \"dtype\": \"number\",\n        \"std\": 106.77655393236438,\n        \"min\": 0.0,\n        \"max\": 303.0,\n        \"num_unique_values\": 6,\n        \"samples\": [\n          303.0,\n          0.9900990099009901,\n          2.0\n        ],\n        \"semantic_type\": \"\",\n        \"description\": \"\"\n      }\n    },\n    {\n      \"column\": \"thalach\",\n      \"properties\": {\n        \"dtype\": \"number\",\n        \"std\": 83.71042641207808,\n        \"min\": 22.875003276980376,\n        \"max\": 303.0,\n        \"num_unique_values\": 8,\n        \"samples\": [\n          149.6072607260726,\n          153.0,\n          303.0\n        ],\n        \"semantic_type\": \"\",\n        \"description\": \"\"\n      }\n    },\n    {\n      \"column\": \"exang\",\n      \"properties\": {\n        \"dtype\": \"number\",\n        \"std\": 106.9862394088184,\n        \"min\": 0.0,\n        \"max\": 303.0,\n        \"num_unique_values\": 5,\n        \"samples\": [\n          0.32673267326732675,\n          1.0,\n          0.46979446452231655\n        ],\n        \"semantic_type\": \"\",\n        \"description\": \"\"\n      }\n    },\n    {\n      \"column\": \"oldpeak\",\n      \"properties\": {\n        \"dtype\": \"number\",\n        \"std\": 106.59952466080658,\n        \"min\": 0.0,\n        \"max\": 303.0,\n        \"num_unique_values\": 7,\n        \"samples\": [\n          303.0,\n          1.0396039603960396,\n          1.6\n        ],\n        \"semantic_type\": \"\",\n        \"description\": \"\"\n      }\n    },\n    {\n      \"column\": \"slope\",\n      \"properties\": {\n        \"dtype\": \"number\",\n        \"std\": 106.5627986546393,\n        \"min\": 0.6162261453459619,\n        \"max\": 303.0,\n        \"num_unique_values\": 6,\n        \"samples\": [\n          303.0,\n          1.6006600660066006,\n          3.0\n        ],\n        \"semantic_type\": \"\",\n        \"description\": \"\"\n      }\n    },\n    {\n      \"column\": \"ca\",\n      \"properties\": {\n        \"dtype\": \"number\",\n        \"std\": 105.4337629723496,\n        \"min\": 0.0,\n        \"max\": 299.0,\n        \"num_unique_values\": 6,\n        \"samples\": [\n          299.0,\n          0.6722408026755853,\n          3.0\n        ],\n        \"semantic_type\": \"\",\n        \"description\": \"\"\n      }\n    },\n    {\n      \"column\": \"thal\",\n      \"properties\": {\n        \"dtype\": \"number\",\n        \"std\": 104.93809039007937,\n        \"min\": 1.939705769378644,\n        \"max\": 301.0,\n        \"num_unique_values\": 5,\n        \"samples\": [\n          4.73421926910299,\n          7.0,\n          1.939705769378644\n        ],\n        \"semantic_type\": \"\",\n        \"description\": \"\"\n      }\n    },\n    {\n      \"column\": \"num\",\n      \"properties\": {\n        \"dtype\": \"number\",\n        \"std\": 106.72284943779034,\n        \"min\": 0.0,\n        \"max\": 303.0,\n        \"num_unique_values\": 6,\n        \"samples\": [\n          303.0,\n          0.9372937293729373,\n          4.0\n        ],\n        \"semantic_type\": \"\",\n        \"description\": \"\"\n      }\n    }\n  ]\n}"
            }
          },
          "metadata": {},
          "execution_count": 15
        }
      ]
    },
    {
      "cell_type": "code",
      "source": [
        "df.isnull().any()"
      ],
      "metadata": {
        "colab": {
          "base_uri": "https://localhost:8080/"
        },
        "id": "Wr85-A5T2KHc",
        "outputId": "8c9e01b0-5cf4-4d6b-c83a-e3a43e5e1721"
      },
      "execution_count": 16,
      "outputs": [
        {
          "output_type": "execute_result",
          "data": {
            "text/plain": [
              "age         False\n",
              "sex         False\n",
              "cp          False\n",
              "trestbps    False\n",
              "chol        False\n",
              "fbs         False\n",
              "restecg     False\n",
              "thalach     False\n",
              "exang       False\n",
              "oldpeak     False\n",
              "slope       False\n",
              "ca           True\n",
              "thal         True\n",
              "num         False\n",
              "dtype: bool"
            ]
          },
          "metadata": {},
          "execution_count": 16
        }
      ]
    },
    {
      "cell_type": "code",
      "source": [
        "df.isnull().mean()"
      ],
      "metadata": {
        "colab": {
          "base_uri": "https://localhost:8080/"
        },
        "id": "HeDO2kXO2LGq",
        "outputId": "334b0e20-c4e3-4541-c32a-f148517ae747"
      },
      "execution_count": 17,
      "outputs": [
        {
          "output_type": "execute_result",
          "data": {
            "text/plain": [
              "age         0.000000\n",
              "sex         0.000000\n",
              "cp          0.000000\n",
              "trestbps    0.000000\n",
              "chol        0.000000\n",
              "fbs         0.000000\n",
              "restecg     0.000000\n",
              "thalach     0.000000\n",
              "exang       0.000000\n",
              "oldpeak     0.000000\n",
              "slope       0.000000\n",
              "ca          0.013201\n",
              "thal        0.006601\n",
              "num         0.000000\n",
              "dtype: float64"
            ]
          },
          "metadata": {},
          "execution_count": 17
        }
      ]
    },
    {
      "cell_type": "code",
      "source": [
        "df = df.dropna()"
      ],
      "metadata": {
        "id": "3LQ3s_fr2MKS"
      },
      "execution_count": 18,
      "outputs": []
    },
    {
      "cell_type": "code",
      "source": [
        "df.isnull().any()"
      ],
      "metadata": {
        "colab": {
          "base_uri": "https://localhost:8080/"
        },
        "id": "FMwTVhmw2NJB",
        "outputId": "28495613-09bc-4412-cc69-eb44b4f5a26e"
      },
      "execution_count": 19,
      "outputs": [
        {
          "output_type": "execute_result",
          "data": {
            "text/plain": [
              "age         False\n",
              "sex         False\n",
              "cp          False\n",
              "trestbps    False\n",
              "chol        False\n",
              "fbs         False\n",
              "restecg     False\n",
              "thalach     False\n",
              "exang       False\n",
              "oldpeak     False\n",
              "slope       False\n",
              "ca          False\n",
              "thal        False\n",
              "num         False\n",
              "dtype: bool"
            ]
          },
          "metadata": {},
          "execution_count": 19
        }
      ]
    },
    {
      "cell_type": "code",
      "source": [
        "X = df.iloc[:,:-1].to_numpy()\n",
        "y = df.iloc[:,-1].to_numpy()\n",
        "X.shape, y.shape"
      ],
      "metadata": {
        "colab": {
          "base_uri": "https://localhost:8080/"
        },
        "id": "Ae_HiJC52OVO",
        "outputId": "a8b1e702-ef21-4747-e166-581c8dd695ae"
      },
      "execution_count": 20,
      "outputs": [
        {
          "output_type": "execute_result",
          "data": {
            "text/plain": [
              "((297, 13), (297,))"
            ]
          },
          "metadata": {},
          "execution_count": 20
        }
      ]
    },
    {
      "cell_type": "code",
      "source": [
        "# 데이터 분할\n",
        "X_train, X_test, y_train, y_test =  train_test_split(X,y,stratify=y, test_size = 0.2, random_state=0)\n",
        "# 표준화\n",
        "ss = StandardScaler()\n",
        "X_train_scaled =  ss.fit_transform(X_train); X_test_scaled =  ss.transform(X_test)\n",
        "X_train_scaled.shape, y_train.shape"
      ],
      "metadata": {
        "colab": {
          "base_uri": "https://localhost:8080/"
        },
        "id": "wU_ABYAy2PR6",
        "outputId": "07303e1b-28a1-415b-c79f-e2ddafd0939c"
      },
      "execution_count": 21,
      "outputs": [
        {
          "output_type": "execute_result",
          "data": {
            "text/plain": [
              "((237, 13), (237,))"
            ]
          },
          "metadata": {},
          "execution_count": 21
        }
      ]
    },
    {
      "cell_type": "code",
      "source": [
        "X_train_scaled[:2], y_train[:2]"
      ],
      "metadata": {
        "colab": {
          "base_uri": "https://localhost:8080/"
        },
        "id": "7TUyuxNZ2QZU",
        "outputId": "50220473-838f-48e9-a5f0-17eb1b7edbd2"
      },
      "execution_count": 22,
      "outputs": [
        {
          "output_type": "execute_result",
          "data": {
            "text/plain": [
              "(array([[ 0.6352974 , -1.45547966, -2.25486315,  1.05408687, -0.1827004 ,\n",
              "         -0.40219983, -0.97298046,  0.9099033 , -0.6671746 , -0.11777309,\n",
              "         -0.95174253, -0.72916727, -0.92389121],\n",
              "        [-1.02902261, -1.45547966, -1.21516944, -1.10589182, -1.7353672 ,\n",
              "         -0.40219983, -0.97298046, -0.56254729, -0.6671746 , -0.88599942,\n",
              "          0.65942161, -0.72916727, -0.92389121]]),\n",
              " array([0, 0]))"
            ]
          },
          "metadata": {},
          "execution_count": 22
        }
      ]
    },
    {
      "cell_type": "code",
      "source": [
        "len(np.unique(y_train))"
      ],
      "metadata": {
        "colab": {
          "base_uri": "https://localhost:8080/"
        },
        "id": "WxwNzgwK2RTK",
        "outputId": "802f804c-3a25-4d89-bc7f-a0078d5ebfde"
      },
      "execution_count": 23,
      "outputs": [
        {
          "output_type": "execute_result",
          "data": {
            "text/plain": [
              "5"
            ]
          },
          "metadata": {},
          "execution_count": 23
        }
      ]
    },
    {
      "cell_type": "code",
      "source": [
        "n_input = X_train_scaled.shape[1]\n",
        "n_hidden1 = 8\n",
        "n_output = len(np.unique(y_train))\n",
        "\n",
        "model = Sequential()\n",
        "model.add( Dense(n_hidden1,activation = 'relu', input_shape=(n_input, ) )   )\n",
        "model.add( Dense(n_output,activation = 'softmax' )   )\n",
        "\n",
        "model.compile(optimizer='adam',loss = 'sparse_categorical_crossentropy',metrics='accuracy')\n",
        "ealy_stopping = tf.keras.callbacks.EarlyStopping(patience=2, restore_best_weights=True)\n",
        "checkpoint_cb = tf.keras.callbacks.ModelCheckpoint('best_model.keras', save_best_only=True)\n",
        "\n",
        "hist = model.fit(X_train_scaled, y_train, validation_split=0.2, callbacks=[ealy_stopping,checkpoint_cb],\n",
        "          epochs=100, verbose=2)"
      ],
      "metadata": {
        "colab": {
          "base_uri": "https://localhost:8080/"
        },
        "id": "h2FC2GVP2S2S",
        "outputId": "c819280a-9f3a-40db-de36-3a89a343032a"
      },
      "execution_count": 24,
      "outputs": [
        {
          "output_type": "stream",
          "name": "stdout",
          "text": [
            "Epoch 1/100\n",
            "6/6 - 2s - loss: 1.8526 - accuracy: 0.1481 - val_loss: 1.7270 - val_accuracy: 0.1250 - 2s/epoch - 315ms/step\n",
            "Epoch 2/100\n",
            "6/6 - 0s - loss: 1.8174 - accuracy: 0.1587 - val_loss: 1.6947 - val_accuracy: 0.1250 - 256ms/epoch - 43ms/step\n",
            "Epoch 3/100\n",
            "6/6 - 0s - loss: 1.7860 - accuracy: 0.1693 - val_loss: 1.6647 - val_accuracy: 0.1458 - 153ms/epoch - 25ms/step\n",
            "Epoch 4/100\n",
            "6/6 - 0s - loss: 1.7557 - accuracy: 0.1746 - val_loss: 1.6361 - val_accuracy: 0.1458 - 114ms/epoch - 19ms/step\n",
            "Epoch 5/100\n",
            "6/6 - 0s - loss: 1.7270 - accuracy: 0.1799 - val_loss: 1.6092 - val_accuracy: 0.2083 - 101ms/epoch - 17ms/step\n",
            "Epoch 6/100\n",
            "6/6 - 0s - loss: 1.6996 - accuracy: 0.1799 - val_loss: 1.5832 - val_accuracy: 0.2083 - 81ms/epoch - 14ms/step\n",
            "Epoch 7/100\n",
            "6/6 - 0s - loss: 1.6735 - accuracy: 0.1852 - val_loss: 1.5583 - val_accuracy: 0.2083 - 102ms/epoch - 17ms/step\n",
            "Epoch 8/100\n",
            "6/6 - 0s - loss: 1.6472 - accuracy: 0.1958 - val_loss: 1.5360 - val_accuracy: 0.2083 - 98ms/epoch - 16ms/step\n",
            "Epoch 9/100\n",
            "6/6 - 0s - loss: 1.6245 - accuracy: 0.2116 - val_loss: 1.5139 - val_accuracy: 0.2083 - 98ms/epoch - 16ms/step\n",
            "Epoch 10/100\n",
            "6/6 - 0s - loss: 1.6009 - accuracy: 0.2116 - val_loss: 1.4932 - val_accuracy: 0.2500 - 80ms/epoch - 13ms/step\n",
            "Epoch 11/100\n",
            "6/6 - 0s - loss: 1.5791 - accuracy: 0.2328 - val_loss: 1.4729 - val_accuracy: 0.2917 - 91ms/epoch - 15ms/step\n",
            "Epoch 12/100\n",
            "6/6 - 0s - loss: 1.5583 - accuracy: 0.2381 - val_loss: 1.4534 - val_accuracy: 0.2917 - 93ms/epoch - 16ms/step\n",
            "Epoch 13/100\n",
            "6/6 - 0s - loss: 1.5388 - accuracy: 0.2593 - val_loss: 1.4348 - val_accuracy: 0.2708 - 95ms/epoch - 16ms/step\n",
            "Epoch 14/100\n",
            "6/6 - 0s - loss: 1.5184 - accuracy: 0.2804 - val_loss: 1.4172 - val_accuracy: 0.2708 - 98ms/epoch - 16ms/step\n",
            "Epoch 15/100\n",
            "6/6 - 0s - loss: 1.4996 - accuracy: 0.3122 - val_loss: 1.4004 - val_accuracy: 0.3542 - 89ms/epoch - 15ms/step\n",
            "Epoch 16/100\n",
            "6/6 - 0s - loss: 1.4812 - accuracy: 0.3175 - val_loss: 1.3843 - val_accuracy: 0.3958 - 84ms/epoch - 14ms/step\n",
            "Epoch 17/100\n",
            "6/6 - 0s - loss: 1.4645 - accuracy: 0.3492 - val_loss: 1.3679 - val_accuracy: 0.3958 - 96ms/epoch - 16ms/step\n",
            "Epoch 18/100\n",
            "6/6 - 0s - loss: 1.4472 - accuracy: 0.3598 - val_loss: 1.3528 - val_accuracy: 0.4583 - 78ms/epoch - 13ms/step\n",
            "Epoch 19/100\n",
            "6/6 - 0s - loss: 1.4311 - accuracy: 0.3651 - val_loss: 1.3376 - val_accuracy: 0.5000 - 91ms/epoch - 15ms/step\n",
            "Epoch 20/100\n",
            "6/6 - 0s - loss: 1.4157 - accuracy: 0.3915 - val_loss: 1.3225 - val_accuracy: 0.5417 - 77ms/epoch - 13ms/step\n",
            "Epoch 21/100\n",
            "6/6 - 0s - loss: 1.3996 - accuracy: 0.4074 - val_loss: 1.3078 - val_accuracy: 0.5625 - 92ms/epoch - 15ms/step\n",
            "Epoch 22/100\n",
            "6/6 - 0s - loss: 1.3845 - accuracy: 0.4233 - val_loss: 1.2937 - val_accuracy: 0.5625 - 106ms/epoch - 18ms/step\n",
            "Epoch 23/100\n",
            "6/6 - 0s - loss: 1.3692 - accuracy: 0.4339 - val_loss: 1.2805 - val_accuracy: 0.6042 - 170ms/epoch - 28ms/step\n",
            "Epoch 24/100\n",
            "6/6 - 0s - loss: 1.3544 - accuracy: 0.4550 - val_loss: 1.2675 - val_accuracy: 0.6042 - 146ms/epoch - 24ms/step\n",
            "Epoch 25/100\n",
            "6/6 - 0s - loss: 1.3398 - accuracy: 0.4709 - val_loss: 1.2549 - val_accuracy: 0.6250 - 123ms/epoch - 21ms/step\n",
            "Epoch 26/100\n",
            "6/6 - 0s - loss: 1.3267 - accuracy: 0.4762 - val_loss: 1.2416 - val_accuracy: 0.6250 - 145ms/epoch - 24ms/step\n",
            "Epoch 27/100\n",
            "6/6 - 0s - loss: 1.3123 - accuracy: 0.4815 - val_loss: 1.2295 - val_accuracy: 0.6250 - 155ms/epoch - 26ms/step\n",
            "Epoch 28/100\n",
            "6/6 - 0s - loss: 1.2989 - accuracy: 0.4868 - val_loss: 1.2173 - val_accuracy: 0.6250 - 213ms/epoch - 35ms/step\n",
            "Epoch 29/100\n",
            "6/6 - 0s - loss: 1.2849 - accuracy: 0.4974 - val_loss: 1.2051 - val_accuracy: 0.6250 - 142ms/epoch - 24ms/step\n",
            "Epoch 30/100\n",
            "6/6 - 0s - loss: 1.2716 - accuracy: 0.4974 - val_loss: 1.1934 - val_accuracy: 0.6250 - 154ms/epoch - 26ms/step\n",
            "Epoch 31/100\n",
            "6/6 - 0s - loss: 1.2589 - accuracy: 0.5079 - val_loss: 1.1818 - val_accuracy: 0.6250 - 146ms/epoch - 24ms/step\n",
            "Epoch 32/100\n",
            "6/6 - 0s - loss: 1.2456 - accuracy: 0.5079 - val_loss: 1.1708 - val_accuracy: 0.6250 - 146ms/epoch - 24ms/step\n",
            "Epoch 33/100\n",
            "6/6 - 0s - loss: 1.2328 - accuracy: 0.5185 - val_loss: 1.1600 - val_accuracy: 0.6042 - 140ms/epoch - 23ms/step\n",
            "Epoch 34/100\n",
            "6/6 - 0s - loss: 1.2199 - accuracy: 0.5238 - val_loss: 1.1500 - val_accuracy: 0.6042 - 152ms/epoch - 25ms/step\n",
            "Epoch 35/100\n",
            "6/6 - 0s - loss: 1.2077 - accuracy: 0.5397 - val_loss: 1.1405 - val_accuracy: 0.6042 - 252ms/epoch - 42ms/step\n",
            "Epoch 36/100\n",
            "6/6 - 0s - loss: 1.1964 - accuracy: 0.5556 - val_loss: 1.1305 - val_accuracy: 0.6042 - 237ms/epoch - 40ms/step\n",
            "Epoch 37/100\n",
            "6/6 - 0s - loss: 1.1840 - accuracy: 0.5714 - val_loss: 1.1219 - val_accuracy: 0.6042 - 127ms/epoch - 21ms/step\n",
            "Epoch 38/100\n",
            "6/6 - 0s - loss: 1.1732 - accuracy: 0.5767 - val_loss: 1.1132 - val_accuracy: 0.6042 - 136ms/epoch - 23ms/step\n",
            "Epoch 39/100\n",
            "6/6 - 0s - loss: 1.1614 - accuracy: 0.5820 - val_loss: 1.1059 - val_accuracy: 0.6042 - 172ms/epoch - 29ms/step\n",
            "Epoch 40/100\n",
            "6/6 - 0s - loss: 1.1508 - accuracy: 0.5820 - val_loss: 1.0986 - val_accuracy: 0.6250 - 147ms/epoch - 25ms/step\n",
            "Epoch 41/100\n",
            "6/6 - 0s - loss: 1.1409 - accuracy: 0.5767 - val_loss: 1.0911 - val_accuracy: 0.6250 - 113ms/epoch - 19ms/step\n",
            "Epoch 42/100\n",
            "6/6 - 0s - loss: 1.1300 - accuracy: 0.5767 - val_loss: 1.0841 - val_accuracy: 0.6250 - 126ms/epoch - 21ms/step\n",
            "Epoch 43/100\n",
            "6/6 - 0s - loss: 1.1206 - accuracy: 0.5873 - val_loss: 1.0774 - val_accuracy: 0.6250 - 148ms/epoch - 25ms/step\n",
            "Epoch 44/100\n",
            "6/6 - 0s - loss: 1.1115 - accuracy: 0.5873 - val_loss: 1.0706 - val_accuracy: 0.6250 - 160ms/epoch - 27ms/step\n",
            "Epoch 45/100\n",
            "6/6 - 0s - loss: 1.1016 - accuracy: 0.5873 - val_loss: 1.0644 - val_accuracy: 0.6250 - 135ms/epoch - 23ms/step\n",
            "Epoch 46/100\n",
            "6/6 - 0s - loss: 1.0925 - accuracy: 0.5767 - val_loss: 1.0597 - val_accuracy: 0.6250 - 160ms/epoch - 27ms/step\n",
            "Epoch 47/100\n",
            "6/6 - 0s - loss: 1.0837 - accuracy: 0.5820 - val_loss: 1.0545 - val_accuracy: 0.6250 - 213ms/epoch - 35ms/step\n",
            "Epoch 48/100\n",
            "6/6 - 0s - loss: 1.0761 - accuracy: 0.5873 - val_loss: 1.0495 - val_accuracy: 0.6250 - 185ms/epoch - 31ms/step\n",
            "Epoch 49/100\n",
            "6/6 - 0s - loss: 1.0679 - accuracy: 0.5873 - val_loss: 1.0450 - val_accuracy: 0.6250 - 183ms/epoch - 30ms/step\n",
            "Epoch 50/100\n",
            "6/6 - 0s - loss: 1.0610 - accuracy: 0.5873 - val_loss: 1.0402 - val_accuracy: 0.6250 - 157ms/epoch - 26ms/step\n",
            "Epoch 51/100\n",
            "6/6 - 0s - loss: 1.0532 - accuracy: 0.5873 - val_loss: 1.0366 - val_accuracy: 0.6250 - 160ms/epoch - 27ms/step\n",
            "Epoch 52/100\n",
            "6/6 - 0s - loss: 1.0461 - accuracy: 0.5926 - val_loss: 1.0328 - val_accuracy: 0.6250 - 259ms/epoch - 43ms/step\n",
            "Epoch 53/100\n",
            "6/6 - 0s - loss: 1.0395 - accuracy: 0.5979 - val_loss: 1.0298 - val_accuracy: 0.6250 - 230ms/epoch - 38ms/step\n",
            "Epoch 54/100\n",
            "6/6 - 0s - loss: 1.0327 - accuracy: 0.6032 - val_loss: 1.0268 - val_accuracy: 0.6250 - 186ms/epoch - 31ms/step\n",
            "Epoch 55/100\n",
            "6/6 - 0s - loss: 1.0262 - accuracy: 0.6085 - val_loss: 1.0242 - val_accuracy: 0.6250 - 204ms/epoch - 34ms/step\n",
            "Epoch 56/100\n",
            "6/6 - 0s - loss: 1.0206 - accuracy: 0.6085 - val_loss: 1.0212 - val_accuracy: 0.6250 - 175ms/epoch - 29ms/step\n",
            "Epoch 57/100\n",
            "6/6 - 0s - loss: 1.0147 - accuracy: 0.6085 - val_loss: 1.0186 - val_accuracy: 0.6250 - 176ms/epoch - 29ms/step\n",
            "Epoch 58/100\n",
            "6/6 - 0s - loss: 1.0092 - accuracy: 0.6085 - val_loss: 1.0164 - val_accuracy: 0.6250 - 177ms/epoch - 30ms/step\n",
            "Epoch 59/100\n",
            "6/6 - 0s - loss: 1.0035 - accuracy: 0.6138 - val_loss: 1.0145 - val_accuracy: 0.6250 - 210ms/epoch - 35ms/step\n",
            "Epoch 60/100\n",
            "6/6 - 0s - loss: 0.9986 - accuracy: 0.6138 - val_loss: 1.0126 - val_accuracy: 0.6250 - 176ms/epoch - 29ms/step\n",
            "Epoch 61/100\n",
            "6/6 - 0s - loss: 0.9936 - accuracy: 0.6138 - val_loss: 1.0107 - val_accuracy: 0.6250 - 200ms/epoch - 33ms/step\n",
            "Epoch 62/100\n",
            "6/6 - 0s - loss: 0.9884 - accuracy: 0.6138 - val_loss: 1.0092 - val_accuracy: 0.6042 - 243ms/epoch - 41ms/step\n",
            "Epoch 63/100\n",
            "6/6 - 0s - loss: 0.9841 - accuracy: 0.6085 - val_loss: 1.0078 - val_accuracy: 0.6042 - 167ms/epoch - 28ms/step\n",
            "Epoch 64/100\n",
            "6/6 - 0s - loss: 0.9793 - accuracy: 0.6032 - val_loss: 1.0065 - val_accuracy: 0.6042 - 238ms/epoch - 40ms/step\n",
            "Epoch 65/100\n",
            "6/6 - 0s - loss: 0.9752 - accuracy: 0.6032 - val_loss: 1.0049 - val_accuracy: 0.6042 - 299ms/epoch - 50ms/step\n",
            "Epoch 66/100\n",
            "6/6 - 0s - loss: 0.9707 - accuracy: 0.6032 - val_loss: 1.0039 - val_accuracy: 0.6042 - 303ms/epoch - 50ms/step\n",
            "Epoch 67/100\n",
            "6/6 - 0s - loss: 0.9668 - accuracy: 0.6032 - val_loss: 1.0029 - val_accuracy: 0.6042 - 252ms/epoch - 42ms/step\n",
            "Epoch 68/100\n",
            "6/6 - 0s - loss: 0.9630 - accuracy: 0.6032 - val_loss: 1.0018 - val_accuracy: 0.6042 - 306ms/epoch - 51ms/step\n",
            "Epoch 69/100\n",
            "6/6 - 0s - loss: 0.9594 - accuracy: 0.6032 - val_loss: 1.0009 - val_accuracy: 0.5833 - 486ms/epoch - 81ms/step\n",
            "Epoch 70/100\n",
            "6/6 - 0s - loss: 0.9555 - accuracy: 0.6032 - val_loss: 1.0002 - val_accuracy: 0.5833 - 340ms/epoch - 57ms/step\n",
            "Epoch 71/100\n",
            "6/6 - 0s - loss: 0.9522 - accuracy: 0.6085 - val_loss: 0.9993 - val_accuracy: 0.5833 - 362ms/epoch - 60ms/step\n",
            "Epoch 72/100\n",
            "6/6 - 0s - loss: 0.9490 - accuracy: 0.6085 - val_loss: 0.9987 - val_accuracy: 0.5833 - 498ms/epoch - 83ms/step\n",
            "Epoch 73/100\n",
            "6/6 - 0s - loss: 0.9458 - accuracy: 0.6085 - val_loss: 0.9972 - val_accuracy: 0.5833 - 346ms/epoch - 58ms/step\n",
            "Epoch 74/100\n",
            "6/6 - 0s - loss: 0.9425 - accuracy: 0.6085 - val_loss: 0.9962 - val_accuracy: 0.5833 - 450ms/epoch - 75ms/step\n",
            "Epoch 75/100\n",
            "6/6 - 0s - loss: 0.9396 - accuracy: 0.6085 - val_loss: 0.9955 - val_accuracy: 0.5833 - 245ms/epoch - 41ms/step\n",
            "Epoch 76/100\n",
            "6/6 - 0s - loss: 0.9366 - accuracy: 0.6085 - val_loss: 0.9946 - val_accuracy: 0.5833 - 239ms/epoch - 40ms/step\n",
            "Epoch 77/100\n",
            "6/6 - 0s - loss: 0.9334 - accuracy: 0.6085 - val_loss: 0.9940 - val_accuracy: 0.5833 - 162ms/epoch - 27ms/step\n",
            "Epoch 78/100\n",
            "6/6 - 0s - loss: 0.9304 - accuracy: 0.6085 - val_loss: 0.9930 - val_accuracy: 0.5833 - 185ms/epoch - 31ms/step\n",
            "Epoch 79/100\n",
            "6/6 - 0s - loss: 0.9277 - accuracy: 0.6138 - val_loss: 0.9926 - val_accuracy: 0.5833 - 243ms/epoch - 40ms/step\n",
            "Epoch 80/100\n",
            "6/6 - 0s - loss: 0.9247 - accuracy: 0.6243 - val_loss: 0.9921 - val_accuracy: 0.5833 - 161ms/epoch - 27ms/step\n",
            "Epoch 81/100\n",
            "6/6 - 0s - loss: 0.9221 - accuracy: 0.6138 - val_loss: 0.9913 - val_accuracy: 0.5833 - 229ms/epoch - 38ms/step\n",
            "Epoch 82/100\n",
            "6/6 - 0s - loss: 0.9193 - accuracy: 0.6138 - val_loss: 0.9907 - val_accuracy: 0.5833 - 230ms/epoch - 38ms/step\n",
            "Epoch 83/100\n",
            "6/6 - 0s - loss: 0.9166 - accuracy: 0.6138 - val_loss: 0.9900 - val_accuracy: 0.5833 - 181ms/epoch - 30ms/step\n",
            "Epoch 84/100\n",
            "6/6 - 0s - loss: 0.9138 - accuracy: 0.6190 - val_loss: 0.9900 - val_accuracy: 0.5833 - 191ms/epoch - 32ms/step\n",
            "Epoch 85/100\n",
            "6/6 - 0s - loss: 0.9111 - accuracy: 0.6190 - val_loss: 0.9895 - val_accuracy: 0.5833 - 262ms/epoch - 44ms/step\n",
            "Epoch 86/100\n",
            "6/6 - 0s - loss: 0.9086 - accuracy: 0.6190 - val_loss: 0.9888 - val_accuracy: 0.6042 - 283ms/epoch - 47ms/step\n",
            "Epoch 87/100\n",
            "6/6 - 0s - loss: 0.9061 - accuracy: 0.6243 - val_loss: 0.9882 - val_accuracy: 0.6042 - 251ms/epoch - 42ms/step\n",
            "Epoch 88/100\n",
            "6/6 - 0s - loss: 0.9035 - accuracy: 0.6243 - val_loss: 0.9880 - val_accuracy: 0.6042 - 257ms/epoch - 43ms/step\n",
            "Epoch 89/100\n",
            "6/6 - 0s - loss: 0.9012 - accuracy: 0.6243 - val_loss: 0.9875 - val_accuracy: 0.6042 - 336ms/epoch - 56ms/step\n",
            "Epoch 90/100\n",
            "6/6 - 0s - loss: 0.8987 - accuracy: 0.6190 - val_loss: 0.9873 - val_accuracy: 0.6042 - 355ms/epoch - 59ms/step\n",
            "Epoch 91/100\n",
            "6/6 - 0s - loss: 0.8964 - accuracy: 0.6296 - val_loss: 0.9868 - val_accuracy: 0.6042 - 175ms/epoch - 29ms/step\n",
            "Epoch 92/100\n",
            "6/6 - 0s - loss: 0.8943 - accuracy: 0.6296 - val_loss: 0.9862 - val_accuracy: 0.6042 - 339ms/epoch - 57ms/step\n",
            "Epoch 93/100\n",
            "6/6 - 0s - loss: 0.8918 - accuracy: 0.6296 - val_loss: 0.9853 - val_accuracy: 0.6042 - 275ms/epoch - 46ms/step\n",
            "Epoch 94/100\n",
            "6/6 - 0s - loss: 0.8896 - accuracy: 0.6296 - val_loss: 0.9848 - val_accuracy: 0.6042 - 328ms/epoch - 55ms/step\n",
            "Epoch 95/100\n",
            "6/6 - 0s - loss: 0.8874 - accuracy: 0.6243 - val_loss: 0.9846 - val_accuracy: 0.6250 - 304ms/epoch - 51ms/step\n",
            "Epoch 96/100\n",
            "6/6 - 0s - loss: 0.8854 - accuracy: 0.6243 - val_loss: 0.9842 - val_accuracy: 0.6250 - 264ms/epoch - 44ms/step\n",
            "Epoch 97/100\n",
            "6/6 - 0s - loss: 0.8834 - accuracy: 0.6243 - val_loss: 0.9837 - val_accuracy: 0.6250 - 329ms/epoch - 55ms/step\n",
            "Epoch 98/100\n",
            "6/6 - 0s - loss: 0.8815 - accuracy: 0.6243 - val_loss: 0.9835 - val_accuracy: 0.6250 - 369ms/epoch - 62ms/step\n",
            "Epoch 99/100\n",
            "6/6 - 0s - loss: 0.8793 - accuracy: 0.6296 - val_loss: 0.9834 - val_accuracy: 0.6250 - 312ms/epoch - 52ms/step\n",
            "Epoch 100/100\n",
            "6/6 - 0s - loss: 0.8771 - accuracy: 0.6296 - val_loss: 0.9828 - val_accuracy: 0.6458 - 350ms/epoch - 58ms/step\n"
          ]
        }
      ]
    },
    {
      "cell_type": "code",
      "source": [
        "# 상관관계\n",
        "# 공분산\n",
        "# 각종 머신러닝 기법을 통해\n",
        "# 최적의 feature를 찾기"
      ],
      "metadata": {
        "id": "yrfnBgeH2UwH"
      },
      "execution_count": 25,
      "outputs": []
    },
    {
      "cell_type": "code",
      "source": [
        "# Solution 1 : 다중분류 -> 2진분류\n",
        "# 0 ->1  1 2 3 4 -> 0\n",
        "print(f'original data : {y[:5]}')\n",
        "new_y = np.array([  1 if label == 0 else 0  for label in y])\n",
        "print(f'new_y:{new_y[:5]}')\n",
        "\n",
        "#데이터 분할\n",
        "X_train, X_test, y_train, y_test = train_test_split(X, new_y, stratify=new_y,random_state=0)\n",
        "ss=StandardScaler()\n",
        "X_train_scaled = ss.fit_transform(X_train); X_test_scaled = ss.transform(X_test)"
      ],
      "metadata": {
        "colab": {
          "base_uri": "https://localhost:8080/"
        },
        "id": "2eI-wzYg2Vpo",
        "outputId": "a4e2a2e3-170e-41f3-9dcd-208c9eb34c73"
      },
      "execution_count": 26,
      "outputs": [
        {
          "output_type": "stream",
          "name": "stdout",
          "text": [
            "original data : [0 2 1 0 0]\n",
            "new_y:[1 0 0 1 1]\n"
          ]
        }
      ]
    },
    {
      "cell_type": "code",
      "source": [
        "1e+4, 1e-4"
      ],
      "metadata": {
        "colab": {
          "base_uri": "https://localhost:8080/"
        },
        "id": "Bmw3-Gsq2Xr0",
        "outputId": "628b91fd-104a-4d12-d8b3-dcfa26c6e595"
      },
      "execution_count": 27,
      "outputs": [
        {
          "output_type": "execute_result",
          "data": {
            "text/plain": [
              "(10000.0, 0.0001)"
            ]
          },
          "metadata": {},
          "execution_count": 27
        }
      ]
    },
    {
      "cell_type": "code",
      "source": [
        "# 이진분류 신경망 만들기\n",
        "class ANN_Binary():\n",
        "  def __init__(self,n_input,n_hidden,n_output,learning_rate=0.001):\n",
        "    self.n_input = n_input\n",
        "    self.n_hidden = n_hidden\n",
        "    self.n_output = n_output\n",
        "\n",
        "    self.dense1 = Dense(n_hidden,activation='relu',input_shape = (n_input,))\n",
        "    self.dense2 = Dense(n_hidden,activation='relu')\n",
        "    self.dropout = Dropout(0.1)\n",
        "    self.dense3 = Dense(n_output,activation='sigmoid')\n",
        "\n",
        "    self.optim = Adam(learning_rate=learning_rate)\n",
        "    self.ealy_stopping = tf.keras.callbacks.EarlyStopping(patience=3, restore_best_weights=True)\n",
        "    self.checkpoint_cb = tf.keras.callbacks.ModelCheckpoint('best_model.keras', save_best_only=True)\n",
        "  def fit(self,X,y,epochs=200):\n",
        "    model = Sequential([\n",
        "        self.dense1,\n",
        "        self.dense2,\n",
        "        self.dropout,\n",
        "        self.dense3\n",
        "    ])\n",
        "    model.compile(optimizer='adam',loss = 'binary_crossentropy',metrics='accuracy')\n",
        "    hist = model.fit(X, y, validation_split=0.2, callbacks=[self.ealy_stopping,self.checkpoint_cb],\n",
        "          epochs=epochs, verbose=2)\n",
        "    return hist\n",
        "\n",
        "  def get_best_model(self):\n",
        "    return tf.keras.models.load_model('best_model.keras')\n",
        "\n",
        "  def score(self,X,y):\n",
        "    return self.get_best_model().evaluate(X,y)\n",
        "\n",
        "n_input = X_train_scaled.shape[1]\n",
        "n_hidden = 15\n",
        "n_output = 1\n",
        "\n",
        "mymodel = ANN_Binary(n_input,n_hidden,n_output,learning_rate=0.001)\n",
        "mymodel.fit(X_train_scaled,y_train)\n",
        "mymodel.score(X_test_scaled, y_test)"
      ],
      "metadata": {
        "colab": {
          "base_uri": "https://localhost:8080/"
        },
        "id": "O5K3bfAQ2aBo",
        "outputId": "00aea4b5-3399-4c1f-eae1-b25745d910b7"
      },
      "execution_count": 28,
      "outputs": [
        {
          "output_type": "stream",
          "name": "stdout",
          "text": [
            "Epoch 1/200\n",
            "6/6 - 1s - loss: 0.7380 - accuracy: 0.4576 - val_loss: 0.7120 - val_accuracy: 0.4444 - 1s/epoch - 215ms/step\n",
            "Epoch 2/200\n",
            "6/6 - 0s - loss: 0.7084 - accuracy: 0.4915 - val_loss: 0.6894 - val_accuracy: 0.5111 - 93ms/epoch - 15ms/step\n",
            "Epoch 3/200\n",
            "6/6 - 0s - loss: 0.6860 - accuracy: 0.5141 - val_loss: 0.6680 - val_accuracy: 0.5111 - 104ms/epoch - 17ms/step\n",
            "Epoch 4/200\n",
            "6/6 - 0s - loss: 0.6637 - accuracy: 0.5819 - val_loss: 0.6483 - val_accuracy: 0.6000 - 103ms/epoch - 17ms/step\n",
            "Epoch 5/200\n",
            "6/6 - 0s - loss: 0.6421 - accuracy: 0.6102 - val_loss: 0.6294 - val_accuracy: 0.6444 - 93ms/epoch - 15ms/step\n",
            "Epoch 6/200\n",
            "6/6 - 0s - loss: 0.6290 - accuracy: 0.6667 - val_loss: 0.6115 - val_accuracy: 0.7111 - 85ms/epoch - 14ms/step\n",
            "Epoch 7/200\n",
            "6/6 - 0s - loss: 0.6024 - accuracy: 0.6893 - val_loss: 0.5940 - val_accuracy: 0.7333 - 101ms/epoch - 17ms/step\n",
            "Epoch 8/200\n",
            "6/6 - 0s - loss: 0.5975 - accuracy: 0.7119 - val_loss: 0.5776 - val_accuracy: 0.8222 - 102ms/epoch - 17ms/step\n",
            "Epoch 9/200\n",
            "6/6 - 0s - loss: 0.5612 - accuracy: 0.7514 - val_loss: 0.5609 - val_accuracy: 0.8444 - 80ms/epoch - 13ms/step\n",
            "Epoch 10/200\n",
            "6/6 - 0s - loss: 0.5542 - accuracy: 0.7401 - val_loss: 0.5460 - val_accuracy: 0.8444 - 104ms/epoch - 17ms/step\n",
            "Epoch 11/200\n",
            "6/6 - 0s - loss: 0.5335 - accuracy: 0.7853 - val_loss: 0.5305 - val_accuracy: 0.8222 - 109ms/epoch - 18ms/step\n",
            "Epoch 12/200\n",
            "6/6 - 0s - loss: 0.5111 - accuracy: 0.8136 - val_loss: 0.5159 - val_accuracy: 0.8222 - 92ms/epoch - 15ms/step\n",
            "Epoch 13/200\n",
            "6/6 - 0s - loss: 0.5084 - accuracy: 0.8079 - val_loss: 0.5030 - val_accuracy: 0.8444 - 97ms/epoch - 16ms/step\n",
            "Epoch 14/200\n",
            "6/6 - 0s - loss: 0.4983 - accuracy: 0.8136 - val_loss: 0.4901 - val_accuracy: 0.8444 - 88ms/epoch - 15ms/step\n",
            "Epoch 15/200\n",
            "6/6 - 0s - loss: 0.4768 - accuracy: 0.8136 - val_loss: 0.4786 - val_accuracy: 0.8222 - 85ms/epoch - 14ms/step\n",
            "Epoch 16/200\n",
            "6/6 - 0s - loss: 0.4541 - accuracy: 0.8531 - val_loss: 0.4679 - val_accuracy: 0.8222 - 83ms/epoch - 14ms/step\n",
            "Epoch 17/200\n",
            "6/6 - 0s - loss: 0.4669 - accuracy: 0.8136 - val_loss: 0.4585 - val_accuracy: 0.8222 - 96ms/epoch - 16ms/step\n",
            "Epoch 18/200\n",
            "6/6 - 0s - loss: 0.4410 - accuracy: 0.8475 - val_loss: 0.4499 - val_accuracy: 0.8000 - 94ms/epoch - 16ms/step\n",
            "Epoch 19/200\n",
            "6/6 - 0s - loss: 0.4533 - accuracy: 0.8305 - val_loss: 0.4418 - val_accuracy: 0.8000 - 84ms/epoch - 14ms/step\n",
            "Epoch 20/200\n",
            "6/6 - 0s - loss: 0.4121 - accuracy: 0.8644 - val_loss: 0.4354 - val_accuracy: 0.8222 - 109ms/epoch - 18ms/step\n",
            "Epoch 21/200\n",
            "6/6 - 0s - loss: 0.4026 - accuracy: 0.8475 - val_loss: 0.4290 - val_accuracy: 0.8222 - 97ms/epoch - 16ms/step\n",
            "Epoch 22/200\n",
            "6/6 - 0s - loss: 0.3958 - accuracy: 0.8475 - val_loss: 0.4240 - val_accuracy: 0.8222 - 125ms/epoch - 21ms/step\n",
            "Epoch 23/200\n",
            "6/6 - 0s - loss: 0.4160 - accuracy: 0.8418 - val_loss: 0.4196 - val_accuracy: 0.8000 - 99ms/epoch - 16ms/step\n",
            "Epoch 24/200\n",
            "6/6 - 0s - loss: 0.3886 - accuracy: 0.8531 - val_loss: 0.4153 - val_accuracy: 0.8000 - 125ms/epoch - 21ms/step\n",
            "Epoch 25/200\n",
            "6/6 - 0s - loss: 0.3777 - accuracy: 0.8644 - val_loss: 0.4116 - val_accuracy: 0.8000 - 124ms/epoch - 21ms/step\n",
            "Epoch 26/200\n",
            "6/6 - 0s - loss: 0.3803 - accuracy: 0.8588 - val_loss: 0.4085 - val_accuracy: 0.8222 - 92ms/epoch - 15ms/step\n",
            "Epoch 27/200\n",
            "6/6 - 0s - loss: 0.3750 - accuracy: 0.8644 - val_loss: 0.4059 - val_accuracy: 0.8222 - 108ms/epoch - 18ms/step\n",
            "Epoch 28/200\n",
            "6/6 - 0s - loss: 0.3695 - accuracy: 0.8531 - val_loss: 0.4041 - val_accuracy: 0.8444 - 106ms/epoch - 18ms/step\n",
            "Epoch 29/200\n",
            "6/6 - 0s - loss: 0.3746 - accuracy: 0.8475 - val_loss: 0.4031 - val_accuracy: 0.8444 - 108ms/epoch - 18ms/step\n",
            "Epoch 30/200\n",
            "6/6 - 0s - loss: 0.3575 - accuracy: 0.8588 - val_loss: 0.4020 - val_accuracy: 0.8444 - 121ms/epoch - 20ms/step\n",
            "Epoch 31/200\n",
            "6/6 - 0s - loss: 0.3499 - accuracy: 0.8814 - val_loss: 0.4008 - val_accuracy: 0.8444 - 98ms/epoch - 16ms/step\n",
            "Epoch 32/200\n",
            "6/6 - 0s - loss: 0.3454 - accuracy: 0.8814 - val_loss: 0.3999 - val_accuracy: 0.8444 - 108ms/epoch - 18ms/step\n",
            "Epoch 33/200\n",
            "6/6 - 0s - loss: 0.3465 - accuracy: 0.8588 - val_loss: 0.3985 - val_accuracy: 0.8444 - 106ms/epoch - 18ms/step\n",
            "Epoch 34/200\n",
            "6/6 - 0s - loss: 0.3465 - accuracy: 0.8531 - val_loss: 0.3976 - val_accuracy: 0.8444 - 103ms/epoch - 17ms/step\n",
            "Epoch 35/200\n",
            "6/6 - 0s - loss: 0.3409 - accuracy: 0.8701 - val_loss: 0.3968 - val_accuracy: 0.8444 - 100ms/epoch - 17ms/step\n",
            "Epoch 36/200\n",
            "6/6 - 0s - loss: 0.3442 - accuracy: 0.8701 - val_loss: 0.3961 - val_accuracy: 0.8444 - 106ms/epoch - 18ms/step\n",
            "Epoch 37/200\n",
            "6/6 - 0s - loss: 0.3364 - accuracy: 0.8701 - val_loss: 0.3956 - val_accuracy: 0.8444 - 110ms/epoch - 18ms/step\n",
            "Epoch 38/200\n",
            "6/6 - 0s - loss: 0.3206 - accuracy: 0.8814 - val_loss: 0.3960 - val_accuracy: 0.8444 - 53ms/epoch - 9ms/step\n",
            "Epoch 39/200\n",
            "6/6 - 0s - loss: 0.3370 - accuracy: 0.8644 - val_loss: 0.3961 - val_accuracy: 0.8444 - 70ms/epoch - 12ms/step\n",
            "Epoch 40/200\n",
            "6/6 - 0s - loss: 0.3197 - accuracy: 0.8814 - val_loss: 0.3965 - val_accuracy: 0.8444 - 60ms/epoch - 10ms/step\n",
            "3/3 [==============================] - 0s 6ms/step - loss: 0.3785 - accuracy: 0.8667\n"
          ]
        },
        {
          "output_type": "execute_result",
          "data": {
            "text/plain": [
              "[0.3784523010253906, 0.8666666746139526]"
            ]
          },
          "metadata": {},
          "execution_count": 28
        }
      ]
    },
    {
      "cell_type": "markdown",
      "source": [
        "피쳐 엔지니어링\n",
        "- chi2\n",
        "  - 카이 제곱 검증 알고리즘을 사용\n",
        "  - 피처들과 타겟 간의 독립성을 평가 각 피처의 중요도 계산, 점주형 변수간의 관계를 확인, 피처가 범주형인 경우 적용"
      ],
      "metadata": {
        "id": "9bxmsQiWvNkR"
      }
    },
    {
      "cell_type": "code",
      "source": [
        "from sklearn.feature_selection import SelectKBest\n",
        "from sklearn.feature_selection import chi2\n",
        "\n",
        "ss=StandardScaler()\n",
        "selector = SelectKBest(k=5)  # 최상위 피처 5개를 선택\n",
        "X_selected = selector.fit_transform(ss.fit_transform(X),new_y)\n",
        "\n",
        "#데이터 분할\n",
        "X_train, X_test, y_train, y_test = train_test_split(X_selected, new_y, stratify=new_y,random_state=0)\n",
        "\n",
        "n_input = X_train.shape[1]\n",
        "n_hidden = 15\n",
        "n_output = 1\n",
        "selectKBest_model = ANN_Binary(n_input,n_hidden,n_output)\n",
        "selectKBest_model.fit(X_train,y_train)\n",
        "selectKBest_model.score(X_test,y_test)"
      ],
      "metadata": {
        "colab": {
          "base_uri": "https://localhost:8080/"
        },
        "id": "rmpim5BJiQRG",
        "outputId": "4bd692da-d3bf-4864-830d-fb7987805556"
      },
      "execution_count": null,
      "outputs": [
        {
          "output_type": "stream",
          "name": "stdout",
          "text": [
            "Epoch 1/200\n",
            "6/6 - 1s - loss: 0.7990 - accuracy: 0.5311 - val_loss: 0.7748 - val_accuracy: 0.5556 - 1s/epoch - 182ms/step\n",
            "Epoch 2/200\n",
            "6/6 - 0s - loss: 0.7755 - accuracy: 0.5367 - val_loss: 0.7461 - val_accuracy: 0.5556 - 74ms/epoch - 12ms/step\n",
            "Epoch 3/200\n",
            "6/6 - 0s - loss: 0.7519 - accuracy: 0.5254 - val_loss: 0.7202 - val_accuracy: 0.5556 - 73ms/epoch - 12ms/step\n",
            "Epoch 4/200\n",
            "6/6 - 0s - loss: 0.7260 - accuracy: 0.5424 - val_loss: 0.6962 - val_accuracy: 0.5556 - 72ms/epoch - 12ms/step\n",
            "Epoch 5/200\n",
            "6/6 - 0s - loss: 0.6998 - accuracy: 0.5537 - val_loss: 0.6739 - val_accuracy: 0.5556 - 85ms/epoch - 14ms/step\n",
            "Epoch 6/200\n",
            "6/6 - 0s - loss: 0.6693 - accuracy: 0.5537 - val_loss: 0.6534 - val_accuracy: 0.5556 - 67ms/epoch - 11ms/step\n",
            "Epoch 7/200\n",
            "6/6 - 0s - loss: 0.6670 - accuracy: 0.5650 - val_loss: 0.6342 - val_accuracy: 0.5556 - 85ms/epoch - 14ms/step\n",
            "Epoch 8/200\n",
            "6/6 - 0s - loss: 0.6483 - accuracy: 0.5537 - val_loss: 0.6183 - val_accuracy: 0.5556 - 88ms/epoch - 15ms/step\n",
            "Epoch 9/200\n",
            "6/6 - 0s - loss: 0.6274 - accuracy: 0.5593 - val_loss: 0.6029 - val_accuracy: 0.5556 - 73ms/epoch - 12ms/step\n",
            "Epoch 10/200\n",
            "6/6 - 0s - loss: 0.6110 - accuracy: 0.5819 - val_loss: 0.5889 - val_accuracy: 0.5556 - 82ms/epoch - 14ms/step\n",
            "Epoch 11/200\n",
            "6/6 - 0s - loss: 0.6022 - accuracy: 0.5819 - val_loss: 0.5761 - val_accuracy: 0.6222 - 80ms/epoch - 13ms/step\n",
            "Epoch 12/200\n",
            "6/6 - 0s - loss: 0.5941 - accuracy: 0.5932 - val_loss: 0.5640 - val_accuracy: 0.6444 - 88ms/epoch - 15ms/step\n",
            "Epoch 13/200\n",
            "6/6 - 0s - loss: 0.5828 - accuracy: 0.6158 - val_loss: 0.5527 - val_accuracy: 0.6667 - 92ms/epoch - 15ms/step\n",
            "Epoch 14/200\n",
            "6/6 - 0s - loss: 0.5657 - accuracy: 0.6497 - val_loss: 0.5418 - val_accuracy: 0.7111 - 76ms/epoch - 13ms/step\n",
            "Epoch 15/200\n",
            "6/6 - 0s - loss: 0.5582 - accuracy: 0.6667 - val_loss: 0.5312 - val_accuracy: 0.7778 - 90ms/epoch - 15ms/step\n",
            "Epoch 16/200\n",
            "6/6 - 0s - loss: 0.5467 - accuracy: 0.7006 - val_loss: 0.5215 - val_accuracy: 0.8000 - 93ms/epoch - 15ms/step\n",
            "Epoch 17/200\n",
            "6/6 - 0s - loss: 0.5450 - accuracy: 0.7062 - val_loss: 0.5123 - val_accuracy: 0.8000 - 76ms/epoch - 13ms/step\n",
            "Epoch 18/200\n",
            "6/6 - 0s - loss: 0.5251 - accuracy: 0.7684 - val_loss: 0.5037 - val_accuracy: 0.8000 - 86ms/epoch - 14ms/step\n",
            "Epoch 19/200\n",
            "6/6 - 0s - loss: 0.5209 - accuracy: 0.7684 - val_loss: 0.4961 - val_accuracy: 0.8000 - 85ms/epoch - 14ms/step\n",
            "Epoch 20/200\n",
            "6/6 - 0s - loss: 0.5117 - accuracy: 0.8249 - val_loss: 0.4888 - val_accuracy: 0.7778 - 96ms/epoch - 16ms/step\n",
            "Epoch 21/200\n",
            "6/6 - 0s - loss: 0.5073 - accuracy: 0.8418 - val_loss: 0.4820 - val_accuracy: 0.8000 - 71ms/epoch - 12ms/step\n",
            "Epoch 22/200\n",
            "6/6 - 0s - loss: 0.4970 - accuracy: 0.8362 - val_loss: 0.4753 - val_accuracy: 0.8000 - 89ms/epoch - 15ms/step\n",
            "Epoch 23/200\n",
            "6/6 - 0s - loss: 0.4875 - accuracy: 0.8192 - val_loss: 0.4687 - val_accuracy: 0.8222 - 72ms/epoch - 12ms/step\n",
            "Epoch 24/200\n",
            "6/6 - 0s - loss: 0.4798 - accuracy: 0.8362 - val_loss: 0.4624 - val_accuracy: 0.8444 - 78ms/epoch - 13ms/step\n",
            "Epoch 25/200\n",
            "6/6 - 0s - loss: 0.4811 - accuracy: 0.8305 - val_loss: 0.4568 - val_accuracy: 0.8889 - 76ms/epoch - 13ms/step\n",
            "Epoch 26/200\n",
            "6/6 - 0s - loss: 0.4705 - accuracy: 0.8305 - val_loss: 0.4510 - val_accuracy: 0.8889 - 76ms/epoch - 13ms/step\n",
            "Epoch 27/200\n",
            "6/6 - 0s - loss: 0.4792 - accuracy: 0.8475 - val_loss: 0.4452 - val_accuracy: 0.8889 - 92ms/epoch - 15ms/step\n",
            "Epoch 28/200\n",
            "6/6 - 0s - loss: 0.4632 - accuracy: 0.8418 - val_loss: 0.4395 - val_accuracy: 0.8889 - 87ms/epoch - 14ms/step\n",
            "Epoch 29/200\n",
            "6/6 - 0s - loss: 0.4600 - accuracy: 0.8475 - val_loss: 0.4340 - val_accuracy: 0.8889 - 86ms/epoch - 14ms/step\n",
            "Epoch 30/200\n",
            "6/6 - 0s - loss: 0.4550 - accuracy: 0.8644 - val_loss: 0.4287 - val_accuracy: 0.8889 - 71ms/epoch - 12ms/step\n",
            "Epoch 31/200\n",
            "6/6 - 0s - loss: 0.4609 - accuracy: 0.8418 - val_loss: 0.4240 - val_accuracy: 0.8889 - 74ms/epoch - 12ms/step\n",
            "Epoch 32/200\n",
            "6/6 - 0s - loss: 0.4395 - accuracy: 0.8475 - val_loss: 0.4187 - val_accuracy: 0.8889 - 84ms/epoch - 14ms/step\n",
            "Epoch 33/200\n",
            "6/6 - 0s - loss: 0.4377 - accuracy: 0.8531 - val_loss: 0.4134 - val_accuracy: 0.8889 - 79ms/epoch - 13ms/step\n",
            "Epoch 34/200\n",
            "6/6 - 0s - loss: 0.4359 - accuracy: 0.8475 - val_loss: 0.4082 - val_accuracy: 0.8889 - 98ms/epoch - 16ms/step\n",
            "Epoch 35/200\n",
            "6/6 - 0s - loss: 0.4253 - accuracy: 0.8531 - val_loss: 0.4026 - val_accuracy: 0.8667 - 90ms/epoch - 15ms/step\n",
            "Epoch 36/200\n",
            "6/6 - 0s - loss: 0.4254 - accuracy: 0.8475 - val_loss: 0.3974 - val_accuracy: 0.8667 - 92ms/epoch - 15ms/step\n",
            "Epoch 37/200\n",
            "6/6 - 0s - loss: 0.4204 - accuracy: 0.8588 - val_loss: 0.3923 - val_accuracy: 0.8667 - 72ms/epoch - 12ms/step\n",
            "Epoch 38/200\n",
            "6/6 - 0s - loss: 0.4262 - accuracy: 0.8362 - val_loss: 0.3874 - val_accuracy: 0.8667 - 89ms/epoch - 15ms/step\n",
            "Epoch 39/200\n",
            "6/6 - 0s - loss: 0.4227 - accuracy: 0.8588 - val_loss: 0.3838 - val_accuracy: 0.8667 - 91ms/epoch - 15ms/step\n",
            "Epoch 40/200\n",
            "6/6 - 0s - loss: 0.4102 - accuracy: 0.8588 - val_loss: 0.3803 - val_accuracy: 0.8667 - 72ms/epoch - 12ms/step\n",
            "Epoch 41/200\n",
            "6/6 - 0s - loss: 0.4136 - accuracy: 0.8475 - val_loss: 0.3768 - val_accuracy: 0.8667 - 92ms/epoch - 15ms/step\n",
            "Epoch 42/200\n",
            "6/6 - 0s - loss: 0.4087 - accuracy: 0.8588 - val_loss: 0.3729 - val_accuracy: 0.8667 - 91ms/epoch - 15ms/step\n",
            "Epoch 43/200\n",
            "6/6 - 0s - loss: 0.3998 - accuracy: 0.8531 - val_loss: 0.3702 - val_accuracy: 0.8667 - 70ms/epoch - 12ms/step\n",
            "Epoch 44/200\n",
            "6/6 - 0s - loss: 0.3973 - accuracy: 0.8475 - val_loss: 0.3668 - val_accuracy: 0.8667 - 71ms/epoch - 12ms/step\n",
            "Epoch 45/200\n",
            "6/6 - 0s - loss: 0.3862 - accuracy: 0.8588 - val_loss: 0.3643 - val_accuracy: 0.8667 - 91ms/epoch - 15ms/step\n",
            "Epoch 46/200\n",
            "6/6 - 0s - loss: 0.3830 - accuracy: 0.8588 - val_loss: 0.3618 - val_accuracy: 0.8667 - 76ms/epoch - 13ms/step\n",
            "Epoch 47/200\n",
            "6/6 - 0s - loss: 0.3781 - accuracy: 0.8588 - val_loss: 0.3595 - val_accuracy: 0.8667 - 73ms/epoch - 12ms/step\n",
            "Epoch 48/200\n",
            "6/6 - 0s - loss: 0.3820 - accuracy: 0.8531 - val_loss: 0.3578 - val_accuracy: 0.8667 - 88ms/epoch - 15ms/step\n",
            "Epoch 49/200\n",
            "6/6 - 0s - loss: 0.3719 - accuracy: 0.8531 - val_loss: 0.3559 - val_accuracy: 0.8667 - 95ms/epoch - 16ms/step\n",
            "Epoch 50/200\n",
            "6/6 - 0s - loss: 0.3688 - accuracy: 0.8475 - val_loss: 0.3540 - val_accuracy: 0.8667 - 71ms/epoch - 12ms/step\n",
            "Epoch 51/200\n",
            "6/6 - 0s - loss: 0.3665 - accuracy: 0.8588 - val_loss: 0.3526 - val_accuracy: 0.8667 - 71ms/epoch - 12ms/step\n",
            "Epoch 52/200\n",
            "6/6 - 0s - loss: 0.3629 - accuracy: 0.8588 - val_loss: 0.3520 - val_accuracy: 0.8667 - 68ms/epoch - 11ms/step\n",
            "Epoch 53/200\n",
            "6/6 - 0s - loss: 0.3435 - accuracy: 0.8701 - val_loss: 0.3515 - val_accuracy: 0.8667 - 84ms/epoch - 14ms/step\n",
            "Epoch 54/200\n",
            "6/6 - 0s - loss: 0.3716 - accuracy: 0.8644 - val_loss: 0.3508 - val_accuracy: 0.8667 - 72ms/epoch - 12ms/step\n",
            "Epoch 55/200\n",
            "6/6 - 0s - loss: 0.3710 - accuracy: 0.8588 - val_loss: 0.3512 - val_accuracy: 0.8667 - 48ms/epoch - 8ms/step\n",
            "Epoch 56/200\n",
            "6/6 - 0s - loss: 0.3559 - accuracy: 0.8588 - val_loss: 0.3514 - val_accuracy: 0.8667 - 48ms/epoch - 8ms/step\n",
            "Epoch 57/200\n",
            "6/6 - 0s - loss: 0.3527 - accuracy: 0.8531 - val_loss: 0.3515 - val_accuracy: 0.8667 - 71ms/epoch - 12ms/step\n",
            "3/3 [==============================] - 0s 5ms/step - loss: 0.5043 - accuracy: 0.7867\n"
          ]
        },
        {
          "output_type": "execute_result",
          "data": {
            "text/plain": [
              "[0.5042800903320312, 0.7866666913032532]"
            ]
          },
          "metadata": {},
          "execution_count": 92
        }
      ]
    },
    {
      "cell_type": "code",
      "source": [
        "pd.DataFrame(X[:,0]).hist()"
      ],
      "metadata": {
        "colab": {
          "base_uri": "https://localhost:8080/",
          "height": 470
        },
        "id": "tftNMFjzEd5R",
        "outputId": "548f85d8-c135-4ddc-8576-cf10153d23de"
      },
      "execution_count": null,
      "outputs": [
        {
          "output_type": "execute_result",
          "data": {
            "text/plain": [
              "array([[<Axes: title={'center': '0'}>]], dtype=object)"
            ]
          },
          "metadata": {},
          "execution_count": 93
        },
        {
          "output_type": "display_data",
          "data": {
            "text/plain": [
              "<Figure size 640x480 with 1 Axes>"
            ],
            "image/png": "[encoded data removed]"
          },
          "metadata": {}
        }
      ]
    },
    {
      "cell_type": "code",
      "source": [
        "bins = [0,30,40,50,60,70,np.inf]\n",
        "labels = [0,1,2,3,4,5]\n",
        "age_group = pd.cut(X[:,0],bins=bins, labels=labels)\n",
        "age_group.to_numpy()"
      ],
      "metadata": {
        "colab": {
          "base_uri": "https://localhost:8080/"
        },
        "id": "8zdYSn5UdF_B",
        "outputId": "79321822-2705-455d-f771-285bcd14427f"
      },
      "execution_count": null,
      "outputs": [
        {
          "output_type": "execute_result",
          "data": {
            "text/plain": [
              "array([4, 4, 4, 1, 2, 3, 4, 3, 4, 3, 3, 3, 3, 2, 3, 3, 2, 3, 2, 2, 4, 3,\n",
              "       3, 3, 3, 2, 3, 4, 2, 1, 4, 3, 4, 3, 2, 2, 2, 3, 3, 4, 4, 1, 5, 3,\n",
              "       4, 3, 3, 2, 4, 3, 2, 4, 2, 2, 3, 3, 2, 2, 3, 3, 3, 2, 3, 3, 3, 3,\n",
              "       3, 3, 3, 2, 4, 4, 4, 4, 2, 4, 3, 3, 2, 3, 2, 3, 1, 4, 3, 2, 2, 3,\n",
              "       3, 4, 4, 4, 2, 4, 3, 3, 3, 3, 2, 2, 1, 3, 5, 2, 3, 3, 3, 4, 1, 4,\n",
              "       3, 3, 2, 4, 2, 3, 1, 4, 4, 2, 4, 3, 3, 4, 2, 3, 3, 2, 4, 3, 3, 0,\n",
              "       3, 2, 3, 4, 4, 1, 3, 3, 3, 3, 4, 3, 2, 3, 2, 2, 3, 3, 2, 4, 3, 4,\n",
              "       4, 3, 3, 3, 4, 2, 5, 3, 3, 2, 3, 3, 1, 2, 4, 3, 3, 4, 4, 3, 3, 3,\n",
              "       2, 3, 2, 3, 2, 3, 3, 4, 2, 4, 3, 4, 2, 3, 4, 4, 4, 4, 2, 2, 3, 2,\n",
              "       4, 3, 4, 2, 2, 3, 2, 3, 4, 1, 1, 2, 4, 3, 3, 2, 2, 4, 3, 2, 3, 1,\n",
              "       3, 4, 1, 2, 4, 3, 4, 3, 3, 2, 5, 3, 3, 3, 2, 2, 2, 2, 2, 2, 4, 3,\n",
              "       4, 3, 2, 3, 4, 3, 3, 4, 3, 2, 2, 4, 5, 4, 3, 2, 3, 3, 2, 4, 2, 3,\n",
              "       1, 2, 4, 4, 2, 5, 3, 4, 4, 1, 3, 3, 3, 2, 3, 1, 4, 3, 3, 3, 3, 4,\n",
              "       3, 2, 4, 4, 2, 3, 3, 2, 4, 3, 3])"
            ]
          },
          "metadata": {},
          "execution_count": 94
        }
      ]
    },
    {
      "cell_type": "code",
      "source": [
        "import matplotlib.pyplot as plt\n",
        "X[:,1:]\n",
        "new_X = np.column_stack( (age_group.to_numpy(), X[:,1:]) )\n",
        "plt.boxplot(new_X)\n",
        "plt.show()"
      ],
      "metadata": {
        "colab": {
          "base_uri": "https://localhost:8080/",
          "height": 430
        },
        "id": "tOoKHEwO5Kpn",
        "outputId": "ffc1f805-81c1-4e8d-990f-a3776f9c3a50"
      },
      "execution_count": null,
      "outputs": [
        {
          "output_type": "display_data",
          "data": {
            "text/plain": [
              "<Figure size 640x480 with 1 Axes>"
            ],
            "image/png": "[encoded data removed]"
          },
          "metadata": {}
        }
      ]
    },
    {
      "cell_type": "code",
      "source": [
        "# 3 4 7 번을 제외하고 boxplot\n",
        "plt.boxplot(new_X[:,[0,1,2,5,6,8,9,10,11,12]])\n",
        "plt.show()"
      ],
      "metadata": {
        "colab": {
          "base_uri": "https://localhost:8080/",
          "height": 430
        },
        "id": "UX9TlcKZ-upY",
        "outputId": "779f2921-6aa5-42ae-c460-fb9c06c0ee3b"
      },
      "execution_count": null,
      "outputs": [
        {
          "output_type": "display_data",
          "data": {
            "text/plain": [
              "<Figure size 640x480 with 1 Axes>"
            ],
            "image/png": "[encoded data removed]"
          },
          "metadata": {}
        }
      ]
    },
    {
      "cell_type": "code",
      "source": [
        "new_X2_scaled.shape, new_y.shape"
      ],
      "metadata": {
        "colab": {
          "base_uri": "https://localhost:8080/",
          "height": 145
        },
        "id": "7VCuJ0Gv_oJO",
        "outputId": "f986aec7-7d7c-47b3-cf58-678a0c7bae58"
      },
      "execution_count": null,
      "outputs": [
        {
          "output_type": "error",
          "ename": "NameError",
          "evalue": "name 'new_X2_scaled' is not defined",
          "traceback": [
            "\u001b[0;31m---------------------------------------------------------------------------\u001b[0m",
            "\u001b[0;31mNameError\u001b[0m                                 Traceback (most recent call last)",
            "\u001b[0;32m<ipython-input-97-cce62f77021b>\u001b[0m in \u001b[0;36m<cell line: 1>\u001b[0;34m()\u001b[0m\n\u001b[0;32m----> 1\u001b[0;31m \u001b[0mnew_X2_scaled\u001b[0m\u001b[0;34m.\u001b[0m\u001b[0mshape\u001b[0m\u001b[0;34m,\u001b[0m \u001b[0mnew_y\u001b[0m\u001b[0;34m.\u001b[0m\u001b[0mshape\u001b[0m\u001b[0;34m\u001b[0m\u001b[0;34m\u001b[0m\u001b[0m\n\u001b[0m",
            "\u001b[0;31mNameError\u001b[0m: name 'new_X2_scaled' is not defined"
          ]
        }
      ]
    },
    {
      "cell_type": "code",
      "source": [
        "new_y[:10]"
      ],
      "metadata": {
        "id": "-q9_ncZ2EkmH"
      },
      "execution_count": null,
      "outputs": []
    },
    {
      "cell_type": "code",
      "source": [
        "# new_X2 = new_X[:,[0,1,2,5,6,8,9,10,11,12]]\n",
        "new_X2 = new_X\n",
        "\n",
        "ss=StandardScaler()\n",
        "new_X2_scaled = ss.fit_transform(new_X2,new_y)\n",
        "X_train, X_test, y_train, y_test = train_test_split(new_X2_scaled, new_y, stratify=new_y, random_state=0)\n",
        "\n",
        "n_input = X_train.shape[1]\n",
        "n_hidden = 15\n",
        "n_output = 1\n",
        "selectKBest_model = ANN_Binary(n_input,n_hidden,n_output)\n",
        "selectKBest_model.fit(X_train,y_train)\n",
        "selectKBest_model.score(X_test,y_test)"
      ],
      "metadata": {
        "id": "a9vW5EQmEoF0"
      },
      "execution_count": null,
      "outputs": []
    }
  ]
}