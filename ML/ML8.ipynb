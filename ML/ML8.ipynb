{
  "nbformat": 4,
  "nbformat_minor": 0,
  "metadata": {
    "colab": {
      "provenance": [],
      "gpuType": "T4"
    },
    "kernelspec": {
      "name": "python3",
      "display_name": "Python 3"
    },
    "language_info": {
      "name": "python"
    },
    "accelerator": "GPU"
  },
  "cells": [
    {
      "cell_type": "code",
      "execution_count": 1,
      "metadata": {
        "id": "dNc19RfhUUb4"
      },
      "outputs": [],
      "source": [
        "from sklearn.decomposition import PCA"
      ]
    },
    {
      "cell_type": "code",
      "source": [
        "pca = PCA(n_components = 50)      # 주성분의 개수는 50"
      ],
      "metadata": {
        "id": "7z-ffjmCUoQL"
      },
      "execution_count": 2,
      "outputs": []
    },
    {
      "cell_type": "code",
      "source": [
        "!wget https://bit.ly/fruits_300_data -O fruits_300.npy"
      ],
      "metadata": {
        "colab": {
          "base_uri": "https://localhost:8080/"
        },
        "id": "msT4inkXVMgE",
        "outputId": "4c38e019-79d9-47d9-8987-4211a0bfbf84"
      },
      "execution_count": 3,
      "outputs": [
        {
          "output_type": "stream",
          "name": "stdout",
          "text": [
            "--2024-05-01 09:11:12--  https://bit.ly/fruits_300_data\n",
            "Resolving bit.ly (bit.ly)... 67.199.248.10, 67.199.248.11\n",
            "Connecting to bit.ly (bit.ly)|67.199.248.10|:443... connected.\n",
            "HTTP request sent, awaiting response... 301 Moved Permanently\n",
            "Location: https://github.com/rickiepark/hg-mldl/raw/master/fruits_300.npy [following]\n",
            "--2024-05-01 09:11:12--  https://github.com/rickiepark/hg-mldl/raw/master/fruits_300.npy\n",
            "Resolving github.com (github.com)... 140.82.112.3\n",
            "Connecting to github.com (github.com)|140.82.112.3|:443... connected.\n",
            "HTTP request sent, awaiting response... 302 Found\n",
            "Location: https://raw.githubusercontent.com/rickiepark/hg-mldl/master/fruits_300.npy [following]\n",
            "--2024-05-01 09:11:13--  https://raw.githubusercontent.com/rickiepark/hg-mldl/master/fruits_300.npy\n",
            "Resolving raw.githubusercontent.com (raw.githubusercontent.com)... 185.199.108.133, 185.199.109.133, 185.199.110.133, ...\n",
            "Connecting to raw.githubusercontent.com (raw.githubusercontent.com)|185.199.108.133|:443... connected.\n",
            "HTTP request sent, awaiting response... 200 OK\n",
            "Length: 3000128 (2.9M) [application/octet-stream]\n",
            "Saving to: ‘fruits_300.npy’\n",
            "\n",
            "fruits_300.npy      100%[===================>]   2.86M  --.-KB/s    in 0.07s   \n",
            "\n",
            "2024-05-01 09:11:13 (43.4 MB/s) - ‘fruits_300.npy’ saved [3000128/3000128]\n",
            "\n"
          ]
        }
      ]
    },
    {
      "cell_type": "code",
      "source": [
        "import numpy as np\n",
        "fruits = np.load('/content/fruits_300.npy')\n",
        "fruits.shape"
      ],
      "metadata": {
        "colab": {
          "base_uri": "https://localhost:8080/"
        },
        "id": "Vn6jXpq6VNhE",
        "outputId": "448f7478-4b22-4639-edcb-0fba8bb502a1"
      },
      "execution_count": 4,
      "outputs": [
        {
          "output_type": "execute_result",
          "data": {
            "text/plain": [
              "(300, 100, 100)"
            ]
          },
          "metadata": {},
          "execution_count": 4
        }
      ]
    },
    {
      "cell_type": "code",
      "source": [
        "fruits_2d = fruits.reshape(-1, 100*100)\n",
        "fruits_2d.shape"
      ],
      "metadata": {
        "colab": {
          "base_uri": "https://localhost:8080/"
        },
        "id": "AJmjvbwNVef2",
        "outputId": "b2b61f8e-e97f-48ed-ef9d-73913c0b9118"
      },
      "execution_count": 5,
      "outputs": [
        {
          "output_type": "execute_result",
          "data": {
            "text/plain": [
              "(300, 10000)"
            ]
          },
          "metadata": {},
          "execution_count": 5
        }
      ]
    },
    {
      "cell_type": "code",
      "source": [],
      "metadata": {
        "id": "mi64uvWWar8G"
      },
      "execution_count": 5,
      "outputs": []
    },
    {
      "cell_type": "code",
      "source": [
        "fruits_2d_pca = pca.fit_transform(fruits_2d)\n",
        "fruits_2d_pca.shape"
      ],
      "metadata": {
        "colab": {
          "base_uri": "https://localhost:8080/"
        },
        "id": "HG4OGfhUVtO8",
        "outputId": "ec86579f-b6fc-462f-d1fb-73ef298eae16"
      },
      "execution_count": 6,
      "outputs": [
        {
          "output_type": "execute_result",
          "data": {
            "text/plain": [
              "(300, 50)"
            ]
          },
          "metadata": {},
          "execution_count": 6
        }
      ]
    },
    {
      "cell_type": "code",
      "source": [
        "pca.components_.shape     # 주성분을 추출해서 다시 시각화 -> 재구성 가능"
      ],
      "metadata": {
        "colab": {
          "base_uri": "https://localhost:8080/"
        },
        "id": "J1CVJ36fWOoP",
        "outputId": "012b2580-a038-404e-c4b1-991eb7a9987d"
      },
      "execution_count": 7,
      "outputs": [
        {
          "output_type": "execute_result",
          "data": {
            "text/plain": [
              "(50, 10000)"
            ]
          },
          "metadata": {},
          "execution_count": 7
        }
      ]
    },
    {
      "cell_type": "code",
      "source": [
        "# PCA는 시각화할 떄 도움이 됨"
      ],
      "metadata": {
        "id": "gmRUDvJjW1hU"
      },
      "execution_count": 8,
      "outputs": []
    },
    {
      "cell_type": "markdown",
      "source": [
        "비지도 과일 데이터\n",
        "   - 정답 라벨을 부여해서 지도 학습으로 변경\n",
        "   - 차수변경 없이 동일한 분류 모델로 교차 검증을 PCA와 비교해서\n",
        "   - 성능과 시간을 측정"
      ],
      "metadata": {
        "id": "1VqYgoNRX1_1"
      }
    },
    {
      "cell_type": "code",
      "source": [
        "target = [0]*100 + [1]*100 + [2]*100"
      ],
      "metadata": {
        "id": "rTmK577NYG2Q"
      },
      "execution_count": 9,
      "outputs": []
    },
    {
      "cell_type": "code",
      "source": [
        "from sklearn.model_selection import train_test_split\n",
        "X_train, X_test, y_train, y_test = train_test_split(fruits_2d, target, stratify=target, random_state=42)"
      ],
      "metadata": {
        "id": "Hz-dNC5hYi5L"
      },
      "execution_count": 10,
      "outputs": []
    },
    {
      "cell_type": "code",
      "source": [
        "from sklearn.ensemble import RandomForestClassifier\n",
        "from sklearn.model_selection import cross_validate, StratifiedKFold\n",
        "\n",
        "skf = StratifiedKFold(n_splits=10, shuffle=True, random_state=42)\n",
        "rfc = RandomForestClassifier()\n",
        "\n",
        "score = cross_validate(rfc, fruits_2d, target, return_train_score=True)\n",
        "score_pca = cross_validate(rfc, fruits_2d_pca, target, return_train_score=True)"
      ],
      "metadata": {
        "id": "3fZ9bW6LZHsx"
      },
      "execution_count": 11,
      "outputs": []
    },
    {
      "cell_type": "code",
      "source": [
        "score['fit_time'].mean(), score['score_time'].mean(),score['train_score'].mean(),score['test_score'].mean()"
      ],
      "metadata": {
        "colab": {
          "base_uri": "https://localhost:8080/"
        },
        "id": "NjRw0XaPaB_Y",
        "outputId": "6c32dff8-45ff-4985-ad96-352159f83a5e"
      },
      "execution_count": 12,
      "outputs": [
        {
          "output_type": "execute_result",
          "data": {
            "text/plain": [
              "(0.44844231605529783, 0.0078460693359375, 1.0, 0.9966666666666667)"
            ]
          },
          "metadata": {},
          "execution_count": 12
        }
      ]
    },
    {
      "cell_type": "code",
      "source": [
        "score_pca['fit_time'].mean(), score_pca['score_time'].mean(),score_pca['train_score'].mean(),score_pca['test_score'].mean()"
      ],
      "metadata": {
        "colab": {
          "base_uri": "https://localhost:8080/"
        },
        "id": "Ow-ZpEjKa7y3",
        "outputId": "856b77e6-8e7e-442d-a4da-5fa658e773b9"
      },
      "execution_count": 13,
      "outputs": [
        {
          "output_type": "execute_result",
          "data": {
            "text/plain": [
              "(0.25305767059326173, 0.007857513427734376, 1.0, 0.9966666666666667)"
            ]
          },
          "metadata": {},
          "execution_count": 13
        }
      ]
    },
    {
      "cell_type": "markdown",
      "source": [
        "시각화\n",
        " - pca component 수를 2개로 압축"
      ],
      "metadata": {
        "id": "JQEDgP2UgQnb"
      }
    },
    {
      "cell_type": "code",
      "source": [
        "pca = PCA(n_components=2)\n",
        "fruits_2d_pca_2dim = pca.fit_transform(fruits_2d)\n",
        "fruits_2d_pca_2dim.shape    # (300,2)"
      ],
      "metadata": {
        "colab": {
          "base_uri": "https://localhost:8080/"
        },
        "id": "WfWOJUCPawkR",
        "outputId": "d8e25bbc-356b-4d0c-a879-e0870de65590"
      },
      "execution_count": 14,
      "outputs": [
        {
          "output_type": "execute_result",
          "data": {
            "text/plain": [
              "(300, 2)"
            ]
          },
          "metadata": {},
          "execution_count": 14
        }
      ]
    },
    {
      "cell_type": "code",
      "source": [
        "import matplotlib.pyplot as plt"
      ],
      "metadata": {
        "id": "kvJFpCfjgzqY"
      },
      "execution_count": 15,
      "outputs": []
    },
    {
      "cell_type": "code",
      "source": [
        "plt.scatter(fruits_2d_pca_2dim[:,0], fruits_2d_pca_2dim[:,1], c=target)\n",
        "plt.show()"
      ],
      "metadata": {
        "colab": {
          "base_uri": "https://localhost:8080/",
          "height": 430
        },
        "id": "jtkDNguGhSaL",
        "outputId": "92846422-6e73-4065-d4b9-05cbc5157f5e"
      },
      "execution_count": 16,
      "outputs": [
        {
          "output_type": "display_data",
          "data": {
            "text/plain": [
              "<Figure size 640x480 with 1 Axes>"
            ],
            "image/png": "[encoded data removed]"
          },
          "metadata": {}
        }
      ]
    },
    {
      "cell_type": "code",
      "source": [
        "# 군집 분류\n",
        "from sklearn.cluster import KMeans\n",
        "km = KMeans(n_clusters=3, n_init=10)\n",
        "km.fit(fruits_2d_pca_2dim)"
      ],
      "metadata": {
        "colab": {
          "base_uri": "https://localhost:8080/",
          "height": 74
        },
        "id": "VZoS34b0hjzM",
        "outputId": "34433920-1fcb-4ea5-a382-d5ae45ce74bc"
      },
      "execution_count": 17,
      "outputs": [
        {
          "output_type": "execute_result",
          "data": {
            "text/plain": [
              "KMeans(n_clusters=3, n_init=10)"
            ],
            "text/html": [
              "<style>#sk-container-id-1 {color: black;background-color: white;}#sk-container-id-1 pre{padding: 0;}#sk-container-id-1 div.sk-toggleable {background-color: white;}#sk-container-id-1 label.sk-toggleable__label {cursor: pointer;display: block;width: 100%;margin-bottom: 0;padding: 0.3em;box-sizing: border-box;text-align: center;}#sk-container-id-1 label.sk-toggleable__label-arrow:before {content: \"▸\";float: left;margin-right: 0.25em;color: #696969;}#sk-container-id-1 label.sk-toggleable__label-arrow:hover:before {color: black;}#sk-container-id-1 div.sk-estimator:hover label.sk-toggleable__label-arrow:before {color: black;}#sk-container-id-1 div.sk-toggleable__content {max-height: 0;max-width: 0;overflow: hidden;text-align: left;background-color: #f0f8ff;}#sk-container-id-1 div.sk-toggleable__content pre {margin: 0.2em;color: black;border-radius: 0.25em;background-color: #f0f8ff;}#sk-container-id-1 input.sk-toggleable__control:checked~div.sk-toggleable__content {max-height: 200px;max-width: 100%;overflow: auto;}#sk-container-id-1 input.sk-toggleable__control:checked~label.sk-toggleable__label-arrow:before {content: \"▾\";}#sk-container-id-1 div.sk-estimator input.sk-toggleable__control:checked~label.sk-toggleable__label {background-color: #d4ebff;}#sk-container-id-1 div.sk-label input.sk-toggleable__control:checked~label.sk-toggleable__label {background-color: #d4ebff;}#sk-container-id-1 input.sk-hidden--visually {border: 0;clip: rect(1px 1px 1px 1px);clip: rect(1px, 1px, 1px, 1px);height: 1px;margin: -1px;overflow: hidden;padding: 0;position: absolute;width: 1px;}#sk-container-id-1 div.sk-estimator {font-family: monospace;background-color: #f0f8ff;border: 1px dotted black;border-radius: 0.25em;box-sizing: border-box;margin-bottom: 0.5em;}#sk-container-id-1 div.sk-estimator:hover {background-color: #d4ebff;}#sk-container-id-1 div.sk-parallel-item::after {content: \"\";width: 100%;border-bottom: 1px solid gray;flex-grow: 1;}#sk-container-id-1 div.sk-label:hover label.sk-toggleable__label {background-color: #d4ebff;}#sk-container-id-1 div.sk-serial::before {content: \"\";position: absolute;border-left: 1px solid gray;box-sizing: border-box;top: 0;bottom: 0;left: 50%;z-index: 0;}#sk-container-id-1 div.sk-serial {display: flex;flex-direction: column;align-items: center;background-color: white;padding-right: 0.2em;padding-left: 0.2em;position: relative;}#sk-container-id-1 div.sk-item {position: relative;z-index: 1;}#sk-container-id-1 div.sk-parallel {display: flex;align-items: stretch;justify-content: center;background-color: white;position: relative;}#sk-container-id-1 div.sk-item::before, #sk-container-id-1 div.sk-parallel-item::before {content: \"\";position: absolute;border-left: 1px solid gray;box-sizing: border-box;top: 0;bottom: 0;left: 50%;z-index: -1;}#sk-container-id-1 div.sk-parallel-item {display: flex;flex-direction: column;z-index: 1;position: relative;background-color: white;}#sk-container-id-1 div.sk-parallel-item:first-child::after {align-self: flex-end;width: 50%;}#sk-container-id-1 div.sk-parallel-item:last-child::after {align-self: flex-start;width: 50%;}#sk-container-id-1 div.sk-parallel-item:only-child::after {width: 0;}#sk-container-id-1 div.sk-dashed-wrapped {border: 1px dashed gray;margin: 0 0.4em 0.5em 0.4em;box-sizing: border-box;padding-bottom: 0.4em;background-color: white;}#sk-container-id-1 div.sk-label label {font-family: monospace;font-weight: bold;display: inline-block;line-height: 1.2em;}#sk-container-id-1 div.sk-label-container {text-align: center;}#sk-container-id-1 div.sk-container {/* jupyter's `normalize.less` sets `[hidden] { display: none; }` but bootstrap.min.css set `[hidden] { display: none !important; }` so we also need the `!important` here to be able to override the default hidden behavior on the sphinx rendered scikit-learn.org. See: https://github.com/scikit-learn/scikit-learn/issues/21755 */display: inline-block !important;position: relative;}#sk-container-id-1 div.sk-text-repr-fallback {display: none;}</style><div id=\"sk-container-id-1\" class=\"sk-top-container\"><div class=\"sk-text-repr-fallback\"><pre>KMeans(n_clusters=3, n_init=10)</pre><b>In a Jupyter environment, please rerun this cell to show the HTML representation or trust the notebook. <br />On GitHub, the HTML representation is unable to render, please try loading this page with nbviewer.org.</b></div><div class=\"sk-container\" hidden><div class=\"sk-item\"><div class=\"sk-estimator sk-toggleable\"><input class=\"sk-toggleable__control sk-hidden--visually\" id=\"sk-estimator-id-1\" type=\"checkbox\" checked><label for=\"sk-estimator-id-1\" class=\"sk-toggleable__label sk-toggleable__label-arrow\">KMeans</label><div class=\"sk-toggleable__content\"><pre>KMeans(n_clusters=3, n_init=10)</pre></div></div></div></div></div>"
            ]
          },
          "metadata": {},
          "execution_count": 17
        }
      ]
    },
    {
      "cell_type": "code",
      "source": [
        "import numpy as np\n",
        "np.unique(km.labels_, return_counts=True)"
      ],
      "metadata": {
        "colab": {
          "base_uri": "https://localhost:8080/"
        },
        "id": "08vtl07xitNd",
        "outputId": "43aa307e-138f-4c0d-b399-f8ddaeef0903"
      },
      "execution_count": 18,
      "outputs": [
        {
          "output_type": "execute_result",
          "data": {
            "text/plain": [
              "(array([0, 1, 2], dtype=int32), array([110,  99,  91]))"
            ]
          },
          "metadata": {},
          "execution_count": 18
        }
      ]
    },
    {
      "cell_type": "code",
      "source": [
        "km=KMeans(n_clusters=3,n_init=10)\n",
        "km.fit(fruits_2d)\n",
        "np.unique(km.labels_,return_counts=True)"
      ],
      "metadata": {
        "colab": {
          "base_uri": "https://localhost:8080/"
        },
        "id": "JWSY88QOjoWC",
        "outputId": "0de94cd6-9fff-4822-b48a-3d748cc60d39"
      },
      "execution_count": 19,
      "outputs": [
        {
          "output_type": "execute_result",
          "data": {
            "text/plain": [
              "(array([0, 1, 2], dtype=int32), array([ 91,  98, 111]))"
            ]
          },
          "metadata": {},
          "execution_count": 19
        }
      ]
    },
    {
      "cell_type": "code",
      "source": [
        "import tensorflow as tf\n",
        "\n",
        "# Keras를 TensorFlow에서 가져옴\n",
        "from tensorflow import keras\n",
        "\n",
        "\n",
        "# 기존의 이미지(저해상도)를 수치화함\n",
        "(X_train, y_train),(X_test, y_test) = keras.datasets.fashion_mnist.load_data()\n",
        "print(X_train, y_train)\n",
        "print(X_test, y_test)"
      ],
      "metadata": {
        "id": "t3KZ3lxAj-Gf",
        "colab": {
          "base_uri": "https://localhost:8080/"
        },
        "outputId": "8f6db864-f8b7-462f-f4bb-513bd57de065"
      },
      "execution_count": 20,
      "outputs": [
        {
          "output_type": "stream",
          "name": "stdout",
          "text": [
            "Downloading data from https://storage.googleapis.com/tensorflow/tf-keras-datasets/train-labels-idx1-ubyte.gz\n",
            "29515/29515 [==============================] - 0s 0us/step\n",
            "Downloading data from https://storage.googleapis.com/tensorflow/tf-keras-datasets/train-images-idx3-ubyte.gz\n",
            "26421880/26421880 [==============================] - 0s 0us/step\n",
            "Downloading data from https://storage.googleapis.com/tensorflow/tf-keras-datasets/t10k-labels-idx1-ubyte.gz\n",
            "5148/5148 [==============================] - 0s 0us/step\n",
            "Downloading data from https://storage.googleapis.com/tensorflow/tf-keras-datasets/t10k-images-idx3-ubyte.gz\n",
            "4422102/4422102 [==============================] - 0s 0us/step\n",
            "[[[0 0 0 ... 0 0 0]\n",
            "  [0 0 0 ... 0 0 0]\n",
            "  [0 0 0 ... 0 0 0]\n",
            "  ...\n",
            "  [0 0 0 ... 0 0 0]\n",
            "  [0 0 0 ... 0 0 0]\n",
            "  [0 0 0 ... 0 0 0]]\n",
            "\n",
            " [[0 0 0 ... 0 0 0]\n",
            "  [0 0 0 ... 0 0 0]\n",
            "  [0 0 0 ... 0 0 0]\n",
            "  ...\n",
            "  [0 0 0 ... 0 0 0]\n",
            "  [0 0 0 ... 0 0 0]\n",
            "  [0 0 0 ... 0 0 0]]\n",
            "\n",
            " [[0 0 0 ... 0 0 0]\n",
            "  [0 0 0 ... 0 0 0]\n",
            "  [0 0 0 ... 0 0 0]\n",
            "  ...\n",
            "  [0 0 0 ... 0 0 0]\n",
            "  [0 0 0 ... 0 0 0]\n",
            "  [0 0 0 ... 0 0 0]]\n",
            "\n",
            " ...\n",
            "\n",
            " [[0 0 0 ... 0 0 0]\n",
            "  [0 0 0 ... 0 0 0]\n",
            "  [0 0 0 ... 0 0 0]\n",
            "  ...\n",
            "  [0 0 0 ... 0 0 0]\n",
            "  [0 0 0 ... 0 0 0]\n",
            "  [0 0 0 ... 0 0 0]]\n",
            "\n",
            " [[0 0 0 ... 0 0 0]\n",
            "  [0 0 0 ... 0 0 0]\n",
            "  [0 0 0 ... 0 0 0]\n",
            "  ...\n",
            "  [0 0 0 ... 0 0 0]\n",
            "  [0 0 0 ... 0 0 0]\n",
            "  [0 0 0 ... 0 0 0]]\n",
            "\n",
            " [[0 0 0 ... 0 0 0]\n",
            "  [0 0 0 ... 0 0 0]\n",
            "  [0 0 0 ... 0 0 0]\n",
            "  ...\n",
            "  [0 0 0 ... 0 0 0]\n",
            "  [0 0 0 ... 0 0 0]\n",
            "  [0 0 0 ... 0 0 0]]] [9 0 0 ... 3 0 5]\n",
            "[[[0 0 0 ... 0 0 0]\n",
            "  [0 0 0 ... 0 0 0]\n",
            "  [0 0 0 ... 0 0 0]\n",
            "  ...\n",
            "  [0 0 0 ... 0 0 0]\n",
            "  [0 0 0 ... 0 0 0]\n",
            "  [0 0 0 ... 0 0 0]]\n",
            "\n",
            " [[0 0 0 ... 0 0 0]\n",
            "  [0 0 0 ... 0 0 0]\n",
            "  [0 0 0 ... 0 0 0]\n",
            "  ...\n",
            "  [0 0 0 ... 0 0 0]\n",
            "  [0 0 0 ... 0 0 0]\n",
            "  [0 0 0 ... 0 0 0]]\n",
            "\n",
            " [[0 0 0 ... 0 0 0]\n",
            "  [0 0 0 ... 0 0 0]\n",
            "  [0 0 0 ... 0 0 0]\n",
            "  ...\n",
            "  [0 0 0 ... 0 0 0]\n",
            "  [0 0 0 ... 0 0 0]\n",
            "  [0 0 0 ... 0 0 0]]\n",
            "\n",
            " ...\n",
            "\n",
            " [[0 0 0 ... 0 0 0]\n",
            "  [0 0 0 ... 0 0 0]\n",
            "  [0 0 0 ... 0 0 0]\n",
            "  ...\n",
            "  [0 0 0 ... 0 0 0]\n",
            "  [0 0 0 ... 0 0 0]\n",
            "  [0 0 0 ... 0 0 0]]\n",
            "\n",
            " [[0 0 0 ... 0 0 0]\n",
            "  [0 0 0 ... 0 0 0]\n",
            "  [0 0 0 ... 0 0 0]\n",
            "  ...\n",
            "  [0 0 0 ... 0 0 0]\n",
            "  [0 0 0 ... 0 0 0]\n",
            "  [0 0 0 ... 0 0 0]]\n",
            "\n",
            " [[0 0 0 ... 0 0 0]\n",
            "  [0 0 0 ... 0 0 0]\n",
            "  [0 0 0 ... 0 0 0]\n",
            "  ...\n",
            "  [0 0 0 ... 0 0 0]\n",
            "  [0 0 0 ... 0 0 0]\n",
            "  [0 0 0 ... 0 0 0]]] [9 2 1 ... 8 1 5]\n"
          ]
        }
      ]
    },
    {
      "cell_type": "code",
      "source": [
        "X_train.shape, X_test.shape"
      ],
      "metadata": {
        "colab": {
          "base_uri": "https://localhost:8080/"
        },
        "id": "sbRh1cbQpDEB",
        "outputId": "ce480dee-97e2-491d-83e2-0966be428a8c"
      },
      "execution_count": 21,
      "outputs": [
        {
          "output_type": "execute_result",
          "data": {
            "text/plain": [
              "((60000, 28, 28), (10000, 28, 28))"
            ]
          },
          "metadata": {},
          "execution_count": 21
        }
      ]
    },
    {
      "cell_type": "code",
      "source": [
        "# 스케일링 필수\n",
        "X_train_scaled = (X_train / 255.0).reshape(-1,28*28)\n",
        "X_test_scaled = (X_test / 255.0).reshape(-1,28*28)\n",
        "X_train_scaled.shape, X_test_scaled.shape"
      ],
      "metadata": {
        "colab": {
          "base_uri": "https://localhost:8080/"
        },
        "id": "uLJsIKUWmcqt",
        "outputId": "d0972a5d-4094-4ab5-f493-b86ef7e98c8a"
      },
      "execution_count": 22,
      "outputs": [
        {
          "output_type": "execute_result",
          "data": {
            "text/plain": [
              "((60000, 784), (10000, 784))"
            ]
          },
          "metadata": {},
          "execution_count": 22
        }
      ]
    },
    {
      "cell_type": "code",
      "source": [
        "from sklearn.linear_model import SGDClassifier\n",
        "# SGDClassifier 로지스틱 함수(시그모이드)를 사용하는 이진분류에 특화된 모델\n",
        "# 'one-vs-rest(OvR)전략을 사용한다.--다중 분류에도 사용할 수 있음. 손실함수는 log함수를 사용\n",
        "sgdc = SGDClassifier(loss = 'log_loss')\n",
        "scores = cross_validate(sgdc, X_train_scaled, y_train, return_train_score=True)\n",
        "scores['train_score'].mean(),scores['test_score'].mean()"
      ],
      "metadata": {
        "colab": {
          "base_uri": "https://localhost:8080/"
        },
        "id": "zvzgWlJTprHP",
        "outputId": "b98b337d-460d-4e42-e281-9daa820f4936"
      },
      "execution_count": 23,
      "outputs": [
        {
          "output_type": "execute_result",
          "data": {
            "text/plain": [
              "(0.8616250000000001, 0.8457666666666667)"
            ]
          },
          "metadata": {},
          "execution_count": 23
        }
      ]
    },
    {
      "cell_type": "markdown",
      "source": [
        "인공신경망 만들기\n",
        "- 층 정의\n",
        "- 층들을 Sequential에 넣어서 연결한다. -> 모델"
      ],
      "metadata": {
        "id": "axQhXHiZySGp"
      }
    },
    {
      "cell_type": "code",
      "source": [
        "from sklearn.model_selection import train_test_split\n",
        "XX_train, XX_val, yy_train, yy_val = train_test_split(X_train_scaled,y_train,stratify=y_train,random_state=42)"
      ],
      "metadata": {
        "id": "VnfpY7pOqya-"
      },
      "execution_count": null,
      "outputs": []
    },
    {
      "cell_type": "code",
      "source": [
        "XX_train.shape"
      ],
      "metadata": {
        "colab": {
          "base_uri": "https://localhost:8080/"
        },
        "id": "-ieUBndbzVeZ",
        "outputId": "9f4883d8-bce4-47b7-f784-0255abf45137"
      },
      "execution_count": null,
      "outputs": [
        {
          "output_type": "execute_result",
          "data": {
            "text/plain": [
              "(45000, 784)"
            ]
          },
          "metadata": {},
          "execution_count": 25
        }
      ]
    },
    {
      "cell_type": "code",
      "source": [
        "dense = keras.layers.Dense(10, activation='softmax', input_shape = (XX_train.shape[1], ))       #(784,)\n",
        "model = keras.Sequential(dense)"
      ],
      "metadata": {
        "id": "BHJFs0evzZQ0"
      },
      "execution_count": null,
      "outputs": []
    },
    {
      "cell_type": "code",
      "source": [
        "model.summary()     # 784+1 -> class 1개를 예측 784*10 + 1*10 -> 7850"
      ],
      "metadata": {
        "colab": {
          "base_uri": "https://localhost:8080/"
        },
        "id": "UVOJxd9V0SVu",
        "outputId": "6ad5cad3-3713-4557-cf19-ac18e3df1a6e"
      },
      "execution_count": null,
      "outputs": [
        {
          "output_type": "stream",
          "name": "stdout",
          "text": [
            "Model: \"sequential\"\n",
            "_________________________________________________________________\n",
            " Layer (type)                Output Shape              Param #   \n",
            "=================================================================\n",
            " dense_1 (Dense)             (None, 10)                7850      \n",
            "                                                                 \n",
            "=================================================================\n",
            "Total params: 7850 (30.66 KB)\n",
            "Trainable params: 7850 (30.66 KB)\n",
            "Non-trainable params: 0 (0.00 Byte)\n",
            "_________________________________________________________________\n"
          ]
        }
      ]
    },
    {
      "cell_type": "code",
      "source": [
        "# 이진분류 binary_crossentropy\n",
        "# 다중분류 categorical_crossentropy --> 레이블이 one hot으로 처리되었을 떄\n",
        "# 다중분류 sparse_categorical_crossentropy --> 레이블이 one hot으로 처리되지 않았을 떄\n",
        "model.compile(loss = 'sparse_categorical_crossentropy',metrics='acc')     # acc->accuracy"
      ],
      "metadata": {
        "id": "P4KvN1cr0nei"
      },
      "execution_count": null,
      "outputs": []
    },
    {
      "cell_type": "code",
      "source": [
        "model.fit(XX_train,yy_train,epochs=10, validation_data=(XX_val,yy_val))"
      ],
      "metadata": {
        "colab": {
          "base_uri": "https://localhost:8080/"
        },
        "id": "Wt4o1KPk1loG",
        "outputId": "171b9d95-7563-46b8-d71d-f7ef92756593"
      },
      "execution_count": null,
      "outputs": [
        {
          "output_type": "stream",
          "name": "stdout",
          "text": [
            "Epoch 1/10\n",
            "1407/1407 [==============================] - 7s 5ms/step - loss: 0.4834 - acc: 0.8356 - val_loss: 0.4503 - val_acc: 0.8469\n",
            "Epoch 2/10\n",
            "1407/1407 [==============================] - 5s 4ms/step - loss: 0.4575 - acc: 0.8456 - val_loss: 0.4609 - val_acc: 0.8412\n",
            "Epoch 3/10\n",
            "1407/1407 [==============================] - 6s 4ms/step - loss: 0.4444 - acc: 0.8496 - val_loss: 0.4225 - val_acc: 0.8584\n",
            "Epoch 4/10\n",
            "1407/1407 [==============================] - 4s 3ms/step - loss: 0.4363 - acc: 0.8514 - val_loss: 0.4486 - val_acc: 0.8495\n",
            "Epoch 5/10\n",
            "1407/1407 [==============================] - 4s 3ms/step - loss: 0.4295 - acc: 0.8546 - val_loss: 0.4262 - val_acc: 0.8543\n",
            "Epoch 6/10\n",
            "1407/1407 [==============================] - 6s 4ms/step - loss: 0.4252 - acc: 0.8558 - val_loss: 0.4555 - val_acc: 0.8465\n",
            "Epoch 7/10\n",
            "1407/1407 [==============================] - 4s 3ms/step - loss: 0.4206 - acc: 0.8595 - val_loss: 0.4172 - val_acc: 0.8616\n",
            "Epoch 8/10\n",
            "1407/1407 [==============================] - 4s 3ms/step - loss: 0.4184 - acc: 0.8590 - val_loss: 0.4287 - val_acc: 0.8561\n",
            "Epoch 9/10\n",
            "1407/1407 [==============================] - 5s 3ms/step - loss: 0.4155 - acc: 0.8596 - val_loss: 0.4162 - val_acc: 0.8603\n",
            "Epoch 10/10\n",
            "1407/1407 [==============================] - 4s 3ms/step - loss: 0.4134 - acc: 0.8606 - val_loss: 0.4162 - val_acc: 0.8619\n"
          ]
        },
        {
          "output_type": "execute_result",
          "data": {
            "text/plain": [
              "<keras.src.callbacks.History at 0x784529ff4430>"
            ]
          },
          "metadata": {},
          "execution_count": 33
        }
      ]
    },
    {
      "cell_type": "code",
      "source": [
        "# fit()은 누적학습이므로 모델을 다시 만들고 실행시켜야함"
      ],
      "metadata": {
        "id": "vaKYIcj93PK3"
      },
      "execution_count": null,
      "outputs": []
    },
    {
      "cell_type": "code",
      "source": [
        "model.evaluate(X_test_scaled, y_test)"
      ],
      "metadata": {
        "colab": {
          "base_uri": "https://localhost:8080/"
        },
        "id": "82b7of7g36Qt",
        "outputId": "c80c755f-dbaf-4a9e-e9a0-343370bba725"
      },
      "execution_count": null,
      "outputs": [
        {
          "output_type": "stream",
          "name": "stdout",
          "text": [
            "313/313 [==============================] - 1s 3ms/step - loss: 0.4647 - acc: 0.8454\n"
          ]
        },
        {
          "output_type": "execute_result",
          "data": {
            "text/plain": [
              "[0.46469154953956604, 0.8453999757766724]"
            ]
          },
          "metadata": {},
          "execution_count": 36
        }
      ]
    },
    {
      "cell_type": "code",
      "source": [
        "X_test_scaled[10:15], y_test[10:15]"
      ],
      "metadata": {
        "colab": {
          "base_uri": "https://localhost:8080/"
        },
        "id": "j8GIMWqx4ClN",
        "outputId": "c02887f7-3888-4289-bdaa-6a630288afe6"
      },
      "execution_count": null,
      "outputs": [
        {
          "output_type": "execute_result",
          "data": {
            "text/plain": [
              "(array([[0., 0., 0., ..., 0., 0., 0.],\n",
              "        [0., 0., 0., ..., 0., 0., 0.],\n",
              "        [0., 0., 0., ..., 0., 0., 0.],\n",
              "        [0., 0., 0., ..., 0., 0., 0.],\n",
              "        [0., 0., 0., ..., 0., 0., 0.]]),\n",
              " array([4, 5, 7, 3, 4], dtype=uint8))"
            ]
          },
          "metadata": {},
          "execution_count": 37
        }
      ]
    },
    {
      "cell_type": "code",
      "source": [
        "import numpy as np\n",
        "\n",
        "predict = model.predict(X_test_scaled[10:15])\n",
        "[data[-1] for data in np.argsort(predict)]"
      ],
      "metadata": {
        "colab": {
          "base_uri": "https://localhost:8080/"
        },
        "id": "NQ0eccAkJFdY",
        "outputId": "e03bef40-6472-4ce6-b7cf-2c4520fb00d6"
      },
      "execution_count": null,
      "outputs": [
        {
          "output_type": "stream",
          "name": "stdout",
          "text": [
            "1/1 [==============================] - 0s 75ms/step\n"
          ]
        },
        {
          "output_type": "execute_result",
          "data": {
            "text/plain": [
              "[4, 5, 5, 3, 4]"
            ]
          },
          "metadata": {},
          "execution_count": 38
        }
      ]
    },
    {
      "cell_type": "markdown",
      "source": [
        "인공신경망 - 단일 신경망(퍼셉트론)\n",
        "  - Dense 층을 구성, 입력 데이터 모양, 활성화 함수, 출력 뉴런의 개수\n",
        "    - keras, layers, Dense,(10,activation='softmax', input_shape(384,)\n",
        "  - sequence로 층을 연결\n",
        "    - model = keras.Sequencial(dense)\n",
        "  - 모델이 나오면 compile\n",
        "  compile : 손실함수, 평가방법\n",
        "    - model.compile(loss=' ', metrics='acc')\n",
        "  - 학습 : fit, 에포크수\n",
        "    - model.fit(x,y,epochs=50, validation_data=(XX_val,yy_val)"
      ],
      "metadata": {
        "id": "wcKaJXFIKGbW"
      }
    },
    {
      "cell_type": "code",
      "source": [
        "# 붓꽃\n",
        "from sklearn.datasets import load_iris\n",
        "data = load_iris()\n",
        "X = data.data; y = data.target\n",
        "np.unique(y, return_counts=True)"
      ],
      "metadata": {
        "colab": {
          "base_uri": "https://localhost:8080/"
        },
        "id": "GCGToKpCJgmv",
        "outputId": "76df32ac-fa90-4021-e09c-72442d2a2cd5"
      },
      "execution_count": null,
      "outputs": [
        {
          "output_type": "execute_result",
          "data": {
            "text/plain": [
              "(array([0, 1, 2]), array([50, 50, 50]))"
            ]
          },
          "metadata": {},
          "execution_count": 39
        }
      ]
    },
    {
      "cell_type": "code",
      "source": [
        "from sklearn.decomposition import PCA\n",
        "import matplotlib.pyplot as plt\n",
        "\n",
        "pca = PCA(n_components=2)\n",
        "X_pca = pca.fit_transform(X)\n",
        "plt.scatter(X_pca[:,0],X_pca[:,1],c=y)\n",
        "plt.show()"
      ],
      "metadata": {
        "colab": {
          "base_uri": "https://localhost:8080/",
          "height": 435
        },
        "id": "jctNyfR6PZt7",
        "outputId": "2d7d9c91-29c4-4d8c-b412-0d364ea8a9cc"
      },
      "execution_count": null,
      "outputs": [
        {
          "output_type": "display_data",
          "data": {
            "text/plain": [
              "<Figure size 640x480 with 1 Axes>"
            ],
            "image/png": "[encoded data removed]"
          },
          "metadata": {}
        }
      ]
    },
    {
      "cell_type": "code",
      "source": [
        "from tensorflow.keras.layers import Dense\n",
        "from tensorflow.keras import Sequential\n",
        "from tensorflow import keras"
      ],
      "metadata": {
        "id": "3v3A5-fEQVrH"
      },
      "execution_count": null,
      "outputs": []
    },
    {
      "cell_type": "code",
      "source": [
        "X.shape"
      ],
      "metadata": {
        "colab": {
          "base_uri": "https://localhost:8080/"
        },
        "id": "E9bkSDO_WZVg",
        "outputId": "cfbabc59-a022-4c00-84e9-eb4ad65d3ef5"
      },
      "execution_count": null,
      "outputs": [
        {
          "output_type": "execute_result",
          "data": {
            "text/plain": [
              "(150, 4)"
            ]
          },
          "metadata": {},
          "execution_count": 44
        }
      ]
    },
    {
      "cell_type": "code",
      "source": [
        "X_train, X_test, y_train, y_test =  train_test_split(X,y,stratify=y, random_state=42)"
      ],
      "metadata": {
        "id": "uO8476yQRFg8"
      },
      "execution_count": null,
      "outputs": []
    },
    {
      "cell_type": "code",
      "source": [
        "dense = Dense(3,activation='softmax',input_shape=(4, ))\n",
        "model = Sequential([dense])\n",
        "model.compile(loss = keras.losses.sparse_categorical_crossentropy, metrics='accuracy')\n",
        "model.fit(X_train,y_train,validation_split=0.2,epochs=100)"
      ],
      "metadata": {
        "colab": {
          "base_uri": "https://localhost:8080/"
        },
        "id": "fuqsOJuLTDSF",
        "outputId": "0de0fefe-a8a1-486d-9949-c28ff029f4f1"
      },
      "execution_count": null,
      "outputs": [
        {
          "output_type": "stream",
          "name": "stdout",
          "text": [
            "Epoch 1/100\n",
            "3/3 [==============================] - 1s 131ms/step - loss: 1.5233 - accuracy: 0.1910 - val_loss: 1.5862 - val_accuracy: 0.2174\n",
            "Epoch 2/100\n",
            "3/3 [==============================] - 0s 33ms/step - loss: 1.4635 - accuracy: 0.1461 - val_loss: 1.5482 - val_accuracy: 0.1739\n",
            "Epoch 3/100\n",
            "3/3 [==============================] - 0s 47ms/step - loss: 1.4317 - accuracy: 0.1236 - val_loss: 1.5198 - val_accuracy: 0.1304\n",
            "Epoch 4/100\n",
            "3/3 [==============================] - 0s 52ms/step - loss: 1.4042 - accuracy: 0.1236 - val_loss: 1.4962 - val_accuracy: 0.1739\n",
            "Epoch 5/100\n",
            "3/3 [==============================] - 0s 36ms/step - loss: 1.3804 - accuracy: 0.1236 - val_loss: 1.4743 - val_accuracy: 0.1739\n",
            "Epoch 6/100\n",
            "3/3 [==============================] - 0s 44ms/step - loss: 1.3601 - accuracy: 0.1461 - val_loss: 1.4528 - val_accuracy: 0.1304\n",
            "Epoch 7/100\n",
            "3/3 [==============================] - 0s 49ms/step - loss: 1.3410 - accuracy: 0.1685 - val_loss: 1.4319 - val_accuracy: 0.1304\n",
            "Epoch 8/100\n",
            "3/3 [==============================] - 0s 49ms/step - loss: 1.3237 - accuracy: 0.1685 - val_loss: 1.4125 - val_accuracy: 0.1304\n",
            "Epoch 9/100\n",
            "3/3 [==============================] - 0s 44ms/step - loss: 1.3078 - accuracy: 0.1910 - val_loss: 1.3967 - val_accuracy: 0.1304\n",
            "Epoch 10/100\n",
            "3/3 [==============================] - 0s 47ms/step - loss: 1.2928 - accuracy: 0.2022 - val_loss: 1.3801 - val_accuracy: 0.1304\n",
            "Epoch 11/100\n",
            "3/3 [==============================] - 0s 41ms/step - loss: 1.2797 - accuracy: 0.2022 - val_loss: 1.3655 - val_accuracy: 0.1304\n",
            "Epoch 12/100\n",
            "3/3 [==============================] - 0s 47ms/step - loss: 1.2693 - accuracy: 0.2247 - val_loss: 1.3509 - val_accuracy: 0.1304\n",
            "Epoch 13/100\n",
            "3/3 [==============================] - 0s 73ms/step - loss: 1.2562 - accuracy: 0.2247 - val_loss: 1.3381 - val_accuracy: 0.1304\n",
            "Epoch 14/100\n",
            "3/3 [==============================] - 0s 41ms/step - loss: 1.2449 - accuracy: 0.2135 - val_loss: 1.3243 - val_accuracy: 0.0870\n",
            "Epoch 15/100\n",
            "3/3 [==============================] - 0s 42ms/step - loss: 1.2352 - accuracy: 0.1685 - val_loss: 1.3120 - val_accuracy: 0.0435\n",
            "Epoch 16/100\n",
            "3/3 [==============================] - 0s 42ms/step - loss: 1.2258 - accuracy: 0.1685 - val_loss: 1.3018 - val_accuracy: 0.0435\n",
            "Epoch 17/100\n",
            "3/3 [==============================] - 0s 44ms/step - loss: 1.2158 - accuracy: 0.1798 - val_loss: 1.2895 - val_accuracy: 0.0435\n",
            "Epoch 18/100\n",
            "3/3 [==============================] - 0s 44ms/step - loss: 1.2064 - accuracy: 0.2135 - val_loss: 1.2789 - val_accuracy: 0.0435\n",
            "Epoch 19/100\n",
            "3/3 [==============================] - 0s 40ms/step - loss: 1.1986 - accuracy: 0.2022 - val_loss: 1.2674 - val_accuracy: 0.0870\n",
            "Epoch 20/100\n",
            "3/3 [==============================] - 0s 45ms/step - loss: 1.1894 - accuracy: 0.2022 - val_loss: 1.2579 - val_accuracy: 0.0870\n",
            "Epoch 21/100\n",
            "3/3 [==============================] - 0s 54ms/step - loss: 1.1820 - accuracy: 0.2022 - val_loss: 1.2482 - val_accuracy: 0.1304\n",
            "Epoch 22/100\n",
            "3/3 [==============================] - 0s 52ms/step - loss: 1.1761 - accuracy: 0.2135 - val_loss: 1.2379 - val_accuracy: 0.1304\n",
            "Epoch 23/100\n",
            "3/3 [==============================] - 0s 54ms/step - loss: 1.1666 - accuracy: 0.2135 - val_loss: 1.2295 - val_accuracy: 0.1304\n",
            "Epoch 24/100\n",
            "3/3 [==============================] - 0s 53ms/step - loss: 1.1604 - accuracy: 0.2135 - val_loss: 1.2203 - val_accuracy: 0.1304\n",
            "Epoch 25/100\n",
            "3/3 [==============================] - 0s 37ms/step - loss: 1.1530 - accuracy: 0.1910 - val_loss: 1.2130 - val_accuracy: 0.1304\n",
            "Epoch 26/100\n",
            "3/3 [==============================] - 0s 50ms/step - loss: 1.1456 - accuracy: 0.2022 - val_loss: 1.2052 - val_accuracy: 0.1304\n",
            "Epoch 27/100\n",
            "3/3 [==============================] - 0s 50ms/step - loss: 1.1397 - accuracy: 0.1910 - val_loss: 1.1973 - val_accuracy: 0.0870\n",
            "Epoch 28/100\n",
            "3/3 [==============================] - 0s 51ms/step - loss: 1.1332 - accuracy: 0.1798 - val_loss: 1.1906 - val_accuracy: 0.0870\n",
            "Epoch 29/100\n",
            "3/3 [==============================] - 0s 29ms/step - loss: 1.1263 - accuracy: 0.1798 - val_loss: 1.1837 - val_accuracy: 0.0870\n",
            "Epoch 30/100\n",
            "3/3 [==============================] - 0s 25ms/step - loss: 1.1201 - accuracy: 0.1685 - val_loss: 1.1772 - val_accuracy: 0.0870\n",
            "Epoch 31/100\n",
            "3/3 [==============================] - 0s 28ms/step - loss: 1.1152 - accuracy: 0.1798 - val_loss: 1.1693 - val_accuracy: 0.1304\n",
            "Epoch 32/100\n",
            "3/3 [==============================] - 0s 29ms/step - loss: 1.1079 - accuracy: 0.1685 - val_loss: 1.1632 - val_accuracy: 0.1304\n",
            "Epoch 33/100\n",
            "3/3 [==============================] - 0s 33ms/step - loss: 1.1014 - accuracy: 0.1798 - val_loss: 1.1553 - val_accuracy: 0.1739\n",
            "Epoch 34/100\n",
            "3/3 [==============================] - 0s 41ms/step - loss: 1.0958 - accuracy: 0.1910 - val_loss: 1.1480 - val_accuracy: 0.1739\n",
            "Epoch 35/100\n",
            "3/3 [==============================] - 0s 29ms/step - loss: 1.0901 - accuracy: 0.1685 - val_loss: 1.1429 - val_accuracy: 0.1739\n",
            "Epoch 36/100\n",
            "3/3 [==============================] - 0s 31ms/step - loss: 1.0866 - accuracy: 0.1910 - val_loss: 1.1362 - val_accuracy: 0.1739\n",
            "Epoch 37/100\n",
            "3/3 [==============================] - 0s 22ms/step - loss: 1.0779 - accuracy: 0.1910 - val_loss: 1.1300 - val_accuracy: 0.1739\n",
            "Epoch 38/100\n",
            "3/3 [==============================] - 0s 17ms/step - loss: 1.0724 - accuracy: 0.1910 - val_loss: 1.1251 - val_accuracy: 0.1739\n",
            "Epoch 39/100\n",
            "3/3 [==============================] - 0s 16ms/step - loss: 1.0672 - accuracy: 0.1910 - val_loss: 1.1200 - val_accuracy: 0.1739\n",
            "Epoch 40/100\n",
            "3/3 [==============================] - 0s 15ms/step - loss: 1.0618 - accuracy: 0.2135 - val_loss: 1.1137 - val_accuracy: 0.1739\n",
            "Epoch 41/100\n",
            "3/3 [==============================] - 0s 14ms/step - loss: 1.0556 - accuracy: 0.2022 - val_loss: 1.1075 - val_accuracy: 0.1739\n",
            "Epoch 42/100\n",
            "3/3 [==============================] - 0s 15ms/step - loss: 1.0510 - accuracy: 0.2022 - val_loss: 1.1023 - val_accuracy: 0.1739\n",
            "Epoch 43/100\n",
            "3/3 [==============================] - 0s 15ms/step - loss: 1.0453 - accuracy: 0.2022 - val_loss: 1.0970 - val_accuracy: 0.1739\n",
            "Epoch 44/100\n",
            "3/3 [==============================] - 0s 14ms/step - loss: 1.0389 - accuracy: 0.2022 - val_loss: 1.0932 - val_accuracy: 0.2174\n",
            "Epoch 45/100\n",
            "3/3 [==============================] - 0s 15ms/step - loss: 1.0342 - accuracy: 0.2022 - val_loss: 1.0893 - val_accuracy: 0.2609\n",
            "Epoch 46/100\n",
            "3/3 [==============================] - 0s 15ms/step - loss: 1.0288 - accuracy: 0.2135 - val_loss: 1.0852 - val_accuracy: 0.2609\n",
            "Epoch 47/100\n",
            "3/3 [==============================] - 0s 14ms/step - loss: 1.0228 - accuracy: 0.2135 - val_loss: 1.0783 - val_accuracy: 0.2609\n",
            "Epoch 48/100\n",
            "3/3 [==============================] - 0s 15ms/step - loss: 1.0201 - accuracy: 0.2247 - val_loss: 1.0741 - val_accuracy: 0.2609\n",
            "Epoch 49/100\n",
            "3/3 [==============================] - 0s 14ms/step - loss: 1.0125 - accuracy: 0.2247 - val_loss: 1.0691 - val_accuracy: 0.2609\n",
            "Epoch 50/100\n",
            "3/3 [==============================] - 0s 15ms/step - loss: 1.0074 - accuracy: 0.2472 - val_loss: 1.0631 - val_accuracy: 0.2609\n",
            "Epoch 51/100\n",
            "3/3 [==============================] - 0s 24ms/step - loss: 1.0039 - accuracy: 0.2584 - val_loss: 1.0594 - val_accuracy: 0.2609\n",
            "Epoch 52/100\n",
            "3/3 [==============================] - 0s 15ms/step - loss: 0.9980 - accuracy: 0.2472 - val_loss: 1.0558 - val_accuracy: 0.3043\n",
            "Epoch 53/100\n",
            "3/3 [==============================] - 0s 14ms/step - loss: 0.9922 - accuracy: 0.2697 - val_loss: 1.0516 - val_accuracy: 0.3043\n",
            "Epoch 54/100\n",
            "3/3 [==============================] - 0s 14ms/step - loss: 0.9882 - accuracy: 0.2921 - val_loss: 1.0457 - val_accuracy: 0.3478\n",
            "Epoch 55/100\n",
            "3/3 [==============================] - 0s 14ms/step - loss: 0.9826 - accuracy: 0.3034 - val_loss: 1.0425 - val_accuracy: 0.3478\n",
            "Epoch 56/100\n",
            "3/3 [==============================] - 0s 16ms/step - loss: 0.9774 - accuracy: 0.2921 - val_loss: 1.0365 - val_accuracy: 0.3478\n",
            "Epoch 57/100\n",
            "3/3 [==============================] - 0s 14ms/step - loss: 0.9719 - accuracy: 0.3034 - val_loss: 1.0327 - val_accuracy: 0.3478\n",
            "Epoch 58/100\n",
            "3/3 [==============================] - 0s 15ms/step - loss: 0.9676 - accuracy: 0.3258 - val_loss: 1.0296 - val_accuracy: 0.3478\n",
            "Epoch 59/100\n",
            "3/3 [==============================] - 0s 14ms/step - loss: 0.9626 - accuracy: 0.3258 - val_loss: 1.0256 - val_accuracy: 0.3478\n",
            "Epoch 60/100\n",
            "3/3 [==============================] - 0s 13ms/step - loss: 0.9576 - accuracy: 0.3483 - val_loss: 1.0202 - val_accuracy: 0.3478\n",
            "Epoch 61/100\n",
            "3/3 [==============================] - 0s 15ms/step - loss: 0.9530 - accuracy: 0.3596 - val_loss: 1.0150 - val_accuracy: 0.3478\n",
            "Epoch 62/100\n",
            "3/3 [==============================] - 0s 16ms/step - loss: 0.9488 - accuracy: 0.3596 - val_loss: 1.0097 - val_accuracy: 0.3478\n",
            "Epoch 63/100\n",
            "3/3 [==============================] - 0s 17ms/step - loss: 0.9442 - accuracy: 0.3820 - val_loss: 1.0045 - val_accuracy: 0.3913\n",
            "Epoch 64/100\n",
            "3/3 [==============================] - 0s 15ms/step - loss: 0.9388 - accuracy: 0.3708 - val_loss: 0.9998 - val_accuracy: 0.3913\n",
            "Epoch 65/100\n",
            "3/3 [==============================] - 0s 15ms/step - loss: 0.9336 - accuracy: 0.3933 - val_loss: 0.9949 - val_accuracy: 0.3913\n",
            "Epoch 66/100\n",
            "3/3 [==============================] - 0s 15ms/step - loss: 0.9287 - accuracy: 0.4045 - val_loss: 0.9906 - val_accuracy: 0.3913\n",
            "Epoch 67/100\n",
            "3/3 [==============================] - 0s 14ms/step - loss: 0.9246 - accuracy: 0.4045 - val_loss: 0.9870 - val_accuracy: 0.3913\n",
            "Epoch 68/100\n",
            "3/3 [==============================] - 0s 15ms/step - loss: 0.9204 - accuracy: 0.4382 - val_loss: 0.9815 - val_accuracy: 0.3913\n",
            "Epoch 69/100\n",
            "3/3 [==============================] - 0s 15ms/step - loss: 0.9151 - accuracy: 0.4382 - val_loss: 0.9785 - val_accuracy: 0.3913\n",
            "Epoch 70/100\n",
            "3/3 [==============================] - 0s 14ms/step - loss: 0.9129 - accuracy: 0.4494 - val_loss: 0.9760 - val_accuracy: 0.3913\n",
            "Epoch 71/100\n",
            "3/3 [==============================] - 0s 14ms/step - loss: 0.9064 - accuracy: 0.4607 - val_loss: 0.9723 - val_accuracy: 0.3913\n",
            "Epoch 72/100\n",
            "3/3 [==============================] - 0s 15ms/step - loss: 0.9030 - accuracy: 0.4719 - val_loss: 0.9676 - val_accuracy: 0.3913\n",
            "Epoch 73/100\n",
            "3/3 [==============================] - 0s 14ms/step - loss: 0.8999 - accuracy: 0.4719 - val_loss: 0.9627 - val_accuracy: 0.3913\n",
            "Epoch 74/100\n",
            "3/3 [==============================] - 0s 14ms/step - loss: 0.8934 - accuracy: 0.4607 - val_loss: 0.9596 - val_accuracy: 0.3913\n",
            "Epoch 75/100\n",
            "3/3 [==============================] - 0s 15ms/step - loss: 0.8899 - accuracy: 0.4719 - val_loss: 0.9548 - val_accuracy: 0.3913\n",
            "Epoch 76/100\n",
            "3/3 [==============================] - 0s 14ms/step - loss: 0.8852 - accuracy: 0.4719 - val_loss: 0.9510 - val_accuracy: 0.3913\n",
            "Epoch 77/100\n",
            "3/3 [==============================] - 0s 14ms/step - loss: 0.8811 - accuracy: 0.4831 - val_loss: 0.9475 - val_accuracy: 0.3913\n",
            "Epoch 78/100\n",
            "3/3 [==============================] - 0s 16ms/step - loss: 0.8770 - accuracy: 0.4719 - val_loss: 0.9448 - val_accuracy: 0.3913\n",
            "Epoch 79/100\n",
            "3/3 [==============================] - 0s 14ms/step - loss: 0.8725 - accuracy: 0.5056 - val_loss: 0.9412 - val_accuracy: 0.4348\n",
            "Epoch 80/100\n",
            "3/3 [==============================] - 0s 15ms/step - loss: 0.8692 - accuracy: 0.4944 - val_loss: 0.9378 - val_accuracy: 0.4348\n",
            "Epoch 81/100\n",
            "3/3 [==============================] - 0s 18ms/step - loss: 0.8643 - accuracy: 0.5056 - val_loss: 0.9336 - val_accuracy: 0.4783\n",
            "Epoch 82/100\n",
            "3/3 [==============================] - 0s 23ms/step - loss: 0.8596 - accuracy: 0.5393 - val_loss: 0.9300 - val_accuracy: 0.4783\n",
            "Epoch 83/100\n",
            "3/3 [==============================] - 0s 15ms/step - loss: 0.8561 - accuracy: 0.5281 - val_loss: 0.9252 - val_accuracy: 0.4783\n",
            "Epoch 84/100\n",
            "3/3 [==============================] - 0s 15ms/step - loss: 0.8523 - accuracy: 0.5281 - val_loss: 0.9208 - val_accuracy: 0.4783\n",
            "Epoch 85/100\n",
            "3/3 [==============================] - 0s 15ms/step - loss: 0.8471 - accuracy: 0.5506 - val_loss: 0.9164 - val_accuracy: 0.4783\n",
            "Epoch 86/100\n",
            "3/3 [==============================] - 0s 14ms/step - loss: 0.8429 - accuracy: 0.5618 - val_loss: 0.9135 - val_accuracy: 0.4783\n",
            "Epoch 87/100\n",
            "3/3 [==============================] - 0s 15ms/step - loss: 0.8385 - accuracy: 0.5843 - val_loss: 0.9100 - val_accuracy: 0.4783\n",
            "Epoch 88/100\n",
            "3/3 [==============================] - 0s 14ms/step - loss: 0.8369 - accuracy: 0.5843 - val_loss: 0.9050 - val_accuracy: 0.4783\n",
            "Epoch 89/100\n",
            "3/3 [==============================] - 0s 14ms/step - loss: 0.8308 - accuracy: 0.5843 - val_loss: 0.9012 - val_accuracy: 0.4783\n",
            "Epoch 90/100\n",
            "3/3 [==============================] - 0s 15ms/step - loss: 0.8268 - accuracy: 0.5843 - val_loss: 0.8974 - val_accuracy: 0.4783\n",
            "Epoch 91/100\n",
            "3/3 [==============================] - 0s 16ms/step - loss: 0.8231 - accuracy: 0.5843 - val_loss: 0.8946 - val_accuracy: 0.4783\n",
            "Epoch 92/100\n",
            "3/3 [==============================] - 0s 16ms/step - loss: 0.8188 - accuracy: 0.5843 - val_loss: 0.8900 - val_accuracy: 0.4783\n",
            "Epoch 93/100\n",
            "3/3 [==============================] - 0s 16ms/step - loss: 0.8183 - accuracy: 0.5843 - val_loss: 0.8859 - val_accuracy: 0.4783\n",
            "Epoch 94/100\n",
            "3/3 [==============================] - 0s 17ms/step - loss: 0.8111 - accuracy: 0.5843 - val_loss: 0.8828 - val_accuracy: 0.4783\n",
            "Epoch 95/100\n",
            "3/3 [==============================] - 0s 15ms/step - loss: 0.8087 - accuracy: 0.5843 - val_loss: 0.8802 - val_accuracy: 0.4783\n",
            "Epoch 96/100\n",
            "3/3 [==============================] - 0s 22ms/step - loss: 0.8054 - accuracy: 0.5730 - val_loss: 0.8781 - val_accuracy: 0.4783\n",
            "Epoch 97/100\n",
            "3/3 [==============================] - 0s 15ms/step - loss: 0.8019 - accuracy: 0.5955 - val_loss: 0.8751 - val_accuracy: 0.5217\n",
            "Epoch 98/100\n",
            "3/3 [==============================] - 0s 15ms/step - loss: 0.7970 - accuracy: 0.5843 - val_loss: 0.8718 - val_accuracy: 0.5217\n",
            "Epoch 99/100\n",
            "3/3 [==============================] - 0s 15ms/step - loss: 0.7936 - accuracy: 0.5843 - val_loss: 0.8676 - val_accuracy: 0.5217\n",
            "Epoch 100/100\n",
            "3/3 [==============================] - 0s 14ms/step - loss: 0.7913 - accuracy: 0.5955 - val_loss: 0.8649 - val_accuracy: 0.5217\n"
          ]
        },
        {
          "output_type": "execute_result",
          "data": {
            "text/plain": [
              "<keras.src.callbacks.History at 0x7845d1956a10>"
            ]
          },
          "metadata": {},
          "execution_count": 46
        }
      ]
    },
    {
      "cell_type": "code",
      "source": [],
      "metadata": {
        "id": "ucetU3P3Wd4f"
      },
      "execution_count": null,
      "outputs": []
    }
  ]
}