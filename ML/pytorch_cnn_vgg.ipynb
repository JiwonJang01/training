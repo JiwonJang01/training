{
  "nbformat": 4,
  "nbformat_minor": 0,
  "metadata": {
    "colab": {
      "provenance": [],
      "gpuType": "T4"
    },
    "kernelspec": {
      "name": "python3",
      "display_name": "Python 3"
    },
    "language_info": {
      "name": "python"
    },
    "accelerator": "GPU"
  },
  "cells": [
    {
      "cell_type": "markdown",
      "source": [
        "Bagic Block 정의"
      ],
      "metadata": {
        "id": "7dEl62hCVC55"
      }
    },
    {
      "cell_type": "code",
      "execution_count": null,
      "metadata": {
        "id": "JNI5fzFbU6Nm"
      },
      "outputs": [],
      "source": [
        "import torch\n",
        "import torch.nn as nn"
      ]
    },
    {
      "cell_type": "code",
      "source": [
        "class BasicBlock(nn.Module):\n",
        "  def __init__(self,in_channel,out_channel,hidden_dim) -> None:\n",
        "    super(BasicBlock,self).__init__()\n",
        "    # 합성곱층\n",
        "    # 입력이미지가 3 x 32 x 32 인 컬러이미지 -> (3,32,32) ->(batchsize, 3, 32,32)\n",
        "    self.conv1 = nn.Conv2d(in_channel,hidden_dim, kernel_size=3,padding=1)  # 입력과 출력의 크기를 동일\n",
        "    # (batchsize, 3, 32,32) -> (batchsize, hidden_dim, 32,32)\n",
        "\n",
        "    self.conv2 = nn.Conv2d(hidden_dim,out_channel, kernel_size=3,padding=1)  # 입력과 출력의 크기를 동일\n",
        "    # (batchsize, hidden_dim, 32,32) -> (batchsize, out_channel, 32,32)\n",
        "\n",
        "    self.relu = nn.ReLU()\n",
        "    self.pool = nn.MaxPool2d(kernel_size=2,stride=2)  # 크기를 1/2로 줄임\n",
        "    # (batchsize, out_channel, 32,32) - > (batchsize, out_channel, 16,16)\n",
        "  def forward(self,x):\n",
        "    # x = self.conv1(x)\n",
        "    # x = self.relu(x)\n",
        "    # x = self.conv2(x)\n",
        "    # x = self.relu(x)\n",
        "    x = self.relu(self.conv1(x))\n",
        "    x = self.relu(self.conv2(x))\n",
        "    x = self.pool(x)\n",
        "    return x\n",
        "# image size = W x H\n",
        "# in_channel,out_channel,hidden_dim -> (batchsize, out_channel, W/2,H/2)"
      ],
      "metadata": {
        "id": "4hq8Mf-1VYYQ"
      },
      "execution_count": null,
      "outputs": []
    },
    {
      "cell_type": "markdown",
      "source": [
        "VGG 모델 정의 - CNN"
      ],
      "metadata": {
        "id": "2FC3ICcFYwst"
      }
    },
    {
      "cell_type": "code",
      "source": [
        "class CNN(nn.Module):\n",
        "  def __init__(self, num_class):\n",
        "    super(CNN, self).__init__()\n",
        "    # 기본블럭 정의\n",
        "    #(3,32,32) 입력데이터 모양\n",
        "    self.block1 = BasicBlock(3,32,16)  # (32,16,16)\n",
        "    self.block2 = BasicBlock(32,128,64) # (128,8,8)\n",
        "    self.block3 = BasicBlock(128,256,128) # (256,4,4)  256*4*4 --> 4096\n",
        "    # 분류기 정의\n",
        "    self.fc1 = nn.Linear(in_features = 256*4*4 , out_features=2048)\n",
        "    self.fc2 = nn.Linear(in_features = 2048 , out_features=1024)\n",
        "    self.fc3 = nn.Linear(in_features = 1024 , out_features=num_class)\n",
        "    self.relu = nn.ReLU()\n",
        "\n",
        "  def forward(self,x):\n",
        "    x = self.block1(x)\n",
        "    x = self.block2(x)\n",
        "    x = self.block3(x)\n",
        "\n",
        "    x = torch.flatten(x,start_dim=1)  # (batchsize, 256,4,4)\n",
        "\n",
        "    x = self.relu(self.fc1(x))\n",
        "    x = self.relu(self.fc2(x))\n",
        "\n",
        "    x = self.fc3(x)\n",
        "    return x"
      ],
      "metadata": {
        "id": "BC7svuWeYv1i"
      },
      "execution_count": null,
      "outputs": []
    },
    {
      "cell_type": "markdown",
      "source": [
        "이미지 데이터 로드"
      ],
      "metadata": {
        "id": "JrkUUq_8hgRD"
      }
    },
    {
      "cell_type": "code",
      "source": [
        "from torch.utils.data.dataloader import DataLoader\n",
        "from torchvision.datasets.cifar import CIFAR10\n",
        "from torchvision.transforms import Compose,RandomCrop, RandomHorizontalFlip\n",
        "from torchvision.transforms import ToTensor,RandomVerticalFlip,Resize,Normalize\n",
        "from torch.optim.adam import Adam"
      ],
      "metadata": {
        "id": "lehu_ngZgNOV"
      },
      "execution_count": null,
      "outputs": []
    },
    {
      "cell_type": "code",
      "source": [
        "# CNN_VGB.pptx 참고\n",
        "transforms = Compose([\n",
        " RandomCrop((32,32),padding=4),\n",
        " RandomHorizontalFlip(p=0.5),\n",
        " RandomVerticalFlip(p=0.5),\n",
        " ToTensor(),\n",
        " Normalize(mean=(125.30691805, 122.95039414, 113.86538318),std=(62.99321928, 62.08870764, 66.70489964))\n",
        "])"
      ],
      "metadata": {
        "id": "PcAaLxvokj9S"
      },
      "execution_count": null,
      "outputs": []
    },
    {
      "cell_type": "code",
      "source": [
        "train_dataset = CIFAR10(root=\"./\",train=True, download=True,transform=transforms)\n",
        "test_dataset = CIFAR10(root=\"./\",train=False, download=True,transform=transforms)\n",
        "train_loader = DataLoader(train_dataset,batch_size=32,shuffle=True)\n",
        "test_loader = DataLoader(test_dataset,batch_size=32,shuffle=False)"
      ],
      "metadata": {
        "colab": {
          "base_uri": "https://localhost:8080/"
        },
        "id": "5vP1sC3Ih9Tw",
        "outputId": "29752ecd-1127-4498-dd75-58e2631639b2"
      },
      "execution_count": null,
      "outputs": [
        {
          "output_type": "stream",
          "name": "stdout",
          "text": [
            "Downloading https://www.cs.toronto.edu/~kriz/cifar-10-python.tar.gz to ./cifar-10-python.tar.gz\n"
          ]
        },
        {
          "output_type": "stream",
          "name": "stderr",
          "text": [
            "100%|██████████| 170498071/170498071 [00:03<00:00, 45124917.57it/s]\n"
          ]
        },
        {
          "output_type": "stream",
          "name": "stdout",
          "text": [
            "Extracting ./cifar-10-python.tar.gz to ./\n",
            "Files already downloaded and verified\n"
          ]
        }
      ]
    },
    {
      "cell_type": "code",
      "source": [
        "rgb_mean = train_dataset.data.mean(axis=(0,1,2))\n",
        "rgb_std = train_dataset.data.std(axis=(0,1,2))\n",
        "train_dataset.data.shape, rgb_mean, rgb_std"
      ],
      "metadata": {
        "colab": {
          "base_uri": "https://localhost:8080/"
        },
        "id": "iL9c6xwriZad",
        "outputId": "336b7479-aa77-41d1-f386-e30a82c4c389"
      },
      "execution_count": null,
      "outputs": [
        {
          "output_type": "execute_result",
          "data": {
            "text/plain": [
              "((50000, 32, 32, 3),\n",
              " array([125.30691805, 122.95039414, 113.86538318]),\n",
              " array([62.99321928, 62.08870764, 66.70489964]))"
            ]
          },
          "metadata": {},
          "execution_count": 7
        }
      ]
    },
    {
      "cell_type": "code",
      "source": [
        "train_dataset.data[ :, :, :, 0] / 255.0"
      ],
      "metadata": {
        "colab": {
          "base_uri": "https://localhost:8080/"
        },
        "id": "f9GwDBsizhwo",
        "outputId": "683550d3-c8b5-4a6b-a0bc-aa0c3525bd9b"
      },
      "execution_count": null,
      "outputs": [
        {
          "output_type": "execute_result",
          "data": {
            "text/plain": [
              "array([[[0.23137255, 0.16862745, 0.19607843, ..., 0.61960784,\n",
              "         0.59607843, 0.58039216],\n",
              "        [0.0627451 , 0.        , 0.07058824, ..., 0.48235294,\n",
              "         0.46666667, 0.47843137],\n",
              "        [0.09803922, 0.0627451 , 0.19215686, ..., 0.4627451 ,\n",
              "         0.47058824, 0.42745098],\n",
              "        ...,\n",
              "        [0.81568627, 0.78823529, 0.77647059, ..., 0.62745098,\n",
              "         0.21960784, 0.20784314],\n",
              "        [0.70588235, 0.67843137, 0.72941176, ..., 0.72156863,\n",
              "         0.38039216, 0.3254902 ],\n",
              "        [0.69411765, 0.65882353, 0.70196078, ..., 0.84705882,\n",
              "         0.59215686, 0.48235294]],\n",
              "\n",
              "       [[0.60392157, 0.49411765, 0.41176471, ..., 0.35686275,\n",
              "         0.34117647, 0.30980392],\n",
              "        [0.54901961, 0.56862745, 0.49019608, ..., 0.37647059,\n",
              "         0.30196078, 0.27843137],\n",
              "        [0.54901961, 0.54509804, 0.45098039, ..., 0.30980392,\n",
              "         0.26666667, 0.2627451 ],\n",
              "        ...,\n",
              "        [0.68627451, 0.61176471, 0.60392157, ..., 0.16470588,\n",
              "         0.23921569, 0.36470588],\n",
              "        [0.64705882, 0.61176471, 0.62352941, ..., 0.40392157,\n",
              "         0.48235294, 0.51372549],\n",
              "        [0.63921569, 0.61960784, 0.63921569, ..., 0.56078431,\n",
              "         0.56078431, 0.56078431]],\n",
              "\n",
              "       [[1.        , 0.99215686, 0.99215686, ..., 0.99215686,\n",
              "         0.99215686, 0.99215686],\n",
              "        [1.        , 1.        , 1.        , ..., 1.        ,\n",
              "         1.        , 1.        ],\n",
              "        [1.        , 0.99607843, 0.99607843, ..., 0.99607843,\n",
              "         0.99607843, 0.99607843],\n",
              "        ...,\n",
              "        [0.44313725, 0.43529412, 0.41176471, ..., 0.28235294,\n",
              "         0.28235294, 0.28235294],\n",
              "        [0.43529412, 0.40784314, 0.38823529, ..., 0.26666667,\n",
              "         0.2745098 , 0.30588235],\n",
              "        [0.41568627, 0.38823529, 0.37254902, ..., 0.30588235,\n",
              "         0.30980392, 0.31372549]],\n",
              "\n",
              "       ...,\n",
              "\n",
              "       [[0.1372549 , 0.15686275, 0.16470588, ..., 0.38823529,\n",
              "         0.30980392, 0.34901961],\n",
              "        [0.22352941, 0.17254902, 0.19607843, ..., 0.61176471,\n",
              "         0.55294118, 0.45490196],\n",
              "        [0.38431373, 0.25098039, 0.27058824, ..., 0.7372549 ,\n",
              "         0.46666667, 0.23921569],\n",
              "        ...,\n",
              "        [0.28627451, 0.20784314, 0.21176471, ..., 0.06666667,\n",
              "         0.08235294, 0.12941176],\n",
              "        [0.23921569, 0.21568627, 0.22352941, ..., 0.09411765,\n",
              "         0.06666667, 0.02745098],\n",
              "        [0.17254902, 0.18039216, 0.19215686, ..., 0.10588235,\n",
              "         0.08235294, 0.04705882]],\n",
              "\n",
              "       [[0.74117647, 0.72941176, 0.7254902 , ..., 0.68627451,\n",
              "         0.6745098 , 0.6627451 ],\n",
              "        [0.76078431, 0.74901961, 0.74509804, ..., 0.67843137,\n",
              "         0.67058824, 0.65490196],\n",
              "        [0.81568627, 0.80392157, 0.8       , ..., 0.68627451,\n",
              "         0.6745098 , 0.6627451 ],\n",
              "        ...,\n",
              "        [0.81176471, 0.79607843, 0.79607843, ..., 0.52941176,\n",
              "         0.63529412, 0.65882353],\n",
              "        [0.77647059, 0.74117647, 0.70588235, ..., 0.69803922,\n",
              "         0.68627451, 0.68627451],\n",
              "        [0.77647059, 0.74117647, 0.69803922, ..., 0.76470588,\n",
              "         0.76862745, 0.76470588]],\n",
              "\n",
              "       [[0.89803922, 0.9254902 , 0.91764706, ..., 0.85098039,\n",
              "         0.86666667, 0.87058824],\n",
              "        [0.87058824, 0.9372549 , 0.91372549, ..., 0.8745098 ,\n",
              "         0.89019608, 0.82352941],\n",
              "        [0.83529412, 0.91764706, 0.90588235, ..., 0.8627451 ,\n",
              "         0.8627451 , 0.79215686],\n",
              "        ...,\n",
              "        [0.58823529, 0.54901961, 0.51764706, ..., 0.87843137,\n",
              "         0.90196078, 0.94509804],\n",
              "        [0.5372549 , 0.50980392, 0.49019608, ..., 0.70980392,\n",
              "         0.79215686, 0.83137255],\n",
              "        [0.47843137, 0.4627451 , 0.47058824, ..., 0.70196078,\n",
              "         0.64313725, 0.63921569]]])"
            ]
          },
          "metadata": {},
          "execution_count": 21
        }
      ]
    },
    {
      "cell_type": "code",
      "source": [
        "import torch\n",
        "device = \"cuda\" if torch.cuda.is_available() else 'cpu'"
      ],
      "metadata": {
        "id": "CIFRvwZXi_lw"
      },
      "execution_count": null,
      "outputs": []
    },
    {
      "cell_type": "code",
      "source": [
        "from tqdm import tqdm\n",
        "model = CNN(10)\n",
        "model.to(device)\n",
        "lr = 1e-3\n",
        "optim = Adam(model.parameters(), lr=lr)\n",
        "for epoch in range(5):\n",
        "  iterator = tqdm(train_loader)\n",
        "  for data, label in iterator:\n",
        "    optim.zero_grad()\n",
        "    pred = model(data.to(device))\n",
        "    loss = nn.CrossEntropyLoss()(pred,label.to(device))\n",
        "    loss.backward()\n",
        "    optim.step()\n",
        "    iterator.set_description(f'epoch:{epoch+1}  loss:{loss.item()} ')"
      ],
      "metadata": {
        "colab": {
          "base_uri": "https://localhost:8080/"
        },
        "id": "ibDNlJ9AjGVN",
        "outputId": "0ad4fe47-cb3b-4894-cc37-9a246a81e526"
      },
      "execution_count": null,
      "outputs": [
        {
          "output_type": "stream",
          "name": "stderr",
          "text": [
            "epoch:1  loss:2.300086498260498 : 100%|██████████| 1563/1563 [00:52<00:00, 29.75it/s]\n",
            "epoch:2  loss:2.303483486175537 : 100%|██████████| 1563/1563 [00:52<00:00, 29.88it/s]\n",
            "epoch:3  loss:2.301692247390747 : 100%|██████████| 1563/1563 [00:52<00:00, 30.04it/s]\n",
            "epoch:4  loss:2.299988269805908 : 100%|██████████| 1563/1563 [00:53<00:00, 29.42it/s]\n",
            "epoch:5  loss:2.2998297214508057 : 100%|██████████| 1563/1563 [00:49<00:00, 31.83it/s]\n"
          ]
        }
      ]
    },
    {
      "cell_type": "markdown",
      "source": [
        "평가"
      ],
      "metadata": {
        "id": "I1Zvw-iKtz5J"
      }
    },
    {
      "cell_type": "code",
      "source": [
        "num_corr = 0\n",
        "with torch.no_grad():\n",
        "  for data, label in test_loader:\n",
        "    output = model(data.to(device))\n",
        "    preds = output.data.max(1)[1]\n",
        "    corr = preds.eq(label.to(device).data).sum().item()\n",
        "    num_corr += corr\n",
        "  print(f\"accuracy : {num_corr / len(test_dataset)}\")"
      ],
      "metadata": {
        "colab": {
          "base_uri": "https://localhost:8080/"
        },
        "id": "VDOnxXdosTJ2",
        "outputId": "e0d8191e-3229-4816-fec7-7bce5b73de20"
      },
      "execution_count": null,
      "outputs": [
        {
          "output_type": "stream",
          "name": "stdout",
          "text": [
            "accuracy : 0.0971\n"
          ]
        }
      ]
    },
    {
      "cell_type": "markdown",
      "source": [
        "VGG 전이학습"
      ],
      "metadata": {
        "id": "LY7OrafN07h9"
      }
    },
    {
      "cell_type": "code",
      "source": [
        "import torch\n",
        "import torch.nn as nn\n",
        "from torchvision.models.vgg import vgg16,VGG16_Weights\n",
        "\n",
        "model = vgg16(weights=VGG16_Weights.DEFAULT)\n",
        "model"
      ],
      "metadata": {
        "colab": {
          "base_uri": "https://localhost:8080/"
        },
        "id": "XLm6jcutt1hw",
        "outputId": "0852dc24-f227-4784-c4c1-f3770b86df20"
      },
      "execution_count": null,
      "outputs": [
        {
          "output_type": "execute_result",
          "data": {
            "text/plain": [
              "VGG(\n",
              "  (features): Sequential(\n",
              "    (0): Conv2d(3, 64, kernel_size=(3, 3), stride=(1, 1), padding=(1, 1))\n",
              "    (1): ReLU(inplace=True)\n",
              "    (2): Conv2d(64, 64, kernel_size=(3, 3), stride=(1, 1), padding=(1, 1))\n",
              "    (3): ReLU(inplace=True)\n",
              "    (4): MaxPool2d(kernel_size=2, stride=2, padding=0, dilation=1, ceil_mode=False)\n",
              "    (5): Conv2d(64, 128, kernel_size=(3, 3), stride=(1, 1), padding=(1, 1))\n",
              "    (6): ReLU(inplace=True)\n",
              "    (7): Conv2d(128, 128, kernel_size=(3, 3), stride=(1, 1), padding=(1, 1))\n",
              "    (8): ReLU(inplace=True)\n",
              "    (9): MaxPool2d(kernel_size=2, stride=2, padding=0, dilation=1, ceil_mode=False)\n",
              "    (10): Conv2d(128, 256, kernel_size=(3, 3), stride=(1, 1), padding=(1, 1))\n",
              "    (11): ReLU(inplace=True)\n",
              "    (12): Conv2d(256, 256, kernel_size=(3, 3), stride=(1, 1), padding=(1, 1))\n",
              "    (13): ReLU(inplace=True)\n",
              "    (14): Conv2d(256, 256, kernel_size=(3, 3), stride=(1, 1), padding=(1, 1))\n",
              "    (15): ReLU(inplace=True)\n",
              "    (16): MaxPool2d(kernel_size=2, stride=2, padding=0, dilation=1, ceil_mode=False)\n",
              "    (17): Conv2d(256, 512, kernel_size=(3, 3), stride=(1, 1), padding=(1, 1))\n",
              "    (18): ReLU(inplace=True)\n",
              "    (19): Conv2d(512, 512, kernel_size=(3, 3), stride=(1, 1), padding=(1, 1))\n",
              "    (20): ReLU(inplace=True)\n",
              "    (21): Conv2d(512, 512, kernel_size=(3, 3), stride=(1, 1), padding=(1, 1))\n",
              "    (22): ReLU(inplace=True)\n",
              "    (23): MaxPool2d(kernel_size=2, stride=2, padding=0, dilation=1, ceil_mode=False)\n",
              "    (24): Conv2d(512, 512, kernel_size=(3, 3), stride=(1, 1), padding=(1, 1))\n",
              "    (25): ReLU(inplace=True)\n",
              "    (26): Conv2d(512, 512, kernel_size=(3, 3), stride=(1, 1), padding=(1, 1))\n",
              "    (27): ReLU(inplace=True)\n",
              "    (28): Conv2d(512, 512, kernel_size=(3, 3), stride=(1, 1), padding=(1, 1))\n",
              "    (29): ReLU(inplace=True)\n",
              "    (30): MaxPool2d(kernel_size=2, stride=2, padding=0, dilation=1, ceil_mode=False)\n",
              "  )\n",
              "  (avgpool): AdaptiveAvgPool2d(output_size=(7, 7))\n",
              "  (classifier): Sequential(\n",
              "    (0): Linear(in_features=25088, out_features=4096, bias=True)\n",
              "    (1): ReLU(inplace=True)\n",
              "    (2): Dropout(p=0.5, inplace=False)\n",
              "    (3): Linear(in_features=4096, out_features=4096, bias=True)\n",
              "    (4): ReLU(inplace=True)\n",
              "    (5): Dropout(p=0.5, inplace=False)\n",
              "    (6): Linear(in_features=4096, out_features=1000, bias=True)\n",
              "  )\n",
              ")"
            ]
          },
          "metadata": {},
          "execution_count": 30
        }
      ]
    },
    {
      "cell_type": "code",
      "source": [
        "fc = nn.Sequential(\n",
        "    nn.Linear(in_features=25088, out_features=4096, bias=True),\n",
        "    nn.ReLU(inplace=True),\n",
        "    nn.Dropout(p=0.5, inplace=False),\n",
        "    nn.Linear(in_features=4096, out_features=4096, bias=True),\n",
        "    nn.ReLU(inplace=True),\n",
        "    nn.Dropout(p=0.5, inplace=False),\n",
        "    nn.Linear(in_features=4096, out_features=10, bias=True)\n",
        ")\n",
        "model.classifier = fc\n",
        "model.to(device)"
      ],
      "metadata": {
        "colab": {
          "base_uri": "https://localhost:8080/"
        },
        "id": "LHQE4YaQ2pRf",
        "outputId": "1404fede-ea9a-4e46-a79d-43b89e09d280"
      },
      "execution_count": null,
      "outputs": [
        {
          "output_type": "execute_result",
          "data": {
            "text/plain": [
              "VGG(\n",
              "  (features): Sequential(\n",
              "    (0): Conv2d(3, 64, kernel_size=(3, 3), stride=(1, 1), padding=(1, 1))\n",
              "    (1): ReLU(inplace=True)\n",
              "    (2): Conv2d(64, 64, kernel_size=(3, 3), stride=(1, 1), padding=(1, 1))\n",
              "    (3): ReLU(inplace=True)\n",
              "    (4): MaxPool2d(kernel_size=2, stride=2, padding=0, dilation=1, ceil_mode=False)\n",
              "    (5): Conv2d(64, 128, kernel_size=(3, 3), stride=(1, 1), padding=(1, 1))\n",
              "    (6): ReLU(inplace=True)\n",
              "    (7): Conv2d(128, 128, kernel_size=(3, 3), stride=(1, 1), padding=(1, 1))\n",
              "    (8): ReLU(inplace=True)\n",
              "    (9): MaxPool2d(kernel_size=2, stride=2, padding=0, dilation=1, ceil_mode=False)\n",
              "    (10): Conv2d(128, 256, kernel_size=(3, 3), stride=(1, 1), padding=(1, 1))\n",
              "    (11): ReLU(inplace=True)\n",
              "    (12): Conv2d(256, 256, kernel_size=(3, 3), stride=(1, 1), padding=(1, 1))\n",
              "    (13): ReLU(inplace=True)\n",
              "    (14): Conv2d(256, 256, kernel_size=(3, 3), stride=(1, 1), padding=(1, 1))\n",
              "    (15): ReLU(inplace=True)\n",
              "    (16): MaxPool2d(kernel_size=2, stride=2, padding=0, dilation=1, ceil_mode=False)\n",
              "    (17): Conv2d(256, 512, kernel_size=(3, 3), stride=(1, 1), padding=(1, 1))\n",
              "    (18): ReLU(inplace=True)\n",
              "    (19): Conv2d(512, 512, kernel_size=(3, 3), stride=(1, 1), padding=(1, 1))\n",
              "    (20): ReLU(inplace=True)\n",
              "    (21): Conv2d(512, 512, kernel_size=(3, 3), stride=(1, 1), padding=(1, 1))\n",
              "    (22): ReLU(inplace=True)\n",
              "    (23): MaxPool2d(kernel_size=2, stride=2, padding=0, dilation=1, ceil_mode=False)\n",
              "    (24): Conv2d(512, 512, kernel_size=(3, 3), stride=(1, 1), padding=(1, 1))\n",
              "    (25): ReLU(inplace=True)\n",
              "    (26): Conv2d(512, 512, kernel_size=(3, 3), stride=(1, 1), padding=(1, 1))\n",
              "    (27): ReLU(inplace=True)\n",
              "    (28): Conv2d(512, 512, kernel_size=(3, 3), stride=(1, 1), padding=(1, 1))\n",
              "    (29): ReLU(inplace=True)\n",
              "    (30): MaxPool2d(kernel_size=2, stride=2, padding=0, dilation=1, ceil_mode=False)\n",
              "  )\n",
              "  (avgpool): AdaptiveAvgPool2d(output_size=(7, 7))\n",
              "  (classifier): Sequential(\n",
              "    (0): Linear(in_features=25088, out_features=4096, bias=True)\n",
              "    (1): ReLU(inplace=True)\n",
              "    (2): Dropout(p=0.5, inplace=False)\n",
              "    (3): Linear(in_features=4096, out_features=4096, bias=True)\n",
              "    (4): ReLU(inplace=True)\n",
              "    (5): Dropout(p=0.5, inplace=False)\n",
              "    (6): Linear(in_features=4096, out_features=10, bias=True)\n",
              "  )\n",
              ")"
            ]
          },
          "metadata": {},
          "execution_count": 31
        }
      ]
    },
    {
      "cell_type": "code",
      "source": [
        "# 데이터 로드\n",
        "\n",
        "transforms = Compose([\n",
        "    Resize(224),\n",
        "    RandomCrop((32,32),padding=4),\n",
        "    RandomHorizontalFlip(p=0.5),\n",
        "    ToTensor(),\n",
        "    Normalize(mean=(0.4914,0.4822,0.4465),std=(0.247,0.243,0.261))\n",
        "])\n",
        "\n",
        "train_dataset = CIFAR10(root=\"./\",train=True, download=True,transform=transforms)\n",
        "test_dataset = CIFAR10(root=\"./\",train=False, download=True,transform=transforms)\n",
        "train_loader = DataLoader(train_dataset,batch_size=64,shuffle=True)\n",
        "test_loader = DataLoader(test_dataset,batch_size=64,shuffle=False)\n",
        "\n",
        "\n",
        "# 모델 학습\n",
        "from tqdm import tqdm\n",
        "lr = 1e-3\n",
        "optim = Adam(model.parameters(), lr=lr)\n",
        "for epoch in range(5):\n",
        "  iterator = tqdm(train_loader)\n",
        "  for data, label in iterator:\n",
        "    optim.zero_grad()\n",
        "    pred = model(data.to(device))\n",
        "    loss = nn.CrossEntropyLoss()(pred,label.to(device))\n",
        "    loss.backward()\n",
        "    optim.step()\n",
        "\n",
        "    iterator.set_description(f'epoch:{epoch+1}  loss:{loss.item()} ')"
      ],
      "metadata": {
        "colab": {
          "base_uri": "https://localhost:8080/"
        },
        "id": "M3pdvv0H82vc",
        "outputId": "ababa023-725d-444c-92bf-e3006c896684"
      },
      "execution_count": null,
      "outputs": [
        {
          "output_type": "stream",
          "name": "stdout",
          "text": [
            "Files already downloaded and verified\n",
            "Files already downloaded and verified\n"
          ]
        },
        {
          "output_type": "stream",
          "name": "stderr",
          "text": [
            "epoch:1  loss:2.302002429962158 : 100%|██████████| 782/782 [01:57<00:00,  6.68it/s]\n",
            "epoch:2  loss:2.2970173358917236 : 100%|██████████| 782/782 [01:57<00:00,  6.68it/s]\n",
            "epoch:3  loss:2.303152084350586 : 100%|██████████| 782/782 [01:57<00:00,  6.67it/s]\n",
            "epoch:4  loss:2.306368589401245 : 100%|██████████| 782/782 [01:56<00:00,  6.69it/s]\n",
            "epoch:5  loss:2.3011648654937744 : 100%|██████████| 782/782 [01:57<00:00,  6.66it/s]\n"
          ]
        }
      ]
    },
    {
      "cell_type": "code",
      "source": [],
      "metadata": {
        "id": "ndO8lZfQ_iHY"
      },
      "execution_count": null,
      "outputs": []
    }
  ]
}