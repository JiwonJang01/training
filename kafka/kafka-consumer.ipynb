{
 "cells": [
  {
   "cell_type": "code",
   "execution_count": 2,
   "id": "2513af6d-3ad4-4037-a3a0-4085fc4c7058",
   "metadata": {},
   "outputs": [],
   "source": [
    "# 컨슈머 생성 (토픽으로 데이터를 전송)\n",
    "from kafka import KafkaConsumer\n",
    "import json\n",
    "import time\n",
    "from csv import reader"
   ]
  },
  {
   "cell_type": "code",
   "execution_count": 6,
   "id": "8b8deb85-0dca-4807-ad2c-7916813b0cba",
   "metadata": {},
   "outputs": [],
   "source": [
    "class MessageConsumer:\n",
    "    def __init__(self,broker,topic,group_id):\n",
    "        self.broker = broker\n",
    "        self.topic = topic\n",
    "        self.group_id = group_id\n",
    "    def active_listener(self):\n",
    "        params = {\n",
    "            'bootstrap_servers' : self.broker,\n",
    "            'group_id':self.group_id,\n",
    "            'consumer_timeout_ms' : 1000*5,  # 5초\n",
    "            # 토픽을 처음구독할때 또는 컨슈머의 오프셋이\n",
    "            # 브로커에 의해 삭제될때 시작 오프셋을 설정\n",
    "            'auto_offset_reset':'latest',\n",
    "            'enable_auto_commit':False,\n",
    "            # 역직렬화\n",
    "            # ASCII로 디코딩 JSON형태로 파싱\n",
    "            'value_deserializer':lambda x : json.loads(x.decode('ascii'))\n",
    "        }\n",
    "        consumer = KafkaConsumer(**params)\n",
    "        consumer.subscribe(self.topic)  # 구독... 지정한 토픽의 데이터가 감지되면 읽는다(소비)\n",
    "        start_time = time.time()\n",
    "        # 데이터 출력 - 데이터를 읽었을때 처리할 로직\n",
    "        try:\n",
    "            with open(f'result_{self.topic}.txt','a'\n",
    "                      , encoding='utf-8') as f:\n",
    "                for data in consumer:\n",
    "                    f.write(data.value)\n",
    "            end_time = time.time()\n",
    "            print(f'총 처리시간 : {end_time-start_time}' )\n",
    "        except KeyboardInterrupt:\n",
    "            print(\"KeyboardInterrupt\")"
   ]
  },
  {
   "cell_type": "code",
   "execution_count": 7,
   "id": "cd42af46-a39b-49da-8109-d6f695b912f4",
   "metadata": {},
   "outputs": [
    {
     "name": "stdout",
     "output_type": "stream",
     "text": [
      "총 처리시간 : 13.631734371185303\n"
     ]
    }
   ],
   "source": [
    "#브로커와 토픽명을 지정\n",
    "broker = 'localhost:9092'\n",
    "topic = 'test'\n",
    "group_id = 'consumer-1'\n",
    "\n",
    "consumer = MessageConsumer(broker,topic,group_id)\n",
    "consumer.active_listener()"
   ]
  },
  {
   "cell_type": "code",
   "execution_count": null,
   "id": "2fc2b495-a609-48da-9ea2-17b25e99a352",
   "metadata": {},
   "outputs": [],
   "source": []
  }
 ],
 "metadata": {
  "kernelspec": {
   "display_name": "Python 3 (ipykernel)",
   "language": "python",
   "name": "python3"
  },
  "language_info": {
   "codemirror_mode": {
    "name": "ipython",
    "version": 3
   },
   "file_extension": ".py",
   "mimetype": "text/x-python",
   "name": "python",
   "nbconvert_exporter": "python",
   "pygments_lexer": "ipython3",
   "version": "3.9.10"
  }
 },
 "nbformat": 4,
 "nbformat_minor": 5
}
