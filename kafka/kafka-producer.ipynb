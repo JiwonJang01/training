{
 "cells": [
  {
   "cell_type": "code",
   "execution_count": 1,
   "id": "b125633c-2380-4d3f-9c50-92cfbc8bf01c",
   "metadata": {},
   "outputs": [
    {
     "name": "stdout",
     "output_type": "stream",
     "text": [
      "Requirement already satisfied: kafka-python in /usr/local/lib/python3.9/site-packages (2.0.2)\n",
      "\u001b[33mWARNING: Running pip as the 'root' user can result in broken permissions and conflicting behaviour with the system package manager. It is recommended to use a virtual environment instead: https://pip.pypa.io/warnings/venv\u001b[0m\n"
     ]
    }
   ],
   "source": [
    "# 카프카 라이브러리 설치\n",
    "!pip install kafka-python"
   ]
  },
  {
   "cell_type": "code",
   "execution_count": 2,
   "id": "c0e6c229-68b2-4042-af6e-7bda197757b4",
   "metadata": {},
   "outputs": [],
   "source": [
    "# 토픽을 읽을 파일을 생성\n",
    "with open('new-topic.txt','w') as f:\n",
    "    for i in range(1,1001):\n",
    "        f.write(str(i)+'\\n')"
   ]
  },
  {
   "cell_type": "code",
   "execution_count": 3,
   "id": "0a39a960-60fb-4fa0-b721-502e95533d9e",
   "metadata": {},
   "outputs": [],
   "source": [
    "# 프로듀서 생성 (토픽으로 데이터를 전송)\n",
    "from kafka import KafkaProducer\n",
    "import json\n",
    "import time\n",
    "from csv import reader"
   ]
  },
  {
   "cell_type": "code",
   "execution_count": 4,
   "id": "145ee5a1-85e4-45ba-abfc-5c825b2b5ff0",
   "metadata": {},
   "outputs": [],
   "source": [
    "class MessageProducer:\n",
    "    broker,topic,producer = '','',None\n",
    "    def __init__(self,broker,topic):\n",
    "        self.broker = broker\n",
    "        self.topic = topic\n",
    "        params = {\n",
    "            'bootstrap_servers' : self.broker,\n",
    "            # 직렬화\n",
    "            'value_serializer' : lambda x : json.dumps(x).encode('utf-8'),\n",
    "            'acks':0,  # 클라이언트의 응답을 기다리지 않고 다음 메세지 전송(높은 전송속도를 보장, 메세지 전송을 보장하지 않을수 있음)\n",
    "            'api_version':(2,5,0),\n",
    "            'retries':3  # 재전송 횟수\n",
    "        }\n",
    "        # asks:1(default) 속도는 보통, 유실 가능성이 있음\n",
    "        # asks:all or -1 속도는 가장 느림, 메세지 전달 손실 가능성\n",
    "\n",
    "        self.producer = KafkaProducer(**params)\n",
    "    def send_message(self, msg):\n",
    "        try:\n",
    "            future =  self.producer.send(self.topic, msg)\n",
    "            self.producer.flush()  # 메세지 버퍼를 비워줌\n",
    "            future.get(timeout=60)  # 60 초간 대기\n",
    "            return {'status_code':200, 'error':None}\n",
    "        except Exception as e:\n",
    "            print('error:',e)\n",
    "            return e"
   ]
  },
  {
   "cell_type": "code",
   "execution_count": 6,
   "id": "0cea2df1-57c1-4eeb-aed5-b1d2f35ca440",
   "metadata": {},
   "outputs": [],
   "source": [
    "#브로커와 토픽명을 지정\n",
    "broker = 'localhost:9092'\n",
    "topic = 'test'\n",
    "message_producer = MessageProducer(broker,topic)\n",
    "with open('new-topic.txt','r',encoding='utf-8') as f:\n",
    "    for data in f:\n",
    "        res = message_producer.send_message(data)"
   ]
  },
  {
   "cell_type": "code",
   "execution_count": null,
   "id": "4701d5e1-d3c0-43b2-aa28-919b290a6bb2",
   "metadata": {},
   "outputs": [],
   "source": []
  }
 ],
 "metadata": {
  "kernelspec": {
   "display_name": "Python 3 (ipykernel)",
   "language": "python",
   "name": "python3"
  },
  "language_info": {
   "codemirror_mode": {
    "name": "ipython",
    "version": 3
   },
   "file_extension": ".py",
   "mimetype": "text/x-python",
   "name": "python",
   "nbconvert_exporter": "python",
   "pygments_lexer": "ipython3",
   "version": "3.9.10"
  }
 },
 "nbformat": 4,
 "nbformat_minor": 5
}
