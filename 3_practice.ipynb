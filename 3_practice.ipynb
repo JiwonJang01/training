{
  "nbformat": 4,
  "nbformat_minor": 0,
  "metadata": {
    "colab": {
      "provenance": []
    },
    "kernelspec": {
      "name": "python3",
      "display_name": "Python 3"
    },
    "language_info": {
      "name": "python"
    }
  },
  "cells": [
    {
      "cell_type": "markdown",
      "source": [
        "# 문자열"
      ],
      "metadata": {
        "id": "u5B3OszO5lbc"
      }
    },
    {
      "cell_type": "code",
      "execution_count": null,
      "metadata": {
        "colab": {
          "base_uri": "https://localhost:8080/"
        },
        "id": "kv0jte2f43GF",
        "outputId": "dccd0ed5-ae1d-491e-a8a6-a4f7fe6a91b3"
      },
      "outputs": [
        {
          "output_type": "stream",
          "name": "stdout",
          "text": [
            "공백을 기준으로 국 영 수 점수를 입력하세요:80 80 90\n",
            "250\n"
          ]
        },
        {
          "output_type": "execute_result",
          "data": {
            "text/plain": [
              "250"
            ]
          },
          "metadata": {},
          "execution_count": 3
        }
      ],
      "source": [
        "myData = input(\"공백을 기준으로 국 영 수 점수를 입력하세요:\")\n",
        "kor,eng,math = [int(i) for i in myData.split()]\n",
        "print(kor+eng+math)\n",
        "sum([int(i) for i in  myData.split(\" \") ])"
      ]
    },
    {
      "cell_type": "code",
      "source": [
        "# 주어진 문장에서 특정 단어를 모두 찾아서 그 인덱스를 리스트로 반환하세요\n",
        "myData = \"Python is powerful. Python is easy to learn. Python is to use AI. Python ~~~\"\n",
        "\n",
        "# 문장에서 Python을 찾고 찾으면 찾은인덱스+문자열길이 를 시작으로 설정하고 시 찾음..\n",
        "# 이 과정을 문자열이 끝날때까지 계속하면서 찾을때마다 리스트에 저장한다.\n",
        "\n",
        "# 저장할 리스트 myResult = []\n",
        "# for i in range(len(myData)):\n",
        "#     findedIndex = myData.find(\"Python\")\n",
        "#     myResult.appned(findedIndex)\n",
        "\n",
        "myResult = []\n",
        "startindex = 0\n",
        "for _ in range(len(myData)):\n",
        "  findedIndex = myData.find(\"Python\",startindex)\n",
        "  if findedIndex != -1:\n",
        "    myResult.append(findedIndex)\n",
        "    startindex = findedIndex+len('Python')\n",
        "  else:\n",
        "    break\n",
        "\n",
        "print(myResult)"
      ],
      "metadata": {
        "colab": {
          "base_uri": "https://localhost:8080/"
        },
        "id": "bt3uYVsM5IkI",
        "outputId": "6a62298a-b9ad-4fc2-d41e-1346de41a7e5"
      },
      "execution_count": 1,
      "outputs": [
        {
          "output_type": "stream",
          "name": "stdout",
          "text": [
            "[0, 20, 45, 66]\n"
          ]
        }
      ]
    },
    {
      "cell_type": "code",
      "source": [],
      "metadata": {
        "id": "zSaJuKX2510V"
      },
      "execution_count": null,
      "outputs": []
    }
  ]
}