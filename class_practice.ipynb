{
  "nbformat": 4,
  "nbformat_minor": 0,
  "metadata": {
    "colab": {
      "provenance": []
    },
    "kernelspec": {
      "name": "python3",
      "display_name": "Python 3"
    },
    "language_info": {
      "name": "python"
    }
  },
  "cells": [
    {
      "cell_type": "code",
      "execution_count": null,
      "metadata": {
        "id": "jEGG8j7E1vGW"
      },
      "outputs": [],
      "source": [
        "# 4칙연산이 가능한 계산기 클래스 작성\n",
        "# 클래스명은 MyCalc\n",
        "# 변수는 num1, num2"
      ]
    },
    {
      "cell_type": "code",
      "source": [
        "class Car():\n",
        "  class_count = 0  # 클래스 변수\n",
        "  def __init__(self):\n",
        "    self.instance_count = 0  # 인스턴스 변수\n",
        "\n",
        "c1 = Car()\n",
        "c2 = Car()\n",
        "\n",
        "Car.class_count = 100   # 클래스 변수 설정\n",
        "\n",
        "print(c1.class_count, c1.instance_count)\n",
        "print(c2.class_count, c2.instance_count)"
      ],
      "metadata": {
        "colab": {
          "base_uri": "https://localhost:8080/"
        },
        "id": "RYujnrjr2jBl",
        "outputId": "e9a985e2-35e4-4746-8e2e-843512546abd"
      },
      "execution_count": null,
      "outputs": [
        {
          "output_type": "stream",
          "name": "stdout",
          "text": [
            "100 0\n",
            "100 0\n"
          ]
        }
      ]
    },
    {
      "cell_type": "code",
      "source": [
        "c1.class_count = 50   # 객체 변수 설정\n",
        "\n",
        "print(c1.class_count, c1.instance_count)\n",
        "print(c2.class_count, c2.instance_count)"
      ],
      "metadata": {
        "id": "lxzWwd3g2x8R"
      },
      "execution_count": null,
      "outputs": []
    },
    {
      "cell_type": "markdown",
      "source": [],
      "metadata": {
        "id": "bYZGqsqv3Njl"
      }
    },
    {
      "cell_type": "code",
      "source": [
        "class Student():\n",
        "  students = {}  # 클래스변수\n",
        "  def __init__(self,id,kor,eng,math):\n",
        "    self.id = id\n",
        "    self.kor = kor\n",
        "    self.eng = eng\n",
        "    self.math = math\n",
        "    Student.students[self.id] = self\n",
        "\n",
        "  @classmethod\n",
        "  def findStudent(cls,id):\n",
        "    return cls.students[id]\n",
        "\n",
        "  def printStudentInfo(self):\n",
        "    total = self.kor+self.eng+self.math\n",
        "    avg = total / 3\n",
        "    print(f\"번호\\t국어\\t영어\\t수학\\t합계\\t평균\")\n",
        "    print(f\"{self.id}\\t{self.kor}\\t{self.eng}\\t{self.math}\\t{total}\\t{round(avg,2)}\")"
      ],
      "metadata": {
        "id": "K15C1Rb02z00"
      },
      "execution_count": null,
      "outputs": []
    },
    {
      "cell_type": "code",
      "source": [
        "s1 = Student(\"20240001\",90,90,90)\n",
        "s2 = Student(\"20240002\",80,80,80)\n",
        "s3 = Student(\"20240003\",70,70,70)\n",
        "Student.findStudent('20240002').printStudentInfo()"
      ],
      "metadata": {
        "colab": {
          "base_uri": "https://localhost:8080/"
        },
        "id": "lypnSmfK3O06",
        "outputId": "d56a3fbf-f5a3-4431-d10a-0ab82b2baf88"
      },
      "execution_count": null,
      "outputs": [
        {
          "output_type": "stream",
          "name": "stdout",
          "text": [
            "번호\t국어\t영어\t수학\t합계\t평균\n",
            "20240002\t80\t80\t80\t240\t80.0\n"
          ]
        }
      ]
    },
    {
      "cell_type": "code",
      "source": [
        "# Person 클래스\n",
        "# 나이와 이름을 인스턴스변수로\n",
        "# 인스턴스 메소드 : 적절하게 이름과 나이를 출력\n",
        "class Person():\n",
        "  def __init__(self, name, age):\n",
        "    self.name = name\n",
        "    self.age = age\n",
        "\n",
        "  # __str__ : 객체 자체를 호출했을 때 출력\n",
        "  def __str__(self):\n",
        "    return f\"이름은 {self.name}, 나이는 {self.age}\"\n",
        "\n",
        "p1 = Person(name = \"홍길동\",age = 20)\n",
        "print(p1)"
      ],
      "metadata": {
        "id": "L8zxjDyN3Rg0",
        "colab": {
          "base_uri": "https://localhost:8080/"
        },
        "outputId": "4901e7d1-2a93-4b2e-f13d-9053edbd5f13"
      },
      "execution_count": 3,
      "outputs": [
        {
          "output_type": "stream",
          "name": "stdout",
          "text": [
            "이름은 홍길동, 나이는 20\n"
          ]
        }
      ]
    },
    {
      "cell_type": "code",
      "source": [
        "# 같은 클래스 다른 함\n",
        "class Person():\n",
        "  def __init__(self, name, age):\n",
        "    self.name = name\n",
        "    self.age = age\n",
        "\n",
        "  def personInfo(self):\n",
        "    print(f\"이름은{self.name}, 나이는{self.age}\")\n",
        "\n",
        "p1 = Person(\"yoon\",14)\n",
        "p1.personInfo()\n",
        "\n",
        "p1 = Person(age = 14, name = \"yoon\") # 변수명과 함께 작성하면 순서가 달라져도 됨\n",
        "p1.personInfo()"
      ],
      "metadata": {
        "colab": {
          "base_uri": "https://localhost:8080/"
        },
        "id": "F7OOM48UasIP",
        "outputId": "60f65ac3-e338-48de-8d1a-b4f25f1704c3"
      },
      "execution_count": 4,
      "outputs": [
        {
          "output_type": "stream",
          "name": "stdout",
          "text": [
            "이름은yoon, 나이는14\n",
            "이름은yoon, 나이는14\n"
          ]
        }
      ]
    },
    {
      "cell_type": "code",
      "source": [
        "# 구구단 클래스\n",
        "# gugudan()  매개변수를 주지 않으면 2~9단 전부출력\n",
        "# gugudan(2)  매개변수를 주면 특정 단만 출력\n",
        "# 클래스 내부에서만 사용하는 메소드 만들기  private 속성이라고 함 <-> public속성\n",
        "\n",
        "class GuguDan():\n",
        "  def __init__(self) -> None:\n",
        "    pass\n",
        "  # 메소드 이름 앞에 _를 붙이면 클래스 안에서만 사용 가능\n",
        "  @staticmethod\n",
        "  def gugudan(dan=None,vertical=True):\n",
        "    def _Dan(self,dan):\n",
        "      for i in range(1,10):\n",
        "        print(f\"{dan} x {i} = {dan*i}\")\n",
        "    if dan==None:  # 전체 출력\n",
        "      if vertical:\n",
        "        for dan in range(2,10):\n",
        "          _Dan(dan)\n",
        "          print()\n",
        "      else:\n",
        "        for i in range(1,10):\n",
        "          for t in range(2,10):\n",
        "            print(f\"{t} x {i} = {t*i}\", end=\"\\t\")\n",
        "          print()\n",
        "    else:\n",
        "      if vertical:\n",
        "        _Dan(dan)\n",
        "      else:\n",
        "        for i in range(1,10):\n",
        "          print(f\"{dan} x {i} = {dan*i}\", end=\"\\t\")\n",
        "\n",
        "g1 = GuguDan()\n",
        "g1.gugudan(vertical = False)"
      ],
      "metadata": {
        "id": "4VCk-NJz3dWc",
        "colab": {
          "base_uri": "https://localhost:8080/"
        },
        "outputId": "e50c54e3-1cba-4b98-d930-7d1d117c1573"
      },
      "execution_count": 8,
      "outputs": [
        {
          "output_type": "stream",
          "name": "stdout",
          "text": [
            "2 x 1 = 2\t3 x 1 = 3\t4 x 1 = 4\t5 x 1 = 5\t6 x 1 = 6\t7 x 1 = 7\t8 x 1 = 8\t9 x 1 = 9\t\n",
            "2 x 2 = 4\t3 x 2 = 6\t4 x 2 = 8\t5 x 2 = 10\t6 x 2 = 12\t7 x 2 = 14\t8 x 2 = 16\t9 x 2 = 18\t\n",
            "2 x 3 = 6\t3 x 3 = 9\t4 x 3 = 12\t5 x 3 = 15\t6 x 3 = 18\t7 x 3 = 21\t8 x 3 = 24\t9 x 3 = 27\t\n",
            "2 x 4 = 8\t3 x 4 = 12\t4 x 4 = 16\t5 x 4 = 20\t6 x 4 = 24\t7 x 4 = 28\t8 x 4 = 32\t9 x 4 = 36\t\n",
            "2 x 5 = 10\t3 x 5 = 15\t4 x 5 = 20\t5 x 5 = 25\t6 x 5 = 30\t7 x 5 = 35\t8 x 5 = 40\t9 x 5 = 45\t\n",
            "2 x 6 = 12\t3 x 6 = 18\t4 x 6 = 24\t5 x 6 = 30\t6 x 6 = 36\t7 x 6 = 42\t8 x 6 = 48\t9 x 6 = 54\t\n",
            "2 x 7 = 14\t3 x 7 = 21\t4 x 7 = 28\t5 x 7 = 35\t6 x 7 = 42\t7 x 7 = 49\t8 x 7 = 56\t9 x 7 = 63\t\n",
            "2 x 8 = 16\t3 x 8 = 24\t4 x 8 = 32\t5 x 8 = 40\t6 x 8 = 48\t7 x 8 = 56\t8 x 8 = 64\t9 x 8 = 72\t\n",
            "2 x 9 = 18\t3 x 9 = 27\t4 x 9 = 36\t5 x 9 = 45\t6 x 9 = 54\t7 x 9 = 63\t8 x 9 = 72\t9 x 9 = 81\t\n"
          ]
        }
      ]
    },
    {
      "cell_type": "code",
      "source": [],
      "metadata": {
        "id": "8iy1VggS3eHZ"
      },
      "execution_count": null,
      "outputs": []
    }
  ]
}